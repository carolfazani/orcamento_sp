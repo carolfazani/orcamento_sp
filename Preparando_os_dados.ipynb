{
  "nbformat": 4,
  "nbformat_minor": 0,
  "metadata": {
    "colab": {
      "name": "Preparando_os_dados.ipynb",
      "provenance": [],
      "collapsed_sections": [
        "rTC2b4rEX5Nb"
      ],
      "authorship_tag": "ABX9TyPEYdfSGNA/KLcpe9P8Yrlc",
      "include_colab_link": true
    },
    "kernelspec": {
      "name": "python3",
      "display_name": "Python 3"
    },
    "language_info": {
      "name": "python"
    }
  },
  "cells": [
    {
      "cell_type": "markdown",
      "metadata": {
        "id": "view-in-github",
        "colab_type": "text"
      },
      "source": [
        "<a href=\"https://colab.research.google.com/github/carolfazani/orcamento_sp/blob/main/Preparando_os_dados.ipynb\" target=\"_parent\"><img src=\"https://colab.research.google.com/assets/colab-badge.svg\" alt=\"Open In Colab\"/></a>"
      ]
    },
    {
      "cell_type": "code",
      "execution_count": 1,
      "metadata": {
        "id": "1HguGwWUXqVt"
      },
      "outputs": [],
      "source": [
        "import pandas as pd\n",
        "import numpy as np"
      ]
    },
    {
      "cell_type": "markdown",
      "source": [
        "#1. Coletando os dados:"
      ],
      "metadata": {
        "id": "rTC2b4rEX5Nb"
      }
    },
    {
      "cell_type": "markdown",
      "source": [
        "Para realizar nossa análise orçamentária vamos utilizar os balanços orçamentários do município de São Paulo referentes aos anos de 2017, 2018, 2019, 2020 e 2021, ambos disponíveis no sítio: https://www.prefeitura.sp.gov.br/cidade/secretarias/fazenda/contaspublicas/index.php?p=3212\n",
        "\n",
        "Eu editei as tabelas e as deixei apenas com os dados sobre a arrecadação de receitas. As tabelas editadas você encontra neste link: https://github.com/carolfazani/orcamento_sp/tree/main/balancos\n",
        "\n"
      ],
      "metadata": {
        "id": "b3AVkPIBYE9B"
      }
    },
    {
      "cell_type": "markdown",
      "source": [
        "#2. Limpando os dados:"
      ],
      "metadata": {
        "id": "Cc-9aJ7uX8OM"
      }
    },
    {
      "cell_type": "markdown",
      "source": [
        "2.1 Lendo os arquivos em xlsx e os tranformando em dataframes"
      ],
      "metadata": {
        "id": "1EZnH0AAH4px"
      }
    },
    {
      "cell_type": "code",
      "source": [
        "files = ('r2017.xlsx', 'r2018.xlsx', 'r2019.xlsx', 'r2020.xlsx', 'r2021.xlsx')\n",
        "years = ('2017', '2018', '2019', '2020', '2021')\n",
        "df ={}\n",
        "for year,file in zip(years, files):\n",
        "    df[year] = pd.read_excel(file, index_col = 0)\n",
        "    print(f'shape: {df[year].shape}')\n"
      ],
      "metadata": {
        "colab": {
          "base_uri": "https://localhost:8080/"
        },
        "id": "zwcLSyuwEp7-",
        "outputId": "7895f5b8-a4d1-42d7-dcbb-68c24464a5c0"
      },
      "execution_count": 2,
      "outputs": [
        {
          "output_type": "stream",
          "name": "stdout",
          "text": [
            "shape: (31, 4)\n",
            "shape: (31, 4)\n",
            "shape: (31, 4)\n",
            "shape: (31, 4)\n",
            "shape: (31, 4)\n"
          ]
        }
      ]
    },
    {
      "cell_type": "markdown",
      "source": [
        "2.2 Renomeando as colunas"
      ],
      "metadata": {
        "id": "uTy30s8FJQrm"
      }
    },
    {
      "cell_type": "code",
      "source": [
        "\n",
        "for year in years:\n",
        "  df[year].columns = ['Previsão_Inicial', 'Previsão_Atualizada',\n",
        "       'Receitas_Realizadas', 'Saldo']\n"
      ],
      "metadata": {
        "id": "LbtaE4iVIorO"
      },
      "execution_count": 3,
      "outputs": []
    },
    {
      "cell_type": "markdown",
      "source": [
        "2.3 Inserindo uma nova coluna"
      ],
      "metadata": {
        "id": "83H7qozCKM25"
      }
    },
    {
      "cell_type": "code",
      "source": [
        "for year in years:\n",
        "  df[year].insert(0, 'Categoria', (np.nan))"
      ],
      "metadata": {
        "id": "wXkLfnoDJuBM"
      },
      "execution_count": 4,
      "outputs": []
    },
    {
      "cell_type": "code",
      "source": [
        "df['2021'].columns"
      ],
      "metadata": {
        "colab": {
          "base_uri": "https://localhost:8080/"
        },
        "id": "UP1mY6MhHSdl",
        "outputId": "1a8bdb55-1f0b-4844-ce3d-a411f5a8f094"
      },
      "execution_count": 5,
      "outputs": [
        {
          "output_type": "execute_result",
          "data": {
            "text/plain": [
              "Index(['Categoria', 'Previsão_Inicial', 'Previsão_Atualizada',\n",
              "       'Receitas_Realizadas', 'Saldo'],\n",
              "      dtype='object')"
            ]
          },
          "metadata": {},
          "execution_count": 5
        }
      ]
    },
    {
      "cell_type": "markdown",
      "source": [
        "2.4 Conferindo se nossos índices são iguais"
      ],
      "metadata": {
        "id": "vhAFNYOCOL5A"
      }
    },
    {
      "cell_type": "code",
      "source": [
        "#capturando os objetos Index\n",
        "idx17 = df['2017'].index\n",
        "idx18 = df['2018'].index\n",
        "idx19 = df['2019'].index\n",
        "idx20 = df['2020'].index\n",
        "idx21 = df['2021'].index\n",
        "\n"
      ],
      "metadata": {
        "id": "2rCfHRTyMlhG"
      },
      "execution_count": 6,
      "outputs": []
    },
    {
      "cell_type": "code",
      "source": [
        "type(idx17)"
      ],
      "metadata": {
        "colab": {
          "base_uri": "https://localhost:8080/"
        },
        "id": "15LLxdfDNV67",
        "outputId": "b7b6db2e-b81b-4186-ed63-1f250aaf8c9b"
      },
      "execution_count": 7,
      "outputs": [
        {
          "output_type": "execute_result",
          "data": {
            "text/plain": [
              "pandas.core.indexes.base.Index"
            ]
          },
          "metadata": {},
          "execution_count": 7
        }
      ]
    },
    {
      "cell_type": "code",
      "source": [
        "#todos indices colocados dentro dos parenteses retornaram True\n",
        "idx17.equals(idx21)"
      ],
      "metadata": {
        "colab": {
          "base_uri": "https://localhost:8080/"
        },
        "id": "HTbJe_5dOAcg",
        "outputId": "522e6de3-1f40-45ed-9537-d8557dcdd79f"
      },
      "execution_count": 8,
      "outputs": [
        {
          "output_type": "execute_result",
          "data": {
            "text/plain": [
              "True"
            ]
          },
          "metadata": {},
          "execution_count": 8
        }
      ]
    },
    {
      "cell_type": "markdown",
      "source": [
        "2.5 Removendo linhas"
      ],
      "metadata": {
        "id": "Jpq3eDSIP1e9"
      }
    },
    {
      "cell_type": "code",
      "source": [
        "for year in years:\n",
        "    df[year] = df[year].drop(['RECEITAS  CORRENTES (I)', 'RECEITAS DE CAPITAL (II)','SUBTOTAL DAS RECEITAS (III) = ( I + II)', 'OPERAÇÕES DE CRÉDITO / REFINANCIAMENTO (IV)','TOTAL (VII) = (V + VI)', 'Saldos de Exercícios Anteriores (Utilizados para Créditos', 'Adicionais)','SUBTOTAL COM REFINANCIAMENTO (V) = (III + IV)','Deficit (VI)'])\n"
      ],
      "metadata": {
        "id": "9cEh_Q7mP432"
      },
      "execution_count": 9,
      "outputs": []
    },
    {
      "cell_type": "markdown",
      "source": [
        "2.6 Tratando valores nulos"
      ],
      "metadata": {
        "id": "QVGn0nvqYswf"
      }
    },
    {
      "cell_type": "code",
      "source": [
        "for year in years:\n",
        "    df[year].loc[df[year]['Previsão_Inicial'] == '-', 'Previsão_Inicial'] = 0\n",
        "    df[year].loc[df[year]['Previsão_Atualizada'] == '-', 'Previsão_Atualizada'] = 0\n",
        "    df[year].loc[df[year]['Receitas_Realizadas'] == '-', 'Receitas_Realizadas'] = 0\n",
        "    df[year].loc[df[year]['Saldo'] == '-', 'Saldo'] = 0"
      ],
      "metadata": {
        "id": "KA2qd9FmYxTV"
      },
      "execution_count": 10,
      "outputs": []
    },
    {
      "cell_type": "code",
      "source": [
        "df['2017'].dtypes"
      ],
      "metadata": {
        "colab": {
          "base_uri": "https://localhost:8080/"
        },
        "id": "p5nLQEe7b33O",
        "outputId": "4796769b-afbf-4aa2-985a-ec3f73603b4b"
      },
      "execution_count": 11,
      "outputs": [
        {
          "output_type": "execute_result",
          "data": {
            "text/plain": [
              "Categoria              float64\n",
              "Previsão_Inicial        object\n",
              "Previsão_Atualizada     object\n",
              "Receitas_Realizadas     object\n",
              "Saldo                   object\n",
              "dtype: object"
            ]
          },
          "metadata": {},
          "execution_count": 11
        }
      ]
    },
    {
      "cell_type": "markdown",
      "source": [
        "2.7 Alterando os tipos de valores"
      ],
      "metadata": {
        "id": "wAVu4eKmb_jv"
      }
    },
    {
      "cell_type": "code",
      "source": [
        "for year in years:\n",
        "    df[year]['Previsão_Inicial'] = df[year]['Previsão_Inicial'].astype(float)\n",
        "    df[year]['Previsão_Atualizada'] = df[year]['Previsão_Atualizada'].astype(float)\n",
        "    df[year]['Receitas_Realizadas'] = df[year]['Receitas_Realizadas'].astype(float)\n",
        "    df[year]['Saldo'] = df[year]['Saldo'].astype(float)"
      ],
      "metadata": {
        "id": "OzFbBcADcGtA"
      },
      "execution_count": 12,
      "outputs": []
    },
    {
      "cell_type": "code",
      "source": [
        "df['2018'].dtypes"
      ],
      "metadata": {
        "colab": {
          "base_uri": "https://localhost:8080/"
        },
        "id": "C7Pbkzwlc4Wp",
        "outputId": "f632de98-a010-480a-ceeb-ab32858df382"
      },
      "execution_count": 13,
      "outputs": [
        {
          "output_type": "execute_result",
          "data": {
            "text/plain": [
              "Categoria              float64\n",
              "Previsão_Inicial       float64\n",
              "Previsão_Atualizada    float64\n",
              "Receitas_Realizadas    float64\n",
              "Saldo                  float64\n",
              "dtype: object"
            ]
          },
          "metadata": {},
          "execution_count": 13
        }
      ]
    },
    {
      "cell_type": "markdown",
      "source": [
        "2.8 Verificando duplicados"
      ],
      "metadata": {
        "id": "73YSs3_rVWT3"
      }
    },
    {
      "cell_type": "code",
      "source": [
        "print(idx17.duplicated(keep = False))\n",
        "print(idx18.duplicated(keep = False))\n",
        "print(idx19.duplicated(keep = False))\n",
        "print(idx20.duplicated(keep = False))\n",
        "print(idx21.duplicated(keep = False))"
      ],
      "metadata": {
        "colab": {
          "base_uri": "https://localhost:8080/"
        },
        "id": "fTwS3lArVTYj",
        "outputId": "f093bd99-7857-433b-b98d-9a299f3e59a8"
      },
      "execution_count": 14,
      "outputs": [
        {
          "output_type": "stream",
          "name": "stdout",
          "text": [
            "[False False False False False False False False False False False False\n",
            " False False False False False False  True  True False  True  True False\n",
            " False False False False False False False]\n",
            "[False False False False False False False False False False False False\n",
            " False False False False False False  True  True False  True  True False\n",
            " False False False False False False False]\n",
            "[False False False False False False False False False False False False\n",
            " False False False False False False  True  True False  True  True False\n",
            " False False False False False False False]\n",
            "[False False False False False False False False False False False False\n",
            " False False False False False False  True  True False  True  True False\n",
            " False False False False False False False]\n",
            "[False False False False False False False False False False False False\n",
            " False False False False False False  True  True False  True  True False\n",
            " False False False False False False False]\n"
          ]
        }
      ]
    },
    {
      "cell_type": "code",
      "source": [
        "for year in years:\n",
        "  print(f'shape: {df[year].shape}')"
      ],
      "metadata": {
        "colab": {
          "base_uri": "https://localhost:8080/"
        },
        "id": "JYLWh4RZiywJ",
        "outputId": "0742b14f-7a91-4964-85e0-8e7ffe4070a5"
      },
      "execution_count": 15,
      "outputs": [
        {
          "output_type": "stream",
          "name": "stdout",
          "text": [
            "shape: (22, 5)\n",
            "shape: (22, 5)\n",
            "shape: (22, 5)\n",
            "shape: (22, 5)\n",
            "shape: (22, 5)\n"
          ]
        }
      ]
    },
    {
      "cell_type": "code",
      "source": [
        "for year in years:\n",
        "    df[year] = df[year][~df[year].index.duplicated(keep='first')]"
      ],
      "metadata": {
        "id": "CrZnAvqWkw4S"
      },
      "execution_count": 16,
      "outputs": []
    },
    {
      "cell_type": "code",
      "source": [
        "#capturando os novos indices\n",
        "idx17 = df['2017'].index\n",
        "idx18 = df['2018'].index\n",
        "idx19 = df['2019'].index\n",
        "idx20 = df['2020'].index\n",
        "idx21 = df['2021'].index"
      ],
      "metadata": {
        "id": "5fX5dJ3Nfu_u"
      },
      "execution_count": 17,
      "outputs": []
    },
    {
      "cell_type": "code",
      "source": [
        "print(idx17.duplicated(keep = False))\n",
        "print(idx18.duplicated(keep = False))\n",
        "print(idx19.duplicated(keep = False))\n",
        "print(idx20.duplicated(keep = False))\n",
        "print(idx21.duplicated(keep = False))"
      ],
      "metadata": {
        "colab": {
          "base_uri": "https://localhost:8080/"
        },
        "id": "4TR2S3Smfp1G",
        "outputId": "eb51ab29-1f7d-4ea6-fe8c-0d1566ebec58"
      },
      "execution_count": 18,
      "outputs": [
        {
          "output_type": "stream",
          "name": "stdout",
          "text": [
            "[False False False False False False False False False False False False\n",
            " False False False False False False False False]\n",
            "[False False False False False False False False False False False False\n",
            " False False False False False False False False]\n",
            "[False False False False False False False False False False False False\n",
            " False False False False False False False False]\n",
            "[False False False False False False False False False False False False\n",
            " False False False False False False False False]\n",
            "[False False False False False False False False False False False False\n",
            " False False False False False False False False]\n"
          ]
        }
      ]
    },
    {
      "cell_type": "code",
      "source": [
        "for year in years:\n",
        "  print(f'shape: {df[year].shape}')"
      ],
      "metadata": {
        "colab": {
          "base_uri": "https://localhost:8080/"
        },
        "id": "awWIsV1fijMV",
        "outputId": "e9343585-2b4b-4f40-e7f4-08418ad6f676"
      },
      "execution_count": 19,
      "outputs": [
        {
          "output_type": "stream",
          "name": "stdout",
          "text": [
            "shape: (20, 5)\n",
            "shape: (20, 5)\n",
            "shape: (20, 5)\n",
            "shape: (20, 5)\n",
            "shape: (20, 5)\n"
          ]
        }
      ]
    },
    {
      "cell_type": "markdown",
      "source": [
        "#3. Classificando os dados"
      ],
      "metadata": {
        "id": "1TaU_2LhmHwF"
      }
    },
    {
      "cell_type": "code",
      "source": [
        "#classifica as receitas por categoria\n",
        "for year in years:\n",
        "  df[year].loc[0:8,'Categoria'] = \"RECEITAS CORRENTE\"\n",
        "  df[year].loc[8:13, 'Categoria'] ='RECEITAS DE CAPITAL'\n",
        "  df[year].loc[13:17, 'Categoria'] = 'OPERAÇÕES DE CRÉDITO'\n",
        "  df[year].loc[17:20, 'Categoria'] = 'SALDOS ANTERIORES'\n"
      ],
      "metadata": {
        "colab": {
          "base_uri": "https://localhost:8080/"
        },
        "id": "cLvGlat5yZQz",
        "outputId": "80466270-4f02-4410-8d36-13264551dc00"
      },
      "execution_count": 20,
      "outputs": [
        {
          "output_type": "stream",
          "name": "stderr",
          "text": [
            "/usr/local/lib/python3.7/dist-packages/pandas/core/indexing.py:719: FutureWarning: Slicing a positional slice with .loc is not supported, and will raise TypeError in a future version.  Use .loc with labels or .iloc with positions instead.\n",
            "  indexer = self._get_setitem_indexer(key)\n"
          ]
        }
      ]
    },
    {
      "cell_type": "markdown",
      "source": [
        "#4. Correção monetária pela variação do IPCA"
      ],
      "metadata": {
        "id": "LqZi4riihi8h"
      }
    },
    {
      "cell_type": "markdown",
      "source": [
        "Para analisar os dados orçamentários, primeiro vamos corrigi-los pelo IPCA, mais informações sobre ele você encontra nesse link:  https://www.ibge.gov.br/estatisticas/economicas/precos-e-custos/9256-indice-nacional-de-precos-ao-consumidor-amplo.html?edicao=20932&t=series-historicas"
      ],
      "metadata": {
        "id": "WbiLbWqBBb_a"
      }
    },
    {
      "cell_type": "code",
      "source": [
        "\n",
        "IPCA= {}\n",
        "deflator = 1.24, 1.20, 1.15, 1.10, 1.00\n",
        "for year, defl in zip(years, deflator):\n",
        "  IPCA[year] = defl\n"
      ],
      "metadata": {
        "id": "qI1GwDj5YxTb"
      },
      "execution_count": 21,
      "outputs": []
    },
    {
      "cell_type": "code",
      "source": [
        "\n",
        "for year in years:\n",
        "    df[year]['Previsão_Inicial'] = df[year]['Previsão_Inicial'].mul(IPCA[year])\n",
        "    df[year]['Previsão_Atualizada'] = df[year]['Previsão_Atualizada'].mul(IPCA[year])\n",
        "    df[year]['Receitas_Realizadas'] = df[year]['Receitas_Realizadas'].mul(IPCA[year])\n",
        "    df[year]['Saldo'] = df[year]['Saldo'].mul(IPCA[year])\n"
      ],
      "metadata": {
        "id": "KtXKLt6-bY2t"
      },
      "execution_count": 22,
      "outputs": []
    },
    {
      "cell_type": "markdown",
      "source": [
        "#5. Criando variáveis de análise"
      ],
      "metadata": {
        "id": "5t3ro9Mu2QDq"
      }
    },
    {
      "cell_type": "markdown",
      "source": [
        "As tabelas originais continham linhas com a soma de alguns valores da nossa tabela, essas linhas foram excluidas na etapa da limpeza e agora vamos criar variáveis que vão armazenar esses mesmos valores. "
      ],
      "metadata": {
        "id": "TMjf55V4VKkv"
      }
    },
    {
      "cell_type": "markdown",
      "source": [
        "5.1 Valores por categoria"
      ],
      "metadata": {
        "id": "f6rT2BNhWxRd"
      }
    },
    {
      "cell_type": "code",
      "source": [
        "'''\n",
        "guarda a soma de cada coluna por categoria em uma variável, equivalem as linhas RECEITAS  CORRENTES (I), RECEITAS DE CAPITAL (II),\n",
        "OPERAÇÕES DE CRÉDITO EXTERNAS e Saldos de Exercícios Anteriores da tabela original.\n",
        "'''\n",
        "inicial ={}\n",
        "atualizada = {}\n",
        "realizada = {}\n",
        "saldo = {}\n",
        "for year in years:\n",
        "    inicial[f'{year}'] = df[year].groupby('Categoria')['Previsão_Inicial'].sum().reset_index(name='Previsão_Inicial')\n",
        "    atualizada[f'{year}'] = df[year].groupby('Categoria')['Previsão_Atualizada'].sum().reset_index(name='Previsão_Atualizada')\n",
        "    realizada[f'{year}'] = df[year].groupby('Categoria')['Receitas_Realizadas'].sum().reset_index(name='Receitas_Realizadas')\n",
        "    saldo[f'{year}'] = df[year].groupby('Categoria')['Saldo'].sum().reset_index(name='Saldo')"
      ],
      "metadata": {
        "id": "yVKHWb6b2ayg"
      },
      "execution_count": 23,
      "outputs": []
    },
    {
      "cell_type": "code",
      "source": [
        "inicial['2018']"
      ],
      "metadata": {
        "id": "AJh2I5OHWrX8",
        "colab": {
          "base_uri": "https://localhost:8080/",
          "height": 175
        },
        "outputId": "1f9da332-a0cd-4c6f-bf91-e5550628927b"
      },
      "execution_count": 24,
      "outputs": [
        {
          "output_type": "execute_result",
          "data": {
            "text/plain": [
              "              Categoria  Previsão_Inicial\n",
              "0  OPERAÇÕES DE CRÉDITO      0.000000e+00\n",
              "1     RECEITAS CORRENTE      6.258866e+10\n",
              "2   RECEITAS DE CAPITAL      5.008014e+09\n",
              "3     SALDOS ANTERIORES      4.800000e+07"
            ],
            "text/html": [
              "\n",
              "  <div id=\"df-bd07f862-fba7-4ffa-9ef2-f5a87db736a7\">\n",
              "    <div class=\"colab-df-container\">\n",
              "      <div>\n",
              "<style scoped>\n",
              "    .dataframe tbody tr th:only-of-type {\n",
              "        vertical-align: middle;\n",
              "    }\n",
              "\n",
              "    .dataframe tbody tr th {\n",
              "        vertical-align: top;\n",
              "    }\n",
              "\n",
              "    .dataframe thead th {\n",
              "        text-align: right;\n",
              "    }\n",
              "</style>\n",
              "<table border=\"1\" class=\"dataframe\">\n",
              "  <thead>\n",
              "    <tr style=\"text-align: right;\">\n",
              "      <th></th>\n",
              "      <th>Categoria</th>\n",
              "      <th>Previsão_Inicial</th>\n",
              "    </tr>\n",
              "  </thead>\n",
              "  <tbody>\n",
              "    <tr>\n",
              "      <th>0</th>\n",
              "      <td>OPERAÇÕES DE CRÉDITO</td>\n",
              "      <td>0.000000e+00</td>\n",
              "    </tr>\n",
              "    <tr>\n",
              "      <th>1</th>\n",
              "      <td>RECEITAS CORRENTE</td>\n",
              "      <td>6.258866e+10</td>\n",
              "    </tr>\n",
              "    <tr>\n",
              "      <th>2</th>\n",
              "      <td>RECEITAS DE CAPITAL</td>\n",
              "      <td>5.008014e+09</td>\n",
              "    </tr>\n",
              "    <tr>\n",
              "      <th>3</th>\n",
              "      <td>SALDOS ANTERIORES</td>\n",
              "      <td>4.800000e+07</td>\n",
              "    </tr>\n",
              "  </tbody>\n",
              "</table>\n",
              "</div>\n",
              "      <button class=\"colab-df-convert\" onclick=\"convertToInteractive('df-bd07f862-fba7-4ffa-9ef2-f5a87db736a7')\"\n",
              "              title=\"Convert this dataframe to an interactive table.\"\n",
              "              style=\"display:none;\">\n",
              "        \n",
              "  <svg xmlns=\"http://www.w3.org/2000/svg\" height=\"24px\"viewBox=\"0 0 24 24\"\n",
              "       width=\"24px\">\n",
              "    <path d=\"M0 0h24v24H0V0z\" fill=\"none\"/>\n",
              "    <path d=\"M18.56 5.44l.94 2.06.94-2.06 2.06-.94-2.06-.94-.94-2.06-.94 2.06-2.06.94zm-11 1L8.5 8.5l.94-2.06 2.06-.94-2.06-.94L8.5 2.5l-.94 2.06-2.06.94zm10 10l.94 2.06.94-2.06 2.06-.94-2.06-.94-.94-2.06-.94 2.06-2.06.94z\"/><path d=\"M17.41 7.96l-1.37-1.37c-.4-.4-.92-.59-1.43-.59-.52 0-1.04.2-1.43.59L10.3 9.45l-7.72 7.72c-.78.78-.78 2.05 0 2.83L4 21.41c.39.39.9.59 1.41.59.51 0 1.02-.2 1.41-.59l7.78-7.78 2.81-2.81c.8-.78.8-2.07 0-2.86zM5.41 20L4 18.59l7.72-7.72 1.47 1.35L5.41 20z\"/>\n",
              "  </svg>\n",
              "      </button>\n",
              "      \n",
              "  <style>\n",
              "    .colab-df-container {\n",
              "      display:flex;\n",
              "      flex-wrap:wrap;\n",
              "      gap: 12px;\n",
              "    }\n",
              "\n",
              "    .colab-df-convert {\n",
              "      background-color: #E8F0FE;\n",
              "      border: none;\n",
              "      border-radius: 50%;\n",
              "      cursor: pointer;\n",
              "      display: none;\n",
              "      fill: #1967D2;\n",
              "      height: 32px;\n",
              "      padding: 0 0 0 0;\n",
              "      width: 32px;\n",
              "    }\n",
              "\n",
              "    .colab-df-convert:hover {\n",
              "      background-color: #E2EBFA;\n",
              "      box-shadow: 0px 1px 2px rgba(60, 64, 67, 0.3), 0px 1px 3px 1px rgba(60, 64, 67, 0.15);\n",
              "      fill: #174EA6;\n",
              "    }\n",
              "\n",
              "    [theme=dark] .colab-df-convert {\n",
              "      background-color: #3B4455;\n",
              "      fill: #D2E3FC;\n",
              "    }\n",
              "\n",
              "    [theme=dark] .colab-df-convert:hover {\n",
              "      background-color: #434B5C;\n",
              "      box-shadow: 0px 1px 3px 1px rgba(0, 0, 0, 0.15);\n",
              "      filter: drop-shadow(0px 1px 2px rgba(0, 0, 0, 0.3));\n",
              "      fill: #FFFFFF;\n",
              "    }\n",
              "  </style>\n",
              "\n",
              "      <script>\n",
              "        const buttonEl =\n",
              "          document.querySelector('#df-bd07f862-fba7-4ffa-9ef2-f5a87db736a7 button.colab-df-convert');\n",
              "        buttonEl.style.display =\n",
              "          google.colab.kernel.accessAllowed ? 'block' : 'none';\n",
              "\n",
              "        async function convertToInteractive(key) {\n",
              "          const element = document.querySelector('#df-bd07f862-fba7-4ffa-9ef2-f5a87db736a7');\n",
              "          const dataTable =\n",
              "            await google.colab.kernel.invokeFunction('convertToInteractive',\n",
              "                                                     [key], {});\n",
              "          if (!dataTable) return;\n",
              "\n",
              "          const docLinkHtml = 'Like what you see? Visit the ' +\n",
              "            '<a target=\"_blank\" href=https://colab.research.google.com/notebooks/data_table.ipynb>data table notebook</a>'\n",
              "            + ' to learn more about interactive tables.';\n",
              "          element.innerHTML = '';\n",
              "          dataTable['output_type'] = 'display_data';\n",
              "          await google.colab.output.renderOutput(dataTable, element);\n",
              "          const docLink = document.createElement('div');\n",
              "          docLink.innerHTML = docLinkHtml;\n",
              "          element.appendChild(docLink);\n",
              "        }\n",
              "      </script>\n",
              "    </div>\n",
              "  </div>\n",
              "  "
            ]
          },
          "metadata": {},
          "execution_count": 24
        }
      ]
    },
    {
      "cell_type": "code",
      "source": [
        "atualizada['2018']"
      ],
      "metadata": {
        "id": "aU9DsDpP4ktT",
        "colab": {
          "base_uri": "https://localhost:8080/",
          "height": 175
        },
        "outputId": "9af4ffd7-9c05-49ec-c021-1976fd81a3aa"
      },
      "execution_count": 25,
      "outputs": [
        {
          "output_type": "execute_result",
          "data": {
            "text/plain": [
              "              Categoria  Previsão_Atualizada\n",
              "0  OPERAÇÕES DE CRÉDITO         0.000000e+00\n",
              "1     RECEITAS CORRENTE         6.258866e+10\n",
              "2   RECEITAS DE CAPITAL         5.008014e+09\n",
              "3     SALDOS ANTERIORES         2.026738e+08"
            ],
            "text/html": [
              "\n",
              "  <div id=\"df-0b327fb8-5ec7-436b-8bf3-c69f16b6f90d\">\n",
              "    <div class=\"colab-df-container\">\n",
              "      <div>\n",
              "<style scoped>\n",
              "    .dataframe tbody tr th:only-of-type {\n",
              "        vertical-align: middle;\n",
              "    }\n",
              "\n",
              "    .dataframe tbody tr th {\n",
              "        vertical-align: top;\n",
              "    }\n",
              "\n",
              "    .dataframe thead th {\n",
              "        text-align: right;\n",
              "    }\n",
              "</style>\n",
              "<table border=\"1\" class=\"dataframe\">\n",
              "  <thead>\n",
              "    <tr style=\"text-align: right;\">\n",
              "      <th></th>\n",
              "      <th>Categoria</th>\n",
              "      <th>Previsão_Atualizada</th>\n",
              "    </tr>\n",
              "  </thead>\n",
              "  <tbody>\n",
              "    <tr>\n",
              "      <th>0</th>\n",
              "      <td>OPERAÇÕES DE CRÉDITO</td>\n",
              "      <td>0.000000e+00</td>\n",
              "    </tr>\n",
              "    <tr>\n",
              "      <th>1</th>\n",
              "      <td>RECEITAS CORRENTE</td>\n",
              "      <td>6.258866e+10</td>\n",
              "    </tr>\n",
              "    <tr>\n",
              "      <th>2</th>\n",
              "      <td>RECEITAS DE CAPITAL</td>\n",
              "      <td>5.008014e+09</td>\n",
              "    </tr>\n",
              "    <tr>\n",
              "      <th>3</th>\n",
              "      <td>SALDOS ANTERIORES</td>\n",
              "      <td>2.026738e+08</td>\n",
              "    </tr>\n",
              "  </tbody>\n",
              "</table>\n",
              "</div>\n",
              "      <button class=\"colab-df-convert\" onclick=\"convertToInteractive('df-0b327fb8-5ec7-436b-8bf3-c69f16b6f90d')\"\n",
              "              title=\"Convert this dataframe to an interactive table.\"\n",
              "              style=\"display:none;\">\n",
              "        \n",
              "  <svg xmlns=\"http://www.w3.org/2000/svg\" height=\"24px\"viewBox=\"0 0 24 24\"\n",
              "       width=\"24px\">\n",
              "    <path d=\"M0 0h24v24H0V0z\" fill=\"none\"/>\n",
              "    <path d=\"M18.56 5.44l.94 2.06.94-2.06 2.06-.94-2.06-.94-.94-2.06-.94 2.06-2.06.94zm-11 1L8.5 8.5l.94-2.06 2.06-.94-2.06-.94L8.5 2.5l-.94 2.06-2.06.94zm10 10l.94 2.06.94-2.06 2.06-.94-2.06-.94-.94-2.06-.94 2.06-2.06.94z\"/><path d=\"M17.41 7.96l-1.37-1.37c-.4-.4-.92-.59-1.43-.59-.52 0-1.04.2-1.43.59L10.3 9.45l-7.72 7.72c-.78.78-.78 2.05 0 2.83L4 21.41c.39.39.9.59 1.41.59.51 0 1.02-.2 1.41-.59l7.78-7.78 2.81-2.81c.8-.78.8-2.07 0-2.86zM5.41 20L4 18.59l7.72-7.72 1.47 1.35L5.41 20z\"/>\n",
              "  </svg>\n",
              "      </button>\n",
              "      \n",
              "  <style>\n",
              "    .colab-df-container {\n",
              "      display:flex;\n",
              "      flex-wrap:wrap;\n",
              "      gap: 12px;\n",
              "    }\n",
              "\n",
              "    .colab-df-convert {\n",
              "      background-color: #E8F0FE;\n",
              "      border: none;\n",
              "      border-radius: 50%;\n",
              "      cursor: pointer;\n",
              "      display: none;\n",
              "      fill: #1967D2;\n",
              "      height: 32px;\n",
              "      padding: 0 0 0 0;\n",
              "      width: 32px;\n",
              "    }\n",
              "\n",
              "    .colab-df-convert:hover {\n",
              "      background-color: #E2EBFA;\n",
              "      box-shadow: 0px 1px 2px rgba(60, 64, 67, 0.3), 0px 1px 3px 1px rgba(60, 64, 67, 0.15);\n",
              "      fill: #174EA6;\n",
              "    }\n",
              "\n",
              "    [theme=dark] .colab-df-convert {\n",
              "      background-color: #3B4455;\n",
              "      fill: #D2E3FC;\n",
              "    }\n",
              "\n",
              "    [theme=dark] .colab-df-convert:hover {\n",
              "      background-color: #434B5C;\n",
              "      box-shadow: 0px 1px 3px 1px rgba(0, 0, 0, 0.15);\n",
              "      filter: drop-shadow(0px 1px 2px rgba(0, 0, 0, 0.3));\n",
              "      fill: #FFFFFF;\n",
              "    }\n",
              "  </style>\n",
              "\n",
              "      <script>\n",
              "        const buttonEl =\n",
              "          document.querySelector('#df-0b327fb8-5ec7-436b-8bf3-c69f16b6f90d button.colab-df-convert');\n",
              "        buttonEl.style.display =\n",
              "          google.colab.kernel.accessAllowed ? 'block' : 'none';\n",
              "\n",
              "        async function convertToInteractive(key) {\n",
              "          const element = document.querySelector('#df-0b327fb8-5ec7-436b-8bf3-c69f16b6f90d');\n",
              "          const dataTable =\n",
              "            await google.colab.kernel.invokeFunction('convertToInteractive',\n",
              "                                                     [key], {});\n",
              "          if (!dataTable) return;\n",
              "\n",
              "          const docLinkHtml = 'Like what you see? Visit the ' +\n",
              "            '<a target=\"_blank\" href=https://colab.research.google.com/notebooks/data_table.ipynb>data table notebook</a>'\n",
              "            + ' to learn more about interactive tables.';\n",
              "          element.innerHTML = '';\n",
              "          dataTable['output_type'] = 'display_data';\n",
              "          await google.colab.output.renderOutput(dataTable, element);\n",
              "          const docLink = document.createElement('div');\n",
              "          docLink.innerHTML = docLinkHtml;\n",
              "          element.appendChild(docLink);\n",
              "        }\n",
              "      </script>\n",
              "    </div>\n",
              "  </div>\n",
              "  "
            ]
          },
          "metadata": {},
          "execution_count": 25
        }
      ]
    },
    {
      "cell_type": "code",
      "source": [
        "realizada['2018']"
      ],
      "metadata": {
        "id": "CQvsGftqWtDZ",
        "colab": {
          "base_uri": "https://localhost:8080/",
          "height": 175
        },
        "outputId": "e8a89792-b46c-47eb-9607-2423db554528"
      },
      "execution_count": 26,
      "outputs": [
        {
          "output_type": "execute_result",
          "data": {
            "text/plain": [
              "              Categoria  Receitas_Realizadas\n",
              "0  OPERAÇÕES DE CRÉDITO         0.000000e+00\n",
              "1     RECEITAS CORRENTE         6.288545e+10\n",
              "2   RECEITAS DE CAPITAL         2.320167e+09\n",
              "3     SALDOS ANTERIORES         1.546738e+08"
            ],
            "text/html": [
              "\n",
              "  <div id=\"df-b0800a9e-2a64-432c-a01e-6870c58003af\">\n",
              "    <div class=\"colab-df-container\">\n",
              "      <div>\n",
              "<style scoped>\n",
              "    .dataframe tbody tr th:only-of-type {\n",
              "        vertical-align: middle;\n",
              "    }\n",
              "\n",
              "    .dataframe tbody tr th {\n",
              "        vertical-align: top;\n",
              "    }\n",
              "\n",
              "    .dataframe thead th {\n",
              "        text-align: right;\n",
              "    }\n",
              "</style>\n",
              "<table border=\"1\" class=\"dataframe\">\n",
              "  <thead>\n",
              "    <tr style=\"text-align: right;\">\n",
              "      <th></th>\n",
              "      <th>Categoria</th>\n",
              "      <th>Receitas_Realizadas</th>\n",
              "    </tr>\n",
              "  </thead>\n",
              "  <tbody>\n",
              "    <tr>\n",
              "      <th>0</th>\n",
              "      <td>OPERAÇÕES DE CRÉDITO</td>\n",
              "      <td>0.000000e+00</td>\n",
              "    </tr>\n",
              "    <tr>\n",
              "      <th>1</th>\n",
              "      <td>RECEITAS CORRENTE</td>\n",
              "      <td>6.288545e+10</td>\n",
              "    </tr>\n",
              "    <tr>\n",
              "      <th>2</th>\n",
              "      <td>RECEITAS DE CAPITAL</td>\n",
              "      <td>2.320167e+09</td>\n",
              "    </tr>\n",
              "    <tr>\n",
              "      <th>3</th>\n",
              "      <td>SALDOS ANTERIORES</td>\n",
              "      <td>1.546738e+08</td>\n",
              "    </tr>\n",
              "  </tbody>\n",
              "</table>\n",
              "</div>\n",
              "      <button class=\"colab-df-convert\" onclick=\"convertToInteractive('df-b0800a9e-2a64-432c-a01e-6870c58003af')\"\n",
              "              title=\"Convert this dataframe to an interactive table.\"\n",
              "              style=\"display:none;\">\n",
              "        \n",
              "  <svg xmlns=\"http://www.w3.org/2000/svg\" height=\"24px\"viewBox=\"0 0 24 24\"\n",
              "       width=\"24px\">\n",
              "    <path d=\"M0 0h24v24H0V0z\" fill=\"none\"/>\n",
              "    <path d=\"M18.56 5.44l.94 2.06.94-2.06 2.06-.94-2.06-.94-.94-2.06-.94 2.06-2.06.94zm-11 1L8.5 8.5l.94-2.06 2.06-.94-2.06-.94L8.5 2.5l-.94 2.06-2.06.94zm10 10l.94 2.06.94-2.06 2.06-.94-2.06-.94-.94-2.06-.94 2.06-2.06.94z\"/><path d=\"M17.41 7.96l-1.37-1.37c-.4-.4-.92-.59-1.43-.59-.52 0-1.04.2-1.43.59L10.3 9.45l-7.72 7.72c-.78.78-.78 2.05 0 2.83L4 21.41c.39.39.9.59 1.41.59.51 0 1.02-.2 1.41-.59l7.78-7.78 2.81-2.81c.8-.78.8-2.07 0-2.86zM5.41 20L4 18.59l7.72-7.72 1.47 1.35L5.41 20z\"/>\n",
              "  </svg>\n",
              "      </button>\n",
              "      \n",
              "  <style>\n",
              "    .colab-df-container {\n",
              "      display:flex;\n",
              "      flex-wrap:wrap;\n",
              "      gap: 12px;\n",
              "    }\n",
              "\n",
              "    .colab-df-convert {\n",
              "      background-color: #E8F0FE;\n",
              "      border: none;\n",
              "      border-radius: 50%;\n",
              "      cursor: pointer;\n",
              "      display: none;\n",
              "      fill: #1967D2;\n",
              "      height: 32px;\n",
              "      padding: 0 0 0 0;\n",
              "      width: 32px;\n",
              "    }\n",
              "\n",
              "    .colab-df-convert:hover {\n",
              "      background-color: #E2EBFA;\n",
              "      box-shadow: 0px 1px 2px rgba(60, 64, 67, 0.3), 0px 1px 3px 1px rgba(60, 64, 67, 0.15);\n",
              "      fill: #174EA6;\n",
              "    }\n",
              "\n",
              "    [theme=dark] .colab-df-convert {\n",
              "      background-color: #3B4455;\n",
              "      fill: #D2E3FC;\n",
              "    }\n",
              "\n",
              "    [theme=dark] .colab-df-convert:hover {\n",
              "      background-color: #434B5C;\n",
              "      box-shadow: 0px 1px 3px 1px rgba(0, 0, 0, 0.15);\n",
              "      filter: drop-shadow(0px 1px 2px rgba(0, 0, 0, 0.3));\n",
              "      fill: #FFFFFF;\n",
              "    }\n",
              "  </style>\n",
              "\n",
              "      <script>\n",
              "        const buttonEl =\n",
              "          document.querySelector('#df-b0800a9e-2a64-432c-a01e-6870c58003af button.colab-df-convert');\n",
              "        buttonEl.style.display =\n",
              "          google.colab.kernel.accessAllowed ? 'block' : 'none';\n",
              "\n",
              "        async function convertToInteractive(key) {\n",
              "          const element = document.querySelector('#df-b0800a9e-2a64-432c-a01e-6870c58003af');\n",
              "          const dataTable =\n",
              "            await google.colab.kernel.invokeFunction('convertToInteractive',\n",
              "                                                     [key], {});\n",
              "          if (!dataTable) return;\n",
              "\n",
              "          const docLinkHtml = 'Like what you see? Visit the ' +\n",
              "            '<a target=\"_blank\" href=https://colab.research.google.com/notebooks/data_table.ipynb>data table notebook</a>'\n",
              "            + ' to learn more about interactive tables.';\n",
              "          element.innerHTML = '';\n",
              "          dataTable['output_type'] = 'display_data';\n",
              "          await google.colab.output.renderOutput(dataTable, element);\n",
              "          const docLink = document.createElement('div');\n",
              "          docLink.innerHTML = docLinkHtml;\n",
              "          element.appendChild(docLink);\n",
              "        }\n",
              "      </script>\n",
              "    </div>\n",
              "  </div>\n",
              "  "
            ]
          },
          "metadata": {},
          "execution_count": 26
        }
      ]
    },
    {
      "cell_type": "code",
      "source": [
        "saldo['2018']"
      ],
      "metadata": {
        "id": "Av_9J3teWurm",
        "colab": {
          "base_uri": "https://localhost:8080/",
          "height": 175
        },
        "outputId": "122cecdd-a5e3-4dfd-e84f-50eaf5ca9631"
      },
      "execution_count": 27,
      "outputs": [
        {
          "output_type": "execute_result",
          "data": {
            "text/plain": [
              "              Categoria         Saldo\n",
              "0  OPERAÇÕES DE CRÉDITO  0.000000e+00\n",
              "1     RECEITAS CORRENTE  2.967896e+08\n",
              "2   RECEITAS DE CAPITAL -2.687848e+09\n",
              "3     SALDOS ANTERIORES -4.800000e+07"
            ],
            "text/html": [
              "\n",
              "  <div id=\"df-109e9e48-1a8d-4dd4-96ee-d3c1dafe253e\">\n",
              "    <div class=\"colab-df-container\">\n",
              "      <div>\n",
              "<style scoped>\n",
              "    .dataframe tbody tr th:only-of-type {\n",
              "        vertical-align: middle;\n",
              "    }\n",
              "\n",
              "    .dataframe tbody tr th {\n",
              "        vertical-align: top;\n",
              "    }\n",
              "\n",
              "    .dataframe thead th {\n",
              "        text-align: right;\n",
              "    }\n",
              "</style>\n",
              "<table border=\"1\" class=\"dataframe\">\n",
              "  <thead>\n",
              "    <tr style=\"text-align: right;\">\n",
              "      <th></th>\n",
              "      <th>Categoria</th>\n",
              "      <th>Saldo</th>\n",
              "    </tr>\n",
              "  </thead>\n",
              "  <tbody>\n",
              "    <tr>\n",
              "      <th>0</th>\n",
              "      <td>OPERAÇÕES DE CRÉDITO</td>\n",
              "      <td>0.000000e+00</td>\n",
              "    </tr>\n",
              "    <tr>\n",
              "      <th>1</th>\n",
              "      <td>RECEITAS CORRENTE</td>\n",
              "      <td>2.967896e+08</td>\n",
              "    </tr>\n",
              "    <tr>\n",
              "      <th>2</th>\n",
              "      <td>RECEITAS DE CAPITAL</td>\n",
              "      <td>-2.687848e+09</td>\n",
              "    </tr>\n",
              "    <tr>\n",
              "      <th>3</th>\n",
              "      <td>SALDOS ANTERIORES</td>\n",
              "      <td>-4.800000e+07</td>\n",
              "    </tr>\n",
              "  </tbody>\n",
              "</table>\n",
              "</div>\n",
              "      <button class=\"colab-df-convert\" onclick=\"convertToInteractive('df-109e9e48-1a8d-4dd4-96ee-d3c1dafe253e')\"\n",
              "              title=\"Convert this dataframe to an interactive table.\"\n",
              "              style=\"display:none;\">\n",
              "        \n",
              "  <svg xmlns=\"http://www.w3.org/2000/svg\" height=\"24px\"viewBox=\"0 0 24 24\"\n",
              "       width=\"24px\">\n",
              "    <path d=\"M0 0h24v24H0V0z\" fill=\"none\"/>\n",
              "    <path d=\"M18.56 5.44l.94 2.06.94-2.06 2.06-.94-2.06-.94-.94-2.06-.94 2.06-2.06.94zm-11 1L8.5 8.5l.94-2.06 2.06-.94-2.06-.94L8.5 2.5l-.94 2.06-2.06.94zm10 10l.94 2.06.94-2.06 2.06-.94-2.06-.94-.94-2.06-.94 2.06-2.06.94z\"/><path d=\"M17.41 7.96l-1.37-1.37c-.4-.4-.92-.59-1.43-.59-.52 0-1.04.2-1.43.59L10.3 9.45l-7.72 7.72c-.78.78-.78 2.05 0 2.83L4 21.41c.39.39.9.59 1.41.59.51 0 1.02-.2 1.41-.59l7.78-7.78 2.81-2.81c.8-.78.8-2.07 0-2.86zM5.41 20L4 18.59l7.72-7.72 1.47 1.35L5.41 20z\"/>\n",
              "  </svg>\n",
              "      </button>\n",
              "      \n",
              "  <style>\n",
              "    .colab-df-container {\n",
              "      display:flex;\n",
              "      flex-wrap:wrap;\n",
              "      gap: 12px;\n",
              "    }\n",
              "\n",
              "    .colab-df-convert {\n",
              "      background-color: #E8F0FE;\n",
              "      border: none;\n",
              "      border-radius: 50%;\n",
              "      cursor: pointer;\n",
              "      display: none;\n",
              "      fill: #1967D2;\n",
              "      height: 32px;\n",
              "      padding: 0 0 0 0;\n",
              "      width: 32px;\n",
              "    }\n",
              "\n",
              "    .colab-df-convert:hover {\n",
              "      background-color: #E2EBFA;\n",
              "      box-shadow: 0px 1px 2px rgba(60, 64, 67, 0.3), 0px 1px 3px 1px rgba(60, 64, 67, 0.15);\n",
              "      fill: #174EA6;\n",
              "    }\n",
              "\n",
              "    [theme=dark] .colab-df-convert {\n",
              "      background-color: #3B4455;\n",
              "      fill: #D2E3FC;\n",
              "    }\n",
              "\n",
              "    [theme=dark] .colab-df-convert:hover {\n",
              "      background-color: #434B5C;\n",
              "      box-shadow: 0px 1px 3px 1px rgba(0, 0, 0, 0.15);\n",
              "      filter: drop-shadow(0px 1px 2px rgba(0, 0, 0, 0.3));\n",
              "      fill: #FFFFFF;\n",
              "    }\n",
              "  </style>\n",
              "\n",
              "      <script>\n",
              "        const buttonEl =\n",
              "          document.querySelector('#df-109e9e48-1a8d-4dd4-96ee-d3c1dafe253e button.colab-df-convert');\n",
              "        buttonEl.style.display =\n",
              "          google.colab.kernel.accessAllowed ? 'block' : 'none';\n",
              "\n",
              "        async function convertToInteractive(key) {\n",
              "          const element = document.querySelector('#df-109e9e48-1a8d-4dd4-96ee-d3c1dafe253e');\n",
              "          const dataTable =\n",
              "            await google.colab.kernel.invokeFunction('convertToInteractive',\n",
              "                                                     [key], {});\n",
              "          if (!dataTable) return;\n",
              "\n",
              "          const docLinkHtml = 'Like what you see? Visit the ' +\n",
              "            '<a target=\"_blank\" href=https://colab.research.google.com/notebooks/data_table.ipynb>data table notebook</a>'\n",
              "            + ' to learn more about interactive tables.';\n",
              "          element.innerHTML = '';\n",
              "          dataTable['output_type'] = 'display_data';\n",
              "          await google.colab.output.renderOutput(dataTable, element);\n",
              "          const docLink = document.createElement('div');\n",
              "          docLink.innerHTML = docLinkHtml;\n",
              "          element.appendChild(docLink);\n",
              "        }\n",
              "      </script>\n",
              "    </div>\n",
              "  </div>\n",
              "  "
            ]
          },
          "metadata": {},
          "execution_count": 27
        }
      ]
    },
    {
      "cell_type": "markdown",
      "source": [
        "5.2 Valores Totais"
      ],
      "metadata": {
        "id": "113o_7oYW6C2"
      }
    },
    {
      "cell_type": "code",
      "source": [
        "'''equivalem a linha TOTAL (VII) = (V + VI) da tabela original, \n",
        "a c_realizada é a soma das receitas realizadas: correntes , de capital e operações de crédito\n",
        "a c_saldo é o total realizado menos a soma das receitas atualizadas: correntes , de capital e operações de crédito '''\n",
        "\n",
        "c_inicial ={}\n",
        "c_atualizada = {}\n",
        "c_realizada = {}\n",
        "c_saldo = {}\n",
        "for year in years:\n",
        "  c_inicial[f'{year}'] = inicial[year]['Previsão_Inicial'].sum()\n",
        "  c_atualizada[f'{year}'] = atualizada[year]['Previsão_Atualizada'].sum()\n",
        "  c_realizada[f'{year}'] = realizada[year]['Receitas_Realizadas'].sum()-realizada[year]['Receitas_Realizadas'][3]\n",
        "  c_saldo[f'{year}'] = (c_realizada[f'{year}'] - (c_atualizada[f'{year}'] - atualizada[year]['Previsão_Atualizada'][3:]))"
      ],
      "metadata": {
        "id": "foKgAa-T66lX"
      },
      "execution_count": 28,
      "outputs": []
    },
    {
      "cell_type": "code",
      "source": [
        "print(c_inicial['2018'])\n",
        "print(c_atualizada['2018'])\n",
        "print(c_realizada['2019'])\n",
        "print(c_saldo['2018'])"
      ],
      "metadata": {
        "id": "qOWT2V-D8ECx",
        "colab": {
          "base_uri": "https://localhost:8080/"
        },
        "outputId": "b696e1db-3afd-40bd-f920-68e707e51b74"
      },
      "execution_count": 29,
      "outputs": [
        {
          "output_type": "stream",
          "name": "stdout",
          "text": [
            "67644672674.39999\n",
            "67799346522.05999\n",
            "72124529530.39099\n",
            "3   -2.391058e+09\n",
            "Name: Previsão_Atualizada, dtype: float64\n"
          ]
        }
      ]
    },
    {
      "cell_type": "code",
      "source": [
        "'''\n",
        "equivale a linha TOTAL (VII) = (V + VI) da tabela original\n",
        "'''\n",
        "\n",
        "t_inicial ={}\n",
        "t_atualizada = {}\n",
        "t_realizada = {}\n",
        "t_saldo = {}\n",
        "for year in years:\n",
        "  t_inicial[f'{year}'] = df[year]['Previsão_Inicial'].sum()\n",
        "  t_atualizada[f'{year}'] = df[year]['Previsão_Atualizada'].sum()\n",
        "  t_realizada[f'{year}'] = (df[year]['Receitas_Realizadas'].sum() - realizada[year]['Receitas_Realizadas'][3:]).astype(int)\n",
        "  t_saldo[f'{year}'] = (t_realizada[f'{year}'] - (t_atualizada[f'{year}'] - atualizada[year]['Previsão_Atualizada'][3:])).astype(int)"
      ],
      "metadata": {
        "id": "fNDjnRg_8nc4"
      },
      "execution_count": 30,
      "outputs": []
    },
    {
      "cell_type": "code",
      "source": [
        "print(t_inicial['2018'])\n",
        "print(t_atualizada['2018'])\n",
        "print(t_realizada['2018'])\n",
        "print(t_saldo['2018'])"
      ],
      "metadata": {
        "id": "gFtDKF5maQTS",
        "colab": {
          "base_uri": "https://localhost:8080/"
        },
        "outputId": "6ae4be24-67ad-42e6-f7fe-97bc81d736b1"
      },
      "execution_count": 31,
      "outputs": [
        {
          "output_type": "stream",
          "name": "stdout",
          "text": [
            "67644672674.399994\n",
            "67799346522.06\n",
            "3    65205614718\n",
            "Name: Receitas_Realizadas, dtype: int64\n",
            "3   -2391057956\n",
            "dtype: int64\n"
          ]
        }
      ]
    },
    {
      "cell_type": "markdown",
      "source": [
        "#6. Indicadores para análise"
      ],
      "metadata": {
        "id": "RXGLGzmP-O4w"
      }
    },
    {
      "cell_type": "markdown",
      "source": [
        "6.1 Quociente de execução da receita"
      ],
      "metadata": {
        "id": "9Q0OiQkQXJDO"
      }
    },
    {
      "cell_type": "markdown",
      "source": [
        "Execução da Receita: Receita Executada/ Receita Prevista\n",
        "\n",
        "\n",
        "* '1' = Receita executada é igual à receita prevista;\n",
        "* '>1' = Receita executada é maior que a prevista, portanto,representa o excesso de arrecadação;\n",
        "* '<1' = Receita executada é menor que a prevista, portanto,representa a falta de arrecadação.\n",
        "\n",
        "\n",
        "\n",
        "\n",
        "\n",
        "\n",
        "*Quociente de execução da receita: Receita Executada Receita Prevista (Kohama, 2000, p. 144-148)*"
      ],
      "metadata": {
        "id": "czdsu1Zm-ZkO"
      }
    },
    {
      "cell_type": "code",
      "source": [
        "q_execucao= {}\n",
        "for year in years:\n",
        "  q_execucao[f'{year}'] = t_realizada[f'{year}']/ t_inicial[f'{year}'] \n",
        "  print(type(q_execucao[f'{year}']))"
      ],
      "metadata": {
        "id": "stYZ01Xp-cfj",
        "colab": {
          "base_uri": "https://localhost:8080/"
        },
        "outputId": "fcf2391d-2f24-4b95-c540-6f59104343e2"
      },
      "execution_count": 32,
      "outputs": [
        {
          "output_type": "stream",
          "name": "stdout",
          "text": [
            "<class 'pandas.core.series.Series'>\n",
            "<class 'pandas.core.series.Series'>\n",
            "<class 'pandas.core.series.Series'>\n",
            "<class 'pandas.core.series.Series'>\n",
            "<class 'pandas.core.series.Series'>\n"
          ]
        }
      ]
    },
    {
      "cell_type": "code",
      "source": [
        "q_execucao"
      ],
      "metadata": {
        "colab": {
          "base_uri": "https://localhost:8080/"
        },
        "id": "KqL5-QBNfoxe",
        "outputId": "da537821-dfee-4f01-fd0f-8d9ceb488577"
      },
      "execution_count": 33,
      "outputs": [
        {
          "output_type": "execute_result",
          "data": {
            "text/plain": [
              "{'2017': 3    0.946494\n",
              " Name: Receitas_Realizadas, dtype: float64, '2018': 3    0.963943\n",
              " Name: Receitas_Realizadas, dtype: float64, '2019': 3    1.035558\n",
              " Name: Receitas_Realizadas, dtype: float64, '2020': 3    0.966252\n",
              " Name: Receitas_Realizadas, dtype: float64, '2021': 3    1.127835\n",
              " Name: Receitas_Realizadas, dtype: float64}"
            ]
          },
          "metadata": {},
          "execution_count": 33
        }
      ]
    },
    {
      "cell_type": "code",
      "source": [
        "q_execucao = pd.DataFrame(q_execucao)\n",
        "q_execucao = q_execucao.T\n",
        "q_execucao.columns = ['execução']"
      ],
      "metadata": {
        "id": "rN50jW0szR7x"
      },
      "execution_count": 34,
      "outputs": []
    },
    {
      "cell_type": "code",
      "source": [
        "q_execucao.index"
      ],
      "metadata": {
        "colab": {
          "base_uri": "https://localhost:8080/"
        },
        "id": "I6bErmTX2y5A",
        "outputId": "e25f0b4b-7b21-4980-93c1-3964ef0b877e"
      },
      "execution_count": 35,
      "outputs": [
        {
          "output_type": "execute_result",
          "data": {
            "text/plain": [
              "Index(['2017', '2018', '2019', '2020', '2021'], dtype='object')"
            ]
          },
          "metadata": {},
          "execution_count": 35
        }
      ]
    },
    {
      "cell_type": "markdown",
      "source": [
        "6.2 Análise Horizontal"
      ],
      "metadata": {
        "id": "z5aXjA3kYHzd"
      }
    },
    {
      "cell_type": "markdown",
      "source": [
        "Analise Horizontal: Realizado/ Previsto *100.\n",
        "\n",
        "Demonstra a variação entre a Receita Prevista e a Realizada"
      ],
      "metadata": {
        "id": "6T_u823bf5BP"
      }
    },
    {
      "cell_type": "code",
      "source": [
        "for year in years:\n",
        "    df[year]['AH'] = round(df[year]['Receitas_Realizadas']/df[year]['Previsão_Inicial']*100, 2)\n"
      ],
      "metadata": {
        "id": "v8PBn5bKhDtA"
      },
      "execution_count": 36,
      "outputs": []
    },
    {
      "cell_type": "markdown",
      "source": [
        "6.3 Análise Vertical"
      ],
      "metadata": {
        "id": "urqsAULIZNZu"
      }
    },
    {
      "cell_type": "markdown",
      "source": [
        "Análise Vertical: cada linha realizada/ total realizado *100.\n",
        "\n",
        "Demonstra o peso de cada receita no total arrecadado."
      ],
      "metadata": {
        "id": "8XgRwHRpigJ2"
      }
    },
    {
      "cell_type": "code",
      "source": [
        "for year in years:\n",
        "    df[year]['AV'] = round(df[year]['Receitas_Realizadas'].div(c_realizada[year])*100, 2)"
      ],
      "metadata": {
        "id": "k_DXcVsLi9Q1"
      },
      "execution_count": 37,
      "outputs": []
    },
    {
      "cell_type": "code",
      "source": [
        "df['2017'].head(n=30)"
      ],
      "metadata": {
        "colab": {
          "base_uri": "https://localhost:8080/",
          "height": 1000
        },
        "id": "yoQLbw04hep6",
        "outputId": "0bc853e4-b297-425e-e9a7-dee60bd55b50"
      },
      "execution_count": 38,
      "outputs": [
        {
          "output_type": "execute_result",
          "data": {
            "text/plain": [
              "                                                          Categoria  \\\n",
              "RECEITAS ORÇAMENTÁRIAS                                                \n",
              "RECEITA TRIBUTÁRIA                                RECEITAS CORRENTE   \n",
              "RECEITA DE CONTRIBUIÇÕES                          RECEITAS CORRENTE   \n",
              "RECEITA PATRIMONIAL                               RECEITAS CORRENTE   \n",
              "RECEITA AGROPECUÁRIA                              RECEITAS CORRENTE   \n",
              "RECEITA INDUSTRIAL                                RECEITAS CORRENTE   \n",
              "RECEITA DE SERVIÇOS                               RECEITAS CORRENTE   \n",
              "TRANSFERÊNCIAS CORRENTES                          RECEITAS CORRENTE   \n",
              "OUTRAS RECEITAS CORRENTES                         RECEITAS CORRENTE   \n",
              "OPERAÇÕES DE CRÉDITO                            RECEITAS DE CAPITAL   \n",
              "ALIENAÇÃO DE BENS                               RECEITAS DE CAPITAL   \n",
              "AMORTIZAÇÕES DE EMPRÉSTIMOS                     RECEITAS DE CAPITAL   \n",
              "TRANSFERÊNCIAS DE CAPITAL                       RECEITAS DE CAPITAL   \n",
              "OUTRAS RECEITAS DE CAPITAL                      RECEITAS DE CAPITAL   \n",
              "OPERAÇÕES DE CRÉDITO INTERNAS                  OPERAÇÕES DE CRÉDITO   \n",
              "MOBILIÁRIA                                     OPERAÇÕES DE CRÉDITO   \n",
              "CONTRATUAL                                     OPERAÇÕES DE CRÉDITO   \n",
              "OPERAÇÕES DE CRÉDITO EXTERNAS                  OPERAÇÕES DE CRÉDITO   \n",
              "RECURSOS ARRECADADOS EM EXERCÍCIOS ANTERIORES     SALDOS ANTERIORES   \n",
              "SUPERAVIT FINANCEIRO                              SALDOS ANTERIORES   \n",
              "REABERTURA DE CRÉDITOS ADICIONAIS                 SALDOS ANTERIORES   \n",
              "\n",
              "                                               Previsão_Inicial  \\\n",
              "RECEITAS ORÇAMENTÁRIAS                                            \n",
              "RECEITA TRIBUTÁRIA                                 3.098723e+10   \n",
              "RECEITA DE CONTRIBUIÇÕES                           4.697278e+09   \n",
              "RECEITA PATRIMONIAL                                1.258634e+09   \n",
              "RECEITA AGROPECUÁRIA                               0.000000e+00   \n",
              "RECEITA INDUSTRIAL                                 0.000000e+00   \n",
              "RECEITA DE SERVIÇOS                                7.730245e+08   \n",
              "TRANSFERÊNCIAS CORRENTES                           1.807210e+10   \n",
              "OUTRAS RECEITAS CORRENTES                          5.888677e+09   \n",
              "OPERAÇÕES DE CRÉDITO                               1.341779e+08   \n",
              "ALIENAÇÃO DE BENS                                  1.123876e+09   \n",
              "AMORTIZAÇÕES DE EMPRÉSTIMOS                        2.900204e+07   \n",
              "TRANSFERÊNCIAS DE CAPITAL                          3.332409e+09   \n",
              "OUTRAS RECEITAS DE CAPITAL                         1.400856e+09   \n",
              "OPERAÇÕES DE CRÉDITO INTERNAS                      0.000000e+00   \n",
              "MOBILIÁRIA                                         0.000000e+00   \n",
              "CONTRATUAL                                         0.000000e+00   \n",
              "OPERAÇÕES DE CRÉDITO EXTERNAS                      0.000000e+00   \n",
              "RECURSOS ARRECADADOS EM EXERCÍCIOS ANTERIORES      1.240000e+08   \n",
              "SUPERAVIT FINANCEIRO                               0.000000e+00   \n",
              "REABERTURA DE CRÉDITOS ADICIONAIS                  0.000000e+00   \n",
              "\n",
              "                                               Previsão_Atualizada  \\\n",
              "RECEITAS ORÇAMENTÁRIAS                                               \n",
              "RECEITA TRIBUTÁRIA                                    3.098723e+10   \n",
              "RECEITA DE CONTRIBUIÇÕES                              4.697278e+09   \n",
              "RECEITA PATRIMONIAL                                   1.258634e+09   \n",
              "RECEITA AGROPECUÁRIA                                  0.000000e+00   \n",
              "RECEITA INDUSTRIAL                                    0.000000e+00   \n",
              "RECEITA DE SERVIÇOS                                   7.730245e+08   \n",
              "TRANSFERÊNCIAS CORRENTES                              1.807210e+10   \n",
              "OUTRAS RECEITAS CORRENTES                             5.888677e+09   \n",
              "OPERAÇÕES DE CRÉDITO                                  1.341779e+08   \n",
              "ALIENAÇÃO DE BENS                                     1.123876e+09   \n",
              "AMORTIZAÇÕES DE EMPRÉSTIMOS                           2.900204e+07   \n",
              "TRANSFERÊNCIAS DE CAPITAL                             3.332409e+09   \n",
              "OUTRAS RECEITAS DE CAPITAL                            1.400856e+09   \n",
              "OPERAÇÕES DE CRÉDITO INTERNAS                         0.000000e+00   \n",
              "MOBILIÁRIA                                            0.000000e+00   \n",
              "CONTRATUAL                                            0.000000e+00   \n",
              "OPERAÇÕES DE CRÉDITO EXTERNAS                         0.000000e+00   \n",
              "RECURSOS ARRECADADOS EM EXERCÍCIOS ANTERIORES         1.240000e+08   \n",
              "SUPERAVIT FINANCEIRO                                  2.023454e+08   \n",
              "REABERTURA DE CRÉDITOS ADICIONAIS                     0.000000e+00   \n",
              "\n",
              "                                               Receitas_Realizadas  \\\n",
              "RECEITAS ORÇAMENTÁRIAS                                               \n",
              "RECEITA TRIBUTÁRIA                                    3.165459e+10   \n",
              "RECEITA DE CONTRIBUIÇÕES                              4.651160e+09   \n",
              "RECEITA PATRIMONIAL                                   1.226195e+09   \n",
              "RECEITA AGROPECUÁRIA                                  0.000000e+00   \n",
              "RECEITA INDUSTRIAL                                    0.000000e+00   \n",
              "RECEITA DE SERVIÇOS                                   6.781334e+08   \n",
              "TRANSFERÊNCIAS CORRENTES                              1.750966e+10   \n",
              "OUTRAS RECEITAS CORRENTES                             7.126218e+09   \n",
              "OPERAÇÕES DE CRÉDITO                                  5.508162e+07   \n",
              "ALIENAÇÃO DE BENS                                     2.851099e+07   \n",
              "AMORTIZAÇÕES DE EMPRÉSTIMOS                           2.767711e+07   \n",
              "TRANSFERÊNCIAS DE CAPITAL                             7.961880e+08   \n",
              "OUTRAS RECEITAS DE CAPITAL                            4.390146e+08   \n",
              "OPERAÇÕES DE CRÉDITO INTERNAS                         0.000000e+00   \n",
              "MOBILIÁRIA                                            0.000000e+00   \n",
              "CONTRATUAL                                            0.000000e+00   \n",
              "OPERAÇÕES DE CRÉDITO EXTERNAS                         0.000000e+00   \n",
              "RECURSOS ARRECADADOS EM EXERCÍCIOS ANTERIORES         0.000000e+00   \n",
              "SUPERAVIT FINANCEIRO                                  2.023454e+08   \n",
              "REABERTURA DE CRÉDITOS ADICIONAIS                     0.000000e+00   \n",
              "\n",
              "                                                      Saldo      AH     AV  \n",
              "RECEITAS ORÇAMENTÁRIAS                                                      \n",
              "RECEITA TRIBUTÁRIA                             6.673591e+08  102.15  49.31  \n",
              "RECEITA DE CONTRIBUIÇÕES                      -4.611825e+07   99.02   7.25  \n",
              "RECEITA PATRIMONIAL                           -3.243882e+07   97.42   1.91  \n",
              "RECEITA AGROPECUÁRIA                           0.000000e+00     NaN   0.00  \n",
              "RECEITA INDUSTRIAL                             0.000000e+00     NaN   0.00  \n",
              "RECEITA DE SERVIÇOS                           -9.489108e+07   87.72   1.06  \n",
              "TRANSFERÊNCIAS CORRENTES                      -5.624353e+08   96.89  27.28  \n",
              "OUTRAS RECEITAS CORRENTES                      1.237541e+09  121.02  11.10  \n",
              "OPERAÇÕES DE CRÉDITO                          -7.909630e+07   41.05   0.09  \n",
              "ALIENAÇÃO DE BENS                             -1.095365e+09    2.54   0.04  \n",
              "AMORTIZAÇÕES DE EMPRÉSTIMOS                   -1.324927e+06   95.43   0.04  \n",
              "TRANSFERÊNCIAS DE CAPITAL                     -2.536221e+09   23.89   1.24  \n",
              "OUTRAS RECEITAS DE CAPITAL                    -9.618418e+08   31.34   0.68  \n",
              "OPERAÇÕES DE CRÉDITO INTERNAS                  0.000000e+00     NaN   0.00  \n",
              "MOBILIÁRIA                                     0.000000e+00     NaN   0.00  \n",
              "CONTRATUAL                                     0.000000e+00     NaN   0.00  \n",
              "OPERAÇÕES DE CRÉDITO EXTERNAS                  0.000000e+00     NaN   0.00  \n",
              "RECURSOS ARRECADADOS EM EXERCÍCIOS ANTERIORES -1.240000e+08    0.00   0.00  \n",
              "SUPERAVIT FINANCEIRO                           0.000000e+00     inf   0.32  \n",
              "REABERTURA DE CRÉDITOS ADICIONAIS              0.000000e+00     NaN   0.00  "
            ],
            "text/html": [
              "\n",
              "  <div id=\"df-c0083974-2cdb-4f9e-9f23-67fd0677a340\">\n",
              "    <div class=\"colab-df-container\">\n",
              "      <div>\n",
              "<style scoped>\n",
              "    .dataframe tbody tr th:only-of-type {\n",
              "        vertical-align: middle;\n",
              "    }\n",
              "\n",
              "    .dataframe tbody tr th {\n",
              "        vertical-align: top;\n",
              "    }\n",
              "\n",
              "    .dataframe thead th {\n",
              "        text-align: right;\n",
              "    }\n",
              "</style>\n",
              "<table border=\"1\" class=\"dataframe\">\n",
              "  <thead>\n",
              "    <tr style=\"text-align: right;\">\n",
              "      <th></th>\n",
              "      <th>Categoria</th>\n",
              "      <th>Previsão_Inicial</th>\n",
              "      <th>Previsão_Atualizada</th>\n",
              "      <th>Receitas_Realizadas</th>\n",
              "      <th>Saldo</th>\n",
              "      <th>AH</th>\n",
              "      <th>AV</th>\n",
              "    </tr>\n",
              "    <tr>\n",
              "      <th>RECEITAS ORÇAMENTÁRIAS</th>\n",
              "      <th></th>\n",
              "      <th></th>\n",
              "      <th></th>\n",
              "      <th></th>\n",
              "      <th></th>\n",
              "      <th></th>\n",
              "      <th></th>\n",
              "    </tr>\n",
              "  </thead>\n",
              "  <tbody>\n",
              "    <tr>\n",
              "      <th>RECEITA TRIBUTÁRIA</th>\n",
              "      <td>RECEITAS CORRENTE</td>\n",
              "      <td>3.098723e+10</td>\n",
              "      <td>3.098723e+10</td>\n",
              "      <td>3.165459e+10</td>\n",
              "      <td>6.673591e+08</td>\n",
              "      <td>102.15</td>\n",
              "      <td>49.31</td>\n",
              "    </tr>\n",
              "    <tr>\n",
              "      <th>RECEITA DE CONTRIBUIÇÕES</th>\n",
              "      <td>RECEITAS CORRENTE</td>\n",
              "      <td>4.697278e+09</td>\n",
              "      <td>4.697278e+09</td>\n",
              "      <td>4.651160e+09</td>\n",
              "      <td>-4.611825e+07</td>\n",
              "      <td>99.02</td>\n",
              "      <td>7.25</td>\n",
              "    </tr>\n",
              "    <tr>\n",
              "      <th>RECEITA PATRIMONIAL</th>\n",
              "      <td>RECEITAS CORRENTE</td>\n",
              "      <td>1.258634e+09</td>\n",
              "      <td>1.258634e+09</td>\n",
              "      <td>1.226195e+09</td>\n",
              "      <td>-3.243882e+07</td>\n",
              "      <td>97.42</td>\n",
              "      <td>1.91</td>\n",
              "    </tr>\n",
              "    <tr>\n",
              "      <th>RECEITA AGROPECUÁRIA</th>\n",
              "      <td>RECEITAS CORRENTE</td>\n",
              "      <td>0.000000e+00</td>\n",
              "      <td>0.000000e+00</td>\n",
              "      <td>0.000000e+00</td>\n",
              "      <td>0.000000e+00</td>\n",
              "      <td>NaN</td>\n",
              "      <td>0.00</td>\n",
              "    </tr>\n",
              "    <tr>\n",
              "      <th>RECEITA INDUSTRIAL</th>\n",
              "      <td>RECEITAS CORRENTE</td>\n",
              "      <td>0.000000e+00</td>\n",
              "      <td>0.000000e+00</td>\n",
              "      <td>0.000000e+00</td>\n",
              "      <td>0.000000e+00</td>\n",
              "      <td>NaN</td>\n",
              "      <td>0.00</td>\n",
              "    </tr>\n",
              "    <tr>\n",
              "      <th>RECEITA DE SERVIÇOS</th>\n",
              "      <td>RECEITAS CORRENTE</td>\n",
              "      <td>7.730245e+08</td>\n",
              "      <td>7.730245e+08</td>\n",
              "      <td>6.781334e+08</td>\n",
              "      <td>-9.489108e+07</td>\n",
              "      <td>87.72</td>\n",
              "      <td>1.06</td>\n",
              "    </tr>\n",
              "    <tr>\n",
              "      <th>TRANSFERÊNCIAS CORRENTES</th>\n",
              "      <td>RECEITAS CORRENTE</td>\n",
              "      <td>1.807210e+10</td>\n",
              "      <td>1.807210e+10</td>\n",
              "      <td>1.750966e+10</td>\n",
              "      <td>-5.624353e+08</td>\n",
              "      <td>96.89</td>\n",
              "      <td>27.28</td>\n",
              "    </tr>\n",
              "    <tr>\n",
              "      <th>OUTRAS RECEITAS CORRENTES</th>\n",
              "      <td>RECEITAS CORRENTE</td>\n",
              "      <td>5.888677e+09</td>\n",
              "      <td>5.888677e+09</td>\n",
              "      <td>7.126218e+09</td>\n",
              "      <td>1.237541e+09</td>\n",
              "      <td>121.02</td>\n",
              "      <td>11.10</td>\n",
              "    </tr>\n",
              "    <tr>\n",
              "      <th>OPERAÇÕES DE CRÉDITO</th>\n",
              "      <td>RECEITAS DE CAPITAL</td>\n",
              "      <td>1.341779e+08</td>\n",
              "      <td>1.341779e+08</td>\n",
              "      <td>5.508162e+07</td>\n",
              "      <td>-7.909630e+07</td>\n",
              "      <td>41.05</td>\n",
              "      <td>0.09</td>\n",
              "    </tr>\n",
              "    <tr>\n",
              "      <th>ALIENAÇÃO DE BENS</th>\n",
              "      <td>RECEITAS DE CAPITAL</td>\n",
              "      <td>1.123876e+09</td>\n",
              "      <td>1.123876e+09</td>\n",
              "      <td>2.851099e+07</td>\n",
              "      <td>-1.095365e+09</td>\n",
              "      <td>2.54</td>\n",
              "      <td>0.04</td>\n",
              "    </tr>\n",
              "    <tr>\n",
              "      <th>AMORTIZAÇÕES DE EMPRÉSTIMOS</th>\n",
              "      <td>RECEITAS DE CAPITAL</td>\n",
              "      <td>2.900204e+07</td>\n",
              "      <td>2.900204e+07</td>\n",
              "      <td>2.767711e+07</td>\n",
              "      <td>-1.324927e+06</td>\n",
              "      <td>95.43</td>\n",
              "      <td>0.04</td>\n",
              "    </tr>\n",
              "    <tr>\n",
              "      <th>TRANSFERÊNCIAS DE CAPITAL</th>\n",
              "      <td>RECEITAS DE CAPITAL</td>\n",
              "      <td>3.332409e+09</td>\n",
              "      <td>3.332409e+09</td>\n",
              "      <td>7.961880e+08</td>\n",
              "      <td>-2.536221e+09</td>\n",
              "      <td>23.89</td>\n",
              "      <td>1.24</td>\n",
              "    </tr>\n",
              "    <tr>\n",
              "      <th>OUTRAS RECEITAS DE CAPITAL</th>\n",
              "      <td>RECEITAS DE CAPITAL</td>\n",
              "      <td>1.400856e+09</td>\n",
              "      <td>1.400856e+09</td>\n",
              "      <td>4.390146e+08</td>\n",
              "      <td>-9.618418e+08</td>\n",
              "      <td>31.34</td>\n",
              "      <td>0.68</td>\n",
              "    </tr>\n",
              "    <tr>\n",
              "      <th>OPERAÇÕES DE CRÉDITO INTERNAS</th>\n",
              "      <td>OPERAÇÕES DE CRÉDITO</td>\n",
              "      <td>0.000000e+00</td>\n",
              "      <td>0.000000e+00</td>\n",
              "      <td>0.000000e+00</td>\n",
              "      <td>0.000000e+00</td>\n",
              "      <td>NaN</td>\n",
              "      <td>0.00</td>\n",
              "    </tr>\n",
              "    <tr>\n",
              "      <th>MOBILIÁRIA</th>\n",
              "      <td>OPERAÇÕES DE CRÉDITO</td>\n",
              "      <td>0.000000e+00</td>\n",
              "      <td>0.000000e+00</td>\n",
              "      <td>0.000000e+00</td>\n",
              "      <td>0.000000e+00</td>\n",
              "      <td>NaN</td>\n",
              "      <td>0.00</td>\n",
              "    </tr>\n",
              "    <tr>\n",
              "      <th>CONTRATUAL</th>\n",
              "      <td>OPERAÇÕES DE CRÉDITO</td>\n",
              "      <td>0.000000e+00</td>\n",
              "      <td>0.000000e+00</td>\n",
              "      <td>0.000000e+00</td>\n",
              "      <td>0.000000e+00</td>\n",
              "      <td>NaN</td>\n",
              "      <td>0.00</td>\n",
              "    </tr>\n",
              "    <tr>\n",
              "      <th>OPERAÇÕES DE CRÉDITO EXTERNAS</th>\n",
              "      <td>OPERAÇÕES DE CRÉDITO</td>\n",
              "      <td>0.000000e+00</td>\n",
              "      <td>0.000000e+00</td>\n",
              "      <td>0.000000e+00</td>\n",
              "      <td>0.000000e+00</td>\n",
              "      <td>NaN</td>\n",
              "      <td>0.00</td>\n",
              "    </tr>\n",
              "    <tr>\n",
              "      <th>RECURSOS ARRECADADOS EM EXERCÍCIOS ANTERIORES</th>\n",
              "      <td>SALDOS ANTERIORES</td>\n",
              "      <td>1.240000e+08</td>\n",
              "      <td>1.240000e+08</td>\n",
              "      <td>0.000000e+00</td>\n",
              "      <td>-1.240000e+08</td>\n",
              "      <td>0.00</td>\n",
              "      <td>0.00</td>\n",
              "    </tr>\n",
              "    <tr>\n",
              "      <th>SUPERAVIT FINANCEIRO</th>\n",
              "      <td>SALDOS ANTERIORES</td>\n",
              "      <td>0.000000e+00</td>\n",
              "      <td>2.023454e+08</td>\n",
              "      <td>2.023454e+08</td>\n",
              "      <td>0.000000e+00</td>\n",
              "      <td>inf</td>\n",
              "      <td>0.32</td>\n",
              "    </tr>\n",
              "    <tr>\n",
              "      <th>REABERTURA DE CRÉDITOS ADICIONAIS</th>\n",
              "      <td>SALDOS ANTERIORES</td>\n",
              "      <td>0.000000e+00</td>\n",
              "      <td>0.000000e+00</td>\n",
              "      <td>0.000000e+00</td>\n",
              "      <td>0.000000e+00</td>\n",
              "      <td>NaN</td>\n",
              "      <td>0.00</td>\n",
              "    </tr>\n",
              "  </tbody>\n",
              "</table>\n",
              "</div>\n",
              "      <button class=\"colab-df-convert\" onclick=\"convertToInteractive('df-c0083974-2cdb-4f9e-9f23-67fd0677a340')\"\n",
              "              title=\"Convert this dataframe to an interactive table.\"\n",
              "              style=\"display:none;\">\n",
              "        \n",
              "  <svg xmlns=\"http://www.w3.org/2000/svg\" height=\"24px\"viewBox=\"0 0 24 24\"\n",
              "       width=\"24px\">\n",
              "    <path d=\"M0 0h24v24H0V0z\" fill=\"none\"/>\n",
              "    <path d=\"M18.56 5.44l.94 2.06.94-2.06 2.06-.94-2.06-.94-.94-2.06-.94 2.06-2.06.94zm-11 1L8.5 8.5l.94-2.06 2.06-.94-2.06-.94L8.5 2.5l-.94 2.06-2.06.94zm10 10l.94 2.06.94-2.06 2.06-.94-2.06-.94-.94-2.06-.94 2.06-2.06.94z\"/><path d=\"M17.41 7.96l-1.37-1.37c-.4-.4-.92-.59-1.43-.59-.52 0-1.04.2-1.43.59L10.3 9.45l-7.72 7.72c-.78.78-.78 2.05 0 2.83L4 21.41c.39.39.9.59 1.41.59.51 0 1.02-.2 1.41-.59l7.78-7.78 2.81-2.81c.8-.78.8-2.07 0-2.86zM5.41 20L4 18.59l7.72-7.72 1.47 1.35L5.41 20z\"/>\n",
              "  </svg>\n",
              "      </button>\n",
              "      \n",
              "  <style>\n",
              "    .colab-df-container {\n",
              "      display:flex;\n",
              "      flex-wrap:wrap;\n",
              "      gap: 12px;\n",
              "    }\n",
              "\n",
              "    .colab-df-convert {\n",
              "      background-color: #E8F0FE;\n",
              "      border: none;\n",
              "      border-radius: 50%;\n",
              "      cursor: pointer;\n",
              "      display: none;\n",
              "      fill: #1967D2;\n",
              "      height: 32px;\n",
              "      padding: 0 0 0 0;\n",
              "      width: 32px;\n",
              "    }\n",
              "\n",
              "    .colab-df-convert:hover {\n",
              "      background-color: #E2EBFA;\n",
              "      box-shadow: 0px 1px 2px rgba(60, 64, 67, 0.3), 0px 1px 3px 1px rgba(60, 64, 67, 0.15);\n",
              "      fill: #174EA6;\n",
              "    }\n",
              "\n",
              "    [theme=dark] .colab-df-convert {\n",
              "      background-color: #3B4455;\n",
              "      fill: #D2E3FC;\n",
              "    }\n",
              "\n",
              "    [theme=dark] .colab-df-convert:hover {\n",
              "      background-color: #434B5C;\n",
              "      box-shadow: 0px 1px 3px 1px rgba(0, 0, 0, 0.15);\n",
              "      filter: drop-shadow(0px 1px 2px rgba(0, 0, 0, 0.3));\n",
              "      fill: #FFFFFF;\n",
              "    }\n",
              "  </style>\n",
              "\n",
              "      <script>\n",
              "        const buttonEl =\n",
              "          document.querySelector('#df-c0083974-2cdb-4f9e-9f23-67fd0677a340 button.colab-df-convert');\n",
              "        buttonEl.style.display =\n",
              "          google.colab.kernel.accessAllowed ? 'block' : 'none';\n",
              "\n",
              "        async function convertToInteractive(key) {\n",
              "          const element = document.querySelector('#df-c0083974-2cdb-4f9e-9f23-67fd0677a340');\n",
              "          const dataTable =\n",
              "            await google.colab.kernel.invokeFunction('convertToInteractive',\n",
              "                                                     [key], {});\n",
              "          if (!dataTable) return;\n",
              "\n",
              "          const docLinkHtml = 'Like what you see? Visit the ' +\n",
              "            '<a target=\"_blank\" href=https://colab.research.google.com/notebooks/data_table.ipynb>data table notebook</a>'\n",
              "            + ' to learn more about interactive tables.';\n",
              "          element.innerHTML = '';\n",
              "          dataTable['output_type'] = 'display_data';\n",
              "          await google.colab.output.renderOutput(dataTable, element);\n",
              "          const docLink = document.createElement('div');\n",
              "          docLink.innerHTML = docLinkHtml;\n",
              "          element.appendChild(docLink);\n",
              "        }\n",
              "      </script>\n",
              "    </div>\n",
              "  </div>\n",
              "  "
            ]
          },
          "metadata": {},
          "execution_count": 38
        }
      ]
    },
    {
      "cell_type": "markdown",
      "source": [
        "#7. Elaboração de Gráficos"
      ],
      "metadata": {
        "id": "ZR8ATNuvmY1P"
      }
    },
    {
      "cell_type": "code",
      "source": [
        "#TODO: arrumar eixo y, colcando em bilhões. grafico ah"
      ],
      "metadata": {
        "id": "EKCCGMI0w80A"
      },
      "execution_count": 39,
      "outputs": []
    },
    {
      "cell_type": "markdown",
      "source": [
        "7.1 Evolução da receita"
      ],
      "metadata": {
        "id": "zn-YIZuemgA2"
      }
    },
    {
      "cell_type": "code",
      "source": [
        "import datetime as dt\n",
        "from datetime import timedelta\n",
        "import matplotlib.pyplot as plt\n",
        "import matplotlib.animation as animation\n"
      ],
      "metadata": {
        "id": "nre64vsTnCwC"
      },
      "execution_count": 40,
      "outputs": []
    },
    {
      "cell_type": "code",
      "source": [
        "serie ={}\n",
        "for year in years:\n",
        "  serie[year] = round(c_realizada[year], 2)"
      ],
      "metadata": {
        "id": "05pBukeyqmUO"
      },
      "execution_count": 41,
      "outputs": []
    },
    {
      "cell_type": "code",
      "source": [
        "serie = pd.DataFrame([serie])\n",
        "serie = serie.T\n"
      ],
      "metadata": {
        "id": "CHGuiLiLrOaG"
      },
      "execution_count": 42,
      "outputs": []
    },
    {
      "cell_type": "code",
      "source": [
        "serie.head(n=10)"
      ],
      "metadata": {
        "colab": {
          "base_uri": "https://localhost:8080/",
          "height": 206
        },
        "id": "e2IMbR71sGej",
        "outputId": "938743de-1acc-45ac-fd66-4bb51a6a3f43"
      },
      "execution_count": 43,
      "outputs": [
        {
          "output_type": "execute_result",
          "data": {
            "text/plain": [
              "                 0\n",
              "2017  6.419243e+10\n",
              "2018  6.520561e+10\n",
              "2019  7.212453e+10\n",
              "2020  7.332733e+10\n",
              "2021  7.665070e+10"
            ],
            "text/html": [
              "\n",
              "  <div id=\"df-10dccbbf-108a-44d8-95c8-de3f13346e17\">\n",
              "    <div class=\"colab-df-container\">\n",
              "      <div>\n",
              "<style scoped>\n",
              "    .dataframe tbody tr th:only-of-type {\n",
              "        vertical-align: middle;\n",
              "    }\n",
              "\n",
              "    .dataframe tbody tr th {\n",
              "        vertical-align: top;\n",
              "    }\n",
              "\n",
              "    .dataframe thead th {\n",
              "        text-align: right;\n",
              "    }\n",
              "</style>\n",
              "<table border=\"1\" class=\"dataframe\">\n",
              "  <thead>\n",
              "    <tr style=\"text-align: right;\">\n",
              "      <th></th>\n",
              "      <th>0</th>\n",
              "    </tr>\n",
              "  </thead>\n",
              "  <tbody>\n",
              "    <tr>\n",
              "      <th>2017</th>\n",
              "      <td>6.419243e+10</td>\n",
              "    </tr>\n",
              "    <tr>\n",
              "      <th>2018</th>\n",
              "      <td>6.520561e+10</td>\n",
              "    </tr>\n",
              "    <tr>\n",
              "      <th>2019</th>\n",
              "      <td>7.212453e+10</td>\n",
              "    </tr>\n",
              "    <tr>\n",
              "      <th>2020</th>\n",
              "      <td>7.332733e+10</td>\n",
              "    </tr>\n",
              "    <tr>\n",
              "      <th>2021</th>\n",
              "      <td>7.665070e+10</td>\n",
              "    </tr>\n",
              "  </tbody>\n",
              "</table>\n",
              "</div>\n",
              "      <button class=\"colab-df-convert\" onclick=\"convertToInteractive('df-10dccbbf-108a-44d8-95c8-de3f13346e17')\"\n",
              "              title=\"Convert this dataframe to an interactive table.\"\n",
              "              style=\"display:none;\">\n",
              "        \n",
              "  <svg xmlns=\"http://www.w3.org/2000/svg\" height=\"24px\"viewBox=\"0 0 24 24\"\n",
              "       width=\"24px\">\n",
              "    <path d=\"M0 0h24v24H0V0z\" fill=\"none\"/>\n",
              "    <path d=\"M18.56 5.44l.94 2.06.94-2.06 2.06-.94-2.06-.94-.94-2.06-.94 2.06-2.06.94zm-11 1L8.5 8.5l.94-2.06 2.06-.94-2.06-.94L8.5 2.5l-.94 2.06-2.06.94zm10 10l.94 2.06.94-2.06 2.06-.94-2.06-.94-.94-2.06-.94 2.06-2.06.94z\"/><path d=\"M17.41 7.96l-1.37-1.37c-.4-.4-.92-.59-1.43-.59-.52 0-1.04.2-1.43.59L10.3 9.45l-7.72 7.72c-.78.78-.78 2.05 0 2.83L4 21.41c.39.39.9.59 1.41.59.51 0 1.02-.2 1.41-.59l7.78-7.78 2.81-2.81c.8-.78.8-2.07 0-2.86zM5.41 20L4 18.59l7.72-7.72 1.47 1.35L5.41 20z\"/>\n",
              "  </svg>\n",
              "      </button>\n",
              "      \n",
              "  <style>\n",
              "    .colab-df-container {\n",
              "      display:flex;\n",
              "      flex-wrap:wrap;\n",
              "      gap: 12px;\n",
              "    }\n",
              "\n",
              "    .colab-df-convert {\n",
              "      background-color: #E8F0FE;\n",
              "      border: none;\n",
              "      border-radius: 50%;\n",
              "      cursor: pointer;\n",
              "      display: none;\n",
              "      fill: #1967D2;\n",
              "      height: 32px;\n",
              "      padding: 0 0 0 0;\n",
              "      width: 32px;\n",
              "    }\n",
              "\n",
              "    .colab-df-convert:hover {\n",
              "      background-color: #E2EBFA;\n",
              "      box-shadow: 0px 1px 2px rgba(60, 64, 67, 0.3), 0px 1px 3px 1px rgba(60, 64, 67, 0.15);\n",
              "      fill: #174EA6;\n",
              "    }\n",
              "\n",
              "    [theme=dark] .colab-df-convert {\n",
              "      background-color: #3B4455;\n",
              "      fill: #D2E3FC;\n",
              "    }\n",
              "\n",
              "    [theme=dark] .colab-df-convert:hover {\n",
              "      background-color: #434B5C;\n",
              "      box-shadow: 0px 1px 3px 1px rgba(0, 0, 0, 0.15);\n",
              "      filter: drop-shadow(0px 1px 2px rgba(0, 0, 0, 0.3));\n",
              "      fill: #FFFFFF;\n",
              "    }\n",
              "  </style>\n",
              "\n",
              "      <script>\n",
              "        const buttonEl =\n",
              "          document.querySelector('#df-10dccbbf-108a-44d8-95c8-de3f13346e17 button.colab-df-convert');\n",
              "        buttonEl.style.display =\n",
              "          google.colab.kernel.accessAllowed ? 'block' : 'none';\n",
              "\n",
              "        async function convertToInteractive(key) {\n",
              "          const element = document.querySelector('#df-10dccbbf-108a-44d8-95c8-de3f13346e17');\n",
              "          const dataTable =\n",
              "            await google.colab.kernel.invokeFunction('convertToInteractive',\n",
              "                                                     [key], {});\n",
              "          if (!dataTable) return;\n",
              "\n",
              "          const docLinkHtml = 'Like what you see? Visit the ' +\n",
              "            '<a target=\"_blank\" href=https://colab.research.google.com/notebooks/data_table.ipynb>data table notebook</a>'\n",
              "            + ' to learn more about interactive tables.';\n",
              "          element.innerHTML = '';\n",
              "          dataTable['output_type'] = 'display_data';\n",
              "          await google.colab.output.renderOutput(dataTable, element);\n",
              "          const docLink = document.createElement('div');\n",
              "          docLink.innerHTML = docLinkHtml;\n",
              "          element.appendChild(docLink);\n",
              "        }\n",
              "      </script>\n",
              "    </div>\n",
              "  </div>\n",
              "  "
            ]
          },
          "metadata": {},
          "execution_count": 43
        }
      ]
    },
    {
      "cell_type": "code",
      "source": [
        "plt.figure(figsize=(10,6))\n",
        "'''\n",
        "Plotando o gráfico escolhendo o estilo de linha com linestyle e a expessura da mesma com linewidth\n",
        "'''\n",
        "plt.plot(serie, linestyle= '-', linewidth = 2, color = \"mediumblue\")\n",
        "'''\n",
        "Escolhendo o valor inicial e final do eixo y\n",
        "'''\n",
        "plt.ylim(0e9, 79e9)\n",
        "\n",
        "#plt.grid()\n",
        "\n",
        "'''\n",
        "Colocando pontos e legendas nos valores\n",
        "'''\n",
        "plt.scatter(serie.index, serie[0], label = \"Receitas Realizadas\", color = \"mediumblue\", marker = \".\", s =\n",
        "150)\n",
        "plt.legend()\n",
        "\n",
        "'''\n",
        "Rotulando os eixos y e x\n",
        "'''\n",
        "plt.ylabel('R$ Bilhões')\n",
        "plt.xlabel('Ano')\n",
        "\n",
        "'''\n",
        "Colocando os valores na notação cientifica de 10^9\n",
        "'''\n",
        "plt.ticklabel_format(style='sci',axis='y',scilimits=(9,9))\n",
        "\n",
        "plt.savefig('grafico1.png', transparent = True)\n",
        "\n"
      ],
      "metadata": {
        "colab": {
          "base_uri": "https://localhost:8080/",
          "height": 399
        },
        "id": "bknZzDOhruLo",
        "outputId": "203a4a4b-62f4-4b32-f511-1dcd5226e2de"
      },
      "execution_count": 44,
      "outputs": [
        {
          "output_type": "display_data",
          "data": {
            "text/plain": [
              "<Figure size 720x432 with 1 Axes>"
            ],
            "image/png": "[encoded data removed]"
          },
          "metadata": {
            "needs_background": "light"
          }
        }
      ]
    },
    {
      "cell_type": "markdown",
      "source": [
        "79.173.432.412,36\n",
        "Bilhões"
      ],
      "metadata": {
        "id": "Niw3ydXCJiaF"
      }
    },
    {
      "cell_type": "markdown",
      "source": [
        "7.2 Evolução da receita por categoria"
      ],
      "metadata": {
        "id": "3azKoMFnbtDl"
      }
    },
    {
      "cell_type": "code",
      "source": [
        "serie_credito= {}\n",
        "serie_corrente= {}\n",
        "serie_capital= {}\n",
        "serie_saldos = {}\n",
        "for year in years:\n",
        "  #c_serie[year] = round(c_realizada[year], 2)\n",
        "  serie_credito[year]=   realizada[year]['Receitas_Realizadas'][0]\n",
        "  serie_corrente[year]=   realizada[year]['Receitas_Realizadas'][1]\n",
        "  serie_capital[year]=   realizada[year]['Receitas_Realizadas'][2]\n",
        "  serie_saldos[year] =   realizada[year]['Receitas_Realizadas'][3]\n",
        "\n"
      ],
      "metadata": {
        "id": "8Cmgxtz-wzlA"
      },
      "execution_count": 45,
      "outputs": []
    },
    {
      "cell_type": "code",
      "source": [
        "  serie_credito=   pd.DataFrame([serie_credito])\n",
        "  serie_corrente=   pd.DataFrame([serie_corrente])\n",
        "  serie_capital=   pd.DataFrame([serie_capital])\n",
        "  serie_saldos =   pd.DataFrame([serie_saldos])\n"
      ],
      "metadata": {
        "id": "3zIyUTuf0Ybr"
      },
      "execution_count": 46,
      "outputs": []
    },
    {
      "cell_type": "code",
      "source": [
        "  serie_credito=   serie_credito.T\n",
        "  serie_corrente=   serie_corrente.T\n",
        "  serie_capital=   serie_capital.T\n",
        "  serie_saldos =   serie_saldos.T\n",
        "  \n",
        "  \n",
        "  \n",
        "  "
      ],
      "metadata": {
        "id": "Dvz1fCR95cEg"
      },
      "execution_count": 47,
      "outputs": []
    },
    {
      "cell_type": "code",
      "source": [
        "serie_saldos.head()"
      ],
      "metadata": {
        "colab": {
          "base_uri": "https://localhost:8080/",
          "height": 206
        },
        "id": "kBrS2cd2020t",
        "outputId": "168385dd-90b3-4acb-deff-0266cee44ef2"
      },
      "execution_count": 48,
      "outputs": [
        {
          "output_type": "execute_result",
          "data": {
            "text/plain": [
              "                 0\n",
              "2017  2.023454e+08\n",
              "2018  1.546738e+08\n",
              "2019  2.140512e+09\n",
              "2020  2.279084e+09\n",
              "2021  6.553710e+09"
            ],
            "text/html": [
              "\n",
              "  <div id=\"df-7f489dcd-c508-4a85-b7cb-38caf0bcf711\">\n",
              "    <div class=\"colab-df-container\">\n",
              "      <div>\n",
              "<style scoped>\n",
              "    .dataframe tbody tr th:only-of-type {\n",
              "        vertical-align: middle;\n",
              "    }\n",
              "\n",
              "    .dataframe tbody tr th {\n",
              "        vertical-align: top;\n",
              "    }\n",
              "\n",
              "    .dataframe thead th {\n",
              "        text-align: right;\n",
              "    }\n",
              "</style>\n",
              "<table border=\"1\" class=\"dataframe\">\n",
              "  <thead>\n",
              "    <tr style=\"text-align: right;\">\n",
              "      <th></th>\n",
              "      <th>0</th>\n",
              "    </tr>\n",
              "  </thead>\n",
              "  <tbody>\n",
              "    <tr>\n",
              "      <th>2017</th>\n",
              "      <td>2.023454e+08</td>\n",
              "    </tr>\n",
              "    <tr>\n",
              "      <th>2018</th>\n",
              "      <td>1.546738e+08</td>\n",
              "    </tr>\n",
              "    <tr>\n",
              "      <th>2019</th>\n",
              "      <td>2.140512e+09</td>\n",
              "    </tr>\n",
              "    <tr>\n",
              "      <th>2020</th>\n",
              "      <td>2.279084e+09</td>\n",
              "    </tr>\n",
              "    <tr>\n",
              "      <th>2021</th>\n",
              "      <td>6.553710e+09</td>\n",
              "    </tr>\n",
              "  </tbody>\n",
              "</table>\n",
              "</div>\n",
              "      <button class=\"colab-df-convert\" onclick=\"convertToInteractive('df-7f489dcd-c508-4a85-b7cb-38caf0bcf711')\"\n",
              "              title=\"Convert this dataframe to an interactive table.\"\n",
              "              style=\"display:none;\">\n",
              "        \n",
              "  <svg xmlns=\"http://www.w3.org/2000/svg\" height=\"24px\"viewBox=\"0 0 24 24\"\n",
              "       width=\"24px\">\n",
              "    <path d=\"M0 0h24v24H0V0z\" fill=\"none\"/>\n",
              "    <path d=\"M18.56 5.44l.94 2.06.94-2.06 2.06-.94-2.06-.94-.94-2.06-.94 2.06-2.06.94zm-11 1L8.5 8.5l.94-2.06 2.06-.94-2.06-.94L8.5 2.5l-.94 2.06-2.06.94zm10 10l.94 2.06.94-2.06 2.06-.94-2.06-.94-.94-2.06-.94 2.06-2.06.94z\"/><path d=\"M17.41 7.96l-1.37-1.37c-.4-.4-.92-.59-1.43-.59-.52 0-1.04.2-1.43.59L10.3 9.45l-7.72 7.72c-.78.78-.78 2.05 0 2.83L4 21.41c.39.39.9.59 1.41.59.51 0 1.02-.2 1.41-.59l7.78-7.78 2.81-2.81c.8-.78.8-2.07 0-2.86zM5.41 20L4 18.59l7.72-7.72 1.47 1.35L5.41 20z\"/>\n",
              "  </svg>\n",
              "      </button>\n",
              "      \n",
              "  <style>\n",
              "    .colab-df-container {\n",
              "      display:flex;\n",
              "      flex-wrap:wrap;\n",
              "      gap: 12px;\n",
              "    }\n",
              "\n",
              "    .colab-df-convert {\n",
              "      background-color: #E8F0FE;\n",
              "      border: none;\n",
              "      border-radius: 50%;\n",
              "      cursor: pointer;\n",
              "      display: none;\n",
              "      fill: #1967D2;\n",
              "      height: 32px;\n",
              "      padding: 0 0 0 0;\n",
              "      width: 32px;\n",
              "    }\n",
              "\n",
              "    .colab-df-convert:hover {\n",
              "      background-color: #E2EBFA;\n",
              "      box-shadow: 0px 1px 2px rgba(60, 64, 67, 0.3), 0px 1px 3px 1px rgba(60, 64, 67, 0.15);\n",
              "      fill: #174EA6;\n",
              "    }\n",
              "\n",
              "    [theme=dark] .colab-df-convert {\n",
              "      background-color: #3B4455;\n",
              "      fill: #D2E3FC;\n",
              "    }\n",
              "\n",
              "    [theme=dark] .colab-df-convert:hover {\n",
              "      background-color: #434B5C;\n",
              "      box-shadow: 0px 1px 3px 1px rgba(0, 0, 0, 0.15);\n",
              "      filter: drop-shadow(0px 1px 2px rgba(0, 0, 0, 0.3));\n",
              "      fill: #FFFFFF;\n",
              "    }\n",
              "  </style>\n",
              "\n",
              "      <script>\n",
              "        const buttonEl =\n",
              "          document.querySelector('#df-7f489dcd-c508-4a85-b7cb-38caf0bcf711 button.colab-df-convert');\n",
              "        buttonEl.style.display =\n",
              "          google.colab.kernel.accessAllowed ? 'block' : 'none';\n",
              "\n",
              "        async function convertToInteractive(key) {\n",
              "          const element = document.querySelector('#df-7f489dcd-c508-4a85-b7cb-38caf0bcf711');\n",
              "          const dataTable =\n",
              "            await google.colab.kernel.invokeFunction('convertToInteractive',\n",
              "                                                     [key], {});\n",
              "          if (!dataTable) return;\n",
              "\n",
              "          const docLinkHtml = 'Like what you see? Visit the ' +\n",
              "            '<a target=\"_blank\" href=https://colab.research.google.com/notebooks/data_table.ipynb>data table notebook</a>'\n",
              "            + ' to learn more about interactive tables.';\n",
              "          element.innerHTML = '';\n",
              "          dataTable['output_type'] = 'display_data';\n",
              "          await google.colab.output.renderOutput(dataTable, element);\n",
              "          const docLink = document.createElement('div');\n",
              "          docLink.innerHTML = docLinkHtml;\n",
              "          element.appendChild(docLink);\n",
              "        }\n",
              "      </script>\n",
              "    </div>\n",
              "  </div>\n",
              "  "
            ]
          },
          "metadata": {},
          "execution_count": 48
        }
      ]
    },
    {
      "cell_type": "code",
      "source": [
        "realizada['2021']['Receitas_Realizadas'][:]"
      ],
      "metadata": {
        "colab": {
          "base_uri": "https://localhost:8080/"
        },
        "id": "WBEgp2l1GVOV",
        "outputId": "9d1e4502-41a8-4cf7-cd18-a9eb11444cea"
      },
      "execution_count": 49,
      "outputs": [
        {
          "output_type": "execute_result",
          "data": {
            "text/plain": [
              "0    0.000000e+00\n",
              "1    7.308958e+10\n",
              "2    3.561113e+09\n",
              "3    6.553710e+09\n",
              "Name: Receitas_Realizadas, dtype: float64"
            ]
          },
          "metadata": {},
          "execution_count": 49
        }
      ]
    },
    {
      "cell_type": "code",
      "source": [
        "'''\n",
        "parameters = {'xtick.labelsize': 18,\n",
        "          'ytick.labelsize': 18,\n",
        "          'axes.labelsize': 18,\n",
        "          'axes.titlesize': 20}\n",
        "plt.rcParams.update(parameters)\n",
        "'''\n",
        "fig1, f1_axes = plt.subplots(ncols=2, nrows=2, figsize = (24,19))\n",
        "fig1.suptitle(\"Receitas por categoria\", size=24)\n",
        "\n",
        "f1_axes[0,0].set_ylim(0, 75e9)\n",
        "f1_axes[0,1].set_ylim(0e9, 75e9)\n",
        "f1_axes[1,0].set_ylim(0, 75e9)\n",
        "f1_axes[1,1].set_ylim(0, 75e9)\n",
        "\n",
        "f1_axes[0,0].plot(serie_credito, linestyle= '-', linewidth = 9, color = 'red')\n",
        "f1_axes[0,1].plot(serie_corrente, linestyle= '-', linewidth = 2, color = \"mediumblue\")\n",
        "f1_axes[1,0].plot(serie_capital, linestyle= '-', linewidth = 2, color = \"mediumblue\")\n",
        "f1_axes[1,1].plot(serie_saldos, linestyle= '-', linewidth = 2, color = \"mediumblue\")\n",
        "\n",
        "f1_axes[0,0].set_title('Operações de Crédito')\n",
        "f1_axes[0,1].set_title('Receitas Correntes')\n",
        "f1_axes[1,0].set_title('Receitas de Capital')\n",
        "f1_axes[1,1].set_title('Saldos de Exercícios Anteriores')\n",
        "\n",
        "f1_axes[0,0].set_xlabel('Ano')\n",
        "f1_axes[0,1].set_xlabel('Ano')\n",
        "f1_axes[1,0].set_xlabel('Ano')\n",
        "f1_axes[1,1].set_xlabel('Ano')\n",
        "\n",
        "f1_axes[0,0].set_ylabel('R$ Bilhões')\n",
        "f1_axes[0,1].set_ylabel('R$ Bilhões')\n",
        "f1_axes[1,0].set_ylabel('R$ Bilhões')\n",
        "f1_axes[1,1].set_ylabel('R$ Bilhões')\n",
        "\n",
        "f1_axes[0,0].axis(ymin=0,ymax=10)\n",
        "#f1_axes[0,0].ticklabel_format(style='sci', axis='y', scilimits=(9,9))\n",
        "f1_axes[0,1].ticklabel_format(style='sci', axis='y',scilimits=(9,9))\n",
        "f1_axes[1,0].ticklabel_format(style='sci', axis='y',scilimits=(9,9))\n",
        "f1_axes[1,1].ticklabel_format(style='sci', axis='y',scilimits=(9,9))\n",
        "\n",
        "#f1_axes[0,0].axis(ymin=0,ymax=72000000000)\n",
        "\n",
        "f1_axes[0,0].scatter(serie_credito.index, serie_credito[0], color = \"mediumblue\", marker = \".\", s =\n",
        "150)\n",
        "f1_axes[0,1].scatter(serie_corrente.index, serie_corrente[0], color = \"mediumblue\", marker = \".\", s =\n",
        "150)\n",
        "f1_axes[1,0].scatter(serie_capital.index, serie_capital[0], color = \"mediumblue\", marker = \".\", s =\n",
        "150)\n",
        "f1_axes[1,1].scatter(serie_saldos.index, serie_saldos[0], color = \"mediumblue\", marker = \".\", s =\n",
        "150)\n",
        "\n",
        "\n",
        "\n",
        "\n",
        "plt.savefig('grafico2.png', transparent = True)"
      ],
      "metadata": {
        "colab": {
          "base_uri": "https://localhost:8080/",
          "height": 1000
        },
        "id": "RZTrKRvCvw9s",
        "outputId": "28a3417a-91da-40e0-c955-81c1f12ade6f"
      },
      "execution_count": 85,
      "outputs": [
        {
          "output_type": "display_data",
          "data": {
            "text/plain": [
              "<Figure size 1728x1368 with 4 Axes>"
            ],
            "image/png": "[encoded data removed]"
          },
          "metadata": {
            "needs_background": "light"
          }
        }
      ]
    },
    {
      "cell_type": "markdown",
      "source": [
        "7.3 "
      ],
      "metadata": {
        "id": "o1Sm67smbzA7"
      }
    },
    {
      "cell_type": "code",
      "source": [
        "'''\n",
        "Formando um dataframe com as receitas realizadas de todos os anos linha a linha\n",
        "'''\n",
        "df_total = pd.concat([df['2017']['Categoria'], df['2017']['Receitas_Realizadas']], axis=1, ignore_index=True)\n",
        "df_total = pd.concat([df_total, df['2018']['Receitas_Realizadas']], axis=1, ignore_index=True)\n",
        "df_total = pd.concat([df_total, df['2019']['Receitas_Realizadas']], axis=1, ignore_index=True)\n",
        "df_total = pd.concat([df_total, df['2020']['Receitas_Realizadas']], axis=1, ignore_index=True)\n",
        "df_total = pd.concat([df_total, df['2021']['Receitas_Realizadas']], axis=1, ignore_index=True)\n",
        "df_total.columns = ['Categoria', '2017', '2018', '2019', '2020', '2021']"
      ],
      "metadata": {
        "id": "_u5VaHiEw7kD"
      },
      "execution_count": 51,
      "outputs": []
    },
    {
      "cell_type": "code",
      "source": [
        "df_total"
      ],
      "metadata": {
        "colab": {
          "base_uri": "https://localhost:8080/",
          "height": 752
        },
        "id": "9kbrxu-RwGGS",
        "outputId": "52541c70-b29c-4411-ca46-06973440a93c"
      },
      "execution_count": 52,
      "outputs": [
        {
          "output_type": "execute_result",
          "data": {
            "text/plain": [
              "                                                          Categoria  \\\n",
              "RECEITAS ORÇAMENTÁRIAS                                                \n",
              "RECEITA TRIBUTÁRIA                                RECEITAS CORRENTE   \n",
              "RECEITA DE CONTRIBUIÇÕES                          RECEITAS CORRENTE   \n",
              "RECEITA PATRIMONIAL                               RECEITAS CORRENTE   \n",
              "RECEITA AGROPECUÁRIA                              RECEITAS CORRENTE   \n",
              "RECEITA INDUSTRIAL                                RECEITAS CORRENTE   \n",
              "RECEITA DE SERVIÇOS                               RECEITAS CORRENTE   \n",
              "TRANSFERÊNCIAS CORRENTES                          RECEITAS CORRENTE   \n",
              "OUTRAS RECEITAS CORRENTES                         RECEITAS CORRENTE   \n",
              "OPERAÇÕES DE CRÉDITO                            RECEITAS DE CAPITAL   \n",
              "ALIENAÇÃO DE BENS                               RECEITAS DE CAPITAL   \n",
              "AMORTIZAÇÕES DE EMPRÉSTIMOS                     RECEITAS DE CAPITAL   \n",
              "TRANSFERÊNCIAS DE CAPITAL                       RECEITAS DE CAPITAL   \n",
              "OUTRAS RECEITAS DE CAPITAL                      RECEITAS DE CAPITAL   \n",
              "OPERAÇÕES DE CRÉDITO INTERNAS                  OPERAÇÕES DE CRÉDITO   \n",
              "MOBILIÁRIA                                     OPERAÇÕES DE CRÉDITO   \n",
              "CONTRATUAL                                     OPERAÇÕES DE CRÉDITO   \n",
              "OPERAÇÕES DE CRÉDITO EXTERNAS                  OPERAÇÕES DE CRÉDITO   \n",
              "RECURSOS ARRECADADOS EM EXERCÍCIOS ANTERIORES     SALDOS ANTERIORES   \n",
              "SUPERAVIT FINANCEIRO                              SALDOS ANTERIORES   \n",
              "REABERTURA DE CRÉDITOS ADICIONAIS                 SALDOS ANTERIORES   \n",
              "\n",
              "                                                       2017          2018  \\\n",
              "RECEITAS ORÇAMENTÁRIAS                                                      \n",
              "RECEITA TRIBUTÁRIA                             3.165459e+10  3.566721e+10   \n",
              "RECEITA DE CONTRIBUIÇÕES                       4.651160e+09  4.736998e+09   \n",
              "RECEITA PATRIMONIAL                            1.226195e+09  9.271229e+08   \n",
              "RECEITA AGROPECUÁRIA                           0.000000e+00  0.000000e+00   \n",
              "RECEITA INDUSTRIAL                             0.000000e+00  0.000000e+00   \n",
              "RECEITA DE SERVIÇOS                            6.781334e+08  3.090118e+08   \n",
              "TRANSFERÊNCIAS CORRENTES                       1.750966e+10  1.821181e+10   \n",
              "OUTRAS RECEITAS CORRENTES                      7.126218e+09  3.033289e+09   \n",
              "OPERAÇÕES DE CRÉDITO                           5.508162e+07  1.786037e+08   \n",
              "ALIENAÇÃO DE BENS                              2.851099e+07  2.691381e+07   \n",
              "AMORTIZAÇÕES DE EMPRÉSTIMOS                    2.767711e+07  2.809988e+07   \n",
              "TRANSFERÊNCIAS DE CAPITAL                      7.961880e+08  8.565466e+08   \n",
              "OUTRAS RECEITAS DE CAPITAL                     4.390146e+08  1.230003e+09   \n",
              "OPERAÇÕES DE CRÉDITO INTERNAS                  0.000000e+00  0.000000e+00   \n",
              "MOBILIÁRIA                                     0.000000e+00  0.000000e+00   \n",
              "CONTRATUAL                                     0.000000e+00  0.000000e+00   \n",
              "OPERAÇÕES DE CRÉDITO EXTERNAS                  0.000000e+00  0.000000e+00   \n",
              "RECURSOS ARRECADADOS EM EXERCÍCIOS ANTERIORES  0.000000e+00  0.000000e+00   \n",
              "SUPERAVIT FINANCEIRO                           2.023454e+08  1.546738e+08   \n",
              "REABERTURA DE CRÉDITOS ADICIONAIS              0.000000e+00  0.000000e+00   \n",
              "\n",
              "                                                       2019          2020  \\\n",
              "RECEITAS ORÇAMENTÁRIAS                                                      \n",
              "RECEITA TRIBUTÁRIA                             3.888067e+10  3.888822e+10   \n",
              "RECEITA DE CONTRIBUIÇÕES                       5.728853e+09  5.686587e+09   \n",
              "RECEITA PATRIMONIAL                            1.396119e+09  2.735958e+09   \n",
              "RECEITA AGROPECUÁRIA                           0.000000e+00  0.000000e+00   \n",
              "RECEITA INDUSTRIAL                             0.000000e+00  0.000000e+00   \n",
              "RECEITA DE SERVIÇOS                            2.893740e+08  4.996831e+08   \n",
              "TRANSFERÊNCIAS CORRENTES                       1.880227e+10  2.078308e+10   \n",
              "OUTRAS RECEITAS CORRENTES                      2.407117e+09  1.709026e+09   \n",
              "OPERAÇÕES DE CRÉDITO                           3.347870e+08  5.612165e+08   \n",
              "ALIENAÇÃO DE BENS                              3.482471e+07  5.532504e+07   \n",
              "AMORTIZAÇÕES DE EMPRÉSTIMOS                    2.644835e+07  2.255168e+07   \n",
              "TRANSFERÊNCIAS DE CAPITAL                      6.887996e+08  8.269763e+08   \n",
              "OUTRAS RECEITAS DE CAPITAL                     3.535266e+09  1.558709e+09   \n",
              "OPERAÇÕES DE CRÉDITO INTERNAS                  0.000000e+00  0.000000e+00   \n",
              "MOBILIÁRIA                                     0.000000e+00  0.000000e+00   \n",
              "CONTRATUAL                                     0.000000e+00  0.000000e+00   \n",
              "OPERAÇÕES DE CRÉDITO EXTERNAS                  0.000000e+00  0.000000e+00   \n",
              "RECURSOS ARRECADADOS EM EXERCÍCIOS ANTERIORES  0.000000e+00  0.000000e+00   \n",
              "SUPERAVIT FINANCEIRO                           2.140512e+09  2.279084e+09   \n",
              "REABERTURA DE CRÉDITOS ADICIONAIS              0.000000e+00  0.000000e+00   \n",
              "\n",
              "                                                       2021  \n",
              "RECEITAS ORÇAMENTÁRIAS                                       \n",
              "RECEITA TRIBUTÁRIA                             4.377135e+10  \n",
              "RECEITA DE CONTRIBUIÇÕES                       5.149676e+09  \n",
              "RECEITA PATRIMONIAL                            1.716641e+09  \n",
              "RECEITA AGROPECUÁRIA                           0.000000e+00  \n",
              "RECEITA INDUSTRIAL                             0.000000e+00  \n",
              "RECEITA DE SERVIÇOS                            2.897719e+08  \n",
              "TRANSFERÊNCIAS CORRENTES                       2.034601e+10  \n",
              "OUTRAS RECEITAS CORRENTES                      1.816134e+09  \n",
              "OPERAÇÕES DE CRÉDITO                           1.221780e+08  \n",
              "ALIENAÇÃO DE BENS                              9.821570e+07  \n",
              "AMORTIZAÇÕES DE EMPRÉSTIMOS                    2.144332e+07  \n",
              "TRANSFERÊNCIAS DE CAPITAL                      6.571330e+08  \n",
              "OUTRAS RECEITAS DE CAPITAL                     2.662143e+09  \n",
              "OPERAÇÕES DE CRÉDITO INTERNAS                  0.000000e+00  \n",
              "MOBILIÁRIA                                     0.000000e+00  \n",
              "CONTRATUAL                                     0.000000e+00  \n",
              "OPERAÇÕES DE CRÉDITO EXTERNAS                  0.000000e+00  \n",
              "RECURSOS ARRECADADOS EM EXERCÍCIOS ANTERIORES  0.000000e+00  \n",
              "SUPERAVIT FINANCEIRO                           6.553710e+09  \n",
              "REABERTURA DE CRÉDITOS ADICIONAIS              0.000000e+00  "
            ],
            "text/html": [
              "\n",
              "  <div id=\"df-21549394-3c97-4146-9303-96921bb8e28f\">\n",
              "    <div class=\"colab-df-container\">\n",
              "      <div>\n",
              "<style scoped>\n",
              "    .dataframe tbody tr th:only-of-type {\n",
              "        vertical-align: middle;\n",
              "    }\n",
              "\n",
              "    .dataframe tbody tr th {\n",
              "        vertical-align: top;\n",
              "    }\n",
              "\n",
              "    .dataframe thead th {\n",
              "        text-align: right;\n",
              "    }\n",
              "</style>\n",
              "<table border=\"1\" class=\"dataframe\">\n",
              "  <thead>\n",
              "    <tr style=\"text-align: right;\">\n",
              "      <th></th>\n",
              "      <th>Categoria</th>\n",
              "      <th>2017</th>\n",
              "      <th>2018</th>\n",
              "      <th>2019</th>\n",
              "      <th>2020</th>\n",
              "      <th>2021</th>\n",
              "    </tr>\n",
              "    <tr>\n",
              "      <th>RECEITAS ORÇAMENTÁRIAS</th>\n",
              "      <th></th>\n",
              "      <th></th>\n",
              "      <th></th>\n",
              "      <th></th>\n",
              "      <th></th>\n",
              "      <th></th>\n",
              "    </tr>\n",
              "  </thead>\n",
              "  <tbody>\n",
              "    <tr>\n",
              "      <th>RECEITA TRIBUTÁRIA</th>\n",
              "      <td>RECEITAS CORRENTE</td>\n",
              "      <td>3.165459e+10</td>\n",
              "      <td>3.566721e+10</td>\n",
              "      <td>3.888067e+10</td>\n",
              "      <td>3.888822e+10</td>\n",
              "      <td>4.377135e+10</td>\n",
              "    </tr>\n",
              "    <tr>\n",
              "      <th>RECEITA DE CONTRIBUIÇÕES</th>\n",
              "      <td>RECEITAS CORRENTE</td>\n",
              "      <td>4.651160e+09</td>\n",
              "      <td>4.736998e+09</td>\n",
              "      <td>5.728853e+09</td>\n",
              "      <td>5.686587e+09</td>\n",
              "      <td>5.149676e+09</td>\n",
              "    </tr>\n",
              "    <tr>\n",
              "      <th>RECEITA PATRIMONIAL</th>\n",
              "      <td>RECEITAS CORRENTE</td>\n",
              "      <td>1.226195e+09</td>\n",
              "      <td>9.271229e+08</td>\n",
              "      <td>1.396119e+09</td>\n",
              "      <td>2.735958e+09</td>\n",
              "      <td>1.716641e+09</td>\n",
              "    </tr>\n",
              "    <tr>\n",
              "      <th>RECEITA AGROPECUÁRIA</th>\n",
              "      <td>RECEITAS CORRENTE</td>\n",
              "      <td>0.000000e+00</td>\n",
              "      <td>0.000000e+00</td>\n",
              "      <td>0.000000e+00</td>\n",
              "      <td>0.000000e+00</td>\n",
              "      <td>0.000000e+00</td>\n",
              "    </tr>\n",
              "    <tr>\n",
              "      <th>RECEITA INDUSTRIAL</th>\n",
              "      <td>RECEITAS CORRENTE</td>\n",
              "      <td>0.000000e+00</td>\n",
              "      <td>0.000000e+00</td>\n",
              "      <td>0.000000e+00</td>\n",
              "      <td>0.000000e+00</td>\n",
              "      <td>0.000000e+00</td>\n",
              "    </tr>\n",
              "    <tr>\n",
              "      <th>RECEITA DE SERVIÇOS</th>\n",
              "      <td>RECEITAS CORRENTE</td>\n",
              "      <td>6.781334e+08</td>\n",
              "      <td>3.090118e+08</td>\n",
              "      <td>2.893740e+08</td>\n",
              "      <td>4.996831e+08</td>\n",
              "      <td>2.897719e+08</td>\n",
              "    </tr>\n",
              "    <tr>\n",
              "      <th>TRANSFERÊNCIAS CORRENTES</th>\n",
              "      <td>RECEITAS CORRENTE</td>\n",
              "      <td>1.750966e+10</td>\n",
              "      <td>1.821181e+10</td>\n",
              "      <td>1.880227e+10</td>\n",
              "      <td>2.078308e+10</td>\n",
              "      <td>2.034601e+10</td>\n",
              "    </tr>\n",
              "    <tr>\n",
              "      <th>OUTRAS RECEITAS CORRENTES</th>\n",
              "      <td>RECEITAS CORRENTE</td>\n",
              "      <td>7.126218e+09</td>\n",
              "      <td>3.033289e+09</td>\n",
              "      <td>2.407117e+09</td>\n",
              "      <td>1.709026e+09</td>\n",
              "      <td>1.816134e+09</td>\n",
              "    </tr>\n",
              "    <tr>\n",
              "      <th>OPERAÇÕES DE CRÉDITO</th>\n",
              "      <td>RECEITAS DE CAPITAL</td>\n",
              "      <td>5.508162e+07</td>\n",
              "      <td>1.786037e+08</td>\n",
              "      <td>3.347870e+08</td>\n",
              "      <td>5.612165e+08</td>\n",
              "      <td>1.221780e+08</td>\n",
              "    </tr>\n",
              "    <tr>\n",
              "      <th>ALIENAÇÃO DE BENS</th>\n",
              "      <td>RECEITAS DE CAPITAL</td>\n",
              "      <td>2.851099e+07</td>\n",
              "      <td>2.691381e+07</td>\n",
              "      <td>3.482471e+07</td>\n",
              "      <td>5.532504e+07</td>\n",
              "      <td>9.821570e+07</td>\n",
              "    </tr>\n",
              "    <tr>\n",
              "      <th>AMORTIZAÇÕES DE EMPRÉSTIMOS</th>\n",
              "      <td>RECEITAS DE CAPITAL</td>\n",
              "      <td>2.767711e+07</td>\n",
              "      <td>2.809988e+07</td>\n",
              "      <td>2.644835e+07</td>\n",
              "      <td>2.255168e+07</td>\n",
              "      <td>2.144332e+07</td>\n",
              "    </tr>\n",
              "    <tr>\n",
              "      <th>TRANSFERÊNCIAS DE CAPITAL</th>\n",
              "      <td>RECEITAS DE CAPITAL</td>\n",
              "      <td>7.961880e+08</td>\n",
              "      <td>8.565466e+08</td>\n",
              "      <td>6.887996e+08</td>\n",
              "      <td>8.269763e+08</td>\n",
              "      <td>6.571330e+08</td>\n",
              "    </tr>\n",
              "    <tr>\n",
              "      <th>OUTRAS RECEITAS DE CAPITAL</th>\n",
              "      <td>RECEITAS DE CAPITAL</td>\n",
              "      <td>4.390146e+08</td>\n",
              "      <td>1.230003e+09</td>\n",
              "      <td>3.535266e+09</td>\n",
              "      <td>1.558709e+09</td>\n",
              "      <td>2.662143e+09</td>\n",
              "    </tr>\n",
              "    <tr>\n",
              "      <th>OPERAÇÕES DE CRÉDITO INTERNAS</th>\n",
              "      <td>OPERAÇÕES DE CRÉDITO</td>\n",
              "      <td>0.000000e+00</td>\n",
              "      <td>0.000000e+00</td>\n",
              "      <td>0.000000e+00</td>\n",
              "      <td>0.000000e+00</td>\n",
              "      <td>0.000000e+00</td>\n",
              "    </tr>\n",
              "    <tr>\n",
              "      <th>MOBILIÁRIA</th>\n",
              "      <td>OPERAÇÕES DE CRÉDITO</td>\n",
              "      <td>0.000000e+00</td>\n",
              "      <td>0.000000e+00</td>\n",
              "      <td>0.000000e+00</td>\n",
              "      <td>0.000000e+00</td>\n",
              "      <td>0.000000e+00</td>\n",
              "    </tr>\n",
              "    <tr>\n",
              "      <th>CONTRATUAL</th>\n",
              "      <td>OPERAÇÕES DE CRÉDITO</td>\n",
              "      <td>0.000000e+00</td>\n",
              "      <td>0.000000e+00</td>\n",
              "      <td>0.000000e+00</td>\n",
              "      <td>0.000000e+00</td>\n",
              "      <td>0.000000e+00</td>\n",
              "    </tr>\n",
              "    <tr>\n",
              "      <th>OPERAÇÕES DE CRÉDITO EXTERNAS</th>\n",
              "      <td>OPERAÇÕES DE CRÉDITO</td>\n",
              "      <td>0.000000e+00</td>\n",
              "      <td>0.000000e+00</td>\n",
              "      <td>0.000000e+00</td>\n",
              "      <td>0.000000e+00</td>\n",
              "      <td>0.000000e+00</td>\n",
              "    </tr>\n",
              "    <tr>\n",
              "      <th>RECURSOS ARRECADADOS EM EXERCÍCIOS ANTERIORES</th>\n",
              "      <td>SALDOS ANTERIORES</td>\n",
              "      <td>0.000000e+00</td>\n",
              "      <td>0.000000e+00</td>\n",
              "      <td>0.000000e+00</td>\n",
              "      <td>0.000000e+00</td>\n",
              "      <td>0.000000e+00</td>\n",
              "    </tr>\n",
              "    <tr>\n",
              "      <th>SUPERAVIT FINANCEIRO</th>\n",
              "      <td>SALDOS ANTERIORES</td>\n",
              "      <td>2.023454e+08</td>\n",
              "      <td>1.546738e+08</td>\n",
              "      <td>2.140512e+09</td>\n",
              "      <td>2.279084e+09</td>\n",
              "      <td>6.553710e+09</td>\n",
              "    </tr>\n",
              "    <tr>\n",
              "      <th>REABERTURA DE CRÉDITOS ADICIONAIS</th>\n",
              "      <td>SALDOS ANTERIORES</td>\n",
              "      <td>0.000000e+00</td>\n",
              "      <td>0.000000e+00</td>\n",
              "      <td>0.000000e+00</td>\n",
              "      <td>0.000000e+00</td>\n",
              "      <td>0.000000e+00</td>\n",
              "    </tr>\n",
              "  </tbody>\n",
              "</table>\n",
              "</div>\n",
              "      <button class=\"colab-df-convert\" onclick=\"convertToInteractive('df-21549394-3c97-4146-9303-96921bb8e28f')\"\n",
              "              title=\"Convert this dataframe to an interactive table.\"\n",
              "              style=\"display:none;\">\n",
              "        \n",
              "  <svg xmlns=\"http://www.w3.org/2000/svg\" height=\"24px\"viewBox=\"0 0 24 24\"\n",
              "       width=\"24px\">\n",
              "    <path d=\"M0 0h24v24H0V0z\" fill=\"none\"/>\n",
              "    <path d=\"M18.56 5.44l.94 2.06.94-2.06 2.06-.94-2.06-.94-.94-2.06-.94 2.06-2.06.94zm-11 1L8.5 8.5l.94-2.06 2.06-.94-2.06-.94L8.5 2.5l-.94 2.06-2.06.94zm10 10l.94 2.06.94-2.06 2.06-.94-2.06-.94-.94-2.06-.94 2.06-2.06.94z\"/><path d=\"M17.41 7.96l-1.37-1.37c-.4-.4-.92-.59-1.43-.59-.52 0-1.04.2-1.43.59L10.3 9.45l-7.72 7.72c-.78.78-.78 2.05 0 2.83L4 21.41c.39.39.9.59 1.41.59.51 0 1.02-.2 1.41-.59l7.78-7.78 2.81-2.81c.8-.78.8-2.07 0-2.86zM5.41 20L4 18.59l7.72-7.72 1.47 1.35L5.41 20z\"/>\n",
              "  </svg>\n",
              "      </button>\n",
              "      \n",
              "  <style>\n",
              "    .colab-df-container {\n",
              "      display:flex;\n",
              "      flex-wrap:wrap;\n",
              "      gap: 12px;\n",
              "    }\n",
              "\n",
              "    .colab-df-convert {\n",
              "      background-color: #E8F0FE;\n",
              "      border: none;\n",
              "      border-radius: 50%;\n",
              "      cursor: pointer;\n",
              "      display: none;\n",
              "      fill: #1967D2;\n",
              "      height: 32px;\n",
              "      padding: 0 0 0 0;\n",
              "      width: 32px;\n",
              "    }\n",
              "\n",
              "    .colab-df-convert:hover {\n",
              "      background-color: #E2EBFA;\n",
              "      box-shadow: 0px 1px 2px rgba(60, 64, 67, 0.3), 0px 1px 3px 1px rgba(60, 64, 67, 0.15);\n",
              "      fill: #174EA6;\n",
              "    }\n",
              "\n",
              "    [theme=dark] .colab-df-convert {\n",
              "      background-color: #3B4455;\n",
              "      fill: #D2E3FC;\n",
              "    }\n",
              "\n",
              "    [theme=dark] .colab-df-convert:hover {\n",
              "      background-color: #434B5C;\n",
              "      box-shadow: 0px 1px 3px 1px rgba(0, 0, 0, 0.15);\n",
              "      filter: drop-shadow(0px 1px 2px rgba(0, 0, 0, 0.3));\n",
              "      fill: #FFFFFF;\n",
              "    }\n",
              "  </style>\n",
              "\n",
              "      <script>\n",
              "        const buttonEl =\n",
              "          document.querySelector('#df-21549394-3c97-4146-9303-96921bb8e28f button.colab-df-convert');\n",
              "        buttonEl.style.display =\n",
              "          google.colab.kernel.accessAllowed ? 'block' : 'none';\n",
              "\n",
              "        async function convertToInteractive(key) {\n",
              "          const element = document.querySelector('#df-21549394-3c97-4146-9303-96921bb8e28f');\n",
              "          const dataTable =\n",
              "            await google.colab.kernel.invokeFunction('convertToInteractive',\n",
              "                                                     [key], {});\n",
              "          if (!dataTable) return;\n",
              "\n",
              "          const docLinkHtml = 'Like what you see? Visit the ' +\n",
              "            '<a target=\"_blank\" href=https://colab.research.google.com/notebooks/data_table.ipynb>data table notebook</a>'\n",
              "            + ' to learn more about interactive tables.';\n",
              "          element.innerHTML = '';\n",
              "          dataTable['output_type'] = 'display_data';\n",
              "          await google.colab.output.renderOutput(dataTable, element);\n",
              "          const docLink = document.createElement('div');\n",
              "          docLink.innerHTML = docLinkHtml;\n",
              "          element.appendChild(docLink);\n",
              "        }\n",
              "      </script>\n",
              "    </div>\n",
              "  </div>\n",
              "  "
            ]
          },
          "metadata": {},
          "execution_count": 52
        }
      ]
    },
    {
      "cell_type": "code",
      "source": [
        "'''\n",
        "Querys com os valores linha a linha, separados por categoria\n",
        "'''\n",
        "querysaldos = df_total.query('Categoria == [\"SALDOS ANTERIORES\"]')\n",
        "querysaldos = querysaldos.drop(columns=['Categoria'])\n",
        "querycredito = df_total.query('Categoria == [\"OPERAÇÕES DE CRÉDITO\"]')\n",
        "querycredito = querycredito.drop(columns=['Categoria'])\n",
        "querycorrente = df_total.query('Categoria == [\"RECEITAS CORRENTE\"]')\n",
        "querycorrente = querycorrente.drop(columns=['Categoria'])\n",
        "querycapital = df_total.query('Categoria == [\"RECEITAS DE CAPITAL\"]')\n",
        "querycapital = querycapital.drop(columns=['Categoria'])\n"
      ],
      "metadata": {
        "id": "TQUhA3jq1A1i"
      },
      "execution_count": 53,
      "outputs": []
    },
    {
      "cell_type": "code",
      "source": [
        "querysaldos =   querysaldos.T   \n",
        "querycredito =   querycredito.T\n",
        "querycorrente =   querycorrente.T\n",
        "querycapital =   querycapital.T "
      ],
      "metadata": {
        "id": "VfQdwVll3QPA"
      },
      "execution_count": 54,
      "outputs": []
    },
    {
      "cell_type": "code",
      "source": [
        "querysaldos"
      ],
      "metadata": {
        "colab": {
          "base_uri": "https://localhost:8080/",
          "height": 206
        },
        "id": "mhRB4v0v3TYH",
        "outputId": "90d2e25e-d0f7-482d-d8fc-1e5da27430d5"
      },
      "execution_count": 55,
      "outputs": [
        {
          "output_type": "execute_result",
          "data": {
            "text/plain": [
              "RECEITAS ORÇAMENTÁRIAS  RECURSOS ARRECADADOS EM EXERCÍCIOS ANTERIORES  \\\n",
              "2017                                                              0.0   \n",
              "2018                                                              0.0   \n",
              "2019                                                              0.0   \n",
              "2020                                                              0.0   \n",
              "2021                                                              0.0   \n",
              "\n",
              "RECEITAS ORÇAMENTÁRIAS  SUPERAVIT FINANCEIRO  \\\n",
              "2017                            2.023454e+08   \n",
              "2018                            1.546738e+08   \n",
              "2019                            2.140512e+09   \n",
              "2020                            2.279084e+09   \n",
              "2021                            6.553710e+09   \n",
              "\n",
              "RECEITAS ORÇAMENTÁRIAS  REABERTURA DE CRÉDITOS ADICIONAIS  \n",
              "2017                                                  0.0  \n",
              "2018                                                  0.0  \n",
              "2019                                                  0.0  \n",
              "2020                                                  0.0  \n",
              "2021                                                  0.0  "
            ],
            "text/html": [
              "\n",
              "  <div id=\"df-95d67334-b7cd-4be2-80d8-ac8e36a74505\">\n",
              "    <div class=\"colab-df-container\">\n",
              "      <div>\n",
              "<style scoped>\n",
              "    .dataframe tbody tr th:only-of-type {\n",
              "        vertical-align: middle;\n",
              "    }\n",
              "\n",
              "    .dataframe tbody tr th {\n",
              "        vertical-align: top;\n",
              "    }\n",
              "\n",
              "    .dataframe thead th {\n",
              "        text-align: right;\n",
              "    }\n",
              "</style>\n",
              "<table border=\"1\" class=\"dataframe\">\n",
              "  <thead>\n",
              "    <tr style=\"text-align: right;\">\n",
              "      <th>RECEITAS ORÇAMENTÁRIAS</th>\n",
              "      <th>RECURSOS ARRECADADOS EM EXERCÍCIOS ANTERIORES</th>\n",
              "      <th>SUPERAVIT FINANCEIRO</th>\n",
              "      <th>REABERTURA DE CRÉDITOS ADICIONAIS</th>\n",
              "    </tr>\n",
              "  </thead>\n",
              "  <tbody>\n",
              "    <tr>\n",
              "      <th>2017</th>\n",
              "      <td>0.0</td>\n",
              "      <td>2.023454e+08</td>\n",
              "      <td>0.0</td>\n",
              "    </tr>\n",
              "    <tr>\n",
              "      <th>2018</th>\n",
              "      <td>0.0</td>\n",
              "      <td>1.546738e+08</td>\n",
              "      <td>0.0</td>\n",
              "    </tr>\n",
              "    <tr>\n",
              "      <th>2019</th>\n",
              "      <td>0.0</td>\n",
              "      <td>2.140512e+09</td>\n",
              "      <td>0.0</td>\n",
              "    </tr>\n",
              "    <tr>\n",
              "      <th>2020</th>\n",
              "      <td>0.0</td>\n",
              "      <td>2.279084e+09</td>\n",
              "      <td>0.0</td>\n",
              "    </tr>\n",
              "    <tr>\n",
              "      <th>2021</th>\n",
              "      <td>0.0</td>\n",
              "      <td>6.553710e+09</td>\n",
              "      <td>0.0</td>\n",
              "    </tr>\n",
              "  </tbody>\n",
              "</table>\n",
              "</div>\n",
              "      <button class=\"colab-df-convert\" onclick=\"convertToInteractive('df-95d67334-b7cd-4be2-80d8-ac8e36a74505')\"\n",
              "              title=\"Convert this dataframe to an interactive table.\"\n",
              "              style=\"display:none;\">\n",
              "        \n",
              "  <svg xmlns=\"http://www.w3.org/2000/svg\" height=\"24px\"viewBox=\"0 0 24 24\"\n",
              "       width=\"24px\">\n",
              "    <path d=\"M0 0h24v24H0V0z\" fill=\"none\"/>\n",
              "    <path d=\"M18.56 5.44l.94 2.06.94-2.06 2.06-.94-2.06-.94-.94-2.06-.94 2.06-2.06.94zm-11 1L8.5 8.5l.94-2.06 2.06-.94-2.06-.94L8.5 2.5l-.94 2.06-2.06.94zm10 10l.94 2.06.94-2.06 2.06-.94-2.06-.94-.94-2.06-.94 2.06-2.06.94z\"/><path d=\"M17.41 7.96l-1.37-1.37c-.4-.4-.92-.59-1.43-.59-.52 0-1.04.2-1.43.59L10.3 9.45l-7.72 7.72c-.78.78-.78 2.05 0 2.83L4 21.41c.39.39.9.59 1.41.59.51 0 1.02-.2 1.41-.59l7.78-7.78 2.81-2.81c.8-.78.8-2.07 0-2.86zM5.41 20L4 18.59l7.72-7.72 1.47 1.35L5.41 20z\"/>\n",
              "  </svg>\n",
              "      </button>\n",
              "      \n",
              "  <style>\n",
              "    .colab-df-container {\n",
              "      display:flex;\n",
              "      flex-wrap:wrap;\n",
              "      gap: 12px;\n",
              "    }\n",
              "\n",
              "    .colab-df-convert {\n",
              "      background-color: #E8F0FE;\n",
              "      border: none;\n",
              "      border-radius: 50%;\n",
              "      cursor: pointer;\n",
              "      display: none;\n",
              "      fill: #1967D2;\n",
              "      height: 32px;\n",
              "      padding: 0 0 0 0;\n",
              "      width: 32px;\n",
              "    }\n",
              "\n",
              "    .colab-df-convert:hover {\n",
              "      background-color: #E2EBFA;\n",
              "      box-shadow: 0px 1px 2px rgba(60, 64, 67, 0.3), 0px 1px 3px 1px rgba(60, 64, 67, 0.15);\n",
              "      fill: #174EA6;\n",
              "    }\n",
              "\n",
              "    [theme=dark] .colab-df-convert {\n",
              "      background-color: #3B4455;\n",
              "      fill: #D2E3FC;\n",
              "    }\n",
              "\n",
              "    [theme=dark] .colab-df-convert:hover {\n",
              "      background-color: #434B5C;\n",
              "      box-shadow: 0px 1px 3px 1px rgba(0, 0, 0, 0.15);\n",
              "      filter: drop-shadow(0px 1px 2px rgba(0, 0, 0, 0.3));\n",
              "      fill: #FFFFFF;\n",
              "    }\n",
              "  </style>\n",
              "\n",
              "      <script>\n",
              "        const buttonEl =\n",
              "          document.querySelector('#df-95d67334-b7cd-4be2-80d8-ac8e36a74505 button.colab-df-convert');\n",
              "        buttonEl.style.display =\n",
              "          google.colab.kernel.accessAllowed ? 'block' : 'none';\n",
              "\n",
              "        async function convertToInteractive(key) {\n",
              "          const element = document.querySelector('#df-95d67334-b7cd-4be2-80d8-ac8e36a74505');\n",
              "          const dataTable =\n",
              "            await google.colab.kernel.invokeFunction('convertToInteractive',\n",
              "                                                     [key], {});\n",
              "          if (!dataTable) return;\n",
              "\n",
              "          const docLinkHtml = 'Like what you see? Visit the ' +\n",
              "            '<a target=\"_blank\" href=https://colab.research.google.com/notebooks/data_table.ipynb>data table notebook</a>'\n",
              "            + ' to learn more about interactive tables.';\n",
              "          element.innerHTML = '';\n",
              "          dataTable['output_type'] = 'display_data';\n",
              "          await google.colab.output.renderOutput(dataTable, element);\n",
              "          const docLink = document.createElement('div');\n",
              "          docLink.innerHTML = docLinkHtml;\n",
              "          element.appendChild(docLink);\n",
              "        }\n",
              "      </script>\n",
              "    </div>\n",
              "  </div>\n",
              "  "
            ]
          },
          "metadata": {},
          "execution_count": 55
        }
      ]
    },
    {
      "cell_type": "code",
      "source": [
        "parameters = {'xtick.labelsize': 15,\n",
        "          'ytick.labelsize': 15,\n",
        "          'axes.labelsize': 15,\n",
        "          'axes.titlesize': 15}\n",
        "plt.rcParams.update(parameters)\n",
        "\n",
        "colors = [ '#e7d9b4','#9ed1b7', '#78a890',  '#09738a', '#092b5a']\n",
        "querycapital.plot(kind=\"bar\",stacked=True,figsize=(10,8), color= colors)\n",
        "plt.ylabel('R$ Bilhões')\n",
        "plt.xlabel('Ano')\n",
        "plt.title('Receitas de Capital')\n",
        "plt.xticks(rotation=360)\n",
        "\n",
        "plt.savefig('grafico3.png', transparent = True)"
      ],
      "metadata": {
        "colab": {
          "base_uri": "https://localhost:8080/",
          "height": 525
        },
        "id": "6w0PNP-62Rnh",
        "outputId": "c2eefde7-4cfd-4a81-8e17-2547ed1e6421"
      },
      "execution_count": 56,
      "outputs": [
        {
          "output_type": "display_data",
          "data": {
            "text/plain": [
              "<Figure size 720x576 with 1 Axes>"
            ],
            "image/png": "[encoded data removed]"
          },
          "metadata": {
            "needs_background": "light"
          }
        }
      ]
    },
    {
      "cell_type": "markdown",
      "source": [
        "Gráfico das receitas arrecadadas pela venda de CEPACs"
      ],
      "metadata": {
        "id": "NKl6IqSgIwbc"
      }
    },
    {
      "cell_type": "code",
      "source": [
        "\n",
        "cepac =\t{2017:  (63879808.81 * IPCA['2017']),\t\n",
        "2018:  (4341655.16 * IPCA['2018']) ,\n",
        "2019:  (1588211802.18 * IPCA['2019']),\n",
        "2020:  (48681197.82 * IPCA['2020']),\n",
        "2021:  (186292394.09 * IPCA['2021'])}\n",
        "cepac = pd.DataFrame.from_dict(cepac, orient='index')\n",
        "cepac.plot(kind=\"bar\",figsize=(10,8), color= '#092b5a')\n",
        "plt.ylabel('R$ Bilhões')\n",
        "plt.xlabel('Ano')\n",
        "plt.title('Receitas arrecadadas pela venda de CEPACs')\n",
        "plt.xticks(rotation=360)\n",
        "plt.ylim(1e4, 2e9)\n",
        "plt.legend().remove()\n",
        "\n",
        "plt.savefig('grafico4.png', transparent = True)\n",
        "\n"
      ],
      "metadata": {
        "colab": {
          "base_uri": "https://localhost:8080/",
          "height": 525
        },
        "id": "_Undj_e9Iv2c",
        "outputId": "7db3ad1a-68b0-454d-ef90-ab4be0c12fa0"
      },
      "execution_count": 57,
      "outputs": [
        {
          "output_type": "display_data",
          "data": {
            "text/plain": [
              "<Figure size 720x576 with 1 Axes>"
            ],
            "image/png": "[encoded data removed]"
          },
          "metadata": {
            "needs_background": "light"
          }
        }
      ]
    },
    {
      "cell_type": "code",
      "source": [
        "querycorrente = querycorrente.T\n",
        "querycorrente = querycorrente.drop('RECEITA AGROPECUÁRIA')\n",
        "querycorrente = querycorrente.drop('RECEITA INDUSTRIAL')\n",
        "querycorrente = querycorrente.sort_values(by=['2017'], ascending=True)\n",
        "querycorrente = querycorrente.T"
      ],
      "metadata": {
        "id": "NRx2QoU8YbY9"
      },
      "execution_count": 58,
      "outputs": []
    },
    {
      "cell_type": "code",
      "source": [
        "querycorrente['RECEITA TRIBUTÁRIA']"
      ],
      "metadata": {
        "colab": {
          "base_uri": "https://localhost:8080/"
        },
        "id": "zN2-63PazeB-",
        "outputId": "8ccffdb1-9cd5-43fa-d17e-ffbc555de6c2"
      },
      "execution_count": 59,
      "outputs": [
        {
          "output_type": "execute_result",
          "data": {
            "text/plain": [
              "2017    3.165459e+10\n",
              "2018    3.566721e+10\n",
              "2019    3.888067e+10\n",
              "2020    3.888822e+10\n",
              "2021    4.377135e+10\n",
              "Name: RECEITA TRIBUTÁRIA, dtype: float64"
            ]
          },
          "metadata": {},
          "execution_count": 59
        }
      ]
    },
    {
      "cell_type": "code",
      "source": [
        "#colors = [ '#092b5a', '#09738a', '#78a890',  '#9ed1b7']\n",
        "colors = ['#9ed1b7', '#78a890',  '#09738a', '#092b5a']\n",
        "#colors = colors.reverse()\n",
        "plt.style.use('tableau-colorblind10')\n",
        "querycorrente.plot(kind=\"bar\",stacked=True,figsize=(10,8)) #, color= colors \n",
        "plt.legend(bbox_to_anchor=(1.04,1), loc=\"upper left\")\n",
        "plt.xticks(rotation=360)\n",
        "plt.ticklabel_format(style='sci',axis='y',scilimits=(9,9))\n",
        "plt.ylabel('R$ Bilhões')\n",
        "plt.xlabel('Ano')\n",
        "plt.title('Receitas Correntes')\n",
        "#plt.style.use('seaborn-talk')\n",
        "plt.savefig('corrente.png', transparent = True, bbox_inches='tight')\n"
      ],
      "metadata": {
        "colab": {
          "base_uri": "https://localhost:8080/",
          "height": 525
        },
        "id": "tRjsOh9zcki2",
        "outputId": "a7f25023-442b-412d-a482-75c7f631427a"
      },
      "execution_count": 60,
      "outputs": [
        {
          "output_type": "display_data",
          "data": {
            "text/plain": [
              "<Figure size 720x576 with 1 Axes>"
            ],
            "image/png": "[encoded data removed]"
          },
          "metadata": {
            "needs_background": "light"
          }
        }
      ]
    },
    {
      "cell_type": "code",
      "source": [
        "\n",
        "\n",
        "plt.figure(figsize=(10,6))\n",
        "plt.title('Receitas Tributárias')\n",
        "'''\n",
        "Plotando o gráfico escolhendo o estilo de linha com linestyle e a expessura da mesma com linewidth\n",
        "'''\n",
        "plt.plot(querycorrente['RECEITA TRIBUTÁRIA'], linestyle= '-', linewidth = 2, color = \"mediumblue\")\n",
        "'''\n",
        "Escolhendo o valor inicial e final do eixo y\n",
        "'''\n",
        "plt.ylim(30e9, 45e9)\n",
        "\n",
        "#plt.grid()\n",
        "\n",
        "'''\n",
        "Colocando pontos e legendas nos valores\n",
        "'''\n",
        "plt.scatter(querycorrente['RECEITA TRIBUTÁRIA'].index, querycorrente['RECEITA TRIBUTÁRIA'], label = \"Receitas Tributárias\", color = \"mediumblue\", marker = \".\", s =\n",
        "150, linewidths=2)\n",
        "\n",
        "\n",
        "'''\n",
        "Rotulando os eixos y e x\n",
        "'''\n",
        "plt.ylabel('R$ Bilhões')\n",
        "plt.xlabel('Ano')\n",
        "\n",
        "'''\n",
        "Colocando os valores na notação cientifica de 10^9\n",
        "'''\n",
        "plt.ticklabel_format(style='sci',axis='y',scilimits=(9,9))\n",
        "\n",
        "plt.savefig('grafico5.png', transparent = True)"
      ],
      "metadata": {
        "colab": {
          "base_uri": "https://localhost:8080/",
          "height": 416
        },
        "id": "s-dACHrTFx2o",
        "outputId": "5123291a-831d-4c11-a4ee-17cec66b2a78"
      },
      "execution_count": 61,
      "outputs": [
        {
          "output_type": "display_data",
          "data": {
            "text/plain": [
              "<Figure size 720x432 with 1 Axes>"
            ],
            "image/png": "[encoded data removed]"
          },
          "metadata": {
            "needs_background": "light"
          }
        }
      ]
    },
    {
      "cell_type": "code",
      "source": [
        "\n",
        "\n",
        "plt.figure(figsize=(10,6))\n",
        "plt.title('TRANSFERÊNCIAS CORRENTES')\n",
        "'''\n",
        "Plotando o gráfico escolhendo o estilo de linha com linestyle e a expessura da mesma com linewidth\n",
        "'''\n",
        "plt.plot(querycorrente['TRANSFERÊNCIAS CORRENTES'], linestyle= '-', linewidth = 2, color = \"mediumblue\")\n",
        "'''\n",
        "Escolhendo o valor inicial e final do eixo y\n",
        "'''\n",
        "plt.ylim(15e9, 30e9)\n",
        "\n",
        "#plt.grid()\n",
        "\n",
        "'''\n",
        "Colocando pontos e legendas nos valores\n",
        "'''\n",
        "plt.scatter(querycorrente['TRANSFERÊNCIAS CORRENTES'].index, querycorrente['TRANSFERÊNCIAS CORRENTES'], label = \"Receitas Tributárias\", color = \"mediumblue\", marker = \".\", s =\n",
        "150, linewidths=2)\n",
        "\n",
        "\n",
        "'''\n",
        "Rotulando os eixos y e x\n",
        "'''\n",
        "plt.ylabel('R$ Bilhões')\n",
        "plt.xlabel('Ano')\n",
        "\n",
        "'''\n",
        "Colocando os valores na notação cientifica de 10^9\n",
        "'''\n",
        "plt.ticklabel_format(style='sci',axis='y',scilimits=(9,9))\n",
        "\n",
        "plt.savefig('grafico7.png', transparent = True)"
      ],
      "metadata": {
        "colab": {
          "base_uri": "https://localhost:8080/",
          "height": 416
        },
        "id": "bdspwAnFLTmz",
        "outputId": "81717f8d-838b-429d-c5f5-b4430bc16204"
      },
      "execution_count": 62,
      "outputs": [
        {
          "output_type": "display_data",
          "data": {
            "text/plain": [
              "<Figure size 720x432 with 1 Axes>"
            ],
            "image/png": "[encoded data removed]"
          },
          "metadata": {
            "needs_background": "light"
          }
        }
      ]
    },
    {
      "cell_type": "code",
      "source": [
        "querycorrente2 = querycorrente.T\n",
        "querycorrente2 = querycorrente2.drop('RECEITA TRIBUTÁRIA')\n",
        "querycorrente2 = querycorrente2.sort_values(by=['2021'], ascending=True)\n",
        "querycorrente2 = querycorrente2.T"
      ],
      "metadata": {
        "id": "2OXBG-2D3ucq"
      },
      "execution_count": 63,
      "outputs": []
    },
    {
      "cell_type": "code",
      "source": [
        "querycorrente2"
      ],
      "metadata": {
        "colab": {
          "base_uri": "https://localhost:8080/",
          "height": 250
        },
        "id": "RJVomAIO4K0Z",
        "outputId": "047c5789-5f62-4317-d649-8681319d9c2b"
      },
      "execution_count": 64,
      "outputs": [
        {
          "output_type": "execute_result",
          "data": {
            "text/plain": [
              "RECEITAS ORÇAMENTÁRIAS  RECEITA DE SERVIÇOS  RECEITA PATRIMONIAL  \\\n",
              "2017                           6.781334e+08         1.226195e+09   \n",
              "2018                           3.090118e+08         9.271229e+08   \n",
              "2019                           2.893740e+08         1.396119e+09   \n",
              "2020                           4.996831e+08         2.735958e+09   \n",
              "2021                           2.897719e+08         1.716641e+09   \n",
              "\n",
              "RECEITAS ORÇAMENTÁRIAS  OUTRAS RECEITAS CORRENTES  RECEITA DE CONTRIBUIÇÕES  \\\n",
              "2017                                 7.126218e+09              4.651160e+09   \n",
              "2018                                 3.033289e+09              4.736998e+09   \n",
              "2019                                 2.407117e+09              5.728853e+09   \n",
              "2020                                 1.709026e+09              5.686587e+09   \n",
              "2021                                 1.816134e+09              5.149676e+09   \n",
              "\n",
              "RECEITAS ORÇAMENTÁRIAS  TRANSFERÊNCIAS CORRENTES  \n",
              "2017                                1.750966e+10  \n",
              "2018                                1.821181e+10  \n",
              "2019                                1.880227e+10  \n",
              "2020                                2.078308e+10  \n",
              "2021                                2.034601e+10  "
            ],
            "text/html": [
              "\n",
              "  <div id=\"df-36fa2a6c-bea5-4adb-b53d-6e3b48ed723a\">\n",
              "    <div class=\"colab-df-container\">\n",
              "      <div>\n",
              "<style scoped>\n",
              "    .dataframe tbody tr th:only-of-type {\n",
              "        vertical-align: middle;\n",
              "    }\n",
              "\n",
              "    .dataframe tbody tr th {\n",
              "        vertical-align: top;\n",
              "    }\n",
              "\n",
              "    .dataframe thead th {\n",
              "        text-align: right;\n",
              "    }\n",
              "</style>\n",
              "<table border=\"1\" class=\"dataframe\">\n",
              "  <thead>\n",
              "    <tr style=\"text-align: right;\">\n",
              "      <th>RECEITAS ORÇAMENTÁRIAS</th>\n",
              "      <th>RECEITA DE SERVIÇOS</th>\n",
              "      <th>RECEITA PATRIMONIAL</th>\n",
              "      <th>OUTRAS RECEITAS CORRENTES</th>\n",
              "      <th>RECEITA DE CONTRIBUIÇÕES</th>\n",
              "      <th>TRANSFERÊNCIAS CORRENTES</th>\n",
              "    </tr>\n",
              "  </thead>\n",
              "  <tbody>\n",
              "    <tr>\n",
              "      <th>2017</th>\n",
              "      <td>6.781334e+08</td>\n",
              "      <td>1.226195e+09</td>\n",
              "      <td>7.126218e+09</td>\n",
              "      <td>4.651160e+09</td>\n",
              "      <td>1.750966e+10</td>\n",
              "    </tr>\n",
              "    <tr>\n",
              "      <th>2018</th>\n",
              "      <td>3.090118e+08</td>\n",
              "      <td>9.271229e+08</td>\n",
              "      <td>3.033289e+09</td>\n",
              "      <td>4.736998e+09</td>\n",
              "      <td>1.821181e+10</td>\n",
              "    </tr>\n",
              "    <tr>\n",
              "      <th>2019</th>\n",
              "      <td>2.893740e+08</td>\n",
              "      <td>1.396119e+09</td>\n",
              "      <td>2.407117e+09</td>\n",
              "      <td>5.728853e+09</td>\n",
              "      <td>1.880227e+10</td>\n",
              "    </tr>\n",
              "    <tr>\n",
              "      <th>2020</th>\n",
              "      <td>4.996831e+08</td>\n",
              "      <td>2.735958e+09</td>\n",
              "      <td>1.709026e+09</td>\n",
              "      <td>5.686587e+09</td>\n",
              "      <td>2.078308e+10</td>\n",
              "    </tr>\n",
              "    <tr>\n",
              "      <th>2021</th>\n",
              "      <td>2.897719e+08</td>\n",
              "      <td>1.716641e+09</td>\n",
              "      <td>1.816134e+09</td>\n",
              "      <td>5.149676e+09</td>\n",
              "      <td>2.034601e+10</td>\n",
              "    </tr>\n",
              "  </tbody>\n",
              "</table>\n",
              "</div>\n",
              "      <button class=\"colab-df-convert\" onclick=\"convertToInteractive('df-36fa2a6c-bea5-4adb-b53d-6e3b48ed723a')\"\n",
              "              title=\"Convert this dataframe to an interactive table.\"\n",
              "              style=\"display:none;\">\n",
              "        \n",
              "  <svg xmlns=\"http://www.w3.org/2000/svg\" height=\"24px\"viewBox=\"0 0 24 24\"\n",
              "       width=\"24px\">\n",
              "    <path d=\"M0 0h24v24H0V0z\" fill=\"none\"/>\n",
              "    <path d=\"M18.56 5.44l.94 2.06.94-2.06 2.06-.94-2.06-.94-.94-2.06-.94 2.06-2.06.94zm-11 1L8.5 8.5l.94-2.06 2.06-.94-2.06-.94L8.5 2.5l-.94 2.06-2.06.94zm10 10l.94 2.06.94-2.06 2.06-.94-2.06-.94-.94-2.06-.94 2.06-2.06.94z\"/><path d=\"M17.41 7.96l-1.37-1.37c-.4-.4-.92-.59-1.43-.59-.52 0-1.04.2-1.43.59L10.3 9.45l-7.72 7.72c-.78.78-.78 2.05 0 2.83L4 21.41c.39.39.9.59 1.41.59.51 0 1.02-.2 1.41-.59l7.78-7.78 2.81-2.81c.8-.78.8-2.07 0-2.86zM5.41 20L4 18.59l7.72-7.72 1.47 1.35L5.41 20z\"/>\n",
              "  </svg>\n",
              "      </button>\n",
              "      \n",
              "  <style>\n",
              "    .colab-df-container {\n",
              "      display:flex;\n",
              "      flex-wrap:wrap;\n",
              "      gap: 12px;\n",
              "    }\n",
              "\n",
              "    .colab-df-convert {\n",
              "      background-color: #E8F0FE;\n",
              "      border: none;\n",
              "      border-radius: 50%;\n",
              "      cursor: pointer;\n",
              "      display: none;\n",
              "      fill: #1967D2;\n",
              "      height: 32px;\n",
              "      padding: 0 0 0 0;\n",
              "      width: 32px;\n",
              "    }\n",
              "\n",
              "    .colab-df-convert:hover {\n",
              "      background-color: #E2EBFA;\n",
              "      box-shadow: 0px 1px 2px rgba(60, 64, 67, 0.3), 0px 1px 3px 1px rgba(60, 64, 67, 0.15);\n",
              "      fill: #174EA6;\n",
              "    }\n",
              "\n",
              "    [theme=dark] .colab-df-convert {\n",
              "      background-color: #3B4455;\n",
              "      fill: #D2E3FC;\n",
              "    }\n",
              "\n",
              "    [theme=dark] .colab-df-convert:hover {\n",
              "      background-color: #434B5C;\n",
              "      box-shadow: 0px 1px 3px 1px rgba(0, 0, 0, 0.15);\n",
              "      filter: drop-shadow(0px 1px 2px rgba(0, 0, 0, 0.3));\n",
              "      fill: #FFFFFF;\n",
              "    }\n",
              "  </style>\n",
              "\n",
              "      <script>\n",
              "        const buttonEl =\n",
              "          document.querySelector('#df-36fa2a6c-bea5-4adb-b53d-6e3b48ed723a button.colab-df-convert');\n",
              "        buttonEl.style.display =\n",
              "          google.colab.kernel.accessAllowed ? 'block' : 'none';\n",
              "\n",
              "        async function convertToInteractive(key) {\n",
              "          const element = document.querySelector('#df-36fa2a6c-bea5-4adb-b53d-6e3b48ed723a');\n",
              "          const dataTable =\n",
              "            await google.colab.kernel.invokeFunction('convertToInteractive',\n",
              "                                                     [key], {});\n",
              "          if (!dataTable) return;\n",
              "\n",
              "          const docLinkHtml = 'Like what you see? Visit the ' +\n",
              "            '<a target=\"_blank\" href=https://colab.research.google.com/notebooks/data_table.ipynb>data table notebook</a>'\n",
              "            + ' to learn more about interactive tables.';\n",
              "          element.innerHTML = '';\n",
              "          dataTable['output_type'] = 'display_data';\n",
              "          await google.colab.output.renderOutput(dataTable, element);\n",
              "          const docLink = document.createElement('div');\n",
              "          docLink.innerHTML = docLinkHtml;\n",
              "          element.appendChild(docLink);\n",
              "        }\n",
              "      </script>\n",
              "    </div>\n",
              "  </div>\n",
              "  "
            ]
          },
          "metadata": {},
          "execution_count": 64
        }
      ]
    },
    {
      "cell_type": "markdown",
      "source": [
        "plt.style.use() >>> *`[‘Solarize_Light2’, ‘_classic_test_patch’, ‘bmh’, ‘classic’, ‘dark_background’, ‘fast’, ‘fivethirtyeight’, ‘ggplot’,’grayscale’,’seaborn’,’seaborn-bright’,’seaborn-colorblind’, ‘seaborn-dark’, ‘seaborn-dark-palette’, ‘seaborn-darkgrid’, ‘seaborn-deep’, ‘seaborn-muted’, ‘seaborn-notebook’, ‘seaborn-paper’, ‘seaborn-pastel’, ‘seaborn-poster’,’seaborn-talk’,’seaborn-ticks’,’seaborn-white’,’seaborn-whitegrid’,’tableau-colorblind10′]\\`*"
      ],
      "metadata": {
        "id": "V2fjGnRR8825"
      }
    },
    {
      "cell_type": "code",
      "source": [
        "\n",
        "parameters = {'xtick.labelsize': 15,\n",
        "          'ytick.labelsize': 15,\n",
        "          'axes.labelsize': 15,\n",
        "          'axes.titlesize': 15}\n",
        "plt.rcParams.update(parameters)\n",
        "plt.style.use('tableau-colorblind10')\n",
        "querycorrente2.plot(kind=\"bar\",stacked=True,figsize=(10, 8))\n",
        "plt.legend(bbox_to_anchor=(1.04,1), loc=\"upper left\")\n",
        "plt.xticks(rotation=360)\n",
        "plt.ticklabel_format(style='sci',axis='y',scilimits=(9,9))\n",
        "plt.ylabel('R$ Bilhões')\n",
        "plt.xlabel('Ano')\n",
        "plt.title('Receitas Correntes')\n",
        "plt.savefig('grafico6.png', transparent= True, bbox_inches='tight')\n",
        "\n",
        "\n"
      ],
      "metadata": {
        "colab": {
          "base_uri": "https://localhost:8080/",
          "height": 525
        },
        "id": "XFlZqkCw2CRG",
        "outputId": "223ca2a8-70f1-42fd-ed4d-826f3594a36b"
      },
      "execution_count": 65,
      "outputs": [
        {
          "output_type": "display_data",
          "data": {
            "text/plain": [
              "<Figure size 720x576 with 1 Axes>"
            ],
            "image/png": "[encoded data removed]"
          },
          "metadata": {
            "needs_background": "light"
          }
        }
      ]
    },
    {
      "cell_type": "code",
      "source": [
        "querysaldos.plot(kind=\"bar\",stacked=True,figsize=(10,8))\n",
        "plt.style.use('tableau-colorblind10')\n",
        "plt.ylabel('R$ Bilhões')\n",
        "plt.xlabel('Ano')\n",
        "plt.title('SALDOS DE EXERCÍCIOS ANTERIORES')\n",
        "plt.xticks(rotation=360)\n",
        "plt.savefig('grafico7.png', transparent= True, bbox_inches='tight')"
      ],
      "metadata": {
        "id": "FqM-MHDecoKs",
        "colab": {
          "base_uri": "https://localhost:8080/",
          "height": 525
        },
        "outputId": "b93ed8ba-1c80-4414-8098-e787eb088a8f"
      },
      "execution_count": 66,
      "outputs": [
        {
          "output_type": "display_data",
          "data": {
            "text/plain": [
              "<Figure size 720x576 with 1 Axes>"
            ],
            "image/png": "[encoded data removed]"
          },
          "metadata": {
            "needs_background": "light"
          }
        }
      ]
    },
    {
      "cell_type": "code",
      "source": [
        "querycapital.plot(stacked=True,figsize=(10,8))\n",
        "plt.xticks(rotation=90)"
      ],
      "metadata": {
        "id": "HtzXxEpH5hJB",
        "colab": {
          "base_uri": "https://localhost:8080/",
          "height": 561
        },
        "outputId": "f8f6f1fc-fe04-41f7-8506-30969b882912"
      },
      "execution_count": 67,
      "outputs": [
        {
          "output_type": "execute_result",
          "data": {
            "text/plain": [
              "(array([-0.5,  0. ,  0.5,  1. ,  1.5,  2. ,  2.5,  3. ,  3.5,  4. ,  4.5]),\n",
              " <a list of 11 Text major ticklabel objects>)"
            ]
          },
          "metadata": {},
          "execution_count": 67
        },
        {
          "output_type": "display_data",
          "data": {
            "text/plain": [
              "<Figure size 720x576 with 1 Axes>"
            ],
            "image/png": "[encoded data removed]"
          },
          "metadata": {
            "needs_background": "light"
          }
        }
      ]
    },
    {
      "cell_type": "code",
      "source": [
        "querycorrente.plot(stacked=True,figsize=(10,8))\n",
        "plt.xticks(rotation=90)"
      ],
      "metadata": {
        "id": "EbgoNGaL59L4",
        "colab": {
          "base_uri": "https://localhost:8080/",
          "height": 561
        },
        "outputId": "765b62f8-2b9c-4414-d8bd-331e8f438ec7"
      },
      "execution_count": 68,
      "outputs": [
        {
          "output_type": "execute_result",
          "data": {
            "text/plain": [
              "(array([-0.5,  0. ,  0.5,  1. ,  1.5,  2. ,  2.5,  3. ,  3.5,  4. ,  4.5]),\n",
              " <a list of 11 Text major ticklabel objects>)"
            ]
          },
          "metadata": {},
          "execution_count": 68
        },
        {
          "output_type": "display_data",
          "data": {
            "text/plain": [
              "<Figure size 720x576 with 1 Axes>"
            ],
            "image/png": "[encoded data removed]"
          },
          "metadata": {
            "needs_background": "light"
          }
        }
      ]
    },
    {
      "cell_type": "code",
      "source": [
        "querysaldos.plot(stacked=True,figsize=(10,8))\n",
        "plt.xticks(rotation=90)"
      ],
      "metadata": {
        "id": "U2NLur8ccywO",
        "colab": {
          "base_uri": "https://localhost:8080/",
          "height": 561
        },
        "outputId": "2712cb85-2925-41be-ca67-80fd5b08fd00"
      },
      "execution_count": 69,
      "outputs": [
        {
          "output_type": "execute_result",
          "data": {
            "text/plain": [
              "(array([-0.5,  0. ,  0.5,  1. ,  1.5,  2. ,  2.5,  3. ,  3.5,  4. ,  4.5]),\n",
              " <a list of 11 Text major ticklabel objects>)"
            ]
          },
          "metadata": {},
          "execution_count": 69
        },
        {
          "output_type": "display_data",
          "data": {
            "text/plain": [
              "<Figure size 720x576 with 1 Axes>"
            ],
            "image/png": "[encoded data removed]"
          },
          "metadata": {
            "needs_background": "light"
          }
        }
      ]
    },
    {
      "cell_type": "code",
      "source": [
        "type(querysaldos)"
      ],
      "metadata": {
        "id": "CzjIqqC21HUh",
        "colab": {
          "base_uri": "https://localhost:8080/"
        },
        "outputId": "e5862e0c-d5b8-4ad8-987d-cb0a6320a89a"
      },
      "execution_count": 70,
      "outputs": [
        {
          "output_type": "execute_result",
          "data": {
            "text/plain": [
              "pandas.core.frame.DataFrame"
            ]
          },
          "metadata": {},
          "execution_count": 70
        }
      ]
    },
    {
      "cell_type": "markdown",
      "source": [
        "7.3 Análise Vertical"
      ],
      "metadata": {
        "id": "_V9xBFv3dGfc"
      }
    },
    {
      "cell_type": "code",
      "source": [
        "'''\n",
        "Criando um Dataframe com os valores da análise vertical obtidos na etapa 6\n",
        "'''\n",
        "df_av = pd.concat([df['2017']['Categoria'], df['2017']['AV']], axis=1, ignore_index=True)\n",
        "df_av = pd.concat([df_av, df['2018']['AV']], axis=1, ignore_index=True)\n",
        "df_av = pd.concat([df_av, df['2019']['AV']], axis=1, ignore_index=True)\n",
        "df_av = pd.concat([df_av, df['2020']['AV']], axis=1, ignore_index=True)\n",
        "df_av = pd.concat([df_av, df['2021']['AV']], axis=1, ignore_index=True)"
      ],
      "metadata": {
        "id": "YlfIfAUH7NmQ"
      },
      "execution_count": 71,
      "outputs": []
    },
    {
      "cell_type": "code",
      "source": [
        "df_av"
      ],
      "metadata": {
        "id": "wiR_y9vn72-o",
        "colab": {
          "base_uri": "https://localhost:8080/",
          "height": 708
        },
        "outputId": "bd19ce49-16c0-4cfd-ad8e-981ab1c074d6"
      },
      "execution_count": 72,
      "outputs": [
        {
          "output_type": "execute_result",
          "data": {
            "text/plain": [
              "                                                                  0      1  \\\n",
              "RECEITAS ORÇAMENTÁRIAS                                                       \n",
              "RECEITA TRIBUTÁRIA                                RECEITAS CORRENTE  49.31   \n",
              "RECEITA DE CONTRIBUIÇÕES                          RECEITAS CORRENTE   7.25   \n",
              "RECEITA PATRIMONIAL                               RECEITAS CORRENTE   1.91   \n",
              "RECEITA AGROPECUÁRIA                              RECEITAS CORRENTE   0.00   \n",
              "RECEITA INDUSTRIAL                                RECEITAS CORRENTE   0.00   \n",
              "RECEITA DE SERVIÇOS                               RECEITAS CORRENTE   1.06   \n",
              "TRANSFERÊNCIAS CORRENTES                          RECEITAS CORRENTE  27.28   \n",
              "OUTRAS RECEITAS CORRENTES                         RECEITAS CORRENTE  11.10   \n",
              "OPERAÇÕES DE CRÉDITO                            RECEITAS DE CAPITAL   0.09   \n",
              "ALIENAÇÃO DE BENS                               RECEITAS DE CAPITAL   0.04   \n",
              "AMORTIZAÇÕES DE EMPRÉSTIMOS                     RECEITAS DE CAPITAL   0.04   \n",
              "TRANSFERÊNCIAS DE CAPITAL                       RECEITAS DE CAPITAL   1.24   \n",
              "OUTRAS RECEITAS DE CAPITAL                      RECEITAS DE CAPITAL   0.68   \n",
              "OPERAÇÕES DE CRÉDITO INTERNAS                  OPERAÇÕES DE CRÉDITO   0.00   \n",
              "MOBILIÁRIA                                     OPERAÇÕES DE CRÉDITO   0.00   \n",
              "CONTRATUAL                                     OPERAÇÕES DE CRÉDITO   0.00   \n",
              "OPERAÇÕES DE CRÉDITO EXTERNAS                  OPERAÇÕES DE CRÉDITO   0.00   \n",
              "RECURSOS ARRECADADOS EM EXERCÍCIOS ANTERIORES     SALDOS ANTERIORES   0.00   \n",
              "SUPERAVIT FINANCEIRO                              SALDOS ANTERIORES   0.32   \n",
              "REABERTURA DE CRÉDITOS ADICIONAIS                 SALDOS ANTERIORES   0.00   \n",
              "\n",
              "                                                   2      3      4      5  \n",
              "RECEITAS ORÇAMENTÁRIAS                                                     \n",
              "RECEITA TRIBUTÁRIA                             54.70  53.91  53.03  57.10  \n",
              "RECEITA DE CONTRIBUIÇÕES                        7.26   7.94   7.76   6.72  \n",
              "RECEITA PATRIMONIAL                             1.42   1.94   3.73   2.24  \n",
              "RECEITA AGROPECUÁRIA                            0.00   0.00   0.00   0.00  \n",
              "RECEITA INDUSTRIAL                              0.00   0.00   0.00   0.00  \n",
              "RECEITA DE SERVIÇOS                             0.47   0.40   0.68   0.38  \n",
              "TRANSFERÊNCIAS CORRENTES                       27.93  26.07  28.34  26.54  \n",
              "OUTRAS RECEITAS CORRENTES                       4.65   3.34   2.33   2.37  \n",
              "OPERAÇÕES DE CRÉDITO                            0.27   0.46   0.77   0.16  \n",
              "ALIENAÇÃO DE BENS                               0.04   0.05   0.08   0.13  \n",
              "AMORTIZAÇÕES DE EMPRÉSTIMOS                     0.04   0.04   0.03   0.03  \n",
              "TRANSFERÊNCIAS DE CAPITAL                       1.31   0.96   1.13   0.86  \n",
              "OUTRAS RECEITAS DE CAPITAL                      1.89   4.90   2.13   3.47  \n",
              "OPERAÇÕES DE CRÉDITO INTERNAS                   0.00   0.00   0.00   0.00  \n",
              "MOBILIÁRIA                                      0.00   0.00   0.00   0.00  \n",
              "CONTRATUAL                                      0.00   0.00   0.00   0.00  \n",
              "OPERAÇÕES DE CRÉDITO EXTERNAS                   0.00   0.00   0.00   0.00  \n",
              "RECURSOS ARRECADADOS EM EXERCÍCIOS ANTERIORES   0.00   0.00   0.00   0.00  \n",
              "SUPERAVIT FINANCEIRO                            0.24   2.97   3.11   8.55  \n",
              "REABERTURA DE CRÉDITOS ADICIONAIS               0.00   0.00   0.00   0.00  "
            ],
            "text/html": [
              "\n",
              "  <div id=\"df-486d4f5a-b4cc-4a3f-a61d-3f8132f59911\">\n",
              "    <div class=\"colab-df-container\">\n",
              "      <div>\n",
              "<style scoped>\n",
              "    .dataframe tbody tr th:only-of-type {\n",
              "        vertical-align: middle;\n",
              "    }\n",
              "\n",
              "    .dataframe tbody tr th {\n",
              "        vertical-align: top;\n",
              "    }\n",
              "\n",
              "    .dataframe thead th {\n",
              "        text-align: right;\n",
              "    }\n",
              "</style>\n",
              "<table border=\"1\" class=\"dataframe\">\n",
              "  <thead>\n",
              "    <tr style=\"text-align: right;\">\n",
              "      <th></th>\n",
              "      <th>0</th>\n",
              "      <th>1</th>\n",
              "      <th>2</th>\n",
              "      <th>3</th>\n",
              "      <th>4</th>\n",
              "      <th>5</th>\n",
              "    </tr>\n",
              "    <tr>\n",
              "      <th>RECEITAS ORÇAMENTÁRIAS</th>\n",
              "      <th></th>\n",
              "      <th></th>\n",
              "      <th></th>\n",
              "      <th></th>\n",
              "      <th></th>\n",
              "      <th></th>\n",
              "    </tr>\n",
              "  </thead>\n",
              "  <tbody>\n",
              "    <tr>\n",
              "      <th>RECEITA TRIBUTÁRIA</th>\n",
              "      <td>RECEITAS CORRENTE</td>\n",
              "      <td>49.31</td>\n",
              "      <td>54.70</td>\n",
              "      <td>53.91</td>\n",
              "      <td>53.03</td>\n",
              "      <td>57.10</td>\n",
              "    </tr>\n",
              "    <tr>\n",
              "      <th>RECEITA DE CONTRIBUIÇÕES</th>\n",
              "      <td>RECEITAS CORRENTE</td>\n",
              "      <td>7.25</td>\n",
              "      <td>7.26</td>\n",
              "      <td>7.94</td>\n",
              "      <td>7.76</td>\n",
              "      <td>6.72</td>\n",
              "    </tr>\n",
              "    <tr>\n",
              "      <th>RECEITA PATRIMONIAL</th>\n",
              "      <td>RECEITAS CORRENTE</td>\n",
              "      <td>1.91</td>\n",
              "      <td>1.42</td>\n",
              "      <td>1.94</td>\n",
              "      <td>3.73</td>\n",
              "      <td>2.24</td>\n",
              "    </tr>\n",
              "    <tr>\n",
              "      <th>RECEITA AGROPECUÁRIA</th>\n",
              "      <td>RECEITAS CORRENTE</td>\n",
              "      <td>0.00</td>\n",
              "      <td>0.00</td>\n",
              "      <td>0.00</td>\n",
              "      <td>0.00</td>\n",
              "      <td>0.00</td>\n",
              "    </tr>\n",
              "    <tr>\n",
              "      <th>RECEITA INDUSTRIAL</th>\n",
              "      <td>RECEITAS CORRENTE</td>\n",
              "      <td>0.00</td>\n",
              "      <td>0.00</td>\n",
              "      <td>0.00</td>\n",
              "      <td>0.00</td>\n",
              "      <td>0.00</td>\n",
              "    </tr>\n",
              "    <tr>\n",
              "      <th>RECEITA DE SERVIÇOS</th>\n",
              "      <td>RECEITAS CORRENTE</td>\n",
              "      <td>1.06</td>\n",
              "      <td>0.47</td>\n",
              "      <td>0.40</td>\n",
              "      <td>0.68</td>\n",
              "      <td>0.38</td>\n",
              "    </tr>\n",
              "    <tr>\n",
              "      <th>TRANSFERÊNCIAS CORRENTES</th>\n",
              "      <td>RECEITAS CORRENTE</td>\n",
              "      <td>27.28</td>\n",
              "      <td>27.93</td>\n",
              "      <td>26.07</td>\n",
              "      <td>28.34</td>\n",
              "      <td>26.54</td>\n",
              "    </tr>\n",
              "    <tr>\n",
              "      <th>OUTRAS RECEITAS CORRENTES</th>\n",
              "      <td>RECEITAS CORRENTE</td>\n",
              "      <td>11.10</td>\n",
              "      <td>4.65</td>\n",
              "      <td>3.34</td>\n",
              "      <td>2.33</td>\n",
              "      <td>2.37</td>\n",
              "    </tr>\n",
              "    <tr>\n",
              "      <th>OPERAÇÕES DE CRÉDITO</th>\n",
              "      <td>RECEITAS DE CAPITAL</td>\n",
              "      <td>0.09</td>\n",
              "      <td>0.27</td>\n",
              "      <td>0.46</td>\n",
              "      <td>0.77</td>\n",
              "      <td>0.16</td>\n",
              "    </tr>\n",
              "    <tr>\n",
              "      <th>ALIENAÇÃO DE BENS</th>\n",
              "      <td>RECEITAS DE CAPITAL</td>\n",
              "      <td>0.04</td>\n",
              "      <td>0.04</td>\n",
              "      <td>0.05</td>\n",
              "      <td>0.08</td>\n",
              "      <td>0.13</td>\n",
              "    </tr>\n",
              "    <tr>\n",
              "      <th>AMORTIZAÇÕES DE EMPRÉSTIMOS</th>\n",
              "      <td>RECEITAS DE CAPITAL</td>\n",
              "      <td>0.04</td>\n",
              "      <td>0.04</td>\n",
              "      <td>0.04</td>\n",
              "      <td>0.03</td>\n",
              "      <td>0.03</td>\n",
              "    </tr>\n",
              "    <tr>\n",
              "      <th>TRANSFERÊNCIAS DE CAPITAL</th>\n",
              "      <td>RECEITAS DE CAPITAL</td>\n",
              "      <td>1.24</td>\n",
              "      <td>1.31</td>\n",
              "      <td>0.96</td>\n",
              "      <td>1.13</td>\n",
              "      <td>0.86</td>\n",
              "    </tr>\n",
              "    <tr>\n",
              "      <th>OUTRAS RECEITAS DE CAPITAL</th>\n",
              "      <td>RECEITAS DE CAPITAL</td>\n",
              "      <td>0.68</td>\n",
              "      <td>1.89</td>\n",
              "      <td>4.90</td>\n",
              "      <td>2.13</td>\n",
              "      <td>3.47</td>\n",
              "    </tr>\n",
              "    <tr>\n",
              "      <th>OPERAÇÕES DE CRÉDITO INTERNAS</th>\n",
              "      <td>OPERAÇÕES DE CRÉDITO</td>\n",
              "      <td>0.00</td>\n",
              "      <td>0.00</td>\n",
              "      <td>0.00</td>\n",
              "      <td>0.00</td>\n",
              "      <td>0.00</td>\n",
              "    </tr>\n",
              "    <tr>\n",
              "      <th>MOBILIÁRIA</th>\n",
              "      <td>OPERAÇÕES DE CRÉDITO</td>\n",
              "      <td>0.00</td>\n",
              "      <td>0.00</td>\n",
              "      <td>0.00</td>\n",
              "      <td>0.00</td>\n",
              "      <td>0.00</td>\n",
              "    </tr>\n",
              "    <tr>\n",
              "      <th>CONTRATUAL</th>\n",
              "      <td>OPERAÇÕES DE CRÉDITO</td>\n",
              "      <td>0.00</td>\n",
              "      <td>0.00</td>\n",
              "      <td>0.00</td>\n",
              "      <td>0.00</td>\n",
              "      <td>0.00</td>\n",
              "    </tr>\n",
              "    <tr>\n",
              "      <th>OPERAÇÕES DE CRÉDITO EXTERNAS</th>\n",
              "      <td>OPERAÇÕES DE CRÉDITO</td>\n",
              "      <td>0.00</td>\n",
              "      <td>0.00</td>\n",
              "      <td>0.00</td>\n",
              "      <td>0.00</td>\n",
              "      <td>0.00</td>\n",
              "    </tr>\n",
              "    <tr>\n",
              "      <th>RECURSOS ARRECADADOS EM EXERCÍCIOS ANTERIORES</th>\n",
              "      <td>SALDOS ANTERIORES</td>\n",
              "      <td>0.00</td>\n",
              "      <td>0.00</td>\n",
              "      <td>0.00</td>\n",
              "      <td>0.00</td>\n",
              "      <td>0.00</td>\n",
              "    </tr>\n",
              "    <tr>\n",
              "      <th>SUPERAVIT FINANCEIRO</th>\n",
              "      <td>SALDOS ANTERIORES</td>\n",
              "      <td>0.32</td>\n",
              "      <td>0.24</td>\n",
              "      <td>2.97</td>\n",
              "      <td>3.11</td>\n",
              "      <td>8.55</td>\n",
              "    </tr>\n",
              "    <tr>\n",
              "      <th>REABERTURA DE CRÉDITOS ADICIONAIS</th>\n",
              "      <td>SALDOS ANTERIORES</td>\n",
              "      <td>0.00</td>\n",
              "      <td>0.00</td>\n",
              "      <td>0.00</td>\n",
              "      <td>0.00</td>\n",
              "      <td>0.00</td>\n",
              "    </tr>\n",
              "  </tbody>\n",
              "</table>\n",
              "</div>\n",
              "      <button class=\"colab-df-convert\" onclick=\"convertToInteractive('df-486d4f5a-b4cc-4a3f-a61d-3f8132f59911')\"\n",
              "              title=\"Convert this dataframe to an interactive table.\"\n",
              "              style=\"display:none;\">\n",
              "        \n",
              "  <svg xmlns=\"http://www.w3.org/2000/svg\" height=\"24px\"viewBox=\"0 0 24 24\"\n",
              "       width=\"24px\">\n",
              "    <path d=\"M0 0h24v24H0V0z\" fill=\"none\"/>\n",
              "    <path d=\"M18.56 5.44l.94 2.06.94-2.06 2.06-.94-2.06-.94-.94-2.06-.94 2.06-2.06.94zm-11 1L8.5 8.5l.94-2.06 2.06-.94-2.06-.94L8.5 2.5l-.94 2.06-2.06.94zm10 10l.94 2.06.94-2.06 2.06-.94-2.06-.94-.94-2.06-.94 2.06-2.06.94z\"/><path d=\"M17.41 7.96l-1.37-1.37c-.4-.4-.92-.59-1.43-.59-.52 0-1.04.2-1.43.59L10.3 9.45l-7.72 7.72c-.78.78-.78 2.05 0 2.83L4 21.41c.39.39.9.59 1.41.59.51 0 1.02-.2 1.41-.59l7.78-7.78 2.81-2.81c.8-.78.8-2.07 0-2.86zM5.41 20L4 18.59l7.72-7.72 1.47 1.35L5.41 20z\"/>\n",
              "  </svg>\n",
              "      </button>\n",
              "      \n",
              "  <style>\n",
              "    .colab-df-container {\n",
              "      display:flex;\n",
              "      flex-wrap:wrap;\n",
              "      gap: 12px;\n",
              "    }\n",
              "\n",
              "    .colab-df-convert {\n",
              "      background-color: #E8F0FE;\n",
              "      border: none;\n",
              "      border-radius: 50%;\n",
              "      cursor: pointer;\n",
              "      display: none;\n",
              "      fill: #1967D2;\n",
              "      height: 32px;\n",
              "      padding: 0 0 0 0;\n",
              "      width: 32px;\n",
              "    }\n",
              "\n",
              "    .colab-df-convert:hover {\n",
              "      background-color: #E2EBFA;\n",
              "      box-shadow: 0px 1px 2px rgba(60, 64, 67, 0.3), 0px 1px 3px 1px rgba(60, 64, 67, 0.15);\n",
              "      fill: #174EA6;\n",
              "    }\n",
              "\n",
              "    [theme=dark] .colab-df-convert {\n",
              "      background-color: #3B4455;\n",
              "      fill: #D2E3FC;\n",
              "    }\n",
              "\n",
              "    [theme=dark] .colab-df-convert:hover {\n",
              "      background-color: #434B5C;\n",
              "      box-shadow: 0px 1px 3px 1px rgba(0, 0, 0, 0.15);\n",
              "      filter: drop-shadow(0px 1px 2px rgba(0, 0, 0, 0.3));\n",
              "      fill: #FFFFFF;\n",
              "    }\n",
              "  </style>\n",
              "\n",
              "      <script>\n",
              "        const buttonEl =\n",
              "          document.querySelector('#df-486d4f5a-b4cc-4a3f-a61d-3f8132f59911 button.colab-df-convert');\n",
              "        buttonEl.style.display =\n",
              "          google.colab.kernel.accessAllowed ? 'block' : 'none';\n",
              "\n",
              "        async function convertToInteractive(key) {\n",
              "          const element = document.querySelector('#df-486d4f5a-b4cc-4a3f-a61d-3f8132f59911');\n",
              "          const dataTable =\n",
              "            await google.colab.kernel.invokeFunction('convertToInteractive',\n",
              "                                                     [key], {});\n",
              "          if (!dataTable) return;\n",
              "\n",
              "          const docLinkHtml = 'Like what you see? Visit the ' +\n",
              "            '<a target=\"_blank\" href=https://colab.research.google.com/notebooks/data_table.ipynb>data table notebook</a>'\n",
              "            + ' to learn more about interactive tables.';\n",
              "          element.innerHTML = '';\n",
              "          dataTable['output_type'] = 'display_data';\n",
              "          await google.colab.output.renderOutput(dataTable, element);\n",
              "          const docLink = document.createElement('div');\n",
              "          docLink.innerHTML = docLinkHtml;\n",
              "          element.appendChild(docLink);\n",
              "        }\n",
              "      </script>\n",
              "    </div>\n",
              "  </div>\n",
              "  "
            ]
          },
          "metadata": {},
          "execution_count": 72
        }
      ]
    },
    {
      "cell_type": "code",
      "source": [
        "df_av.columns = ['Categoria', '2017', '2018', '2019', '2020', '2021']"
      ],
      "metadata": {
        "id": "gJft-Sod9HAn"
      },
      "execution_count": 73,
      "outputs": []
    },
    {
      "cell_type": "code",
      "source": [
        "df_av_saldos = df_av.query('Categoria == [\"SALDOS ANTERIORES\"]')\n",
        "df_av_saldos = df_av_saldos.drop(columns=['Categoria'])\n",
        "df_av_credito = df_av.query('Categoria == [\"OPERAÇÕES DE CRÉDITO\"]')\n",
        "df_av_credito = df_av_credito.drop(columns=['Categoria'])\n",
        "df_av_corrente = df_av.query('Categoria == [\"RECEITAS CORRENTE\"]')\n",
        "df_av_corrente = df_av_corrente.drop(columns=['Categoria'])\n",
        "df_av_capital = df_av.query('Categoria == [\"RECEITAS DE CAPITAL\"]')\n",
        "df_av_capital = df_av_capital.drop(columns=['Categoria'])\n",
        "\n",
        "df_av_saldos =   df_av_saldos.T   \n",
        "df_av_credito =   df_av_credito.T\n",
        "df_av_corrente =   df_av_corrente.T\n",
        "df_av_capital =   df_av_capital.T "
      ],
      "metadata": {
        "id": "zQM3athV8OoX"
      },
      "execution_count": 74,
      "outputs": []
    },
    {
      "cell_type": "code",
      "source": [
        "\n",
        "df_av_capital.plot(stacked=True,figsize=(10,8))\n",
        "plt.xticks(rotation=90)"
      ],
      "metadata": {
        "id": "aDpt4c7m787A",
        "colab": {
          "base_uri": "https://localhost:8080/",
          "height": 546
        },
        "outputId": "95aa8b96-16dd-4c4b-b94c-5aa7f9dfd9f5"
      },
      "execution_count": 75,
      "outputs": [
        {
          "output_type": "execute_result",
          "data": {
            "text/plain": [
              "(array([-0.5,  0. ,  0.5,  1. ,  1.5,  2. ,  2.5,  3. ,  3.5,  4. ,  4.5]),\n",
              " <a list of 11 Text major ticklabel objects>)"
            ]
          },
          "metadata": {},
          "execution_count": 75
        },
        {
          "output_type": "display_data",
          "data": {
            "text/plain": [
              "<Figure size 720x576 with 1 Axes>"
            ],
            "image/png": "[encoded data removed]"
          },
          "metadata": {
            "needs_background": "light"
          }
        }
      ]
    },
    {
      "cell_type": "code",
      "source": [
        "\n",
        "df_av = df_av.drop(columns=['Categoria'])\n",
        "df_av = df_av.T"
      ],
      "metadata": {
        "id": "ANFQJu-uobEQ"
      },
      "execution_count": 76,
      "outputs": []
    },
    {
      "cell_type": "code",
      "source": [
        "df_av.head(n=30)"
      ],
      "metadata": {
        "id": "oEpeiMILo2QH",
        "colab": {
          "base_uri": "https://localhost:8080/",
          "height": 340
        },
        "outputId": "bef80fa7-8498-42ea-9039-e9257f6ec56d"
      },
      "execution_count": 77,
      "outputs": [
        {
          "output_type": "execute_result",
          "data": {
            "text/plain": [
              "RECEITAS ORÇAMENTÁRIAS  RECEITA TRIBUTÁRIA  RECEITA DE CONTRIBUIÇÕES  \\\n",
              "2017                                 49.31                      7.25   \n",
              "2018                                 54.70                      7.26   \n",
              "2019                                 53.91                      7.94   \n",
              "2020                                 53.03                      7.76   \n",
              "2021                                 57.10                      6.72   \n",
              "\n",
              "RECEITAS ORÇAMENTÁRIAS  RECEITA PATRIMONIAL  RECEITA AGROPECUÁRIA  \\\n",
              "2017                                   1.91                   0.0   \n",
              "2018                                   1.42                   0.0   \n",
              "2019                                   1.94                   0.0   \n",
              "2020                                   3.73                   0.0   \n",
              "2021                                   2.24                   0.0   \n",
              "\n",
              "RECEITAS ORÇAMENTÁRIAS  RECEITA INDUSTRIAL  RECEITA DE SERVIÇOS  \\\n",
              "2017                                   0.0                 1.06   \n",
              "2018                                   0.0                 0.47   \n",
              "2019                                   0.0                 0.40   \n",
              "2020                                   0.0                 0.68   \n",
              "2021                                   0.0                 0.38   \n",
              "\n",
              "RECEITAS ORÇAMENTÁRIAS  TRANSFERÊNCIAS CORRENTES  OUTRAS RECEITAS CORRENTES  \\\n",
              "2017                                       27.28                      11.10   \n",
              "2018                                       27.93                       4.65   \n",
              "2019                                       26.07                       3.34   \n",
              "2020                                       28.34                       2.33   \n",
              "2021                                       26.54                       2.37   \n",
              "\n",
              "RECEITAS ORÇAMENTÁRIAS  OPERAÇÕES DE CRÉDITO  ALIENAÇÃO DE BENS  \\\n",
              "2017                                    0.09               0.04   \n",
              "2018                                    0.27               0.04   \n",
              "2019                                    0.46               0.05   \n",
              "2020                                    0.77               0.08   \n",
              "2021                                    0.16               0.13   \n",
              "\n",
              "RECEITAS ORÇAMENTÁRIAS  AMORTIZAÇÕES DE EMPRÉSTIMOS  \\\n",
              "2017                                           0.04   \n",
              "2018                                           0.04   \n",
              "2019                                           0.04   \n",
              "2020                                           0.03   \n",
              "2021                                           0.03   \n",
              "\n",
              "RECEITAS ORÇAMENTÁRIAS  TRANSFERÊNCIAS DE CAPITAL  OUTRAS RECEITAS DE CAPITAL  \\\n",
              "2017                                         1.24                        0.68   \n",
              "2018                                         1.31                        1.89   \n",
              "2019                                         0.96                        4.90   \n",
              "2020                                         1.13                        2.13   \n",
              "2021                                         0.86                        3.47   \n",
              "\n",
              "RECEITAS ORÇAMENTÁRIAS  OPERAÇÕES DE CRÉDITO INTERNAS  MOBILIÁRIA  CONTRATUAL  \\\n",
              "2017                                              0.0         0.0         0.0   \n",
              "2018                                              0.0         0.0         0.0   \n",
              "2019                                              0.0         0.0         0.0   \n",
              "2020                                              0.0         0.0         0.0   \n",
              "2021                                              0.0         0.0         0.0   \n",
              "\n",
              "RECEITAS ORÇAMENTÁRIAS  OPERAÇÕES DE CRÉDITO EXTERNAS  \\\n",
              "2017                                              0.0   \n",
              "2018                                              0.0   \n",
              "2019                                              0.0   \n",
              "2020                                              0.0   \n",
              "2021                                              0.0   \n",
              "\n",
              "RECEITAS ORÇAMENTÁRIAS  RECURSOS ARRECADADOS EM EXERCÍCIOS ANTERIORES  \\\n",
              "2017                                                              0.0   \n",
              "2018                                                              0.0   \n",
              "2019                                                              0.0   \n",
              "2020                                                              0.0   \n",
              "2021                                                              0.0   \n",
              "\n",
              "RECEITAS ORÇAMENTÁRIAS  SUPERAVIT FINANCEIRO  \\\n",
              "2017                                    0.32   \n",
              "2018                                    0.24   \n",
              "2019                                    2.97   \n",
              "2020                                    3.11   \n",
              "2021                                    8.55   \n",
              "\n",
              "RECEITAS ORÇAMENTÁRIAS  REABERTURA DE CRÉDITOS ADICIONAIS  \n",
              "2017                                                  0.0  \n",
              "2018                                                  0.0  \n",
              "2019                                                  0.0  \n",
              "2020                                                  0.0  \n",
              "2021                                                  0.0  "
            ],
            "text/html": [
              "\n",
              "  <div id=\"df-de7a0ccb-4202-4d3f-8f74-655c185cc3c8\">\n",
              "    <div class=\"colab-df-container\">\n",
              "      <div>\n",
              "<style scoped>\n",
              "    .dataframe tbody tr th:only-of-type {\n",
              "        vertical-align: middle;\n",
              "    }\n",
              "\n",
              "    .dataframe tbody tr th {\n",
              "        vertical-align: top;\n",
              "    }\n",
              "\n",
              "    .dataframe thead th {\n",
              "        text-align: right;\n",
              "    }\n",
              "</style>\n",
              "<table border=\"1\" class=\"dataframe\">\n",
              "  <thead>\n",
              "    <tr style=\"text-align: right;\">\n",
              "      <th>RECEITAS ORÇAMENTÁRIAS</th>\n",
              "      <th>RECEITA TRIBUTÁRIA</th>\n",
              "      <th>RECEITA DE CONTRIBUIÇÕES</th>\n",
              "      <th>RECEITA PATRIMONIAL</th>\n",
              "      <th>RECEITA AGROPECUÁRIA</th>\n",
              "      <th>RECEITA INDUSTRIAL</th>\n",
              "      <th>RECEITA DE SERVIÇOS</th>\n",
              "      <th>TRANSFERÊNCIAS CORRENTES</th>\n",
              "      <th>OUTRAS RECEITAS CORRENTES</th>\n",
              "      <th>OPERAÇÕES DE CRÉDITO</th>\n",
              "      <th>ALIENAÇÃO DE BENS</th>\n",
              "      <th>AMORTIZAÇÕES DE EMPRÉSTIMOS</th>\n",
              "      <th>TRANSFERÊNCIAS DE CAPITAL</th>\n",
              "      <th>OUTRAS RECEITAS DE CAPITAL</th>\n",
              "      <th>OPERAÇÕES DE CRÉDITO INTERNAS</th>\n",
              "      <th>MOBILIÁRIA</th>\n",
              "      <th>CONTRATUAL</th>\n",
              "      <th>OPERAÇÕES DE CRÉDITO EXTERNAS</th>\n",
              "      <th>RECURSOS ARRECADADOS EM EXERCÍCIOS ANTERIORES</th>\n",
              "      <th>SUPERAVIT FINANCEIRO</th>\n",
              "      <th>REABERTURA DE CRÉDITOS ADICIONAIS</th>\n",
              "    </tr>\n",
              "  </thead>\n",
              "  <tbody>\n",
              "    <tr>\n",
              "      <th>2017</th>\n",
              "      <td>49.31</td>\n",
              "      <td>7.25</td>\n",
              "      <td>1.91</td>\n",
              "      <td>0.0</td>\n",
              "      <td>0.0</td>\n",
              "      <td>1.06</td>\n",
              "      <td>27.28</td>\n",
              "      <td>11.10</td>\n",
              "      <td>0.09</td>\n",
              "      <td>0.04</td>\n",
              "      <td>0.04</td>\n",
              "      <td>1.24</td>\n",
              "      <td>0.68</td>\n",
              "      <td>0.0</td>\n",
              "      <td>0.0</td>\n",
              "      <td>0.0</td>\n",
              "      <td>0.0</td>\n",
              "      <td>0.0</td>\n",
              "      <td>0.32</td>\n",
              "      <td>0.0</td>\n",
              "    </tr>\n",
              "    <tr>\n",
              "      <th>2018</th>\n",
              "      <td>54.70</td>\n",
              "      <td>7.26</td>\n",
              "      <td>1.42</td>\n",
              "      <td>0.0</td>\n",
              "      <td>0.0</td>\n",
              "      <td>0.47</td>\n",
              "      <td>27.93</td>\n",
              "      <td>4.65</td>\n",
              "      <td>0.27</td>\n",
              "      <td>0.04</td>\n",
              "      <td>0.04</td>\n",
              "      <td>1.31</td>\n",
              "      <td>1.89</td>\n",
              "      <td>0.0</td>\n",
              "      <td>0.0</td>\n",
              "      <td>0.0</td>\n",
              "      <td>0.0</td>\n",
              "      <td>0.0</td>\n",
              "      <td>0.24</td>\n",
              "      <td>0.0</td>\n",
              "    </tr>\n",
              "    <tr>\n",
              "      <th>2019</th>\n",
              "      <td>53.91</td>\n",
              "      <td>7.94</td>\n",
              "      <td>1.94</td>\n",
              "      <td>0.0</td>\n",
              "      <td>0.0</td>\n",
              "      <td>0.40</td>\n",
              "      <td>26.07</td>\n",
              "      <td>3.34</td>\n",
              "      <td>0.46</td>\n",
              "      <td>0.05</td>\n",
              "      <td>0.04</td>\n",
              "      <td>0.96</td>\n",
              "      <td>4.90</td>\n",
              "      <td>0.0</td>\n",
              "      <td>0.0</td>\n",
              "      <td>0.0</td>\n",
              "      <td>0.0</td>\n",
              "      <td>0.0</td>\n",
              "      <td>2.97</td>\n",
              "      <td>0.0</td>\n",
              "    </tr>\n",
              "    <tr>\n",
              "      <th>2020</th>\n",
              "      <td>53.03</td>\n",
              "      <td>7.76</td>\n",
              "      <td>3.73</td>\n",
              "      <td>0.0</td>\n",
              "      <td>0.0</td>\n",
              "      <td>0.68</td>\n",
              "      <td>28.34</td>\n",
              "      <td>2.33</td>\n",
              "      <td>0.77</td>\n",
              "      <td>0.08</td>\n",
              "      <td>0.03</td>\n",
              "      <td>1.13</td>\n",
              "      <td>2.13</td>\n",
              "      <td>0.0</td>\n",
              "      <td>0.0</td>\n",
              "      <td>0.0</td>\n",
              "      <td>0.0</td>\n",
              "      <td>0.0</td>\n",
              "      <td>3.11</td>\n",
              "      <td>0.0</td>\n",
              "    </tr>\n",
              "    <tr>\n",
              "      <th>2021</th>\n",
              "      <td>57.10</td>\n",
              "      <td>6.72</td>\n",
              "      <td>2.24</td>\n",
              "      <td>0.0</td>\n",
              "      <td>0.0</td>\n",
              "      <td>0.38</td>\n",
              "      <td>26.54</td>\n",
              "      <td>2.37</td>\n",
              "      <td>0.16</td>\n",
              "      <td>0.13</td>\n",
              "      <td>0.03</td>\n",
              "      <td>0.86</td>\n",
              "      <td>3.47</td>\n",
              "      <td>0.0</td>\n",
              "      <td>0.0</td>\n",
              "      <td>0.0</td>\n",
              "      <td>0.0</td>\n",
              "      <td>0.0</td>\n",
              "      <td>8.55</td>\n",
              "      <td>0.0</td>\n",
              "    </tr>\n",
              "  </tbody>\n",
              "</table>\n",
              "</div>\n",
              "      <button class=\"colab-df-convert\" onclick=\"convertToInteractive('df-de7a0ccb-4202-4d3f-8f74-655c185cc3c8')\"\n",
              "              title=\"Convert this dataframe to an interactive table.\"\n",
              "              style=\"display:none;\">\n",
              "        \n",
              "  <svg xmlns=\"http://www.w3.org/2000/svg\" height=\"24px\"viewBox=\"0 0 24 24\"\n",
              "       width=\"24px\">\n",
              "    <path d=\"M0 0h24v24H0V0z\" fill=\"none\"/>\n",
              "    <path d=\"M18.56 5.44l.94 2.06.94-2.06 2.06-.94-2.06-.94-.94-2.06-.94 2.06-2.06.94zm-11 1L8.5 8.5l.94-2.06 2.06-.94-2.06-.94L8.5 2.5l-.94 2.06-2.06.94zm10 10l.94 2.06.94-2.06 2.06-.94-2.06-.94-.94-2.06-.94 2.06-2.06.94z\"/><path d=\"M17.41 7.96l-1.37-1.37c-.4-.4-.92-.59-1.43-.59-.52 0-1.04.2-1.43.59L10.3 9.45l-7.72 7.72c-.78.78-.78 2.05 0 2.83L4 21.41c.39.39.9.59 1.41.59.51 0 1.02-.2 1.41-.59l7.78-7.78 2.81-2.81c.8-.78.8-2.07 0-2.86zM5.41 20L4 18.59l7.72-7.72 1.47 1.35L5.41 20z\"/>\n",
              "  </svg>\n",
              "      </button>\n",
              "      \n",
              "  <style>\n",
              "    .colab-df-container {\n",
              "      display:flex;\n",
              "      flex-wrap:wrap;\n",
              "      gap: 12px;\n",
              "    }\n",
              "\n",
              "    .colab-df-convert {\n",
              "      background-color: #E8F0FE;\n",
              "      border: none;\n",
              "      border-radius: 50%;\n",
              "      cursor: pointer;\n",
              "      display: none;\n",
              "      fill: #1967D2;\n",
              "      height: 32px;\n",
              "      padding: 0 0 0 0;\n",
              "      width: 32px;\n",
              "    }\n",
              "\n",
              "    .colab-df-convert:hover {\n",
              "      background-color: #E2EBFA;\n",
              "      box-shadow: 0px 1px 2px rgba(60, 64, 67, 0.3), 0px 1px 3px 1px rgba(60, 64, 67, 0.15);\n",
              "      fill: #174EA6;\n",
              "    }\n",
              "\n",
              "    [theme=dark] .colab-df-convert {\n",
              "      background-color: #3B4455;\n",
              "      fill: #D2E3FC;\n",
              "    }\n",
              "\n",
              "    [theme=dark] .colab-df-convert:hover {\n",
              "      background-color: #434B5C;\n",
              "      box-shadow: 0px 1px 3px 1px rgba(0, 0, 0, 0.15);\n",
              "      filter: drop-shadow(0px 1px 2px rgba(0, 0, 0, 0.3));\n",
              "      fill: #FFFFFF;\n",
              "    }\n",
              "  </style>\n",
              "\n",
              "      <script>\n",
              "        const buttonEl =\n",
              "          document.querySelector('#df-de7a0ccb-4202-4d3f-8f74-655c185cc3c8 button.colab-df-convert');\n",
              "        buttonEl.style.display =\n",
              "          google.colab.kernel.accessAllowed ? 'block' : 'none';\n",
              "\n",
              "        async function convertToInteractive(key) {\n",
              "          const element = document.querySelector('#df-de7a0ccb-4202-4d3f-8f74-655c185cc3c8');\n",
              "          const dataTable =\n",
              "            await google.colab.kernel.invokeFunction('convertToInteractive',\n",
              "                                                     [key], {});\n",
              "          if (!dataTable) return;\n",
              "\n",
              "          const docLinkHtml = 'Like what you see? Visit the ' +\n",
              "            '<a target=\"_blank\" href=https://colab.research.google.com/notebooks/data_table.ipynb>data table notebook</a>'\n",
              "            + ' to learn more about interactive tables.';\n",
              "          element.innerHTML = '';\n",
              "          dataTable['output_type'] = 'display_data';\n",
              "          await google.colab.output.renderOutput(dataTable, element);\n",
              "          const docLink = document.createElement('div');\n",
              "          docLink.innerHTML = docLinkHtml;\n",
              "          element.appendChild(docLink);\n",
              "        }\n",
              "      </script>\n",
              "    </div>\n",
              "  </div>\n",
              "  "
            ]
          },
          "metadata": {},
          "execution_count": 77
        }
      ]
    },
    {
      "cell_type": "code",
      "source": [
        "\n",
        "\n",
        "df_av = df_av.drop(columns=['RECEITA AGROPECUÁRIA','OPERAÇÕES DE CRÉDITO INTERNAS' ,'MOBILIÁRIA' ,'CONTRATUAL' ,'OPERAÇÕES DE CRÉDITO EXTERNAS','RECURSOS ARRECADADOS EM EXERCÍCIOS ANTERIORES','REABERTURA DE CRÉDITOS ADICIONAIS', 'RECEITA AGROPECUÁRIA' ,'RECEITA INDUSTRIAL', 'AMORTIZAÇÕES DE EMPRÉSTIMOS',\t 'ALIENAÇÃO DE BENS'])\n"
      ],
      "metadata": {
        "id": "_qiKyzRWhakx"
      },
      "execution_count": 78,
      "outputs": []
    },
    {
      "cell_type": "code",
      "source": [
        "\n",
        "df_av =df_av.T\n",
        "#colors = [ 'orangered','sandybrown', 'saddlebrown',  'tan', 'orange',  'orangered','sandybrown', 'lightgray',  'darkgrey', 'grey']\n",
        "df_av = df_av.sort_values(by=['2021'], ascending=False)\n",
        "df_av =df_av.T\n",
        "\n",
        "\n",
        "\n",
        "\n",
        "df_av.plot(kind=\"barh\",stacked=True, width=0.9, figsize=(12,10))\n",
        "plt.style.use('tableau-colorblind10')\n",
        "plt.xlim(0, 100)\n",
        "plt.xticks(fontsize=15)\n",
        "\n",
        "\n",
        "#coloca o sinal %\n",
        "current_values = plt.gca().get_xticks()\n",
        "plt.gca().set_xticklabels([f'{x.astype(int)}%' for x in current_values])\n",
        "\n",
        "#coloca a legenda fora dp gráfico\n",
        "plt.legend(bbox_to_anchor=(1.04,1), loc=\"upper left\")\n",
        "plt.savefig('grafico8.png', transparent= True, bbox_inches='tight')"
      ],
      "metadata": {
        "id": "7Fg0pkyzc4a7",
        "colab": {
          "base_uri": "https://localhost:8080/",
          "height": 597
        },
        "outputId": "4dbb6c64-8efd-419c-b69c-053502435178"
      },
      "execution_count": 79,
      "outputs": [
        {
          "output_type": "display_data",
          "data": {
            "text/plain": [
              "<Figure size 864x720 with 1 Axes>"
            ],
            "image/png": "[encoded data removed]"
          },
          "metadata": {
            "needs_background": "light"
          }
        }
      ]
    },
    {
      "cell_type": "markdown",
      "source": [
        "7.4 Análise Horizontal"
      ],
      "metadata": {
        "id": "ovBgElvudx78"
      }
    },
    {
      "cell_type": "code",
      "source": [
        "'''\n",
        "Criando um Dataframe com os valores da análise horizontal obtidos na etapa 6\n",
        "'''\n",
        "df_ah = pd.concat([df['2017']['Categoria'], df['2017']['AH']], axis=1, ignore_index=True)\n",
        "df_ah = pd.concat([df_ah, df['2018']['AH']], axis=1, ignore_index=True)\n",
        "df_ah = pd.concat([df_ah, df['2019']['AH']], axis=1, ignore_index=True)\n",
        "df_ah = pd.concat([df_ah, df['2020']['AH']], axis=1, ignore_index=True)\n",
        "df_ah = pd.concat([df_ah, df['2021']['AH']], axis=1, ignore_index=True)\n",
        "df_ah.columns = ['Categoria', '2017', '2018', '2019', '2020', '2021']\n",
        "\n",
        "df_ah_saldos = df_ah.query('Categoria == [\"SALDOS ANTERIORES\"]')\n",
        "df_ah_saldos = df_ah_saldos.drop(columns=['Categoria'])\n",
        "df_ah_credito = df_ah.query('Categoria == [\"OPERAÇÕES DE CRÉDITO\"]')\n",
        "df_ah_credito = df_ah_credito.drop(columns=['Categoria'])\n",
        "df_ah_corrente = df_ah.query('Categoria == [\"RECEITAS CORRENTE\"]')\n",
        "df_ah_corrente = df_ah_corrente.drop(columns=['Categoria'])\n",
        "df_ah_capital = df_ah.query('Categoria == [\"RECEITAS DE CAPITAL\"]')\n",
        "df_ah_capital = df_ah_capital.drop(columns=['Categoria'])\n",
        "\n",
        "df_ah_saldos =   df_ah_saldos.T   \n",
        "df_ah_credito =   df_ah_credito.T\n",
        "df_ah_corrente =   df_ah_corrente.T\n",
        "df_ah_capital =   df_ah_capital.T "
      ],
      "metadata": {
        "id": "2UA2QIE29m_Q"
      },
      "execution_count": 80,
      "outputs": []
    },
    {
      "cell_type": "code",
      "source": [
        "df_ah_corrente"
      ],
      "metadata": {
        "id": "iWH-A9p-ef9O",
        "colab": {
          "base_uri": "https://localhost:8080/",
          "height": 285
        },
        "outputId": "16261725-11cb-4284-e679-c36f4deecad0"
      },
      "execution_count": 81,
      "outputs": [
        {
          "output_type": "execute_result",
          "data": {
            "text/plain": [
              "RECEITAS ORÇAMENTÁRIAS  RECEITA TRIBUTÁRIA  RECEITA DE CONTRIBUIÇÕES  \\\n",
              "2017                                102.15                     99.02   \n",
              "2018                                101.92                     99.31   \n",
              "2019                                106.65                    120.33   \n",
              "2020                                103.96                     93.67   \n",
              "2021                                121.51                     90.36   \n",
              "\n",
              "RECEITAS ORÇAMENTÁRIAS  RECEITA PATRIMONIAL  RECEITA AGROPECUÁRIA  \\\n",
              "2017                                  97.42                   NaN   \n",
              "2018                                  71.09                   NaN   \n",
              "2019                                 112.94                   NaN   \n",
              "2020                                  72.30                   NaN   \n",
              "2021                                  98.27                   NaN   \n",
              "\n",
              "RECEITAS ORÇAMENTÁRIAS  RECEITA INDUSTRIAL  RECEITA DE SERVIÇOS  \\\n",
              "2017                                   NaN                87.72   \n",
              "2018                                   NaN                43.03   \n",
              "2019                                   NaN               113.54   \n",
              "2020                                   NaN                96.57   \n",
              "2021                                   NaN                66.70   \n",
              "\n",
              "RECEITAS ORÇAMENTÁRIAS  TRANSFERÊNCIAS CORRENTES  OUTRAS RECEITAS CORRENTES  \n",
              "2017                                       96.89                     121.02  \n",
              "2018                                      101.96                     103.17  \n",
              "2019                                      101.91                      73.70  \n",
              "2020                                      109.24                      62.65  \n",
              "2021                                      118.01                      85.69  "
            ],
            "text/html": [
              "\n",
              "  <div id=\"df-fb21066b-5385-4738-8852-e79961864b31\">\n",
              "    <div class=\"colab-df-container\">\n",
              "      <div>\n",
              "<style scoped>\n",
              "    .dataframe tbody tr th:only-of-type {\n",
              "        vertical-align: middle;\n",
              "    }\n",
              "\n",
              "    .dataframe tbody tr th {\n",
              "        vertical-align: top;\n",
              "    }\n",
              "\n",
              "    .dataframe thead th {\n",
              "        text-align: right;\n",
              "    }\n",
              "</style>\n",
              "<table border=\"1\" class=\"dataframe\">\n",
              "  <thead>\n",
              "    <tr style=\"text-align: right;\">\n",
              "      <th>RECEITAS ORÇAMENTÁRIAS</th>\n",
              "      <th>RECEITA TRIBUTÁRIA</th>\n",
              "      <th>RECEITA DE CONTRIBUIÇÕES</th>\n",
              "      <th>RECEITA PATRIMONIAL</th>\n",
              "      <th>RECEITA AGROPECUÁRIA</th>\n",
              "      <th>RECEITA INDUSTRIAL</th>\n",
              "      <th>RECEITA DE SERVIÇOS</th>\n",
              "      <th>TRANSFERÊNCIAS CORRENTES</th>\n",
              "      <th>OUTRAS RECEITAS CORRENTES</th>\n",
              "    </tr>\n",
              "  </thead>\n",
              "  <tbody>\n",
              "    <tr>\n",
              "      <th>2017</th>\n",
              "      <td>102.15</td>\n",
              "      <td>99.02</td>\n",
              "      <td>97.42</td>\n",
              "      <td>NaN</td>\n",
              "      <td>NaN</td>\n",
              "      <td>87.72</td>\n",
              "      <td>96.89</td>\n",
              "      <td>121.02</td>\n",
              "    </tr>\n",
              "    <tr>\n",
              "      <th>2018</th>\n",
              "      <td>101.92</td>\n",
              "      <td>99.31</td>\n",
              "      <td>71.09</td>\n",
              "      <td>NaN</td>\n",
              "      <td>NaN</td>\n",
              "      <td>43.03</td>\n",
              "      <td>101.96</td>\n",
              "      <td>103.17</td>\n",
              "    </tr>\n",
              "    <tr>\n",
              "      <th>2019</th>\n",
              "      <td>106.65</td>\n",
              "      <td>120.33</td>\n",
              "      <td>112.94</td>\n",
              "      <td>NaN</td>\n",
              "      <td>NaN</td>\n",
              "      <td>113.54</td>\n",
              "      <td>101.91</td>\n",
              "      <td>73.70</td>\n",
              "    </tr>\n",
              "    <tr>\n",
              "      <th>2020</th>\n",
              "      <td>103.96</td>\n",
              "      <td>93.67</td>\n",
              "      <td>72.30</td>\n",
              "      <td>NaN</td>\n",
              "      <td>NaN</td>\n",
              "      <td>96.57</td>\n",
              "      <td>109.24</td>\n",
              "      <td>62.65</td>\n",
              "    </tr>\n",
              "    <tr>\n",
              "      <th>2021</th>\n",
              "      <td>121.51</td>\n",
              "      <td>90.36</td>\n",
              "      <td>98.27</td>\n",
              "      <td>NaN</td>\n",
              "      <td>NaN</td>\n",
              "      <td>66.70</td>\n",
              "      <td>118.01</td>\n",
              "      <td>85.69</td>\n",
              "    </tr>\n",
              "  </tbody>\n",
              "</table>\n",
              "</div>\n",
              "      <button class=\"colab-df-convert\" onclick=\"convertToInteractive('df-fb21066b-5385-4738-8852-e79961864b31')\"\n",
              "              title=\"Convert this dataframe to an interactive table.\"\n",
              "              style=\"display:none;\">\n",
              "        \n",
              "  <svg xmlns=\"http://www.w3.org/2000/svg\" height=\"24px\"viewBox=\"0 0 24 24\"\n",
              "       width=\"24px\">\n",
              "    <path d=\"M0 0h24v24H0V0z\" fill=\"none\"/>\n",
              "    <path d=\"M18.56 5.44l.94 2.06.94-2.06 2.06-.94-2.06-.94-.94-2.06-.94 2.06-2.06.94zm-11 1L8.5 8.5l.94-2.06 2.06-.94-2.06-.94L8.5 2.5l-.94 2.06-2.06.94zm10 10l.94 2.06.94-2.06 2.06-.94-2.06-.94-.94-2.06-.94 2.06-2.06.94z\"/><path d=\"M17.41 7.96l-1.37-1.37c-.4-.4-.92-.59-1.43-.59-.52 0-1.04.2-1.43.59L10.3 9.45l-7.72 7.72c-.78.78-.78 2.05 0 2.83L4 21.41c.39.39.9.59 1.41.59.51 0 1.02-.2 1.41-.59l7.78-7.78 2.81-2.81c.8-.78.8-2.07 0-2.86zM5.41 20L4 18.59l7.72-7.72 1.47 1.35L5.41 20z\"/>\n",
              "  </svg>\n",
              "      </button>\n",
              "      \n",
              "  <style>\n",
              "    .colab-df-container {\n",
              "      display:flex;\n",
              "      flex-wrap:wrap;\n",
              "      gap: 12px;\n",
              "    }\n",
              "\n",
              "    .colab-df-convert {\n",
              "      background-color: #E8F0FE;\n",
              "      border: none;\n",
              "      border-radius: 50%;\n",
              "      cursor: pointer;\n",
              "      display: none;\n",
              "      fill: #1967D2;\n",
              "      height: 32px;\n",
              "      padding: 0 0 0 0;\n",
              "      width: 32px;\n",
              "    }\n",
              "\n",
              "    .colab-df-convert:hover {\n",
              "      background-color: #E2EBFA;\n",
              "      box-shadow: 0px 1px 2px rgba(60, 64, 67, 0.3), 0px 1px 3px 1px rgba(60, 64, 67, 0.15);\n",
              "      fill: #174EA6;\n",
              "    }\n",
              "\n",
              "    [theme=dark] .colab-df-convert {\n",
              "      background-color: #3B4455;\n",
              "      fill: #D2E3FC;\n",
              "    }\n",
              "\n",
              "    [theme=dark] .colab-df-convert:hover {\n",
              "      background-color: #434B5C;\n",
              "      box-shadow: 0px 1px 3px 1px rgba(0, 0, 0, 0.15);\n",
              "      filter: drop-shadow(0px 1px 2px rgba(0, 0, 0, 0.3));\n",
              "      fill: #FFFFFF;\n",
              "    }\n",
              "  </style>\n",
              "\n",
              "      <script>\n",
              "        const buttonEl =\n",
              "          document.querySelector('#df-fb21066b-5385-4738-8852-e79961864b31 button.colab-df-convert');\n",
              "        buttonEl.style.display =\n",
              "          google.colab.kernel.accessAllowed ? 'block' : 'none';\n",
              "\n",
              "        async function convertToInteractive(key) {\n",
              "          const element = document.querySelector('#df-fb21066b-5385-4738-8852-e79961864b31');\n",
              "          const dataTable =\n",
              "            await google.colab.kernel.invokeFunction('convertToInteractive',\n",
              "                                                     [key], {});\n",
              "          if (!dataTable) return;\n",
              "\n",
              "          const docLinkHtml = 'Like what you see? Visit the ' +\n",
              "            '<a target=\"_blank\" href=https://colab.research.google.com/notebooks/data_table.ipynb>data table notebook</a>'\n",
              "            + ' to learn more about interactive tables.';\n",
              "          element.innerHTML = '';\n",
              "          dataTable['output_type'] = 'display_data';\n",
              "          await google.colab.output.renderOutput(dataTable, element);\n",
              "          const docLink = document.createElement('div');\n",
              "          docLink.innerHTML = docLinkHtml;\n",
              "          element.appendChild(docLink);\n",
              "        }\n",
              "      </script>\n",
              "    </div>\n",
              "  </div>\n",
              "  "
            ]
          },
          "metadata": {},
          "execution_count": 81
        }
      ]
    },
    {
      "cell_type": "code",
      "source": [
        "df_ah.dropna()\n"
      ],
      "metadata": {
        "colab": {
          "base_uri": "https://localhost:8080/",
          "height": 488
        },
        "id": "oJ7AGLYV_J2a",
        "outputId": "d2724f65-b7ec-4440-e4d0-030aa2b55cab"
      },
      "execution_count": 82,
      "outputs": [
        {
          "output_type": "execute_result",
          "data": {
            "text/plain": [
              "                                                         Categoria    2017  \\\n",
              "RECEITAS ORÇAMENTÁRIAS                                                       \n",
              "RECEITA TRIBUTÁRIA                               RECEITAS CORRENTE  102.15   \n",
              "RECEITA DE CONTRIBUIÇÕES                         RECEITAS CORRENTE   99.02   \n",
              "RECEITA PATRIMONIAL                              RECEITAS CORRENTE   97.42   \n",
              "RECEITA DE SERVIÇOS                              RECEITAS CORRENTE   87.72   \n",
              "TRANSFERÊNCIAS CORRENTES                         RECEITAS CORRENTE   96.89   \n",
              "OUTRAS RECEITAS CORRENTES                        RECEITAS CORRENTE  121.02   \n",
              "OPERAÇÕES DE CRÉDITO                           RECEITAS DE CAPITAL   41.05   \n",
              "ALIENAÇÃO DE BENS                              RECEITAS DE CAPITAL    2.54   \n",
              "AMORTIZAÇÕES DE EMPRÉSTIMOS                    RECEITAS DE CAPITAL   95.43   \n",
              "TRANSFERÊNCIAS DE CAPITAL                      RECEITAS DE CAPITAL   23.89   \n",
              "OUTRAS RECEITAS DE CAPITAL                     RECEITAS DE CAPITAL   31.34   \n",
              "RECURSOS ARRECADADOS EM EXERCÍCIOS ANTERIORES    SALDOS ANTERIORES    0.00   \n",
              "SUPERAVIT FINANCEIRO                             SALDOS ANTERIORES     inf   \n",
              "\n",
              "                                                 2018    2019    2020    2021  \n",
              "RECEITAS ORÇAMENTÁRIAS                                                         \n",
              "RECEITA TRIBUTÁRIA                             101.92  106.65  103.96  121.51  \n",
              "RECEITA DE CONTRIBUIÇÕES                        99.31  120.33   93.67   90.36  \n",
              "RECEITA PATRIMONIAL                             71.09  112.94   72.30   98.27  \n",
              "RECEITA DE SERVIÇOS                             43.03  113.54   96.57   66.70  \n",
              "TRANSFERÊNCIAS CORRENTES                       101.96  101.91  109.24  118.01  \n",
              "OUTRAS RECEITAS CORRENTES                      103.17   73.70   62.65   85.69  \n",
              "OPERAÇÕES DE CRÉDITO                            30.90   51.32   75.58   11.85  \n",
              "ALIENAÇÃO DE BENS                                1.93    2.20    2.75   16.58  \n",
              "AMORTIZAÇÕES DE EMPRÉSTIMOS                    105.91   86.46   62.95   99.90  \n",
              "TRANSFERÊNCIAS DE CAPITAL                       55.99   41.90   69.71   77.64  \n",
              "OUTRAS RECEITAS DE CAPITAL                      83.01  283.48   67.62  123.36  \n",
              "RECURSOS ARRECADADOS EM EXERCÍCIOS ANTERIORES    0.00    0.00    0.00    0.00  \n",
              "SUPERAVIT FINANCEIRO                              inf     inf     inf     inf  "
            ],
            "text/html": [
              "\n",
              "  <div id=\"df-3f109d39-77ae-402a-82ec-1c786821e8e2\">\n",
              "    <div class=\"colab-df-container\">\n",
              "      <div>\n",
              "<style scoped>\n",
              "    .dataframe tbody tr th:only-of-type {\n",
              "        vertical-align: middle;\n",
              "    }\n",
              "\n",
              "    .dataframe tbody tr th {\n",
              "        vertical-align: top;\n",
              "    }\n",
              "\n",
              "    .dataframe thead th {\n",
              "        text-align: right;\n",
              "    }\n",
              "</style>\n",
              "<table border=\"1\" class=\"dataframe\">\n",
              "  <thead>\n",
              "    <tr style=\"text-align: right;\">\n",
              "      <th></th>\n",
              "      <th>Categoria</th>\n",
              "      <th>2017</th>\n",
              "      <th>2018</th>\n",
              "      <th>2019</th>\n",
              "      <th>2020</th>\n",
              "      <th>2021</th>\n",
              "    </tr>\n",
              "    <tr>\n",
              "      <th>RECEITAS ORÇAMENTÁRIAS</th>\n",
              "      <th></th>\n",
              "      <th></th>\n",
              "      <th></th>\n",
              "      <th></th>\n",
              "      <th></th>\n",
              "      <th></th>\n",
              "    </tr>\n",
              "  </thead>\n",
              "  <tbody>\n",
              "    <tr>\n",
              "      <th>RECEITA TRIBUTÁRIA</th>\n",
              "      <td>RECEITAS CORRENTE</td>\n",
              "      <td>102.15</td>\n",
              "      <td>101.92</td>\n",
              "      <td>106.65</td>\n",
              "      <td>103.96</td>\n",
              "      <td>121.51</td>\n",
              "    </tr>\n",
              "    <tr>\n",
              "      <th>RECEITA DE CONTRIBUIÇÕES</th>\n",
              "      <td>RECEITAS CORRENTE</td>\n",
              "      <td>99.02</td>\n",
              "      <td>99.31</td>\n",
              "      <td>120.33</td>\n",
              "      <td>93.67</td>\n",
              "      <td>90.36</td>\n",
              "    </tr>\n",
              "    <tr>\n",
              "      <th>RECEITA PATRIMONIAL</th>\n",
              "      <td>RECEITAS CORRENTE</td>\n",
              "      <td>97.42</td>\n",
              "      <td>71.09</td>\n",
              "      <td>112.94</td>\n",
              "      <td>72.30</td>\n",
              "      <td>98.27</td>\n",
              "    </tr>\n",
              "    <tr>\n",
              "      <th>RECEITA DE SERVIÇOS</th>\n",
              "      <td>RECEITAS CORRENTE</td>\n",
              "      <td>87.72</td>\n",
              "      <td>43.03</td>\n",
              "      <td>113.54</td>\n",
              "      <td>96.57</td>\n",
              "      <td>66.70</td>\n",
              "    </tr>\n",
              "    <tr>\n",
              "      <th>TRANSFERÊNCIAS CORRENTES</th>\n",
              "      <td>RECEITAS CORRENTE</td>\n",
              "      <td>96.89</td>\n",
              "      <td>101.96</td>\n",
              "      <td>101.91</td>\n",
              "      <td>109.24</td>\n",
              "      <td>118.01</td>\n",
              "    </tr>\n",
              "    <tr>\n",
              "      <th>OUTRAS RECEITAS CORRENTES</th>\n",
              "      <td>RECEITAS CORRENTE</td>\n",
              "      <td>121.02</td>\n",
              "      <td>103.17</td>\n",
              "      <td>73.70</td>\n",
              "      <td>62.65</td>\n",
              "      <td>85.69</td>\n",
              "    </tr>\n",
              "    <tr>\n",
              "      <th>OPERAÇÕES DE CRÉDITO</th>\n",
              "      <td>RECEITAS DE CAPITAL</td>\n",
              "      <td>41.05</td>\n",
              "      <td>30.90</td>\n",
              "      <td>51.32</td>\n",
              "      <td>75.58</td>\n",
              "      <td>11.85</td>\n",
              "    </tr>\n",
              "    <tr>\n",
              "      <th>ALIENAÇÃO DE BENS</th>\n",
              "      <td>RECEITAS DE CAPITAL</td>\n",
              "      <td>2.54</td>\n",
              "      <td>1.93</td>\n",
              "      <td>2.20</td>\n",
              "      <td>2.75</td>\n",
              "      <td>16.58</td>\n",
              "    </tr>\n",
              "    <tr>\n",
              "      <th>AMORTIZAÇÕES DE EMPRÉSTIMOS</th>\n",
              "      <td>RECEITAS DE CAPITAL</td>\n",
              "      <td>95.43</td>\n",
              "      <td>105.91</td>\n",
              "      <td>86.46</td>\n",
              "      <td>62.95</td>\n",
              "      <td>99.90</td>\n",
              "    </tr>\n",
              "    <tr>\n",
              "      <th>TRANSFERÊNCIAS DE CAPITAL</th>\n",
              "      <td>RECEITAS DE CAPITAL</td>\n",
              "      <td>23.89</td>\n",
              "      <td>55.99</td>\n",
              "      <td>41.90</td>\n",
              "      <td>69.71</td>\n",
              "      <td>77.64</td>\n",
              "    </tr>\n",
              "    <tr>\n",
              "      <th>OUTRAS RECEITAS DE CAPITAL</th>\n",
              "      <td>RECEITAS DE CAPITAL</td>\n",
              "      <td>31.34</td>\n",
              "      <td>83.01</td>\n",
              "      <td>283.48</td>\n",
              "      <td>67.62</td>\n",
              "      <td>123.36</td>\n",
              "    </tr>\n",
              "    <tr>\n",
              "      <th>RECURSOS ARRECADADOS EM EXERCÍCIOS ANTERIORES</th>\n",
              "      <td>SALDOS ANTERIORES</td>\n",
              "      <td>0.00</td>\n",
              "      <td>0.00</td>\n",
              "      <td>0.00</td>\n",
              "      <td>0.00</td>\n",
              "      <td>0.00</td>\n",
              "    </tr>\n",
              "    <tr>\n",
              "      <th>SUPERAVIT FINANCEIRO</th>\n",
              "      <td>SALDOS ANTERIORES</td>\n",
              "      <td>inf</td>\n",
              "      <td>inf</td>\n",
              "      <td>inf</td>\n",
              "      <td>inf</td>\n",
              "      <td>inf</td>\n",
              "    </tr>\n",
              "  </tbody>\n",
              "</table>\n",
              "</div>\n",
              "      <button class=\"colab-df-convert\" onclick=\"convertToInteractive('df-3f109d39-77ae-402a-82ec-1c786821e8e2')\"\n",
              "              title=\"Convert this dataframe to an interactive table.\"\n",
              "              style=\"display:none;\">\n",
              "        \n",
              "  <svg xmlns=\"http://www.w3.org/2000/svg\" height=\"24px\"viewBox=\"0 0 24 24\"\n",
              "       width=\"24px\">\n",
              "    <path d=\"M0 0h24v24H0V0z\" fill=\"none\"/>\n",
              "    <path d=\"M18.56 5.44l.94 2.06.94-2.06 2.06-.94-2.06-.94-.94-2.06-.94 2.06-2.06.94zm-11 1L8.5 8.5l.94-2.06 2.06-.94-2.06-.94L8.5 2.5l-.94 2.06-2.06.94zm10 10l.94 2.06.94-2.06 2.06-.94-2.06-.94-.94-2.06-.94 2.06-2.06.94z\"/><path d=\"M17.41 7.96l-1.37-1.37c-.4-.4-.92-.59-1.43-.59-.52 0-1.04.2-1.43.59L10.3 9.45l-7.72 7.72c-.78.78-.78 2.05 0 2.83L4 21.41c.39.39.9.59 1.41.59.51 0 1.02-.2 1.41-.59l7.78-7.78 2.81-2.81c.8-.78.8-2.07 0-2.86zM5.41 20L4 18.59l7.72-7.72 1.47 1.35L5.41 20z\"/>\n",
              "  </svg>\n",
              "      </button>\n",
              "      \n",
              "  <style>\n",
              "    .colab-df-container {\n",
              "      display:flex;\n",
              "      flex-wrap:wrap;\n",
              "      gap: 12px;\n",
              "    }\n",
              "\n",
              "    .colab-df-convert {\n",
              "      background-color: #E8F0FE;\n",
              "      border: none;\n",
              "      border-radius: 50%;\n",
              "      cursor: pointer;\n",
              "      display: none;\n",
              "      fill: #1967D2;\n",
              "      height: 32px;\n",
              "      padding: 0 0 0 0;\n",
              "      width: 32px;\n",
              "    }\n",
              "\n",
              "    .colab-df-convert:hover {\n",
              "      background-color: #E2EBFA;\n",
              "      box-shadow: 0px 1px 2px rgba(60, 64, 67, 0.3), 0px 1px 3px 1px rgba(60, 64, 67, 0.15);\n",
              "      fill: #174EA6;\n",
              "    }\n",
              "\n",
              "    [theme=dark] .colab-df-convert {\n",
              "      background-color: #3B4455;\n",
              "      fill: #D2E3FC;\n",
              "    }\n",
              "\n",
              "    [theme=dark] .colab-df-convert:hover {\n",
              "      background-color: #434B5C;\n",
              "      box-shadow: 0px 1px 3px 1px rgba(0, 0, 0, 0.15);\n",
              "      filter: drop-shadow(0px 1px 2px rgba(0, 0, 0, 0.3));\n",
              "      fill: #FFFFFF;\n",
              "    }\n",
              "  </style>\n",
              "\n",
              "      <script>\n",
              "        const buttonEl =\n",
              "          document.querySelector('#df-3f109d39-77ae-402a-82ec-1c786821e8e2 button.colab-df-convert');\n",
              "        buttonEl.style.display =\n",
              "          google.colab.kernel.accessAllowed ? 'block' : 'none';\n",
              "\n",
              "        async function convertToInteractive(key) {\n",
              "          const element = document.querySelector('#df-3f109d39-77ae-402a-82ec-1c786821e8e2');\n",
              "          const dataTable =\n",
              "            await google.colab.kernel.invokeFunction('convertToInteractive',\n",
              "                                                     [key], {});\n",
              "          if (!dataTable) return;\n",
              "\n",
              "          const docLinkHtml = 'Like what you see? Visit the ' +\n",
              "            '<a target=\"_blank\" href=https://colab.research.google.com/notebooks/data_table.ipynb>data table notebook</a>'\n",
              "            + ' to learn more about interactive tables.';\n",
              "          element.innerHTML = '';\n",
              "          dataTable['output_type'] = 'display_data';\n",
              "          await google.colab.output.renderOutput(dataTable, element);\n",
              "          const docLink = document.createElement('div');\n",
              "          docLink.innerHTML = docLinkHtml;\n",
              "          element.appendChild(docLink);\n",
              "        }\n",
              "      </script>\n",
              "    </div>\n",
              "  </div>\n",
              "  "
            ]
          },
          "metadata": {},
          "execution_count": 82
        }
      ]
    },
    {
      "cell_type": "code",
      "source": [
        "colors = ['r', 'r', 'b', 'r', 'b']\n",
        "plt.axhline(1, color='k')\n",
        "plt.scatter(q_execucao.index, q_execucao['execução'],c=colors)\n",
        "plt.xlabel('Ano')\n",
        "plt.title('Quociente de execução da receita')\n",
        "plt.savefig('grafico9.png', transparent= True, bbox_inches='tight')"
      ],
      "metadata": {
        "id": "L6Xr-48dzFKQ",
        "colab": {
          "base_uri": "https://localhost:8080/",
          "height": 307
        },
        "outputId": "fa3bc55f-bae7-4aa9-d9ca-ed7e69cd2e8d"
      },
      "execution_count": 83,
      "outputs": [
        {
          "output_type": "display_data",
          "data": {
            "text/plain": [
              "<Figure size 432x288 with 1 Axes>"
            ],
            "image/png": "[encoded data removed]"
          },
          "metadata": {
            "needs_background": "light"
          }
        }
      ]
    }
  ]
}