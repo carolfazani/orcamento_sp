{
  "nbformat": 4,
  "nbformat_minor": 0,
  "metadata": {
    "colab": {
      "name": "Preparando_os_dados.ipynb",
      "provenance": [],
      "collapsed_sections": [
        "rTC2b4rEX5Nb"
      ],
      "authorship_tag": "ABX9TyNGLO2krX311fYOzwc0K5F6",
      "include_colab_link": true
    },
    "kernelspec": {
      "name": "python3",
      "display_name": "Python 3"
    },
    "language_info": {
      "name": "python"
    }
  },
  "cells": [
    {
      "cell_type": "markdown",
      "metadata": {
        "id": "view-in-github",
        "colab_type": "text"
      },
      "source": [
        "<a href=\"https://colab.research.google.com/github/carolfazani/orcamento_sp/blob/main/Preparando_os_dados.ipynb\" target=\"_parent\"><img src=\"https://colab.research.google.com/assets/colab-badge.svg\" alt=\"Open In Colab\"/></a>"
      ]
    },
    {
      "cell_type": "code",
      "execution_count": 544,
      "metadata": {
        "id": "1HguGwWUXqVt"
      },
      "outputs": [],
      "source": [
        "import pandas as pd\n",
        "import numpy as np"
      ]
    },
    {
      "cell_type": "markdown",
      "source": [
        "#1. Coletando os dados:"
      ],
      "metadata": {
        "id": "rTC2b4rEX5Nb"
      }
    },
    {
      "cell_type": "markdown",
      "source": [
        "Para realizar nossa análise orçamentária vamos utilizar os balanços orçamentários do município de São Paulo referentes aos anos de 2017, 2018, 2019, 2020 e 2021, ambos disponíveis no sítio: https://www.prefeitura.sp.gov.br/cidade/secretarias/fazenda/contaspublicas/index.php?p=3212\n",
        "\n",
        "Eu editei as tabelas e as deixei apenas com os dados sobre a arrecadação de receitas. As tabelas editadas você encontra neste link: https://github.com/carolfazani/orcamento_sp/tree/main/balancos\n",
        "\n"
      ],
      "metadata": {
        "id": "b3AVkPIBYE9B"
      }
    },
    {
      "cell_type": "markdown",
      "source": [
        "#2. Limpando os dados:"
      ],
      "metadata": {
        "id": "Cc-9aJ7uX8OM"
      }
    },
    {
      "cell_type": "markdown",
      "source": [
        "2.1 Lendo os arquivos em xlsx e os tranformando em dataframes"
      ],
      "metadata": {
        "id": "1EZnH0AAH4px"
      }
    },
    {
      "cell_type": "code",
      "source": [
        "files = ('r2017.xlsx', 'r2018.xlsx', 'r2019.xlsx', 'r2020.xlsx', 'r2021.xlsx')\n",
        "years = ('2017', '2018', '2019', '2020', '2021')\n",
        "df ={}\n",
        "for year,file in zip(years, files):\n",
        "    df[year] = pd.read_excel(file, index_col = 0)\n",
        "    print(f'shape: {df[year].shape}')\n"
      ],
      "metadata": {
        "colab": {
          "base_uri": "https://localhost:8080/"
        },
        "id": "zwcLSyuwEp7-",
        "outputId": "218c70ab-5580-4575-ccc4-809139a1ad55"
      },
      "execution_count": 545,
      "outputs": [
        {
          "output_type": "stream",
          "name": "stdout",
          "text": [
            "shape: (31, 4)\n",
            "shape: (31, 4)\n",
            "shape: (31, 4)\n",
            "shape: (31, 4)\n",
            "shape: (31, 4)\n"
          ]
        }
      ]
    },
    {
      "cell_type": "markdown",
      "source": [
        "2.2 Renomeando as colunas"
      ],
      "metadata": {
        "id": "uTy30s8FJQrm"
      }
    },
    {
      "cell_type": "code",
      "source": [
        "\n",
        "for year in years:\n",
        "  df[year].columns = ['Previsão_Inicial', 'Previsão_Atualizada',\n",
        "       'Receitas_Realizadas', 'Saldo']\n"
      ],
      "metadata": {
        "id": "LbtaE4iVIorO"
      },
      "execution_count": 546,
      "outputs": []
    },
    {
      "cell_type": "markdown",
      "source": [
        "2.3 Inserindo uma nova coluna"
      ],
      "metadata": {
        "id": "83H7qozCKM25"
      }
    },
    {
      "cell_type": "code",
      "source": [
        "for year in years:\n",
        "  df[year].insert(0, 'Categoria', (np.nan))"
      ],
      "metadata": {
        "id": "wXkLfnoDJuBM"
      },
      "execution_count": 547,
      "outputs": []
    },
    {
      "cell_type": "code",
      "source": [
        "df['2021'].columns"
      ],
      "metadata": {
        "colab": {
          "base_uri": "https://localhost:8080/"
        },
        "id": "UP1mY6MhHSdl",
        "outputId": "ce604493-5258-4d5b-c04d-92e96ebf0e51"
      },
      "execution_count": 548,
      "outputs": [
        {
          "output_type": "execute_result",
          "data": {
            "text/plain": [
              "Index(['Categoria', 'Previsão_Inicial', 'Previsão_Atualizada',\n",
              "       'Receitas_Realizadas', 'Saldo'],\n",
              "      dtype='object')"
            ]
          },
          "metadata": {},
          "execution_count": 548
        }
      ]
    },
    {
      "cell_type": "markdown",
      "source": [
        "2.4 Conferindo se nossos índices são iguais"
      ],
      "metadata": {
        "id": "vhAFNYOCOL5A"
      }
    },
    {
      "cell_type": "code",
      "source": [
        "#capturando os objetos Index\n",
        "idx17 = df['2017'].index\n",
        "idx18 = df['2018'].index\n",
        "idx19 = df['2019'].index\n",
        "idx20 = df['2020'].index\n",
        "idx21 = df['2021'].index\n",
        "\n"
      ],
      "metadata": {
        "id": "2rCfHRTyMlhG"
      },
      "execution_count": 549,
      "outputs": []
    },
    {
      "cell_type": "code",
      "source": [
        "type(idx17)"
      ],
      "metadata": {
        "colab": {
          "base_uri": "https://localhost:8080/"
        },
        "id": "15LLxdfDNV67",
        "outputId": "88797065-54b0-4138-8780-e8717c1d2768"
      },
      "execution_count": 550,
      "outputs": [
        {
          "output_type": "execute_result",
          "data": {
            "text/plain": [
              "pandas.core.indexes.base.Index"
            ]
          },
          "metadata": {},
          "execution_count": 550
        }
      ]
    },
    {
      "cell_type": "code",
      "source": [
        "#todos indices colocados dentro dos parenteses retornaram True\n",
        "idx17.equals(idx21)"
      ],
      "metadata": {
        "colab": {
          "base_uri": "https://localhost:8080/"
        },
        "id": "HTbJe_5dOAcg",
        "outputId": "3f0961b0-00a8-4aa9-c37a-e9ffb937f51b"
      },
      "execution_count": 551,
      "outputs": [
        {
          "output_type": "execute_result",
          "data": {
            "text/plain": [
              "True"
            ]
          },
          "metadata": {},
          "execution_count": 551
        }
      ]
    },
    {
      "cell_type": "markdown",
      "source": [
        "2.5 Removendo linhas"
      ],
      "metadata": {
        "id": "Jpq3eDSIP1e9"
      }
    },
    {
      "cell_type": "code",
      "source": [
        "for year in years:\n",
        "    df[year] = df[year].drop(['RECEITAS  CORRENTES (I)', 'RECEITAS DE CAPITAL (II)','SUBTOTAL DAS RECEITAS (III) = ( I + II)', 'OPERAÇÕES DE CRÉDITO / REFINANCIAMENTO (IV)','TOTAL (VII) = (V + VI)', 'Saldos de Exercícios Anteriores (Utilizados para Créditos', 'Adicionais)','SUBTOTAL COM REFINANCIAMENTO (V) = (III + IV)','Deficit (VI)'])\n"
      ],
      "metadata": {
        "id": "9cEh_Q7mP432"
      },
      "execution_count": 552,
      "outputs": []
    },
    {
      "cell_type": "markdown",
      "source": [
        "2.6 Tratando valores nulos"
      ],
      "metadata": {
        "id": "QVGn0nvqYswf"
      }
    },
    {
      "cell_type": "code",
      "source": [
        "for year in years:\n",
        "    df[year].loc[df[year]['Previsão_Inicial'] == '-', 'Previsão_Inicial'] = 0\n",
        "    df[year].loc[df[year]['Previsão_Atualizada'] == '-', 'Previsão_Atualizada'] = 0\n",
        "    df[year].loc[df[year]['Receitas_Realizadas'] == '-', 'Receitas_Realizadas'] = 0\n",
        "    df[year].loc[df[year]['Saldo'] == '-', 'Saldo'] = 0"
      ],
      "metadata": {
        "id": "KA2qd9FmYxTV"
      },
      "execution_count": 553,
      "outputs": []
    },
    {
      "cell_type": "code",
      "source": [
        "df['2017'].dtypes"
      ],
      "metadata": {
        "colab": {
          "base_uri": "https://localhost:8080/"
        },
        "id": "p5nLQEe7b33O",
        "outputId": "0d0103b2-97fc-4ef5-f481-da458f898b9f"
      },
      "execution_count": 554,
      "outputs": [
        {
          "output_type": "execute_result",
          "data": {
            "text/plain": [
              "Categoria              float64\n",
              "Previsão_Inicial        object\n",
              "Previsão_Atualizada     object\n",
              "Receitas_Realizadas     object\n",
              "Saldo                   object\n",
              "dtype: object"
            ]
          },
          "metadata": {},
          "execution_count": 554
        }
      ]
    },
    {
      "cell_type": "markdown",
      "source": [
        "2.7 Alterando os tipos de valores"
      ],
      "metadata": {
        "id": "wAVu4eKmb_jv"
      }
    },
    {
      "cell_type": "code",
      "source": [
        "for year in years:\n",
        "    df[year]['Previsão_Inicial'] = df[year]['Previsão_Inicial'].astype(float)\n",
        "    df[year]['Previsão_Atualizada'] = df[year]['Previsão_Atualizada'].astype(float)\n",
        "    df[year]['Receitas_Realizadas'] = df[year]['Receitas_Realizadas'].astype(float)\n",
        "    df[year]['Saldo'] = df[year]['Saldo'].astype(float)"
      ],
      "metadata": {
        "id": "OzFbBcADcGtA"
      },
      "execution_count": 555,
      "outputs": []
    },
    {
      "cell_type": "code",
      "source": [
        "df['2018'].dtypes"
      ],
      "metadata": {
        "colab": {
          "base_uri": "https://localhost:8080/"
        },
        "id": "C7Pbkzwlc4Wp",
        "outputId": "e60c9ef5-72dc-45b1-b6ed-a2dffcc8f3ca"
      },
      "execution_count": 556,
      "outputs": [
        {
          "output_type": "execute_result",
          "data": {
            "text/plain": [
              "Categoria              float64\n",
              "Previsão_Inicial       float64\n",
              "Previsão_Atualizada    float64\n",
              "Receitas_Realizadas    float64\n",
              "Saldo                  float64\n",
              "dtype: object"
            ]
          },
          "metadata": {},
          "execution_count": 556
        }
      ]
    },
    {
      "cell_type": "markdown",
      "source": [
        "2.8 Verificando duplicados"
      ],
      "metadata": {
        "id": "73YSs3_rVWT3"
      }
    },
    {
      "cell_type": "code",
      "source": [
        "print(idx17.duplicated(keep = False))\n",
        "print(idx18.duplicated(keep = False))\n",
        "print(idx19.duplicated(keep = False))\n",
        "print(idx20.duplicated(keep = False))\n",
        "print(idx21.duplicated(keep = False))"
      ],
      "metadata": {
        "colab": {
          "base_uri": "https://localhost:8080/"
        },
        "id": "fTwS3lArVTYj",
        "outputId": "406d0388-9dc4-445f-b1ce-5c284c5e1a8d"
      },
      "execution_count": 557,
      "outputs": [
        {
          "output_type": "stream",
          "name": "stdout",
          "text": [
            "[False False False False False False False False False False False False\n",
            " False False False False False False  True  True False  True  True False\n",
            " False False False False False False False]\n",
            "[False False False False False False False False False False False False\n",
            " False False False False False False  True  True False  True  True False\n",
            " False False False False False False False]\n",
            "[False False False False False False False False False False False False\n",
            " False False False False False False  True  True False  True  True False\n",
            " False False False False False False False]\n",
            "[False False False False False False False False False False False False\n",
            " False False False False False False  True  True False  True  True False\n",
            " False False False False False False False]\n",
            "[False False False False False False False False False False False False\n",
            " False False False False False False  True  True False  True  True False\n",
            " False False False False False False False]\n"
          ]
        }
      ]
    },
    {
      "cell_type": "code",
      "source": [
        "for year in years:\n",
        "  print(f'shape: {df[year].shape}')"
      ],
      "metadata": {
        "colab": {
          "base_uri": "https://localhost:8080/"
        },
        "id": "JYLWh4RZiywJ",
        "outputId": "9c7f6449-9474-4fa9-ffce-591e16fdeaf7"
      },
      "execution_count": 558,
      "outputs": [
        {
          "output_type": "stream",
          "name": "stdout",
          "text": [
            "shape: (22, 5)\n",
            "shape: (22, 5)\n",
            "shape: (22, 5)\n",
            "shape: (22, 5)\n",
            "shape: (22, 5)\n"
          ]
        }
      ]
    },
    {
      "cell_type": "code",
      "source": [
        "for year in years:\n",
        "    df[year] = df[year][~df[year].index.duplicated(keep='first')]"
      ],
      "metadata": {
        "id": "CrZnAvqWkw4S"
      },
      "execution_count": 559,
      "outputs": []
    },
    {
      "cell_type": "code",
      "source": [
        "#capturando os novos indices\n",
        "idx17 = df['2017'].index\n",
        "idx18 = df['2018'].index\n",
        "idx19 = df['2019'].index\n",
        "idx20 = df['2020'].index\n",
        "idx21 = df['2021'].index"
      ],
      "metadata": {
        "id": "5fX5dJ3Nfu_u"
      },
      "execution_count": 560,
      "outputs": []
    },
    {
      "cell_type": "code",
      "source": [
        "print(idx17.duplicated(keep = False))\n",
        "print(idx18.duplicated(keep = False))\n",
        "print(idx19.duplicated(keep = False))\n",
        "print(idx20.duplicated(keep = False))\n",
        "print(idx21.duplicated(keep = False))"
      ],
      "metadata": {
        "colab": {
          "base_uri": "https://localhost:8080/"
        },
        "id": "4TR2S3Smfp1G",
        "outputId": "95cf627c-80fa-4d36-b9e6-5c6349c95cc5"
      },
      "execution_count": 561,
      "outputs": [
        {
          "output_type": "stream",
          "name": "stdout",
          "text": [
            "[False False False False False False False False False False False False\n",
            " False False False False False False False False]\n",
            "[False False False False False False False False False False False False\n",
            " False False False False False False False False]\n",
            "[False False False False False False False False False False False False\n",
            " False False False False False False False False]\n",
            "[False False False False False False False False False False False False\n",
            " False False False False False False False False]\n",
            "[False False False False False False False False False False False False\n",
            " False False False False False False False False]\n"
          ]
        }
      ]
    },
    {
      "cell_type": "code",
      "source": [
        "for year in years:\n",
        "  print(f'shape: {df[year].shape}')"
      ],
      "metadata": {
        "colab": {
          "base_uri": "https://localhost:8080/"
        },
        "id": "awWIsV1fijMV",
        "outputId": "204f118d-c2c0-4f34-e2a9-03250118f21b"
      },
      "execution_count": 562,
      "outputs": [
        {
          "output_type": "stream",
          "name": "stdout",
          "text": [
            "shape: (20, 5)\n",
            "shape: (20, 5)\n",
            "shape: (20, 5)\n",
            "shape: (20, 5)\n",
            "shape: (20, 5)\n"
          ]
        }
      ]
    },
    {
      "cell_type": "markdown",
      "source": [
        "#3. Classificando os dados"
      ],
      "metadata": {
        "id": "1TaU_2LhmHwF"
      }
    },
    {
      "cell_type": "code",
      "source": [
        "#classifica as receitas por categoria\n",
        "for year in years:\n",
        "  df[year].loc[0:8,'Categoria'] = \"RECEITAS CORRENTE\"\n",
        "  df[year].loc[8:13, 'Categoria'] ='RECEITAS DE CAPITAL'\n",
        "  df[year].loc[13:17, 'Categoria'] = 'OPERAÇÕES DE CRÉDITO'\n",
        "  df[year].loc[17:20, 'Categoria'] = 'SALDOS ANTERIORES'\n"
      ],
      "metadata": {
        "colab": {
          "base_uri": "https://localhost:8080/"
        },
        "id": "cLvGlat5yZQz",
        "outputId": "aeab526f-266e-477f-e491-109f7b7fb3f0"
      },
      "execution_count": 563,
      "outputs": [
        {
          "output_type": "stream",
          "name": "stderr",
          "text": [
            "/usr/local/lib/python3.7/dist-packages/pandas/core/indexing.py:719: FutureWarning: Slicing a positional slice with .loc is not supported, and will raise TypeError in a future version.  Use .loc with labels or .iloc with positions instead.\n",
            "  indexer = self._get_setitem_indexer(key)\n"
          ]
        }
      ]
    },
    {
      "cell_type": "markdown",
      "source": [
        "#4. Correção monetária pela variação do IPCA"
      ],
      "metadata": {
        "id": "LqZi4riihi8h"
      }
    },
    {
      "cell_type": "markdown",
      "source": [
        "Para analisar os dados orçamentários, primeiro vamos corrigi-los pelo IPCA, mais informações sobre ele você encontra nesse link:  https://www.ibge.gov.br/estatisticas/economicas/precos-e-custos/9256-indice-nacional-de-precos-ao-consumidor-amplo.html?edicao=20932&t=series-historicas"
      ],
      "metadata": {
        "id": "WbiLbWqBBb_a"
      }
    },
    {
      "cell_type": "code",
      "source": [
        "\n",
        "IPCA= {}\n",
        "deflator = 1.24, 1.20, 1.15, 1.10, 1.00\n",
        "for year, defl in zip(years, deflator):\n",
        "  IPCA[year] = defl\n"
      ],
      "metadata": {
        "id": "qI1GwDj5YxTb"
      },
      "execution_count": 564,
      "outputs": []
    },
    {
      "cell_type": "code",
      "source": [
        "\n",
        "for year in years:\n",
        "    df[year]['Previsão_Inicial'] = df[year]['Previsão_Inicial'].mul(IPCA[year])\n",
        "    df[year]['Previsão_Atualizada'] = df[year]['Previsão_Atualizada'].mul(IPCA[year])\n",
        "    df[year]['Receitas_Realizadas'] = df[year]['Receitas_Realizadas'].mul(IPCA[year])\n",
        "    df[year]['Saldo'] = df[year]['Saldo'].mul(IPCA[year])\n"
      ],
      "metadata": {
        "id": "KtXKLt6-bY2t"
      },
      "execution_count": 565,
      "outputs": []
    },
    {
      "cell_type": "markdown",
      "source": [
        "#5. Criando variáveis de análise"
      ],
      "metadata": {
        "id": "5t3ro9Mu2QDq"
      }
    },
    {
      "cell_type": "markdown",
      "source": [
        "As tabelas originais continham linhas com a soma de alguns valores da nossa tabela, essas linhas foram excluidas na etapa da limpeza e agora vamos criar variáveis que vão armazenar esses mesmos valores. "
      ],
      "metadata": {
        "id": "TMjf55V4VKkv"
      }
    },
    {
      "cell_type": "markdown",
      "source": [
        "5.1 Valores por categoria"
      ],
      "metadata": {
        "id": "f6rT2BNhWxRd"
      }
    },
    {
      "cell_type": "code",
      "source": [
        "'''\n",
        "guarda a soma de cada coluna por categoria em uma variável, equivalem as linhas RECEITAS  CORRENTES (I), RECEITAS DE CAPITAL (II),\n",
        "OPERAÇÕES DE CRÉDITO EXTERNAS e Saldos de Exercícios Anteriores da tabela original.\n",
        "'''\n",
        "inicial ={}\n",
        "atualizada = {}\n",
        "realizada = {}\n",
        "saldo = {}\n",
        "for year in years:\n",
        "    inicial[f'{year}'] = df[year].groupby('Categoria')['Previsão_Inicial'].sum().reset_index(name='Previsão_Inicial')\n",
        "    atualizada[f'{year}'] = df[year].groupby('Categoria')['Previsão_Atualizada'].sum().reset_index(name='Previsão_Atualizada')\n",
        "    realizada[f'{year}'] = df[year].groupby('Categoria')['Receitas_Realizadas'].sum().reset_index(name='Receitas_Realizadas')\n",
        "    saldo[f'{year}'] = df[year].groupby('Categoria')['Saldo'].sum().reset_index(name='Saldo')"
      ],
      "metadata": {
        "id": "yVKHWb6b2ayg"
      },
      "execution_count": 566,
      "outputs": []
    },
    {
      "cell_type": "code",
      "source": [
        "inicial['2018']"
      ],
      "metadata": {
        "id": "AJh2I5OHWrX8",
        "colab": {
          "base_uri": "https://localhost:8080/",
          "height": 175
        },
        "outputId": "4f0d6345-6282-48aa-85e4-23716f7c3c99"
      },
      "execution_count": 567,
      "outputs": [
        {
          "output_type": "execute_result",
          "data": {
            "text/plain": [
              "              Categoria  Previsão_Inicial\n",
              "0  OPERAÇÕES DE CRÉDITO      0.000000e+00\n",
              "1     RECEITAS CORRENTE      6.258866e+10\n",
              "2   RECEITAS DE CAPITAL      5.008014e+09\n",
              "3     SALDOS ANTERIORES      4.800000e+07"
            ],
            "text/html": [
              "\n",
              "  <div id=\"df-874268d0-da03-4114-9451-dfe28af8558f\">\n",
              "    <div class=\"colab-df-container\">\n",
              "      <div>\n",
              "<style scoped>\n",
              "    .dataframe tbody tr th:only-of-type {\n",
              "        vertical-align: middle;\n",
              "    }\n",
              "\n",
              "    .dataframe tbody tr th {\n",
              "        vertical-align: top;\n",
              "    }\n",
              "\n",
              "    .dataframe thead th {\n",
              "        text-align: right;\n",
              "    }\n",
              "</style>\n",
              "<table border=\"1\" class=\"dataframe\">\n",
              "  <thead>\n",
              "    <tr style=\"text-align: right;\">\n",
              "      <th></th>\n",
              "      <th>Categoria</th>\n",
              "      <th>Previsão_Inicial</th>\n",
              "    </tr>\n",
              "  </thead>\n",
              "  <tbody>\n",
              "    <tr>\n",
              "      <th>0</th>\n",
              "      <td>OPERAÇÕES DE CRÉDITO</td>\n",
              "      <td>0.000000e+00</td>\n",
              "    </tr>\n",
              "    <tr>\n",
              "      <th>1</th>\n",
              "      <td>RECEITAS CORRENTE</td>\n",
              "      <td>6.258866e+10</td>\n",
              "    </tr>\n",
              "    <tr>\n",
              "      <th>2</th>\n",
              "      <td>RECEITAS DE CAPITAL</td>\n",
              "      <td>5.008014e+09</td>\n",
              "    </tr>\n",
              "    <tr>\n",
              "      <th>3</th>\n",
              "      <td>SALDOS ANTERIORES</td>\n",
              "      <td>4.800000e+07</td>\n",
              "    </tr>\n",
              "  </tbody>\n",
              "</table>\n",
              "</div>\n",
              "      <button class=\"colab-df-convert\" onclick=\"convertToInteractive('df-874268d0-da03-4114-9451-dfe28af8558f')\"\n",
              "              title=\"Convert this dataframe to an interactive table.\"\n",
              "              style=\"display:none;\">\n",
              "        \n",
              "  <svg xmlns=\"http://www.w3.org/2000/svg\" height=\"24px\"viewBox=\"0 0 24 24\"\n",
              "       width=\"24px\">\n",
              "    <path d=\"M0 0h24v24H0V0z\" fill=\"none\"/>\n",
              "    <path d=\"M18.56 5.44l.94 2.06.94-2.06 2.06-.94-2.06-.94-.94-2.06-.94 2.06-2.06.94zm-11 1L8.5 8.5l.94-2.06 2.06-.94-2.06-.94L8.5 2.5l-.94 2.06-2.06.94zm10 10l.94 2.06.94-2.06 2.06-.94-2.06-.94-.94-2.06-.94 2.06-2.06.94z\"/><path d=\"M17.41 7.96l-1.37-1.37c-.4-.4-.92-.59-1.43-.59-.52 0-1.04.2-1.43.59L10.3 9.45l-7.72 7.72c-.78.78-.78 2.05 0 2.83L4 21.41c.39.39.9.59 1.41.59.51 0 1.02-.2 1.41-.59l7.78-7.78 2.81-2.81c.8-.78.8-2.07 0-2.86zM5.41 20L4 18.59l7.72-7.72 1.47 1.35L5.41 20z\"/>\n",
              "  </svg>\n",
              "      </button>\n",
              "      \n",
              "  <style>\n",
              "    .colab-df-container {\n",
              "      display:flex;\n",
              "      flex-wrap:wrap;\n",
              "      gap: 12px;\n",
              "    }\n",
              "\n",
              "    .colab-df-convert {\n",
              "      background-color: #E8F0FE;\n",
              "      border: none;\n",
              "      border-radius: 50%;\n",
              "      cursor: pointer;\n",
              "      display: none;\n",
              "      fill: #1967D2;\n",
              "      height: 32px;\n",
              "      padding: 0 0 0 0;\n",
              "      width: 32px;\n",
              "    }\n",
              "\n",
              "    .colab-df-convert:hover {\n",
              "      background-color: #E2EBFA;\n",
              "      box-shadow: 0px 1px 2px rgba(60, 64, 67, 0.3), 0px 1px 3px 1px rgba(60, 64, 67, 0.15);\n",
              "      fill: #174EA6;\n",
              "    }\n",
              "\n",
              "    [theme=dark] .colab-df-convert {\n",
              "      background-color: #3B4455;\n",
              "      fill: #D2E3FC;\n",
              "    }\n",
              "\n",
              "    [theme=dark] .colab-df-convert:hover {\n",
              "      background-color: #434B5C;\n",
              "      box-shadow: 0px 1px 3px 1px rgba(0, 0, 0, 0.15);\n",
              "      filter: drop-shadow(0px 1px 2px rgba(0, 0, 0, 0.3));\n",
              "      fill: #FFFFFF;\n",
              "    }\n",
              "  </style>\n",
              "\n",
              "      <script>\n",
              "        const buttonEl =\n",
              "          document.querySelector('#df-874268d0-da03-4114-9451-dfe28af8558f button.colab-df-convert');\n",
              "        buttonEl.style.display =\n",
              "          google.colab.kernel.accessAllowed ? 'block' : 'none';\n",
              "\n",
              "        async function convertToInteractive(key) {\n",
              "          const element = document.querySelector('#df-874268d0-da03-4114-9451-dfe28af8558f');\n",
              "          const dataTable =\n",
              "            await google.colab.kernel.invokeFunction('convertToInteractive',\n",
              "                                                     [key], {});\n",
              "          if (!dataTable) return;\n",
              "\n",
              "          const docLinkHtml = 'Like what you see? Visit the ' +\n",
              "            '<a target=\"_blank\" href=https://colab.research.google.com/notebooks/data_table.ipynb>data table notebook</a>'\n",
              "            + ' to learn more about interactive tables.';\n",
              "          element.innerHTML = '';\n",
              "          dataTable['output_type'] = 'display_data';\n",
              "          await google.colab.output.renderOutput(dataTable, element);\n",
              "          const docLink = document.createElement('div');\n",
              "          docLink.innerHTML = docLinkHtml;\n",
              "          element.appendChild(docLink);\n",
              "        }\n",
              "      </script>\n",
              "    </div>\n",
              "  </div>\n",
              "  "
            ]
          },
          "metadata": {},
          "execution_count": 567
        }
      ]
    },
    {
      "cell_type": "code",
      "source": [
        "atualizada['2018']"
      ],
      "metadata": {
        "id": "aU9DsDpP4ktT",
        "colab": {
          "base_uri": "https://localhost:8080/",
          "height": 175
        },
        "outputId": "9f122fe4-a824-42aa-c022-6b55dd8e7709"
      },
      "execution_count": 568,
      "outputs": [
        {
          "output_type": "execute_result",
          "data": {
            "text/plain": [
              "              Categoria  Previsão_Atualizada\n",
              "0  OPERAÇÕES DE CRÉDITO         0.000000e+00\n",
              "1     RECEITAS CORRENTE         6.258866e+10\n",
              "2   RECEITAS DE CAPITAL         5.008014e+09\n",
              "3     SALDOS ANTERIORES         2.026738e+08"
            ],
            "text/html": [
              "\n",
              "  <div id=\"df-89d06482-dec9-4e43-941f-167cd217d4d5\">\n",
              "    <div class=\"colab-df-container\">\n",
              "      <div>\n",
              "<style scoped>\n",
              "    .dataframe tbody tr th:only-of-type {\n",
              "        vertical-align: middle;\n",
              "    }\n",
              "\n",
              "    .dataframe tbody tr th {\n",
              "        vertical-align: top;\n",
              "    }\n",
              "\n",
              "    .dataframe thead th {\n",
              "        text-align: right;\n",
              "    }\n",
              "</style>\n",
              "<table border=\"1\" class=\"dataframe\">\n",
              "  <thead>\n",
              "    <tr style=\"text-align: right;\">\n",
              "      <th></th>\n",
              "      <th>Categoria</th>\n",
              "      <th>Previsão_Atualizada</th>\n",
              "    </tr>\n",
              "  </thead>\n",
              "  <tbody>\n",
              "    <tr>\n",
              "      <th>0</th>\n",
              "      <td>OPERAÇÕES DE CRÉDITO</td>\n",
              "      <td>0.000000e+00</td>\n",
              "    </tr>\n",
              "    <tr>\n",
              "      <th>1</th>\n",
              "      <td>RECEITAS CORRENTE</td>\n",
              "      <td>6.258866e+10</td>\n",
              "    </tr>\n",
              "    <tr>\n",
              "      <th>2</th>\n",
              "      <td>RECEITAS DE CAPITAL</td>\n",
              "      <td>5.008014e+09</td>\n",
              "    </tr>\n",
              "    <tr>\n",
              "      <th>3</th>\n",
              "      <td>SALDOS ANTERIORES</td>\n",
              "      <td>2.026738e+08</td>\n",
              "    </tr>\n",
              "  </tbody>\n",
              "</table>\n",
              "</div>\n",
              "      <button class=\"colab-df-convert\" onclick=\"convertToInteractive('df-89d06482-dec9-4e43-941f-167cd217d4d5')\"\n",
              "              title=\"Convert this dataframe to an interactive table.\"\n",
              "              style=\"display:none;\">\n",
              "        \n",
              "  <svg xmlns=\"http://www.w3.org/2000/svg\" height=\"24px\"viewBox=\"0 0 24 24\"\n",
              "       width=\"24px\">\n",
              "    <path d=\"M0 0h24v24H0V0z\" fill=\"none\"/>\n",
              "    <path d=\"M18.56 5.44l.94 2.06.94-2.06 2.06-.94-2.06-.94-.94-2.06-.94 2.06-2.06.94zm-11 1L8.5 8.5l.94-2.06 2.06-.94-2.06-.94L8.5 2.5l-.94 2.06-2.06.94zm10 10l.94 2.06.94-2.06 2.06-.94-2.06-.94-.94-2.06-.94 2.06-2.06.94z\"/><path d=\"M17.41 7.96l-1.37-1.37c-.4-.4-.92-.59-1.43-.59-.52 0-1.04.2-1.43.59L10.3 9.45l-7.72 7.72c-.78.78-.78 2.05 0 2.83L4 21.41c.39.39.9.59 1.41.59.51 0 1.02-.2 1.41-.59l7.78-7.78 2.81-2.81c.8-.78.8-2.07 0-2.86zM5.41 20L4 18.59l7.72-7.72 1.47 1.35L5.41 20z\"/>\n",
              "  </svg>\n",
              "      </button>\n",
              "      \n",
              "  <style>\n",
              "    .colab-df-container {\n",
              "      display:flex;\n",
              "      flex-wrap:wrap;\n",
              "      gap: 12px;\n",
              "    }\n",
              "\n",
              "    .colab-df-convert {\n",
              "      background-color: #E8F0FE;\n",
              "      border: none;\n",
              "      border-radius: 50%;\n",
              "      cursor: pointer;\n",
              "      display: none;\n",
              "      fill: #1967D2;\n",
              "      height: 32px;\n",
              "      padding: 0 0 0 0;\n",
              "      width: 32px;\n",
              "    }\n",
              "\n",
              "    .colab-df-convert:hover {\n",
              "      background-color: #E2EBFA;\n",
              "      box-shadow: 0px 1px 2px rgba(60, 64, 67, 0.3), 0px 1px 3px 1px rgba(60, 64, 67, 0.15);\n",
              "      fill: #174EA6;\n",
              "    }\n",
              "\n",
              "    [theme=dark] .colab-df-convert {\n",
              "      background-color: #3B4455;\n",
              "      fill: #D2E3FC;\n",
              "    }\n",
              "\n",
              "    [theme=dark] .colab-df-convert:hover {\n",
              "      background-color: #434B5C;\n",
              "      box-shadow: 0px 1px 3px 1px rgba(0, 0, 0, 0.15);\n",
              "      filter: drop-shadow(0px 1px 2px rgba(0, 0, 0, 0.3));\n",
              "      fill: #FFFFFF;\n",
              "    }\n",
              "  </style>\n",
              "\n",
              "      <script>\n",
              "        const buttonEl =\n",
              "          document.querySelector('#df-89d06482-dec9-4e43-941f-167cd217d4d5 button.colab-df-convert');\n",
              "        buttonEl.style.display =\n",
              "          google.colab.kernel.accessAllowed ? 'block' : 'none';\n",
              "\n",
              "        async function convertToInteractive(key) {\n",
              "          const element = document.querySelector('#df-89d06482-dec9-4e43-941f-167cd217d4d5');\n",
              "          const dataTable =\n",
              "            await google.colab.kernel.invokeFunction('convertToInteractive',\n",
              "                                                     [key], {});\n",
              "          if (!dataTable) return;\n",
              "\n",
              "          const docLinkHtml = 'Like what you see? Visit the ' +\n",
              "            '<a target=\"_blank\" href=https://colab.research.google.com/notebooks/data_table.ipynb>data table notebook</a>'\n",
              "            + ' to learn more about interactive tables.';\n",
              "          element.innerHTML = '';\n",
              "          dataTable['output_type'] = 'display_data';\n",
              "          await google.colab.output.renderOutput(dataTable, element);\n",
              "          const docLink = document.createElement('div');\n",
              "          docLink.innerHTML = docLinkHtml;\n",
              "          element.appendChild(docLink);\n",
              "        }\n",
              "      </script>\n",
              "    </div>\n",
              "  </div>\n",
              "  "
            ]
          },
          "metadata": {},
          "execution_count": 568
        }
      ]
    },
    {
      "cell_type": "code",
      "source": [
        "realizada['2018']"
      ],
      "metadata": {
        "id": "CQvsGftqWtDZ",
        "colab": {
          "base_uri": "https://localhost:8080/",
          "height": 175
        },
        "outputId": "b71a9433-1a1f-43cd-c334-a2dfaed33f0c"
      },
      "execution_count": 569,
      "outputs": [
        {
          "output_type": "execute_result",
          "data": {
            "text/plain": [
              "              Categoria  Receitas_Realizadas\n",
              "0  OPERAÇÕES DE CRÉDITO         0.000000e+00\n",
              "1     RECEITAS CORRENTE         6.288545e+10\n",
              "2   RECEITAS DE CAPITAL         2.320167e+09\n",
              "3     SALDOS ANTERIORES         1.546738e+08"
            ],
            "text/html": [
              "\n",
              "  <div id=\"df-d1f5b8c4-efb3-4f47-863f-2fec2d4c2458\">\n",
              "    <div class=\"colab-df-container\">\n",
              "      <div>\n",
              "<style scoped>\n",
              "    .dataframe tbody tr th:only-of-type {\n",
              "        vertical-align: middle;\n",
              "    }\n",
              "\n",
              "    .dataframe tbody tr th {\n",
              "        vertical-align: top;\n",
              "    }\n",
              "\n",
              "    .dataframe thead th {\n",
              "        text-align: right;\n",
              "    }\n",
              "</style>\n",
              "<table border=\"1\" class=\"dataframe\">\n",
              "  <thead>\n",
              "    <tr style=\"text-align: right;\">\n",
              "      <th></th>\n",
              "      <th>Categoria</th>\n",
              "      <th>Receitas_Realizadas</th>\n",
              "    </tr>\n",
              "  </thead>\n",
              "  <tbody>\n",
              "    <tr>\n",
              "      <th>0</th>\n",
              "      <td>OPERAÇÕES DE CRÉDITO</td>\n",
              "      <td>0.000000e+00</td>\n",
              "    </tr>\n",
              "    <tr>\n",
              "      <th>1</th>\n",
              "      <td>RECEITAS CORRENTE</td>\n",
              "      <td>6.288545e+10</td>\n",
              "    </tr>\n",
              "    <tr>\n",
              "      <th>2</th>\n",
              "      <td>RECEITAS DE CAPITAL</td>\n",
              "      <td>2.320167e+09</td>\n",
              "    </tr>\n",
              "    <tr>\n",
              "      <th>3</th>\n",
              "      <td>SALDOS ANTERIORES</td>\n",
              "      <td>1.546738e+08</td>\n",
              "    </tr>\n",
              "  </tbody>\n",
              "</table>\n",
              "</div>\n",
              "      <button class=\"colab-df-convert\" onclick=\"convertToInteractive('df-d1f5b8c4-efb3-4f47-863f-2fec2d4c2458')\"\n",
              "              title=\"Convert this dataframe to an interactive table.\"\n",
              "              style=\"display:none;\">\n",
              "        \n",
              "  <svg xmlns=\"http://www.w3.org/2000/svg\" height=\"24px\"viewBox=\"0 0 24 24\"\n",
              "       width=\"24px\">\n",
              "    <path d=\"M0 0h24v24H0V0z\" fill=\"none\"/>\n",
              "    <path d=\"M18.56 5.44l.94 2.06.94-2.06 2.06-.94-2.06-.94-.94-2.06-.94 2.06-2.06.94zm-11 1L8.5 8.5l.94-2.06 2.06-.94-2.06-.94L8.5 2.5l-.94 2.06-2.06.94zm10 10l.94 2.06.94-2.06 2.06-.94-2.06-.94-.94-2.06-.94 2.06-2.06.94z\"/><path d=\"M17.41 7.96l-1.37-1.37c-.4-.4-.92-.59-1.43-.59-.52 0-1.04.2-1.43.59L10.3 9.45l-7.72 7.72c-.78.78-.78 2.05 0 2.83L4 21.41c.39.39.9.59 1.41.59.51 0 1.02-.2 1.41-.59l7.78-7.78 2.81-2.81c.8-.78.8-2.07 0-2.86zM5.41 20L4 18.59l7.72-7.72 1.47 1.35L5.41 20z\"/>\n",
              "  </svg>\n",
              "      </button>\n",
              "      \n",
              "  <style>\n",
              "    .colab-df-container {\n",
              "      display:flex;\n",
              "      flex-wrap:wrap;\n",
              "      gap: 12px;\n",
              "    }\n",
              "\n",
              "    .colab-df-convert {\n",
              "      background-color: #E8F0FE;\n",
              "      border: none;\n",
              "      border-radius: 50%;\n",
              "      cursor: pointer;\n",
              "      display: none;\n",
              "      fill: #1967D2;\n",
              "      height: 32px;\n",
              "      padding: 0 0 0 0;\n",
              "      width: 32px;\n",
              "    }\n",
              "\n",
              "    .colab-df-convert:hover {\n",
              "      background-color: #E2EBFA;\n",
              "      box-shadow: 0px 1px 2px rgba(60, 64, 67, 0.3), 0px 1px 3px 1px rgba(60, 64, 67, 0.15);\n",
              "      fill: #174EA6;\n",
              "    }\n",
              "\n",
              "    [theme=dark] .colab-df-convert {\n",
              "      background-color: #3B4455;\n",
              "      fill: #D2E3FC;\n",
              "    }\n",
              "\n",
              "    [theme=dark] .colab-df-convert:hover {\n",
              "      background-color: #434B5C;\n",
              "      box-shadow: 0px 1px 3px 1px rgba(0, 0, 0, 0.15);\n",
              "      filter: drop-shadow(0px 1px 2px rgba(0, 0, 0, 0.3));\n",
              "      fill: #FFFFFF;\n",
              "    }\n",
              "  </style>\n",
              "\n",
              "      <script>\n",
              "        const buttonEl =\n",
              "          document.querySelector('#df-d1f5b8c4-efb3-4f47-863f-2fec2d4c2458 button.colab-df-convert');\n",
              "        buttonEl.style.display =\n",
              "          google.colab.kernel.accessAllowed ? 'block' : 'none';\n",
              "\n",
              "        async function convertToInteractive(key) {\n",
              "          const element = document.querySelector('#df-d1f5b8c4-efb3-4f47-863f-2fec2d4c2458');\n",
              "          const dataTable =\n",
              "            await google.colab.kernel.invokeFunction('convertToInteractive',\n",
              "                                                     [key], {});\n",
              "          if (!dataTable) return;\n",
              "\n",
              "          const docLinkHtml = 'Like what you see? Visit the ' +\n",
              "            '<a target=\"_blank\" href=https://colab.research.google.com/notebooks/data_table.ipynb>data table notebook</a>'\n",
              "            + ' to learn more about interactive tables.';\n",
              "          element.innerHTML = '';\n",
              "          dataTable['output_type'] = 'display_data';\n",
              "          await google.colab.output.renderOutput(dataTable, element);\n",
              "          const docLink = document.createElement('div');\n",
              "          docLink.innerHTML = docLinkHtml;\n",
              "          element.appendChild(docLink);\n",
              "        }\n",
              "      </script>\n",
              "    </div>\n",
              "  </div>\n",
              "  "
            ]
          },
          "metadata": {},
          "execution_count": 569
        }
      ]
    },
    {
      "cell_type": "code",
      "source": [
        "saldo['2018']"
      ],
      "metadata": {
        "id": "Av_9J3teWurm",
        "colab": {
          "base_uri": "https://localhost:8080/",
          "height": 175
        },
        "outputId": "1333606a-d5ad-4a2e-92da-c5e6a6647db0"
      },
      "execution_count": 570,
      "outputs": [
        {
          "output_type": "execute_result",
          "data": {
            "text/plain": [
              "              Categoria         Saldo\n",
              "0  OPERAÇÕES DE CRÉDITO  0.000000e+00\n",
              "1     RECEITAS CORRENTE  2.967896e+08\n",
              "2   RECEITAS DE CAPITAL -2.687848e+09\n",
              "3     SALDOS ANTERIORES -4.800000e+07"
            ],
            "text/html": [
              "\n",
              "  <div id=\"df-1daa3022-3501-44cc-afc6-0ef5efa4c55b\">\n",
              "    <div class=\"colab-df-container\">\n",
              "      <div>\n",
              "<style scoped>\n",
              "    .dataframe tbody tr th:only-of-type {\n",
              "        vertical-align: middle;\n",
              "    }\n",
              "\n",
              "    .dataframe tbody tr th {\n",
              "        vertical-align: top;\n",
              "    }\n",
              "\n",
              "    .dataframe thead th {\n",
              "        text-align: right;\n",
              "    }\n",
              "</style>\n",
              "<table border=\"1\" class=\"dataframe\">\n",
              "  <thead>\n",
              "    <tr style=\"text-align: right;\">\n",
              "      <th></th>\n",
              "      <th>Categoria</th>\n",
              "      <th>Saldo</th>\n",
              "    </tr>\n",
              "  </thead>\n",
              "  <tbody>\n",
              "    <tr>\n",
              "      <th>0</th>\n",
              "      <td>OPERAÇÕES DE CRÉDITO</td>\n",
              "      <td>0.000000e+00</td>\n",
              "    </tr>\n",
              "    <tr>\n",
              "      <th>1</th>\n",
              "      <td>RECEITAS CORRENTE</td>\n",
              "      <td>2.967896e+08</td>\n",
              "    </tr>\n",
              "    <tr>\n",
              "      <th>2</th>\n",
              "      <td>RECEITAS DE CAPITAL</td>\n",
              "      <td>-2.687848e+09</td>\n",
              "    </tr>\n",
              "    <tr>\n",
              "      <th>3</th>\n",
              "      <td>SALDOS ANTERIORES</td>\n",
              "      <td>-4.800000e+07</td>\n",
              "    </tr>\n",
              "  </tbody>\n",
              "</table>\n",
              "</div>\n",
              "      <button class=\"colab-df-convert\" onclick=\"convertToInteractive('df-1daa3022-3501-44cc-afc6-0ef5efa4c55b')\"\n",
              "              title=\"Convert this dataframe to an interactive table.\"\n",
              "              style=\"display:none;\">\n",
              "        \n",
              "  <svg xmlns=\"http://www.w3.org/2000/svg\" height=\"24px\"viewBox=\"0 0 24 24\"\n",
              "       width=\"24px\">\n",
              "    <path d=\"M0 0h24v24H0V0z\" fill=\"none\"/>\n",
              "    <path d=\"M18.56 5.44l.94 2.06.94-2.06 2.06-.94-2.06-.94-.94-2.06-.94 2.06-2.06.94zm-11 1L8.5 8.5l.94-2.06 2.06-.94-2.06-.94L8.5 2.5l-.94 2.06-2.06.94zm10 10l.94 2.06.94-2.06 2.06-.94-2.06-.94-.94-2.06-.94 2.06-2.06.94z\"/><path d=\"M17.41 7.96l-1.37-1.37c-.4-.4-.92-.59-1.43-.59-.52 0-1.04.2-1.43.59L10.3 9.45l-7.72 7.72c-.78.78-.78 2.05 0 2.83L4 21.41c.39.39.9.59 1.41.59.51 0 1.02-.2 1.41-.59l7.78-7.78 2.81-2.81c.8-.78.8-2.07 0-2.86zM5.41 20L4 18.59l7.72-7.72 1.47 1.35L5.41 20z\"/>\n",
              "  </svg>\n",
              "      </button>\n",
              "      \n",
              "  <style>\n",
              "    .colab-df-container {\n",
              "      display:flex;\n",
              "      flex-wrap:wrap;\n",
              "      gap: 12px;\n",
              "    }\n",
              "\n",
              "    .colab-df-convert {\n",
              "      background-color: #E8F0FE;\n",
              "      border: none;\n",
              "      border-radius: 50%;\n",
              "      cursor: pointer;\n",
              "      display: none;\n",
              "      fill: #1967D2;\n",
              "      height: 32px;\n",
              "      padding: 0 0 0 0;\n",
              "      width: 32px;\n",
              "    }\n",
              "\n",
              "    .colab-df-convert:hover {\n",
              "      background-color: #E2EBFA;\n",
              "      box-shadow: 0px 1px 2px rgba(60, 64, 67, 0.3), 0px 1px 3px 1px rgba(60, 64, 67, 0.15);\n",
              "      fill: #174EA6;\n",
              "    }\n",
              "\n",
              "    [theme=dark] .colab-df-convert {\n",
              "      background-color: #3B4455;\n",
              "      fill: #D2E3FC;\n",
              "    }\n",
              "\n",
              "    [theme=dark] .colab-df-convert:hover {\n",
              "      background-color: #434B5C;\n",
              "      box-shadow: 0px 1px 3px 1px rgba(0, 0, 0, 0.15);\n",
              "      filter: drop-shadow(0px 1px 2px rgba(0, 0, 0, 0.3));\n",
              "      fill: #FFFFFF;\n",
              "    }\n",
              "  </style>\n",
              "\n",
              "      <script>\n",
              "        const buttonEl =\n",
              "          document.querySelector('#df-1daa3022-3501-44cc-afc6-0ef5efa4c55b button.colab-df-convert');\n",
              "        buttonEl.style.display =\n",
              "          google.colab.kernel.accessAllowed ? 'block' : 'none';\n",
              "\n",
              "        async function convertToInteractive(key) {\n",
              "          const element = document.querySelector('#df-1daa3022-3501-44cc-afc6-0ef5efa4c55b');\n",
              "          const dataTable =\n",
              "            await google.colab.kernel.invokeFunction('convertToInteractive',\n",
              "                                                     [key], {});\n",
              "          if (!dataTable) return;\n",
              "\n",
              "          const docLinkHtml = 'Like what you see? Visit the ' +\n",
              "            '<a target=\"_blank\" href=https://colab.research.google.com/notebooks/data_table.ipynb>data table notebook</a>'\n",
              "            + ' to learn more about interactive tables.';\n",
              "          element.innerHTML = '';\n",
              "          dataTable['output_type'] = 'display_data';\n",
              "          await google.colab.output.renderOutput(dataTable, element);\n",
              "          const docLink = document.createElement('div');\n",
              "          docLink.innerHTML = docLinkHtml;\n",
              "          element.appendChild(docLink);\n",
              "        }\n",
              "      </script>\n",
              "    </div>\n",
              "  </div>\n",
              "  "
            ]
          },
          "metadata": {},
          "execution_count": 570
        }
      ]
    },
    {
      "cell_type": "markdown",
      "source": [
        "5.2 Valores Totais"
      ],
      "metadata": {
        "id": "113o_7oYW6C2"
      }
    },
    {
      "cell_type": "code",
      "source": [
        "'''equivalem a linha TOTAL (VII) = (V + VI) da tabela original, \n",
        "a c_realizada é a soma das receitas realizadas: correntes , de capital e operações de crédito\n",
        "a c_saldo é o total realizado menos a soma das receitas atualizadas: correntes , de capital e operações de crédito '''\n",
        "\n",
        "c_inicial ={}\n",
        "c_atualizada = {}\n",
        "c_realizada = {}\n",
        "c_saldo = {}\n",
        "for year in years:\n",
        "  c_inicial[f'{year}'] = inicial[year]['Previsão_Inicial'].sum()\n",
        "  c_atualizada[f'{year}'] = atualizada[year]['Previsão_Atualizada'].sum()\n",
        "  c_realizada[f'{year}'] = realizada[year]['Receitas_Realizadas'].sum()-realizada[year]['Receitas_Realizadas'][3]\n",
        "  c_saldo[f'{year}'] = (c_realizada[f'{year}'] - (c_atualizada[f'{year}'] - atualizada[year]['Previsão_Atualizada'][3:]))"
      ],
      "metadata": {
        "id": "foKgAa-T66lX"
      },
      "execution_count": 571,
      "outputs": []
    },
    {
      "cell_type": "code",
      "source": [
        "print(c_inicial['2018'])\n",
        "print(c_atualizada['2018'])\n",
        "print(c_realizada['2019'])\n",
        "print(c_saldo['2018'])"
      ],
      "metadata": {
        "id": "qOWT2V-D8ECx",
        "colab": {
          "base_uri": "https://localhost:8080/"
        },
        "outputId": "2c792b0c-d40a-448f-fbd3-45acd8b00f1b"
      },
      "execution_count": 572,
      "outputs": [
        {
          "output_type": "stream",
          "name": "stdout",
          "text": [
            "67644672674.39999\n",
            "67799346522.05999\n",
            "72124529530.39099\n",
            "3   -2.391058e+09\n",
            "Name: Previsão_Atualizada, dtype: float64\n"
          ]
        }
      ]
    },
    {
      "cell_type": "code",
      "source": [
        "'''\n",
        "equivale a linha TOTAL (VII) = (V + VI) da tabela original\n",
        "'''\n",
        "\n",
        "t_inicial ={}\n",
        "t_atualizada = {}\n",
        "t_realizada = {}\n",
        "t_saldo = {}\n",
        "for year in years:\n",
        "  t_inicial[f'{year}'] = df[year]['Previsão_Inicial'].sum()\n",
        "  t_atualizada[f'{year}'] = df[year]['Previsão_Atualizada'].sum()\n",
        "  t_realizada[f'{year}'] = (df[year]['Receitas_Realizadas'].sum() - realizada[year]['Receitas_Realizadas'][3:]).astype(int)\n",
        "  t_saldo[f'{year}'] = (t_realizada[f'{year}'] - (t_atualizada[f'{year}'] - atualizada[year]['Previsão_Atualizada'][3:])).astype(int)"
      ],
      "metadata": {
        "id": "fNDjnRg_8nc4"
      },
      "execution_count": 573,
      "outputs": []
    },
    {
      "cell_type": "code",
      "source": [
        "print(t_inicial['2018'])\n",
        "print(t_atualizada['2018'])\n",
        "print(t_realizada['2018'])\n",
        "print(t_saldo['2018'])"
      ],
      "metadata": {
        "id": "gFtDKF5maQTS",
        "colab": {
          "base_uri": "https://localhost:8080/"
        },
        "outputId": "dc7acba6-6fe2-47c8-da53-d318d1b3025f"
      },
      "execution_count": 574,
      "outputs": [
        {
          "output_type": "stream",
          "name": "stdout",
          "text": [
            "67644672674.399994\n",
            "67799346522.06\n",
            "3    65205614718\n",
            "Name: Receitas_Realizadas, dtype: int64\n",
            "3   -2391057956\n",
            "dtype: int64\n"
          ]
        }
      ]
    },
    {
      "cell_type": "markdown",
      "source": [
        "#6. Indicadores para análise"
      ],
      "metadata": {
        "id": "RXGLGzmP-O4w"
      }
    },
    {
      "cell_type": "markdown",
      "source": [
        "6.1 Quociente de execução da receita"
      ],
      "metadata": {
        "id": "9Q0OiQkQXJDO"
      }
    },
    {
      "cell_type": "markdown",
      "source": [
        "Execução da Receita: Receita Executada/ Receita Prevista\n",
        "\n",
        "\n",
        "* '1' = Receita executada é igual à receita prevista;\n",
        "* '>1' = Receita executada é maior que a prevista, portanto,representa o excesso de arrecadação;\n",
        "* '<1' = Receita executada é menor que a prevista, portanto,representa a falta de arrecadação.\n",
        "\n",
        "\n",
        "\n",
        "\n",
        "\n",
        "\n",
        "*Quociente de execução da receita: Receita Executada Receita Prevista (Kohama, 2000, p. 144-148)*"
      ],
      "metadata": {
        "id": "czdsu1Zm-ZkO"
      }
    },
    {
      "cell_type": "code",
      "source": [
        "q_execucao= {}\n",
        "for year in years:\n",
        "  q_execucao[f'{year}'] = t_realizada[f'{year}']/ t_inicial[f'{year}'] \n",
        "  print(type(q_execucao[f'{year}']))"
      ],
      "metadata": {
        "id": "stYZ01Xp-cfj",
        "colab": {
          "base_uri": "https://localhost:8080/"
        },
        "outputId": "4f839b0b-72be-4d1d-a3f4-13df07955e38"
      },
      "execution_count": 575,
      "outputs": [
        {
          "output_type": "stream",
          "name": "stdout",
          "text": [
            "<class 'pandas.core.series.Series'>\n",
            "<class 'pandas.core.series.Series'>\n",
            "<class 'pandas.core.series.Series'>\n",
            "<class 'pandas.core.series.Series'>\n",
            "<class 'pandas.core.series.Series'>\n"
          ]
        }
      ]
    },
    {
      "cell_type": "code",
      "source": [
        "q_execucao"
      ],
      "metadata": {
        "colab": {
          "base_uri": "https://localhost:8080/"
        },
        "id": "KqL5-QBNfoxe",
        "outputId": "af741e0d-50a5-47d7-c88f-4e65ae3dfff4"
      },
      "execution_count": 576,
      "outputs": [
        {
          "output_type": "execute_result",
          "data": {
            "text/plain": [
              "{'2017': 3    0.946494\n",
              " Name: Receitas_Realizadas, dtype: float64, '2018': 3    0.963943\n",
              " Name: Receitas_Realizadas, dtype: float64, '2019': 3    1.035558\n",
              " Name: Receitas_Realizadas, dtype: float64, '2020': 3    0.966252\n",
              " Name: Receitas_Realizadas, dtype: float64, '2021': 3    1.127835\n",
              " Name: Receitas_Realizadas, dtype: float64}"
            ]
          },
          "metadata": {},
          "execution_count": 576
        }
      ]
    },
    {
      "cell_type": "code",
      "source": [
        "q_execucao = pd.DataFrame(q_execucao)\n",
        "q_execucao = q_execucao.T\n",
        "q_execucao.columns = ['execução']"
      ],
      "metadata": {
        "id": "rN50jW0szR7x"
      },
      "execution_count": 577,
      "outputs": []
    },
    {
      "cell_type": "code",
      "source": [
        "q_execucao.index"
      ],
      "metadata": {
        "colab": {
          "base_uri": "https://localhost:8080/"
        },
        "id": "I6bErmTX2y5A",
        "outputId": "055d03ca-d017-4d83-a19b-38bfe146db5e"
      },
      "execution_count": 578,
      "outputs": [
        {
          "output_type": "execute_result",
          "data": {
            "text/plain": [
              "Index(['2017', '2018', '2019', '2020', '2021'], dtype='object')"
            ]
          },
          "metadata": {},
          "execution_count": 578
        }
      ]
    },
    {
      "cell_type": "markdown",
      "source": [
        "6.2 Análise Horizontal"
      ],
      "metadata": {
        "id": "z5aXjA3kYHzd"
      }
    },
    {
      "cell_type": "markdown",
      "source": [
        "Analise Horizontal: Realizado/ Previsto *100.\n",
        "\n",
        "Demonstra a variação entre a Receita Prevista e a Realizada"
      ],
      "metadata": {
        "id": "6T_u823bf5BP"
      }
    },
    {
      "cell_type": "code",
      "source": [
        "for year in years:\n",
        "    df[year]['AH'] = round(df[year]['Receitas_Realizadas']/df[year]['Previsão_Inicial']*100, 2)\n"
      ],
      "metadata": {
        "id": "v8PBn5bKhDtA"
      },
      "execution_count": 579,
      "outputs": []
    },
    {
      "cell_type": "markdown",
      "source": [
        "6.3 Análise Vertical"
      ],
      "metadata": {
        "id": "urqsAULIZNZu"
      }
    },
    {
      "cell_type": "markdown",
      "source": [
        "Análise Vertical: cada linha realizada/ total realizado *100.\n",
        "\n",
        "Demonstra o peso de cada receita no total arrecadado."
      ],
      "metadata": {
        "id": "8XgRwHRpigJ2"
      }
    },
    {
      "cell_type": "code",
      "source": [
        "for year in years:\n",
        "    df[year]['AV'] = round(df[year]['Receitas_Realizadas'].div(c_realizada[year])*100, 2)"
      ],
      "metadata": {
        "id": "k_DXcVsLi9Q1"
      },
      "execution_count": 580,
      "outputs": []
    },
    {
      "cell_type": "code",
      "source": [
        "df['2017'].head(n=30)"
      ],
      "metadata": {
        "colab": {
          "base_uri": "https://localhost:8080/",
          "height": 1000
        },
        "id": "yoQLbw04hep6",
        "outputId": "dc2a9ba4-52c3-4ce9-e913-59bc1f88147c"
      },
      "execution_count": 581,
      "outputs": [
        {
          "output_type": "execute_result",
          "data": {
            "text/plain": [
              "                                                          Categoria  \\\n",
              "RECEITAS ORÇAMENTÁRIAS                                                \n",
              "RECEITA TRIBUTÁRIA                                RECEITAS CORRENTE   \n",
              "RECEITA DE CONTRIBUIÇÕES                          RECEITAS CORRENTE   \n",
              "RECEITA PATRIMONIAL                               RECEITAS CORRENTE   \n",
              "RECEITA AGROPECUÁRIA                              RECEITAS CORRENTE   \n",
              "RECEITA INDUSTRIAL                                RECEITAS CORRENTE   \n",
              "RECEITA DE SERVIÇOS                               RECEITAS CORRENTE   \n",
              "TRANSFERÊNCIAS CORRENTES                          RECEITAS CORRENTE   \n",
              "OUTRAS RECEITAS CORRENTES                         RECEITAS CORRENTE   \n",
              "OPERAÇÕES DE CRÉDITO                            RECEITAS DE CAPITAL   \n",
              "ALIENAÇÃO DE BENS                               RECEITAS DE CAPITAL   \n",
              "AMORTIZAÇÕES DE EMPRÉSTIMOS                     RECEITAS DE CAPITAL   \n",
              "TRANSFERÊNCIAS DE CAPITAL                       RECEITAS DE CAPITAL   \n",
              "OUTRAS RECEITAS DE CAPITAL                      RECEITAS DE CAPITAL   \n",
              "OPERAÇÕES DE CRÉDITO INTERNAS                  OPERAÇÕES DE CRÉDITO   \n",
              "MOBILIÁRIA                                     OPERAÇÕES DE CRÉDITO   \n",
              "CONTRATUAL                                     OPERAÇÕES DE CRÉDITO   \n",
              "OPERAÇÕES DE CRÉDITO EXTERNAS                  OPERAÇÕES DE CRÉDITO   \n",
              "RECURSOS ARRECADADOS EM EXERCÍCIOS ANTERIORES     SALDOS ANTERIORES   \n",
              "SUPERAVIT FINANCEIRO                              SALDOS ANTERIORES   \n",
              "REABERTURA DE CRÉDITOS ADICIONAIS                 SALDOS ANTERIORES   \n",
              "\n",
              "                                               Previsão_Inicial  \\\n",
              "RECEITAS ORÇAMENTÁRIAS                                            \n",
              "RECEITA TRIBUTÁRIA                                 3.098723e+10   \n",
              "RECEITA DE CONTRIBUIÇÕES                           4.697278e+09   \n",
              "RECEITA PATRIMONIAL                                1.258634e+09   \n",
              "RECEITA AGROPECUÁRIA                               0.000000e+00   \n",
              "RECEITA INDUSTRIAL                                 0.000000e+00   \n",
              "RECEITA DE SERVIÇOS                                7.730245e+08   \n",
              "TRANSFERÊNCIAS CORRENTES                           1.807210e+10   \n",
              "OUTRAS RECEITAS CORRENTES                          5.888677e+09   \n",
              "OPERAÇÕES DE CRÉDITO                               1.341779e+08   \n",
              "ALIENAÇÃO DE BENS                                  1.123876e+09   \n",
              "AMORTIZAÇÕES DE EMPRÉSTIMOS                        2.900204e+07   \n",
              "TRANSFERÊNCIAS DE CAPITAL                          3.332409e+09   \n",
              "OUTRAS RECEITAS DE CAPITAL                         1.400856e+09   \n",
              "OPERAÇÕES DE CRÉDITO INTERNAS                      0.000000e+00   \n",
              "MOBILIÁRIA                                         0.000000e+00   \n",
              "CONTRATUAL                                         0.000000e+00   \n",
              "OPERAÇÕES DE CRÉDITO EXTERNAS                      0.000000e+00   \n",
              "RECURSOS ARRECADADOS EM EXERCÍCIOS ANTERIORES      1.240000e+08   \n",
              "SUPERAVIT FINANCEIRO                               0.000000e+00   \n",
              "REABERTURA DE CRÉDITOS ADICIONAIS                  0.000000e+00   \n",
              "\n",
              "                                               Previsão_Atualizada  \\\n",
              "RECEITAS ORÇAMENTÁRIAS                                               \n",
              "RECEITA TRIBUTÁRIA                                    3.098723e+10   \n",
              "RECEITA DE CONTRIBUIÇÕES                              4.697278e+09   \n",
              "RECEITA PATRIMONIAL                                   1.258634e+09   \n",
              "RECEITA AGROPECUÁRIA                                  0.000000e+00   \n",
              "RECEITA INDUSTRIAL                                    0.000000e+00   \n",
              "RECEITA DE SERVIÇOS                                   7.730245e+08   \n",
              "TRANSFERÊNCIAS CORRENTES                              1.807210e+10   \n",
              "OUTRAS RECEITAS CORRENTES                             5.888677e+09   \n",
              "OPERAÇÕES DE CRÉDITO                                  1.341779e+08   \n",
              "ALIENAÇÃO DE BENS                                     1.123876e+09   \n",
              "AMORTIZAÇÕES DE EMPRÉSTIMOS                           2.900204e+07   \n",
              "TRANSFERÊNCIAS DE CAPITAL                             3.332409e+09   \n",
              "OUTRAS RECEITAS DE CAPITAL                            1.400856e+09   \n",
              "OPERAÇÕES DE CRÉDITO INTERNAS                         0.000000e+00   \n",
              "MOBILIÁRIA                                            0.000000e+00   \n",
              "CONTRATUAL                                            0.000000e+00   \n",
              "OPERAÇÕES DE CRÉDITO EXTERNAS                         0.000000e+00   \n",
              "RECURSOS ARRECADADOS EM EXERCÍCIOS ANTERIORES         1.240000e+08   \n",
              "SUPERAVIT FINANCEIRO                                  2.023454e+08   \n",
              "REABERTURA DE CRÉDITOS ADICIONAIS                     0.000000e+00   \n",
              "\n",
              "                                               Receitas_Realizadas  \\\n",
              "RECEITAS ORÇAMENTÁRIAS                                               \n",
              "RECEITA TRIBUTÁRIA                                    3.165459e+10   \n",
              "RECEITA DE CONTRIBUIÇÕES                              4.651160e+09   \n",
              "RECEITA PATRIMONIAL                                   1.226195e+09   \n",
              "RECEITA AGROPECUÁRIA                                  0.000000e+00   \n",
              "RECEITA INDUSTRIAL                                    0.000000e+00   \n",
              "RECEITA DE SERVIÇOS                                   6.781334e+08   \n",
              "TRANSFERÊNCIAS CORRENTES                              1.750966e+10   \n",
              "OUTRAS RECEITAS CORRENTES                             7.126218e+09   \n",
              "OPERAÇÕES DE CRÉDITO                                  5.508162e+07   \n",
              "ALIENAÇÃO DE BENS                                     2.851099e+07   \n",
              "AMORTIZAÇÕES DE EMPRÉSTIMOS                           2.767711e+07   \n",
              "TRANSFERÊNCIAS DE CAPITAL                             7.961880e+08   \n",
              "OUTRAS RECEITAS DE CAPITAL                            4.390146e+08   \n",
              "OPERAÇÕES DE CRÉDITO INTERNAS                         0.000000e+00   \n",
              "MOBILIÁRIA                                            0.000000e+00   \n",
              "CONTRATUAL                                            0.000000e+00   \n",
              "OPERAÇÕES DE CRÉDITO EXTERNAS                         0.000000e+00   \n",
              "RECURSOS ARRECADADOS EM EXERCÍCIOS ANTERIORES         0.000000e+00   \n",
              "SUPERAVIT FINANCEIRO                                  2.023454e+08   \n",
              "REABERTURA DE CRÉDITOS ADICIONAIS                     0.000000e+00   \n",
              "\n",
              "                                                      Saldo      AH     AV  \n",
              "RECEITAS ORÇAMENTÁRIAS                                                      \n",
              "RECEITA TRIBUTÁRIA                             6.673591e+08  102.15  49.31  \n",
              "RECEITA DE CONTRIBUIÇÕES                      -4.611825e+07   99.02   7.25  \n",
              "RECEITA PATRIMONIAL                           -3.243882e+07   97.42   1.91  \n",
              "RECEITA AGROPECUÁRIA                           0.000000e+00     NaN   0.00  \n",
              "RECEITA INDUSTRIAL                             0.000000e+00     NaN   0.00  \n",
              "RECEITA DE SERVIÇOS                           -9.489108e+07   87.72   1.06  \n",
              "TRANSFERÊNCIAS CORRENTES                      -5.624353e+08   96.89  27.28  \n",
              "OUTRAS RECEITAS CORRENTES                      1.237541e+09  121.02  11.10  \n",
              "OPERAÇÕES DE CRÉDITO                          -7.909630e+07   41.05   0.09  \n",
              "ALIENAÇÃO DE BENS                             -1.095365e+09    2.54   0.04  \n",
              "AMORTIZAÇÕES DE EMPRÉSTIMOS                   -1.324927e+06   95.43   0.04  \n",
              "TRANSFERÊNCIAS DE CAPITAL                     -2.536221e+09   23.89   1.24  \n",
              "OUTRAS RECEITAS DE CAPITAL                    -9.618418e+08   31.34   0.68  \n",
              "OPERAÇÕES DE CRÉDITO INTERNAS                  0.000000e+00     NaN   0.00  \n",
              "MOBILIÁRIA                                     0.000000e+00     NaN   0.00  \n",
              "CONTRATUAL                                     0.000000e+00     NaN   0.00  \n",
              "OPERAÇÕES DE CRÉDITO EXTERNAS                  0.000000e+00     NaN   0.00  \n",
              "RECURSOS ARRECADADOS EM EXERCÍCIOS ANTERIORES -1.240000e+08    0.00   0.00  \n",
              "SUPERAVIT FINANCEIRO                           0.000000e+00     inf   0.32  \n",
              "REABERTURA DE CRÉDITOS ADICIONAIS              0.000000e+00     NaN   0.00  "
            ],
            "text/html": [
              "\n",
              "  <div id=\"df-24f95aa7-9da8-4142-9130-9e054d183fde\">\n",
              "    <div class=\"colab-df-container\">\n",
              "      <div>\n",
              "<style scoped>\n",
              "    .dataframe tbody tr th:only-of-type {\n",
              "        vertical-align: middle;\n",
              "    }\n",
              "\n",
              "    .dataframe tbody tr th {\n",
              "        vertical-align: top;\n",
              "    }\n",
              "\n",
              "    .dataframe thead th {\n",
              "        text-align: right;\n",
              "    }\n",
              "</style>\n",
              "<table border=\"1\" class=\"dataframe\">\n",
              "  <thead>\n",
              "    <tr style=\"text-align: right;\">\n",
              "      <th></th>\n",
              "      <th>Categoria</th>\n",
              "      <th>Previsão_Inicial</th>\n",
              "      <th>Previsão_Atualizada</th>\n",
              "      <th>Receitas_Realizadas</th>\n",
              "      <th>Saldo</th>\n",
              "      <th>AH</th>\n",
              "      <th>AV</th>\n",
              "    </tr>\n",
              "    <tr>\n",
              "      <th>RECEITAS ORÇAMENTÁRIAS</th>\n",
              "      <th></th>\n",
              "      <th></th>\n",
              "      <th></th>\n",
              "      <th></th>\n",
              "      <th></th>\n",
              "      <th></th>\n",
              "      <th></th>\n",
              "    </tr>\n",
              "  </thead>\n",
              "  <tbody>\n",
              "    <tr>\n",
              "      <th>RECEITA TRIBUTÁRIA</th>\n",
              "      <td>RECEITAS CORRENTE</td>\n",
              "      <td>3.098723e+10</td>\n",
              "      <td>3.098723e+10</td>\n",
              "      <td>3.165459e+10</td>\n",
              "      <td>6.673591e+08</td>\n",
              "      <td>102.15</td>\n",
              "      <td>49.31</td>\n",
              "    </tr>\n",
              "    <tr>\n",
              "      <th>RECEITA DE CONTRIBUIÇÕES</th>\n",
              "      <td>RECEITAS CORRENTE</td>\n",
              "      <td>4.697278e+09</td>\n",
              "      <td>4.697278e+09</td>\n",
              "      <td>4.651160e+09</td>\n",
              "      <td>-4.611825e+07</td>\n",
              "      <td>99.02</td>\n",
              "      <td>7.25</td>\n",
              "    </tr>\n",
              "    <tr>\n",
              "      <th>RECEITA PATRIMONIAL</th>\n",
              "      <td>RECEITAS CORRENTE</td>\n",
              "      <td>1.258634e+09</td>\n",
              "      <td>1.258634e+09</td>\n",
              "      <td>1.226195e+09</td>\n",
              "      <td>-3.243882e+07</td>\n",
              "      <td>97.42</td>\n",
              "      <td>1.91</td>\n",
              "    </tr>\n",
              "    <tr>\n",
              "      <th>RECEITA AGROPECUÁRIA</th>\n",
              "      <td>RECEITAS CORRENTE</td>\n",
              "      <td>0.000000e+00</td>\n",
              "      <td>0.000000e+00</td>\n",
              "      <td>0.000000e+00</td>\n",
              "      <td>0.000000e+00</td>\n",
              "      <td>NaN</td>\n",
              "      <td>0.00</td>\n",
              "    </tr>\n",
              "    <tr>\n",
              "      <th>RECEITA INDUSTRIAL</th>\n",
              "      <td>RECEITAS CORRENTE</td>\n",
              "      <td>0.000000e+00</td>\n",
              "      <td>0.000000e+00</td>\n",
              "      <td>0.000000e+00</td>\n",
              "      <td>0.000000e+00</td>\n",
              "      <td>NaN</td>\n",
              "      <td>0.00</td>\n",
              "    </tr>\n",
              "    <tr>\n",
              "      <th>RECEITA DE SERVIÇOS</th>\n",
              "      <td>RECEITAS CORRENTE</td>\n",
              "      <td>7.730245e+08</td>\n",
              "      <td>7.730245e+08</td>\n",
              "      <td>6.781334e+08</td>\n",
              "      <td>-9.489108e+07</td>\n",
              "      <td>87.72</td>\n",
              "      <td>1.06</td>\n",
              "    </tr>\n",
              "    <tr>\n",
              "      <th>TRANSFERÊNCIAS CORRENTES</th>\n",
              "      <td>RECEITAS CORRENTE</td>\n",
              "      <td>1.807210e+10</td>\n",
              "      <td>1.807210e+10</td>\n",
              "      <td>1.750966e+10</td>\n",
              "      <td>-5.624353e+08</td>\n",
              "      <td>96.89</td>\n",
              "      <td>27.28</td>\n",
              "    </tr>\n",
              "    <tr>\n",
              "      <th>OUTRAS RECEITAS CORRENTES</th>\n",
              "      <td>RECEITAS CORRENTE</td>\n",
              "      <td>5.888677e+09</td>\n",
              "      <td>5.888677e+09</td>\n",
              "      <td>7.126218e+09</td>\n",
              "      <td>1.237541e+09</td>\n",
              "      <td>121.02</td>\n",
              "      <td>11.10</td>\n",
              "    </tr>\n",
              "    <tr>\n",
              "      <th>OPERAÇÕES DE CRÉDITO</th>\n",
              "      <td>RECEITAS DE CAPITAL</td>\n",
              "      <td>1.341779e+08</td>\n",
              "      <td>1.341779e+08</td>\n",
              "      <td>5.508162e+07</td>\n",
              "      <td>-7.909630e+07</td>\n",
              "      <td>41.05</td>\n",
              "      <td>0.09</td>\n",
              "    </tr>\n",
              "    <tr>\n",
              "      <th>ALIENAÇÃO DE BENS</th>\n",
              "      <td>RECEITAS DE CAPITAL</td>\n",
              "      <td>1.123876e+09</td>\n",
              "      <td>1.123876e+09</td>\n",
              "      <td>2.851099e+07</td>\n",
              "      <td>-1.095365e+09</td>\n",
              "      <td>2.54</td>\n",
              "      <td>0.04</td>\n",
              "    </tr>\n",
              "    <tr>\n",
              "      <th>AMORTIZAÇÕES DE EMPRÉSTIMOS</th>\n",
              "      <td>RECEITAS DE CAPITAL</td>\n",
              "      <td>2.900204e+07</td>\n",
              "      <td>2.900204e+07</td>\n",
              "      <td>2.767711e+07</td>\n",
              "      <td>-1.324927e+06</td>\n",
              "      <td>95.43</td>\n",
              "      <td>0.04</td>\n",
              "    </tr>\n",
              "    <tr>\n",
              "      <th>TRANSFERÊNCIAS DE CAPITAL</th>\n",
              "      <td>RECEITAS DE CAPITAL</td>\n",
              "      <td>3.332409e+09</td>\n",
              "      <td>3.332409e+09</td>\n",
              "      <td>7.961880e+08</td>\n",
              "      <td>-2.536221e+09</td>\n",
              "      <td>23.89</td>\n",
              "      <td>1.24</td>\n",
              "    </tr>\n",
              "    <tr>\n",
              "      <th>OUTRAS RECEITAS DE CAPITAL</th>\n",
              "      <td>RECEITAS DE CAPITAL</td>\n",
              "      <td>1.400856e+09</td>\n",
              "      <td>1.400856e+09</td>\n",
              "      <td>4.390146e+08</td>\n",
              "      <td>-9.618418e+08</td>\n",
              "      <td>31.34</td>\n",
              "      <td>0.68</td>\n",
              "    </tr>\n",
              "    <tr>\n",
              "      <th>OPERAÇÕES DE CRÉDITO INTERNAS</th>\n",
              "      <td>OPERAÇÕES DE CRÉDITO</td>\n",
              "      <td>0.000000e+00</td>\n",
              "      <td>0.000000e+00</td>\n",
              "      <td>0.000000e+00</td>\n",
              "      <td>0.000000e+00</td>\n",
              "      <td>NaN</td>\n",
              "      <td>0.00</td>\n",
              "    </tr>\n",
              "    <tr>\n",
              "      <th>MOBILIÁRIA</th>\n",
              "      <td>OPERAÇÕES DE CRÉDITO</td>\n",
              "      <td>0.000000e+00</td>\n",
              "      <td>0.000000e+00</td>\n",
              "      <td>0.000000e+00</td>\n",
              "      <td>0.000000e+00</td>\n",
              "      <td>NaN</td>\n",
              "      <td>0.00</td>\n",
              "    </tr>\n",
              "    <tr>\n",
              "      <th>CONTRATUAL</th>\n",
              "      <td>OPERAÇÕES DE CRÉDITO</td>\n",
              "      <td>0.000000e+00</td>\n",
              "      <td>0.000000e+00</td>\n",
              "      <td>0.000000e+00</td>\n",
              "      <td>0.000000e+00</td>\n",
              "      <td>NaN</td>\n",
              "      <td>0.00</td>\n",
              "    </tr>\n",
              "    <tr>\n",
              "      <th>OPERAÇÕES DE CRÉDITO EXTERNAS</th>\n",
              "      <td>OPERAÇÕES DE CRÉDITO</td>\n",
              "      <td>0.000000e+00</td>\n",
              "      <td>0.000000e+00</td>\n",
              "      <td>0.000000e+00</td>\n",
              "      <td>0.000000e+00</td>\n",
              "      <td>NaN</td>\n",
              "      <td>0.00</td>\n",
              "    </tr>\n",
              "    <tr>\n",
              "      <th>RECURSOS ARRECADADOS EM EXERCÍCIOS ANTERIORES</th>\n",
              "      <td>SALDOS ANTERIORES</td>\n",
              "      <td>1.240000e+08</td>\n",
              "      <td>1.240000e+08</td>\n",
              "      <td>0.000000e+00</td>\n",
              "      <td>-1.240000e+08</td>\n",
              "      <td>0.00</td>\n",
              "      <td>0.00</td>\n",
              "    </tr>\n",
              "    <tr>\n",
              "      <th>SUPERAVIT FINANCEIRO</th>\n",
              "      <td>SALDOS ANTERIORES</td>\n",
              "      <td>0.000000e+00</td>\n",
              "      <td>2.023454e+08</td>\n",
              "      <td>2.023454e+08</td>\n",
              "      <td>0.000000e+00</td>\n",
              "      <td>inf</td>\n",
              "      <td>0.32</td>\n",
              "    </tr>\n",
              "    <tr>\n",
              "      <th>REABERTURA DE CRÉDITOS ADICIONAIS</th>\n",
              "      <td>SALDOS ANTERIORES</td>\n",
              "      <td>0.000000e+00</td>\n",
              "      <td>0.000000e+00</td>\n",
              "      <td>0.000000e+00</td>\n",
              "      <td>0.000000e+00</td>\n",
              "      <td>NaN</td>\n",
              "      <td>0.00</td>\n",
              "    </tr>\n",
              "  </tbody>\n",
              "</table>\n",
              "</div>\n",
              "      <button class=\"colab-df-convert\" onclick=\"convertToInteractive('df-24f95aa7-9da8-4142-9130-9e054d183fde')\"\n",
              "              title=\"Convert this dataframe to an interactive table.\"\n",
              "              style=\"display:none;\">\n",
              "        \n",
              "  <svg xmlns=\"http://www.w3.org/2000/svg\" height=\"24px\"viewBox=\"0 0 24 24\"\n",
              "       width=\"24px\">\n",
              "    <path d=\"M0 0h24v24H0V0z\" fill=\"none\"/>\n",
              "    <path d=\"M18.56 5.44l.94 2.06.94-2.06 2.06-.94-2.06-.94-.94-2.06-.94 2.06-2.06.94zm-11 1L8.5 8.5l.94-2.06 2.06-.94-2.06-.94L8.5 2.5l-.94 2.06-2.06.94zm10 10l.94 2.06.94-2.06 2.06-.94-2.06-.94-.94-2.06-.94 2.06-2.06.94z\"/><path d=\"M17.41 7.96l-1.37-1.37c-.4-.4-.92-.59-1.43-.59-.52 0-1.04.2-1.43.59L10.3 9.45l-7.72 7.72c-.78.78-.78 2.05 0 2.83L4 21.41c.39.39.9.59 1.41.59.51 0 1.02-.2 1.41-.59l7.78-7.78 2.81-2.81c.8-.78.8-2.07 0-2.86zM5.41 20L4 18.59l7.72-7.72 1.47 1.35L5.41 20z\"/>\n",
              "  </svg>\n",
              "      </button>\n",
              "      \n",
              "  <style>\n",
              "    .colab-df-container {\n",
              "      display:flex;\n",
              "      flex-wrap:wrap;\n",
              "      gap: 12px;\n",
              "    }\n",
              "\n",
              "    .colab-df-convert {\n",
              "      background-color: #E8F0FE;\n",
              "      border: none;\n",
              "      border-radius: 50%;\n",
              "      cursor: pointer;\n",
              "      display: none;\n",
              "      fill: #1967D2;\n",
              "      height: 32px;\n",
              "      padding: 0 0 0 0;\n",
              "      width: 32px;\n",
              "    }\n",
              "\n",
              "    .colab-df-convert:hover {\n",
              "      background-color: #E2EBFA;\n",
              "      box-shadow: 0px 1px 2px rgba(60, 64, 67, 0.3), 0px 1px 3px 1px rgba(60, 64, 67, 0.15);\n",
              "      fill: #174EA6;\n",
              "    }\n",
              "\n",
              "    [theme=dark] .colab-df-convert {\n",
              "      background-color: #3B4455;\n",
              "      fill: #D2E3FC;\n",
              "    }\n",
              "\n",
              "    [theme=dark] .colab-df-convert:hover {\n",
              "      background-color: #434B5C;\n",
              "      box-shadow: 0px 1px 3px 1px rgba(0, 0, 0, 0.15);\n",
              "      filter: drop-shadow(0px 1px 2px rgba(0, 0, 0, 0.3));\n",
              "      fill: #FFFFFF;\n",
              "    }\n",
              "  </style>\n",
              "\n",
              "      <script>\n",
              "        const buttonEl =\n",
              "          document.querySelector('#df-24f95aa7-9da8-4142-9130-9e054d183fde button.colab-df-convert');\n",
              "        buttonEl.style.display =\n",
              "          google.colab.kernel.accessAllowed ? 'block' : 'none';\n",
              "\n",
              "        async function convertToInteractive(key) {\n",
              "          const element = document.querySelector('#df-24f95aa7-9da8-4142-9130-9e054d183fde');\n",
              "          const dataTable =\n",
              "            await google.colab.kernel.invokeFunction('convertToInteractive',\n",
              "                                                     [key], {});\n",
              "          if (!dataTable) return;\n",
              "\n",
              "          const docLinkHtml = 'Like what you see? Visit the ' +\n",
              "            '<a target=\"_blank\" href=https://colab.research.google.com/notebooks/data_table.ipynb>data table notebook</a>'\n",
              "            + ' to learn more about interactive tables.';\n",
              "          element.innerHTML = '';\n",
              "          dataTable['output_type'] = 'display_data';\n",
              "          await google.colab.output.renderOutput(dataTable, element);\n",
              "          const docLink = document.createElement('div');\n",
              "          docLink.innerHTML = docLinkHtml;\n",
              "          element.appendChild(docLink);\n",
              "        }\n",
              "      </script>\n",
              "    </div>\n",
              "  </div>\n",
              "  "
            ]
          },
          "metadata": {},
          "execution_count": 581
        }
      ]
    },
    {
      "cell_type": "markdown",
      "source": [
        "#7. Elaboração de Gráficos"
      ],
      "metadata": {
        "id": "ZR8ATNuvmY1P"
      }
    },
    {
      "cell_type": "code",
      "source": [
        "#TODO: arrumar eixo y, colcando em bilhões. grafico ah"
      ],
      "metadata": {
        "id": "EKCCGMI0w80A"
      },
      "execution_count": 582,
      "outputs": []
    },
    {
      "cell_type": "markdown",
      "source": [
        "7.1 Evolução da receita"
      ],
      "metadata": {
        "id": "zn-YIZuemgA2"
      }
    },
    {
      "cell_type": "code",
      "source": [
        "import datetime as dt\n",
        "from datetime import timedelta\n",
        "import matplotlib.pyplot as plt\n",
        "import matplotlib.animation as animation\n"
      ],
      "metadata": {
        "id": "nre64vsTnCwC"
      },
      "execution_count": 583,
      "outputs": []
    },
    {
      "cell_type": "code",
      "source": [
        "serie ={}\n",
        "for year in years:\n",
        "  serie[year] = round(c_realizada[year], 2)"
      ],
      "metadata": {
        "id": "05pBukeyqmUO"
      },
      "execution_count": 584,
      "outputs": []
    },
    {
      "cell_type": "code",
      "source": [
        "serie = pd.DataFrame([serie])\n",
        "serie = serie.T\n"
      ],
      "metadata": {
        "id": "CHGuiLiLrOaG"
      },
      "execution_count": 585,
      "outputs": []
    },
    {
      "cell_type": "code",
      "source": [
        "serie.head(n=10)"
      ],
      "metadata": {
        "colab": {
          "base_uri": "https://localhost:8080/",
          "height": 206
        },
        "id": "e2IMbR71sGej",
        "outputId": "64519eb3-2c7c-40fe-f7a4-63adb8c049f2"
      },
      "execution_count": 586,
      "outputs": [
        {
          "output_type": "execute_result",
          "data": {
            "text/plain": [
              "                 0\n",
              "2017  6.419243e+10\n",
              "2018  6.520561e+10\n",
              "2019  7.212453e+10\n",
              "2020  7.332733e+10\n",
              "2021  7.665070e+10"
            ],
            "text/html": [
              "\n",
              "  <div id=\"df-466c0743-b913-4df5-ab8f-2c55f3750c0b\">\n",
              "    <div class=\"colab-df-container\">\n",
              "      <div>\n",
              "<style scoped>\n",
              "    .dataframe tbody tr th:only-of-type {\n",
              "        vertical-align: middle;\n",
              "    }\n",
              "\n",
              "    .dataframe tbody tr th {\n",
              "        vertical-align: top;\n",
              "    }\n",
              "\n",
              "    .dataframe thead th {\n",
              "        text-align: right;\n",
              "    }\n",
              "</style>\n",
              "<table border=\"1\" class=\"dataframe\">\n",
              "  <thead>\n",
              "    <tr style=\"text-align: right;\">\n",
              "      <th></th>\n",
              "      <th>0</th>\n",
              "    </tr>\n",
              "  </thead>\n",
              "  <tbody>\n",
              "    <tr>\n",
              "      <th>2017</th>\n",
              "      <td>6.419243e+10</td>\n",
              "    </tr>\n",
              "    <tr>\n",
              "      <th>2018</th>\n",
              "      <td>6.520561e+10</td>\n",
              "    </tr>\n",
              "    <tr>\n",
              "      <th>2019</th>\n",
              "      <td>7.212453e+10</td>\n",
              "    </tr>\n",
              "    <tr>\n",
              "      <th>2020</th>\n",
              "      <td>7.332733e+10</td>\n",
              "    </tr>\n",
              "    <tr>\n",
              "      <th>2021</th>\n",
              "      <td>7.665070e+10</td>\n",
              "    </tr>\n",
              "  </tbody>\n",
              "</table>\n",
              "</div>\n",
              "      <button class=\"colab-df-convert\" onclick=\"convertToInteractive('df-466c0743-b913-4df5-ab8f-2c55f3750c0b')\"\n",
              "              title=\"Convert this dataframe to an interactive table.\"\n",
              "              style=\"display:none;\">\n",
              "        \n",
              "  <svg xmlns=\"http://www.w3.org/2000/svg\" height=\"24px\"viewBox=\"0 0 24 24\"\n",
              "       width=\"24px\">\n",
              "    <path d=\"M0 0h24v24H0V0z\" fill=\"none\"/>\n",
              "    <path d=\"M18.56 5.44l.94 2.06.94-2.06 2.06-.94-2.06-.94-.94-2.06-.94 2.06-2.06.94zm-11 1L8.5 8.5l.94-2.06 2.06-.94-2.06-.94L8.5 2.5l-.94 2.06-2.06.94zm10 10l.94 2.06.94-2.06 2.06-.94-2.06-.94-.94-2.06-.94 2.06-2.06.94z\"/><path d=\"M17.41 7.96l-1.37-1.37c-.4-.4-.92-.59-1.43-.59-.52 0-1.04.2-1.43.59L10.3 9.45l-7.72 7.72c-.78.78-.78 2.05 0 2.83L4 21.41c.39.39.9.59 1.41.59.51 0 1.02-.2 1.41-.59l7.78-7.78 2.81-2.81c.8-.78.8-2.07 0-2.86zM5.41 20L4 18.59l7.72-7.72 1.47 1.35L5.41 20z\"/>\n",
              "  </svg>\n",
              "      </button>\n",
              "      \n",
              "  <style>\n",
              "    .colab-df-container {\n",
              "      display:flex;\n",
              "      flex-wrap:wrap;\n",
              "      gap: 12px;\n",
              "    }\n",
              "\n",
              "    .colab-df-convert {\n",
              "      background-color: #E8F0FE;\n",
              "      border: none;\n",
              "      border-radius: 50%;\n",
              "      cursor: pointer;\n",
              "      display: none;\n",
              "      fill: #1967D2;\n",
              "      height: 32px;\n",
              "      padding: 0 0 0 0;\n",
              "      width: 32px;\n",
              "    }\n",
              "\n",
              "    .colab-df-convert:hover {\n",
              "      background-color: #E2EBFA;\n",
              "      box-shadow: 0px 1px 2px rgba(60, 64, 67, 0.3), 0px 1px 3px 1px rgba(60, 64, 67, 0.15);\n",
              "      fill: #174EA6;\n",
              "    }\n",
              "\n",
              "    [theme=dark] .colab-df-convert {\n",
              "      background-color: #3B4455;\n",
              "      fill: #D2E3FC;\n",
              "    }\n",
              "\n",
              "    [theme=dark] .colab-df-convert:hover {\n",
              "      background-color: #434B5C;\n",
              "      box-shadow: 0px 1px 3px 1px rgba(0, 0, 0, 0.15);\n",
              "      filter: drop-shadow(0px 1px 2px rgba(0, 0, 0, 0.3));\n",
              "      fill: #FFFFFF;\n",
              "    }\n",
              "  </style>\n",
              "\n",
              "      <script>\n",
              "        const buttonEl =\n",
              "          document.querySelector('#df-466c0743-b913-4df5-ab8f-2c55f3750c0b button.colab-df-convert');\n",
              "        buttonEl.style.display =\n",
              "          google.colab.kernel.accessAllowed ? 'block' : 'none';\n",
              "\n",
              "        async function convertToInteractive(key) {\n",
              "          const element = document.querySelector('#df-466c0743-b913-4df5-ab8f-2c55f3750c0b');\n",
              "          const dataTable =\n",
              "            await google.colab.kernel.invokeFunction('convertToInteractive',\n",
              "                                                     [key], {});\n",
              "          if (!dataTable) return;\n",
              "\n",
              "          const docLinkHtml = 'Like what you see? Visit the ' +\n",
              "            '<a target=\"_blank\" href=https://colab.research.google.com/notebooks/data_table.ipynb>data table notebook</a>'\n",
              "            + ' to learn more about interactive tables.';\n",
              "          element.innerHTML = '';\n",
              "          dataTable['output_type'] = 'display_data';\n",
              "          await google.colab.output.renderOutput(dataTable, element);\n",
              "          const docLink = document.createElement('div');\n",
              "          docLink.innerHTML = docLinkHtml;\n",
              "          element.appendChild(docLink);\n",
              "        }\n",
              "      </script>\n",
              "    </div>\n",
              "  </div>\n",
              "  "
            ]
          },
          "metadata": {},
          "execution_count": 586
        }
      ]
    },
    {
      "cell_type": "code",
      "source": [
        "plt.figure(figsize=(10,6))\n",
        "'''\n",
        "Plotando o gráfico escolhendo o estilo de linha com linestyle e a expessura da mesma com linewidth\n",
        "'''\n",
        "plt.plot(serie, linestyle= '-', linewidth = 2, color = \"mediumblue\")\n",
        "'''\n",
        "Escolhendo o valor inicial e final do eixo y\n",
        "'''\n",
        "plt.ylim(64e9, 79e9)\n",
        "\n",
        "#plt.grid()\n",
        "\n",
        "'''\n",
        "Colocando pontos e legendas nos valores\n",
        "'''\n",
        "plt.scatter(serie.index, serie[0], label = \"Receitas Realizadas\", color = \"mediumblue\", marker = \".\", s =\n",
        "150)\n",
        "plt.legend()\n",
        "\n",
        "'''\n",
        "Rotulando os eixos y e x\n",
        "'''\n",
        "plt.ylabel('R$ Bilhões')\n",
        "plt.xlabel('Ano')\n",
        "\n",
        "'''\n",
        "Colocando os valores na notação cientifica de 10^9\n",
        "'''\n",
        "plt.ticklabel_format(style='sci',axis='y',scilimits=(9,9))\n",
        "\n",
        "plt.savefig('grafico1.png', transparent = True)\n",
        "\n"
      ],
      "metadata": {
        "colab": {
          "base_uri": "https://localhost:8080/",
          "height": 300
        },
        "id": "bknZzDOhruLo",
        "outputId": "91b9d112-485a-4ef4-cb72-b28e17a4b057"
      },
      "execution_count": 626,
      "outputs": [
        {
          "output_type": "display_data",
          "data": {
            "text/plain": [
              "<Figure size 800x480 with 1 Axes>"
            ],
            "image/png": "[encoded data removed]"
          },
          "metadata": {}
        }
      ]
    },
    {
      "cell_type": "markdown",
      "source": [
        "79.173.432.412,36\n",
        "Bilhões"
      ],
      "metadata": {
        "id": "Niw3ydXCJiaF"
      }
    },
    {
      "cell_type": "markdown",
      "source": [
        "7.2 Evolução da receita por categoria"
      ],
      "metadata": {
        "id": "3azKoMFnbtDl"
      }
    },
    {
      "cell_type": "code",
      "source": [
        "serie_credito= {}\n",
        "serie_corrente= {}\n",
        "serie_capital= {}\n",
        "serie_saldos = {}\n",
        "for year in years:\n",
        "  #c_serie[year] = round(c_realizada[year], 2)\n",
        "  serie_credito[year]=   realizada[year]['Receitas_Realizadas'][0]\n",
        "  serie_corrente[year]=   realizada[year]['Receitas_Realizadas'][1]\n",
        "  serie_capital[year]=   realizada[year]['Receitas_Realizadas'][2]\n",
        "  serie_saldos[year] =   realizada[year]['Receitas_Realizadas'][3]\n",
        "\n"
      ],
      "metadata": {
        "id": "8Cmgxtz-wzlA"
      },
      "execution_count": 588,
      "outputs": []
    },
    {
      "cell_type": "code",
      "source": [
        "  serie_credito=   pd.DataFrame([serie_credito])\n",
        "  serie_corrente=   pd.DataFrame([serie_corrente])\n",
        "  serie_capital=   pd.DataFrame([serie_capital])\n",
        "  serie_saldos =   pd.DataFrame([serie_saldos])\n"
      ],
      "metadata": {
        "id": "3zIyUTuf0Ybr"
      },
      "execution_count": 589,
      "outputs": []
    },
    {
      "cell_type": "code",
      "source": [
        "  serie_credito=   serie_credito.T\n",
        "  serie_corrente=   serie_corrente.T\n",
        "  serie_capital=   serie_capital.T\n",
        "  serie_saldos =   serie_saldos.T\n",
        "  \n",
        "  \n",
        "  \n",
        "  "
      ],
      "metadata": {
        "id": "Dvz1fCR95cEg"
      },
      "execution_count": 590,
      "outputs": []
    },
    {
      "cell_type": "code",
      "source": [
        "serie_saldos.head()"
      ],
      "metadata": {
        "colab": {
          "base_uri": "https://localhost:8080/",
          "height": 206
        },
        "id": "kBrS2cd2020t",
        "outputId": "225f3981-bc19-42f7-ff47-f6d06cc367e2"
      },
      "execution_count": 591,
      "outputs": [
        {
          "output_type": "execute_result",
          "data": {
            "text/plain": [
              "                 0\n",
              "2017  2.023454e+08\n",
              "2018  1.546738e+08\n",
              "2019  2.140512e+09\n",
              "2020  2.279084e+09\n",
              "2021  6.553710e+09"
            ],
            "text/html": [
              "\n",
              "  <div id=\"df-ad19f92a-a142-44ff-bfd0-20d2cbd1841e\">\n",
              "    <div class=\"colab-df-container\">\n",
              "      <div>\n",
              "<style scoped>\n",
              "    .dataframe tbody tr th:only-of-type {\n",
              "        vertical-align: middle;\n",
              "    }\n",
              "\n",
              "    .dataframe tbody tr th {\n",
              "        vertical-align: top;\n",
              "    }\n",
              "\n",
              "    .dataframe thead th {\n",
              "        text-align: right;\n",
              "    }\n",
              "</style>\n",
              "<table border=\"1\" class=\"dataframe\">\n",
              "  <thead>\n",
              "    <tr style=\"text-align: right;\">\n",
              "      <th></th>\n",
              "      <th>0</th>\n",
              "    </tr>\n",
              "  </thead>\n",
              "  <tbody>\n",
              "    <tr>\n",
              "      <th>2017</th>\n",
              "      <td>2.023454e+08</td>\n",
              "    </tr>\n",
              "    <tr>\n",
              "      <th>2018</th>\n",
              "      <td>1.546738e+08</td>\n",
              "    </tr>\n",
              "    <tr>\n",
              "      <th>2019</th>\n",
              "      <td>2.140512e+09</td>\n",
              "    </tr>\n",
              "    <tr>\n",
              "      <th>2020</th>\n",
              "      <td>2.279084e+09</td>\n",
              "    </tr>\n",
              "    <tr>\n",
              "      <th>2021</th>\n",
              "      <td>6.553710e+09</td>\n",
              "    </tr>\n",
              "  </tbody>\n",
              "</table>\n",
              "</div>\n",
              "      <button class=\"colab-df-convert\" onclick=\"convertToInteractive('df-ad19f92a-a142-44ff-bfd0-20d2cbd1841e')\"\n",
              "              title=\"Convert this dataframe to an interactive table.\"\n",
              "              style=\"display:none;\">\n",
              "        \n",
              "  <svg xmlns=\"http://www.w3.org/2000/svg\" height=\"24px\"viewBox=\"0 0 24 24\"\n",
              "       width=\"24px\">\n",
              "    <path d=\"M0 0h24v24H0V0z\" fill=\"none\"/>\n",
              "    <path d=\"M18.56 5.44l.94 2.06.94-2.06 2.06-.94-2.06-.94-.94-2.06-.94 2.06-2.06.94zm-11 1L8.5 8.5l.94-2.06 2.06-.94-2.06-.94L8.5 2.5l-.94 2.06-2.06.94zm10 10l.94 2.06.94-2.06 2.06-.94-2.06-.94-.94-2.06-.94 2.06-2.06.94z\"/><path d=\"M17.41 7.96l-1.37-1.37c-.4-.4-.92-.59-1.43-.59-.52 0-1.04.2-1.43.59L10.3 9.45l-7.72 7.72c-.78.78-.78 2.05 0 2.83L4 21.41c.39.39.9.59 1.41.59.51 0 1.02-.2 1.41-.59l7.78-7.78 2.81-2.81c.8-.78.8-2.07 0-2.86zM5.41 20L4 18.59l7.72-7.72 1.47 1.35L5.41 20z\"/>\n",
              "  </svg>\n",
              "      </button>\n",
              "      \n",
              "  <style>\n",
              "    .colab-df-container {\n",
              "      display:flex;\n",
              "      flex-wrap:wrap;\n",
              "      gap: 12px;\n",
              "    }\n",
              "\n",
              "    .colab-df-convert {\n",
              "      background-color: #E8F0FE;\n",
              "      border: none;\n",
              "      border-radius: 50%;\n",
              "      cursor: pointer;\n",
              "      display: none;\n",
              "      fill: #1967D2;\n",
              "      height: 32px;\n",
              "      padding: 0 0 0 0;\n",
              "      width: 32px;\n",
              "    }\n",
              "\n",
              "    .colab-df-convert:hover {\n",
              "      background-color: #E2EBFA;\n",
              "      box-shadow: 0px 1px 2px rgba(60, 64, 67, 0.3), 0px 1px 3px 1px rgba(60, 64, 67, 0.15);\n",
              "      fill: #174EA6;\n",
              "    }\n",
              "\n",
              "    [theme=dark] .colab-df-convert {\n",
              "      background-color: #3B4455;\n",
              "      fill: #D2E3FC;\n",
              "    }\n",
              "\n",
              "    [theme=dark] .colab-df-convert:hover {\n",
              "      background-color: #434B5C;\n",
              "      box-shadow: 0px 1px 3px 1px rgba(0, 0, 0, 0.15);\n",
              "      filter: drop-shadow(0px 1px 2px rgba(0, 0, 0, 0.3));\n",
              "      fill: #FFFFFF;\n",
              "    }\n",
              "  </style>\n",
              "\n",
              "      <script>\n",
              "        const buttonEl =\n",
              "          document.querySelector('#df-ad19f92a-a142-44ff-bfd0-20d2cbd1841e button.colab-df-convert');\n",
              "        buttonEl.style.display =\n",
              "          google.colab.kernel.accessAllowed ? 'block' : 'none';\n",
              "\n",
              "        async function convertToInteractive(key) {\n",
              "          const element = document.querySelector('#df-ad19f92a-a142-44ff-bfd0-20d2cbd1841e');\n",
              "          const dataTable =\n",
              "            await google.colab.kernel.invokeFunction('convertToInteractive',\n",
              "                                                     [key], {});\n",
              "          if (!dataTable) return;\n",
              "\n",
              "          const docLinkHtml = 'Like what you see? Visit the ' +\n",
              "            '<a target=\"_blank\" href=https://colab.research.google.com/notebooks/data_table.ipynb>data table notebook</a>'\n",
              "            + ' to learn more about interactive tables.';\n",
              "          element.innerHTML = '';\n",
              "          dataTable['output_type'] = 'display_data';\n",
              "          await google.colab.output.renderOutput(dataTable, element);\n",
              "          const docLink = document.createElement('div');\n",
              "          docLink.innerHTML = docLinkHtml;\n",
              "          element.appendChild(docLink);\n",
              "        }\n",
              "      </script>\n",
              "    </div>\n",
              "  </div>\n",
              "  "
            ]
          },
          "metadata": {},
          "execution_count": 591
        }
      ]
    },
    {
      "cell_type": "code",
      "source": [
        "realizada['2021']['Receitas_Realizadas'][:]"
      ],
      "metadata": {
        "colab": {
          "base_uri": "https://localhost:8080/"
        },
        "id": "WBEgp2l1GVOV",
        "outputId": "1c021f76-377f-4055-de4c-3cb492751d7c"
      },
      "execution_count": 592,
      "outputs": [
        {
          "output_type": "execute_result",
          "data": {
            "text/plain": [
              "0    0.000000e+00\n",
              "1    7.308958e+10\n",
              "2    3.561113e+09\n",
              "3    6.553710e+09\n",
              "Name: Receitas_Realizadas, dtype: float64"
            ]
          },
          "metadata": {},
          "execution_count": 592
        }
      ]
    },
    {
      "cell_type": "code",
      "source": [
        "'''\n",
        "parameters = {'xtick.labelsize': 18,\n",
        "          'ytick.labelsize': 18,\n",
        "          'axes.labelsize': 18,\n",
        "          'axes.titlesize': 20}\n",
        "plt.rcParams.update(parameters)\n",
        "'''\n",
        "fig1, f1_axes = plt.subplots(ncols=2, nrows=2, figsize = (24,19))\n",
        "fig1.suptitle(\"Receitas por categoria\", size=24)\n",
        "\n",
        "f1_axes[0,0].set_ylim(0, 79e9)\n",
        "f1_axes[0,1].set_ylim(60e9, 75e9)\n",
        "f1_axes[1,0].set_ylim(0, 7e9)\n",
        "f1_axes[1,1].set_ylim(0, 7e9)\n",
        "\n",
        "f1_axes[0,0].plot(serie_credito, linestyle= '-', linewidth = 9, color = 'red')\n",
        "f1_axes[0,1].plot(serie_corrente, linestyle= '-', linewidth = 2, color = \"mediumblue\")\n",
        "f1_axes[1,0].plot(serie_capital, linestyle= '-', linewidth = 2, color = \"mediumblue\")\n",
        "f1_axes[1,1].plot(serie_saldos, linestyle= '-', linewidth = 2, color = \"mediumblue\")\n",
        "\n",
        "f1_axes[0,0].set_title('Operações de Crédito')\n",
        "f1_axes[0,1].set_title('Receitas Correntes')\n",
        "f1_axes[1,0].set_title('Receitas de Capital')\n",
        "f1_axes[1,1].set_title('Saldos de Exercícios Anteriores')\n",
        "\n",
        "f1_axes[0,0].set_xlabel('Ano')\n",
        "f1_axes[0,1].set_xlabel('Ano')\n",
        "f1_axes[1,0].set_xlabel('Ano')\n",
        "f1_axes[1,1].set_xlabel('Ano')\n",
        "\n",
        "f1_axes[0,0].set_ylabel('R$ Bilhões')\n",
        "f1_axes[0,1].set_ylabel('R$ Bilhões')\n",
        "f1_axes[1,0].set_ylabel('R$ Bilhões')\n",
        "f1_axes[1,1].set_ylabel('R$ Bilhões')\n",
        "\n",
        "f1_axes[0,0].axis(ymin=0,ymax=10)\n",
        "#f1_axes[0,0].ticklabel_format(style='sci', axis='y', scilimits=(9,9))\n",
        "f1_axes[0,1].ticklabel_format(style='sci', axis='y',scilimits=(9,9))\n",
        "f1_axes[1,0].ticklabel_format(style='sci', axis='y',scilimits=(9,9))\n",
        "f1_axes[1,1].ticklabel_format(style='sci', axis='y',scilimits=(9,9))\n",
        "\n",
        "#f1_axes[0,0].axis(ymin=0,ymax=72000000000)\n",
        "\n",
        "f1_axes[0,0].scatter(serie_credito.index, serie_credito[0], color = \"mediumblue\", marker = \".\", s =\n",
        "150)\n",
        "f1_axes[0,1].scatter(serie_corrente.index, serie_corrente[0], color = \"mediumblue\", marker = \".\", s =\n",
        "150)\n",
        "f1_axes[1,0].scatter(serie_capital.index, serie_capital[0], color = \"mediumblue\", marker = \".\", s =\n",
        "150)\n",
        "f1_axes[1,1].scatter(serie_saldos.index, serie_saldos[0], color = \"mediumblue\", marker = \".\", s =\n",
        "150)\n",
        "\n",
        "\n",
        "\n",
        "\n",
        "plt.savefig('grafico2.png', transparent = True)"
      ],
      "metadata": {
        "colab": {
          "base_uri": "https://localhost:8080/",
          "height": 962
        },
        "id": "RZTrKRvCvw9s",
        "outputId": "e9838ee2-0ec6-4e3f-fb7e-7adf5d835307"
      },
      "execution_count": 627,
      "outputs": [
        {
          "output_type": "display_data",
          "data": {
            "text/plain": [
              "<Figure size 1920x1520 with 4 Axes>"
            ],
            "image/png": "[encoded data removed]"
          },
          "metadata": {}
        }
      ]
    },
    {
      "cell_type": "markdown",
      "source": [
        "7.3 "
      ],
      "metadata": {
        "id": "o1Sm67smbzA7"
      }
    },
    {
      "cell_type": "code",
      "source": [
        "'''\n",
        "Formando um dataframe com as receitas realizadas de todos os anos linha a linha\n",
        "'''\n",
        "df_total = pd.concat([df['2017']['Categoria'], df['2017']['Receitas_Realizadas']], axis=1, ignore_index=True)\n",
        "df_total = pd.concat([df_total, df['2018']['Receitas_Realizadas']], axis=1, ignore_index=True)\n",
        "df_total = pd.concat([df_total, df['2019']['Receitas_Realizadas']], axis=1, ignore_index=True)\n",
        "df_total = pd.concat([df_total, df['2020']['Receitas_Realizadas']], axis=1, ignore_index=True)\n",
        "df_total = pd.concat([df_total, df['2021']['Receitas_Realizadas']], axis=1, ignore_index=True)\n",
        "df_total.columns = ['Categoria', '2017', '2018', '2019', '2020', '2021']"
      ],
      "metadata": {
        "id": "_u5VaHiEw7kD"
      },
      "execution_count": 594,
      "outputs": []
    },
    {
      "cell_type": "code",
      "source": [
        "df_total"
      ],
      "metadata": {
        "colab": {
          "base_uri": "https://localhost:8080/",
          "height": 752
        },
        "id": "9kbrxu-RwGGS",
        "outputId": "a96be695-7190-4c4a-b493-388474c4a9dc"
      },
      "execution_count": 595,
      "outputs": [
        {
          "output_type": "execute_result",
          "data": {
            "text/plain": [
              "                                                          Categoria  \\\n",
              "RECEITAS ORÇAMENTÁRIAS                                                \n",
              "RECEITA TRIBUTÁRIA                                RECEITAS CORRENTE   \n",
              "RECEITA DE CONTRIBUIÇÕES                          RECEITAS CORRENTE   \n",
              "RECEITA PATRIMONIAL                               RECEITAS CORRENTE   \n",
              "RECEITA AGROPECUÁRIA                              RECEITAS CORRENTE   \n",
              "RECEITA INDUSTRIAL                                RECEITAS CORRENTE   \n",
              "RECEITA DE SERVIÇOS                               RECEITAS CORRENTE   \n",
              "TRANSFERÊNCIAS CORRENTES                          RECEITAS CORRENTE   \n",
              "OUTRAS RECEITAS CORRENTES                         RECEITAS CORRENTE   \n",
              "OPERAÇÕES DE CRÉDITO                            RECEITAS DE CAPITAL   \n",
              "ALIENAÇÃO DE BENS                               RECEITAS DE CAPITAL   \n",
              "AMORTIZAÇÕES DE EMPRÉSTIMOS                     RECEITAS DE CAPITAL   \n",
              "TRANSFERÊNCIAS DE CAPITAL                       RECEITAS DE CAPITAL   \n",
              "OUTRAS RECEITAS DE CAPITAL                      RECEITAS DE CAPITAL   \n",
              "OPERAÇÕES DE CRÉDITO INTERNAS                  OPERAÇÕES DE CRÉDITO   \n",
              "MOBILIÁRIA                                     OPERAÇÕES DE CRÉDITO   \n",
              "CONTRATUAL                                     OPERAÇÕES DE CRÉDITO   \n",
              "OPERAÇÕES DE CRÉDITO EXTERNAS                  OPERAÇÕES DE CRÉDITO   \n",
              "RECURSOS ARRECADADOS EM EXERCÍCIOS ANTERIORES     SALDOS ANTERIORES   \n",
              "SUPERAVIT FINANCEIRO                              SALDOS ANTERIORES   \n",
              "REABERTURA DE CRÉDITOS ADICIONAIS                 SALDOS ANTERIORES   \n",
              "\n",
              "                                                       2017          2018  \\\n",
              "RECEITAS ORÇAMENTÁRIAS                                                      \n",
              "RECEITA TRIBUTÁRIA                             3.165459e+10  3.566721e+10   \n",
              "RECEITA DE CONTRIBUIÇÕES                       4.651160e+09  4.736998e+09   \n",
              "RECEITA PATRIMONIAL                            1.226195e+09  9.271229e+08   \n",
              "RECEITA AGROPECUÁRIA                           0.000000e+00  0.000000e+00   \n",
              "RECEITA INDUSTRIAL                             0.000000e+00  0.000000e+00   \n",
              "RECEITA DE SERVIÇOS                            6.781334e+08  3.090118e+08   \n",
              "TRANSFERÊNCIAS CORRENTES                       1.750966e+10  1.821181e+10   \n",
              "OUTRAS RECEITAS CORRENTES                      7.126218e+09  3.033289e+09   \n",
              "OPERAÇÕES DE CRÉDITO                           5.508162e+07  1.786037e+08   \n",
              "ALIENAÇÃO DE BENS                              2.851099e+07  2.691381e+07   \n",
              "AMORTIZAÇÕES DE EMPRÉSTIMOS                    2.767711e+07  2.809988e+07   \n",
              "TRANSFERÊNCIAS DE CAPITAL                      7.961880e+08  8.565466e+08   \n",
              "OUTRAS RECEITAS DE CAPITAL                     4.390146e+08  1.230003e+09   \n",
              "OPERAÇÕES DE CRÉDITO INTERNAS                  0.000000e+00  0.000000e+00   \n",
              "MOBILIÁRIA                                     0.000000e+00  0.000000e+00   \n",
              "CONTRATUAL                                     0.000000e+00  0.000000e+00   \n",
              "OPERAÇÕES DE CRÉDITO EXTERNAS                  0.000000e+00  0.000000e+00   \n",
              "RECURSOS ARRECADADOS EM EXERCÍCIOS ANTERIORES  0.000000e+00  0.000000e+00   \n",
              "SUPERAVIT FINANCEIRO                           2.023454e+08  1.546738e+08   \n",
              "REABERTURA DE CRÉDITOS ADICIONAIS              0.000000e+00  0.000000e+00   \n",
              "\n",
              "                                                       2019          2020  \\\n",
              "RECEITAS ORÇAMENTÁRIAS                                                      \n",
              "RECEITA TRIBUTÁRIA                             3.888067e+10  3.888822e+10   \n",
              "RECEITA DE CONTRIBUIÇÕES                       5.728853e+09  5.686587e+09   \n",
              "RECEITA PATRIMONIAL                            1.396119e+09  2.735958e+09   \n",
              "RECEITA AGROPECUÁRIA                           0.000000e+00  0.000000e+00   \n",
              "RECEITA INDUSTRIAL                             0.000000e+00  0.000000e+00   \n",
              "RECEITA DE SERVIÇOS                            2.893740e+08  4.996831e+08   \n",
              "TRANSFERÊNCIAS CORRENTES                       1.880227e+10  2.078308e+10   \n",
              "OUTRAS RECEITAS CORRENTES                      2.407117e+09  1.709026e+09   \n",
              "OPERAÇÕES DE CRÉDITO                           3.347870e+08  5.612165e+08   \n",
              "ALIENAÇÃO DE BENS                              3.482471e+07  5.532504e+07   \n",
              "AMORTIZAÇÕES DE EMPRÉSTIMOS                    2.644835e+07  2.255168e+07   \n",
              "TRANSFERÊNCIAS DE CAPITAL                      6.887996e+08  8.269763e+08   \n",
              "OUTRAS RECEITAS DE CAPITAL                     3.535266e+09  1.558709e+09   \n",
              "OPERAÇÕES DE CRÉDITO INTERNAS                  0.000000e+00  0.000000e+00   \n",
              "MOBILIÁRIA                                     0.000000e+00  0.000000e+00   \n",
              "CONTRATUAL                                     0.000000e+00  0.000000e+00   \n",
              "OPERAÇÕES DE CRÉDITO EXTERNAS                  0.000000e+00  0.000000e+00   \n",
              "RECURSOS ARRECADADOS EM EXERCÍCIOS ANTERIORES  0.000000e+00  0.000000e+00   \n",
              "SUPERAVIT FINANCEIRO                           2.140512e+09  2.279084e+09   \n",
              "REABERTURA DE CRÉDITOS ADICIONAIS              0.000000e+00  0.000000e+00   \n",
              "\n",
              "                                                       2021  \n",
              "RECEITAS ORÇAMENTÁRIAS                                       \n",
              "RECEITA TRIBUTÁRIA                             4.377135e+10  \n",
              "RECEITA DE CONTRIBUIÇÕES                       5.149676e+09  \n",
              "RECEITA PATRIMONIAL                            1.716641e+09  \n",
              "RECEITA AGROPECUÁRIA                           0.000000e+00  \n",
              "RECEITA INDUSTRIAL                             0.000000e+00  \n",
              "RECEITA DE SERVIÇOS                            2.897719e+08  \n",
              "TRANSFERÊNCIAS CORRENTES                       2.034601e+10  \n",
              "OUTRAS RECEITAS CORRENTES                      1.816134e+09  \n",
              "OPERAÇÕES DE CRÉDITO                           1.221780e+08  \n",
              "ALIENAÇÃO DE BENS                              9.821570e+07  \n",
              "AMORTIZAÇÕES DE EMPRÉSTIMOS                    2.144332e+07  \n",
              "TRANSFERÊNCIAS DE CAPITAL                      6.571330e+08  \n",
              "OUTRAS RECEITAS DE CAPITAL                     2.662143e+09  \n",
              "OPERAÇÕES DE CRÉDITO INTERNAS                  0.000000e+00  \n",
              "MOBILIÁRIA                                     0.000000e+00  \n",
              "CONTRATUAL                                     0.000000e+00  \n",
              "OPERAÇÕES DE CRÉDITO EXTERNAS                  0.000000e+00  \n",
              "RECURSOS ARRECADADOS EM EXERCÍCIOS ANTERIORES  0.000000e+00  \n",
              "SUPERAVIT FINANCEIRO                           6.553710e+09  \n",
              "REABERTURA DE CRÉDITOS ADICIONAIS              0.000000e+00  "
            ],
            "text/html": [
              "\n",
              "  <div id=\"df-dae9fc44-855a-440b-afad-265cb4fbb8a9\">\n",
              "    <div class=\"colab-df-container\">\n",
              "      <div>\n",
              "<style scoped>\n",
              "    .dataframe tbody tr th:only-of-type {\n",
              "        vertical-align: middle;\n",
              "    }\n",
              "\n",
              "    .dataframe tbody tr th {\n",
              "        vertical-align: top;\n",
              "    }\n",
              "\n",
              "    .dataframe thead th {\n",
              "        text-align: right;\n",
              "    }\n",
              "</style>\n",
              "<table border=\"1\" class=\"dataframe\">\n",
              "  <thead>\n",
              "    <tr style=\"text-align: right;\">\n",
              "      <th></th>\n",
              "      <th>Categoria</th>\n",
              "      <th>2017</th>\n",
              "      <th>2018</th>\n",
              "      <th>2019</th>\n",
              "      <th>2020</th>\n",
              "      <th>2021</th>\n",
              "    </tr>\n",
              "    <tr>\n",
              "      <th>RECEITAS ORÇAMENTÁRIAS</th>\n",
              "      <th></th>\n",
              "      <th></th>\n",
              "      <th></th>\n",
              "      <th></th>\n",
              "      <th></th>\n",
              "      <th></th>\n",
              "    </tr>\n",
              "  </thead>\n",
              "  <tbody>\n",
              "    <tr>\n",
              "      <th>RECEITA TRIBUTÁRIA</th>\n",
              "      <td>RECEITAS CORRENTE</td>\n",
              "      <td>3.165459e+10</td>\n",
              "      <td>3.566721e+10</td>\n",
              "      <td>3.888067e+10</td>\n",
              "      <td>3.888822e+10</td>\n",
              "      <td>4.377135e+10</td>\n",
              "    </tr>\n",
              "    <tr>\n",
              "      <th>RECEITA DE CONTRIBUIÇÕES</th>\n",
              "      <td>RECEITAS CORRENTE</td>\n",
              "      <td>4.651160e+09</td>\n",
              "      <td>4.736998e+09</td>\n",
              "      <td>5.728853e+09</td>\n",
              "      <td>5.686587e+09</td>\n",
              "      <td>5.149676e+09</td>\n",
              "    </tr>\n",
              "    <tr>\n",
              "      <th>RECEITA PATRIMONIAL</th>\n",
              "      <td>RECEITAS CORRENTE</td>\n",
              "      <td>1.226195e+09</td>\n",
              "      <td>9.271229e+08</td>\n",
              "      <td>1.396119e+09</td>\n",
              "      <td>2.735958e+09</td>\n",
              "      <td>1.716641e+09</td>\n",
              "    </tr>\n",
              "    <tr>\n",
              "      <th>RECEITA AGROPECUÁRIA</th>\n",
              "      <td>RECEITAS CORRENTE</td>\n",
              "      <td>0.000000e+00</td>\n",
              "      <td>0.000000e+00</td>\n",
              "      <td>0.000000e+00</td>\n",
              "      <td>0.000000e+00</td>\n",
              "      <td>0.000000e+00</td>\n",
              "    </tr>\n",
              "    <tr>\n",
              "      <th>RECEITA INDUSTRIAL</th>\n",
              "      <td>RECEITAS CORRENTE</td>\n",
              "      <td>0.000000e+00</td>\n",
              "      <td>0.000000e+00</td>\n",
              "      <td>0.000000e+00</td>\n",
              "      <td>0.000000e+00</td>\n",
              "      <td>0.000000e+00</td>\n",
              "    </tr>\n",
              "    <tr>\n",
              "      <th>RECEITA DE SERVIÇOS</th>\n",
              "      <td>RECEITAS CORRENTE</td>\n",
              "      <td>6.781334e+08</td>\n",
              "      <td>3.090118e+08</td>\n",
              "      <td>2.893740e+08</td>\n",
              "      <td>4.996831e+08</td>\n",
              "      <td>2.897719e+08</td>\n",
              "    </tr>\n",
              "    <tr>\n",
              "      <th>TRANSFERÊNCIAS CORRENTES</th>\n",
              "      <td>RECEITAS CORRENTE</td>\n",
              "      <td>1.750966e+10</td>\n",
              "      <td>1.821181e+10</td>\n",
              "      <td>1.880227e+10</td>\n",
              "      <td>2.078308e+10</td>\n",
              "      <td>2.034601e+10</td>\n",
              "    </tr>\n",
              "    <tr>\n",
              "      <th>OUTRAS RECEITAS CORRENTES</th>\n",
              "      <td>RECEITAS CORRENTE</td>\n",
              "      <td>7.126218e+09</td>\n",
              "      <td>3.033289e+09</td>\n",
              "      <td>2.407117e+09</td>\n",
              "      <td>1.709026e+09</td>\n",
              "      <td>1.816134e+09</td>\n",
              "    </tr>\n",
              "    <tr>\n",
              "      <th>OPERAÇÕES DE CRÉDITO</th>\n",
              "      <td>RECEITAS DE CAPITAL</td>\n",
              "      <td>5.508162e+07</td>\n",
              "      <td>1.786037e+08</td>\n",
              "      <td>3.347870e+08</td>\n",
              "      <td>5.612165e+08</td>\n",
              "      <td>1.221780e+08</td>\n",
              "    </tr>\n",
              "    <tr>\n",
              "      <th>ALIENAÇÃO DE BENS</th>\n",
              "      <td>RECEITAS DE CAPITAL</td>\n",
              "      <td>2.851099e+07</td>\n",
              "      <td>2.691381e+07</td>\n",
              "      <td>3.482471e+07</td>\n",
              "      <td>5.532504e+07</td>\n",
              "      <td>9.821570e+07</td>\n",
              "    </tr>\n",
              "    <tr>\n",
              "      <th>AMORTIZAÇÕES DE EMPRÉSTIMOS</th>\n",
              "      <td>RECEITAS DE CAPITAL</td>\n",
              "      <td>2.767711e+07</td>\n",
              "      <td>2.809988e+07</td>\n",
              "      <td>2.644835e+07</td>\n",
              "      <td>2.255168e+07</td>\n",
              "      <td>2.144332e+07</td>\n",
              "    </tr>\n",
              "    <tr>\n",
              "      <th>TRANSFERÊNCIAS DE CAPITAL</th>\n",
              "      <td>RECEITAS DE CAPITAL</td>\n",
              "      <td>7.961880e+08</td>\n",
              "      <td>8.565466e+08</td>\n",
              "      <td>6.887996e+08</td>\n",
              "      <td>8.269763e+08</td>\n",
              "      <td>6.571330e+08</td>\n",
              "    </tr>\n",
              "    <tr>\n",
              "      <th>OUTRAS RECEITAS DE CAPITAL</th>\n",
              "      <td>RECEITAS DE CAPITAL</td>\n",
              "      <td>4.390146e+08</td>\n",
              "      <td>1.230003e+09</td>\n",
              "      <td>3.535266e+09</td>\n",
              "      <td>1.558709e+09</td>\n",
              "      <td>2.662143e+09</td>\n",
              "    </tr>\n",
              "    <tr>\n",
              "      <th>OPERAÇÕES DE CRÉDITO INTERNAS</th>\n",
              "      <td>OPERAÇÕES DE CRÉDITO</td>\n",
              "      <td>0.000000e+00</td>\n",
              "      <td>0.000000e+00</td>\n",
              "      <td>0.000000e+00</td>\n",
              "      <td>0.000000e+00</td>\n",
              "      <td>0.000000e+00</td>\n",
              "    </tr>\n",
              "    <tr>\n",
              "      <th>MOBILIÁRIA</th>\n",
              "      <td>OPERAÇÕES DE CRÉDITO</td>\n",
              "      <td>0.000000e+00</td>\n",
              "      <td>0.000000e+00</td>\n",
              "      <td>0.000000e+00</td>\n",
              "      <td>0.000000e+00</td>\n",
              "      <td>0.000000e+00</td>\n",
              "    </tr>\n",
              "    <tr>\n",
              "      <th>CONTRATUAL</th>\n",
              "      <td>OPERAÇÕES DE CRÉDITO</td>\n",
              "      <td>0.000000e+00</td>\n",
              "      <td>0.000000e+00</td>\n",
              "      <td>0.000000e+00</td>\n",
              "      <td>0.000000e+00</td>\n",
              "      <td>0.000000e+00</td>\n",
              "    </tr>\n",
              "    <tr>\n",
              "      <th>OPERAÇÕES DE CRÉDITO EXTERNAS</th>\n",
              "      <td>OPERAÇÕES DE CRÉDITO</td>\n",
              "      <td>0.000000e+00</td>\n",
              "      <td>0.000000e+00</td>\n",
              "      <td>0.000000e+00</td>\n",
              "      <td>0.000000e+00</td>\n",
              "      <td>0.000000e+00</td>\n",
              "    </tr>\n",
              "    <tr>\n",
              "      <th>RECURSOS ARRECADADOS EM EXERCÍCIOS ANTERIORES</th>\n",
              "      <td>SALDOS ANTERIORES</td>\n",
              "      <td>0.000000e+00</td>\n",
              "      <td>0.000000e+00</td>\n",
              "      <td>0.000000e+00</td>\n",
              "      <td>0.000000e+00</td>\n",
              "      <td>0.000000e+00</td>\n",
              "    </tr>\n",
              "    <tr>\n",
              "      <th>SUPERAVIT FINANCEIRO</th>\n",
              "      <td>SALDOS ANTERIORES</td>\n",
              "      <td>2.023454e+08</td>\n",
              "      <td>1.546738e+08</td>\n",
              "      <td>2.140512e+09</td>\n",
              "      <td>2.279084e+09</td>\n",
              "      <td>6.553710e+09</td>\n",
              "    </tr>\n",
              "    <tr>\n",
              "      <th>REABERTURA DE CRÉDITOS ADICIONAIS</th>\n",
              "      <td>SALDOS ANTERIORES</td>\n",
              "      <td>0.000000e+00</td>\n",
              "      <td>0.000000e+00</td>\n",
              "      <td>0.000000e+00</td>\n",
              "      <td>0.000000e+00</td>\n",
              "      <td>0.000000e+00</td>\n",
              "    </tr>\n",
              "  </tbody>\n",
              "</table>\n",
              "</div>\n",
              "      <button class=\"colab-df-convert\" onclick=\"convertToInteractive('df-dae9fc44-855a-440b-afad-265cb4fbb8a9')\"\n",
              "              title=\"Convert this dataframe to an interactive table.\"\n",
              "              style=\"display:none;\">\n",
              "        \n",
              "  <svg xmlns=\"http://www.w3.org/2000/svg\" height=\"24px\"viewBox=\"0 0 24 24\"\n",
              "       width=\"24px\">\n",
              "    <path d=\"M0 0h24v24H0V0z\" fill=\"none\"/>\n",
              "    <path d=\"M18.56 5.44l.94 2.06.94-2.06 2.06-.94-2.06-.94-.94-2.06-.94 2.06-2.06.94zm-11 1L8.5 8.5l.94-2.06 2.06-.94-2.06-.94L8.5 2.5l-.94 2.06-2.06.94zm10 10l.94 2.06.94-2.06 2.06-.94-2.06-.94-.94-2.06-.94 2.06-2.06.94z\"/><path d=\"M17.41 7.96l-1.37-1.37c-.4-.4-.92-.59-1.43-.59-.52 0-1.04.2-1.43.59L10.3 9.45l-7.72 7.72c-.78.78-.78 2.05 0 2.83L4 21.41c.39.39.9.59 1.41.59.51 0 1.02-.2 1.41-.59l7.78-7.78 2.81-2.81c.8-.78.8-2.07 0-2.86zM5.41 20L4 18.59l7.72-7.72 1.47 1.35L5.41 20z\"/>\n",
              "  </svg>\n",
              "      </button>\n",
              "      \n",
              "  <style>\n",
              "    .colab-df-container {\n",
              "      display:flex;\n",
              "      flex-wrap:wrap;\n",
              "      gap: 12px;\n",
              "    }\n",
              "\n",
              "    .colab-df-convert {\n",
              "      background-color: #E8F0FE;\n",
              "      border: none;\n",
              "      border-radius: 50%;\n",
              "      cursor: pointer;\n",
              "      display: none;\n",
              "      fill: #1967D2;\n",
              "      height: 32px;\n",
              "      padding: 0 0 0 0;\n",
              "      width: 32px;\n",
              "    }\n",
              "\n",
              "    .colab-df-convert:hover {\n",
              "      background-color: #E2EBFA;\n",
              "      box-shadow: 0px 1px 2px rgba(60, 64, 67, 0.3), 0px 1px 3px 1px rgba(60, 64, 67, 0.15);\n",
              "      fill: #174EA6;\n",
              "    }\n",
              "\n",
              "    [theme=dark] .colab-df-convert {\n",
              "      background-color: #3B4455;\n",
              "      fill: #D2E3FC;\n",
              "    }\n",
              "\n",
              "    [theme=dark] .colab-df-convert:hover {\n",
              "      background-color: #434B5C;\n",
              "      box-shadow: 0px 1px 3px 1px rgba(0, 0, 0, 0.15);\n",
              "      filter: drop-shadow(0px 1px 2px rgba(0, 0, 0, 0.3));\n",
              "      fill: #FFFFFF;\n",
              "    }\n",
              "  </style>\n",
              "\n",
              "      <script>\n",
              "        const buttonEl =\n",
              "          document.querySelector('#df-dae9fc44-855a-440b-afad-265cb4fbb8a9 button.colab-df-convert');\n",
              "        buttonEl.style.display =\n",
              "          google.colab.kernel.accessAllowed ? 'block' : 'none';\n",
              "\n",
              "        async function convertToInteractive(key) {\n",
              "          const element = document.querySelector('#df-dae9fc44-855a-440b-afad-265cb4fbb8a9');\n",
              "          const dataTable =\n",
              "            await google.colab.kernel.invokeFunction('convertToInteractive',\n",
              "                                                     [key], {});\n",
              "          if (!dataTable) return;\n",
              "\n",
              "          const docLinkHtml = 'Like what you see? Visit the ' +\n",
              "            '<a target=\"_blank\" href=https://colab.research.google.com/notebooks/data_table.ipynb>data table notebook</a>'\n",
              "            + ' to learn more about interactive tables.';\n",
              "          element.innerHTML = '';\n",
              "          dataTable['output_type'] = 'display_data';\n",
              "          await google.colab.output.renderOutput(dataTable, element);\n",
              "          const docLink = document.createElement('div');\n",
              "          docLink.innerHTML = docLinkHtml;\n",
              "          element.appendChild(docLink);\n",
              "        }\n",
              "      </script>\n",
              "    </div>\n",
              "  </div>\n",
              "  "
            ]
          },
          "metadata": {},
          "execution_count": 595
        }
      ]
    },
    {
      "cell_type": "code",
      "source": [
        "'''\n",
        "Querys com os valores linha a linha, separados por categoria\n",
        "'''\n",
        "querysaldos = df_total.query('Categoria == [\"SALDOS ANTERIORES\"]')\n",
        "querysaldos = querysaldos.drop(columns=['Categoria'])\n",
        "querycredito = df_total.query('Categoria == [\"OPERAÇÕES DE CRÉDITO\"]')\n",
        "querycredito = querycredito.drop(columns=['Categoria'])\n",
        "querycorrente = df_total.query('Categoria == [\"RECEITAS CORRENTE\"]')\n",
        "querycorrente = querycorrente.drop(columns=['Categoria'])\n",
        "querycapital = df_total.query('Categoria == [\"RECEITAS DE CAPITAL\"]')\n",
        "querycapital = querycapital.drop(columns=['Categoria'])\n"
      ],
      "metadata": {
        "id": "TQUhA3jq1A1i"
      },
      "execution_count": 596,
      "outputs": []
    },
    {
      "cell_type": "code",
      "source": [
        "querysaldos =   querysaldos.T   \n",
        "querycredito =   querycredito.T\n",
        "querycorrente =   querycorrente.T\n",
        "querycapital =   querycapital.T "
      ],
      "metadata": {
        "id": "VfQdwVll3QPA"
      },
      "execution_count": 597,
      "outputs": []
    },
    {
      "cell_type": "code",
      "source": [
        "querysaldos"
      ],
      "metadata": {
        "colab": {
          "base_uri": "https://localhost:8080/",
          "height": 206
        },
        "id": "mhRB4v0v3TYH",
        "outputId": "6acf68c4-6681-4a04-9904-1b4f92786304"
      },
      "execution_count": 598,
      "outputs": [
        {
          "output_type": "execute_result",
          "data": {
            "text/plain": [
              "RECEITAS ORÇAMENTÁRIAS  RECURSOS ARRECADADOS EM EXERCÍCIOS ANTERIORES  \\\n",
              "2017                                                              0.0   \n",
              "2018                                                              0.0   \n",
              "2019                                                              0.0   \n",
              "2020                                                              0.0   \n",
              "2021                                                              0.0   \n",
              "\n",
              "RECEITAS ORÇAMENTÁRIAS  SUPERAVIT FINANCEIRO  \\\n",
              "2017                            2.023454e+08   \n",
              "2018                            1.546738e+08   \n",
              "2019                            2.140512e+09   \n",
              "2020                            2.279084e+09   \n",
              "2021                            6.553710e+09   \n",
              "\n",
              "RECEITAS ORÇAMENTÁRIAS  REABERTURA DE CRÉDITOS ADICIONAIS  \n",
              "2017                                                  0.0  \n",
              "2018                                                  0.0  \n",
              "2019                                                  0.0  \n",
              "2020                                                  0.0  \n",
              "2021                                                  0.0  "
            ],
            "text/html": [
              "\n",
              "  <div id=\"df-0fccb003-a4b4-41c7-b4d1-dde29b2ce3d1\">\n",
              "    <div class=\"colab-df-container\">\n",
              "      <div>\n",
              "<style scoped>\n",
              "    .dataframe tbody tr th:only-of-type {\n",
              "        vertical-align: middle;\n",
              "    }\n",
              "\n",
              "    .dataframe tbody tr th {\n",
              "        vertical-align: top;\n",
              "    }\n",
              "\n",
              "    .dataframe thead th {\n",
              "        text-align: right;\n",
              "    }\n",
              "</style>\n",
              "<table border=\"1\" class=\"dataframe\">\n",
              "  <thead>\n",
              "    <tr style=\"text-align: right;\">\n",
              "      <th>RECEITAS ORÇAMENTÁRIAS</th>\n",
              "      <th>RECURSOS ARRECADADOS EM EXERCÍCIOS ANTERIORES</th>\n",
              "      <th>SUPERAVIT FINANCEIRO</th>\n",
              "      <th>REABERTURA DE CRÉDITOS ADICIONAIS</th>\n",
              "    </tr>\n",
              "  </thead>\n",
              "  <tbody>\n",
              "    <tr>\n",
              "      <th>2017</th>\n",
              "      <td>0.0</td>\n",
              "      <td>2.023454e+08</td>\n",
              "      <td>0.0</td>\n",
              "    </tr>\n",
              "    <tr>\n",
              "      <th>2018</th>\n",
              "      <td>0.0</td>\n",
              "      <td>1.546738e+08</td>\n",
              "      <td>0.0</td>\n",
              "    </tr>\n",
              "    <tr>\n",
              "      <th>2019</th>\n",
              "      <td>0.0</td>\n",
              "      <td>2.140512e+09</td>\n",
              "      <td>0.0</td>\n",
              "    </tr>\n",
              "    <tr>\n",
              "      <th>2020</th>\n",
              "      <td>0.0</td>\n",
              "      <td>2.279084e+09</td>\n",
              "      <td>0.0</td>\n",
              "    </tr>\n",
              "    <tr>\n",
              "      <th>2021</th>\n",
              "      <td>0.0</td>\n",
              "      <td>6.553710e+09</td>\n",
              "      <td>0.0</td>\n",
              "    </tr>\n",
              "  </tbody>\n",
              "</table>\n",
              "</div>\n",
              "      <button class=\"colab-df-convert\" onclick=\"convertToInteractive('df-0fccb003-a4b4-41c7-b4d1-dde29b2ce3d1')\"\n",
              "              title=\"Convert this dataframe to an interactive table.\"\n",
              "              style=\"display:none;\">\n",
              "        \n",
              "  <svg xmlns=\"http://www.w3.org/2000/svg\" height=\"24px\"viewBox=\"0 0 24 24\"\n",
              "       width=\"24px\">\n",
              "    <path d=\"M0 0h24v24H0V0z\" fill=\"none\"/>\n",
              "    <path d=\"M18.56 5.44l.94 2.06.94-2.06 2.06-.94-2.06-.94-.94-2.06-.94 2.06-2.06.94zm-11 1L8.5 8.5l.94-2.06 2.06-.94-2.06-.94L8.5 2.5l-.94 2.06-2.06.94zm10 10l.94 2.06.94-2.06 2.06-.94-2.06-.94-.94-2.06-.94 2.06-2.06.94z\"/><path d=\"M17.41 7.96l-1.37-1.37c-.4-.4-.92-.59-1.43-.59-.52 0-1.04.2-1.43.59L10.3 9.45l-7.72 7.72c-.78.78-.78 2.05 0 2.83L4 21.41c.39.39.9.59 1.41.59.51 0 1.02-.2 1.41-.59l7.78-7.78 2.81-2.81c.8-.78.8-2.07 0-2.86zM5.41 20L4 18.59l7.72-7.72 1.47 1.35L5.41 20z\"/>\n",
              "  </svg>\n",
              "      </button>\n",
              "      \n",
              "  <style>\n",
              "    .colab-df-container {\n",
              "      display:flex;\n",
              "      flex-wrap:wrap;\n",
              "      gap: 12px;\n",
              "    }\n",
              "\n",
              "    .colab-df-convert {\n",
              "      background-color: #E8F0FE;\n",
              "      border: none;\n",
              "      border-radius: 50%;\n",
              "      cursor: pointer;\n",
              "      display: none;\n",
              "      fill: #1967D2;\n",
              "      height: 32px;\n",
              "      padding: 0 0 0 0;\n",
              "      width: 32px;\n",
              "    }\n",
              "\n",
              "    .colab-df-convert:hover {\n",
              "      background-color: #E2EBFA;\n",
              "      box-shadow: 0px 1px 2px rgba(60, 64, 67, 0.3), 0px 1px 3px 1px rgba(60, 64, 67, 0.15);\n",
              "      fill: #174EA6;\n",
              "    }\n",
              "\n",
              "    [theme=dark] .colab-df-convert {\n",
              "      background-color: #3B4455;\n",
              "      fill: #D2E3FC;\n",
              "    }\n",
              "\n",
              "    [theme=dark] .colab-df-convert:hover {\n",
              "      background-color: #434B5C;\n",
              "      box-shadow: 0px 1px 3px 1px rgba(0, 0, 0, 0.15);\n",
              "      filter: drop-shadow(0px 1px 2px rgba(0, 0, 0, 0.3));\n",
              "      fill: #FFFFFF;\n",
              "    }\n",
              "  </style>\n",
              "\n",
              "      <script>\n",
              "        const buttonEl =\n",
              "          document.querySelector('#df-0fccb003-a4b4-41c7-b4d1-dde29b2ce3d1 button.colab-df-convert');\n",
              "        buttonEl.style.display =\n",
              "          google.colab.kernel.accessAllowed ? 'block' : 'none';\n",
              "\n",
              "        async function convertToInteractive(key) {\n",
              "          const element = document.querySelector('#df-0fccb003-a4b4-41c7-b4d1-dde29b2ce3d1');\n",
              "          const dataTable =\n",
              "            await google.colab.kernel.invokeFunction('convertToInteractive',\n",
              "                                                     [key], {});\n",
              "          if (!dataTable) return;\n",
              "\n",
              "          const docLinkHtml = 'Like what you see? Visit the ' +\n",
              "            '<a target=\"_blank\" href=https://colab.research.google.com/notebooks/data_table.ipynb>data table notebook</a>'\n",
              "            + ' to learn more about interactive tables.';\n",
              "          element.innerHTML = '';\n",
              "          dataTable['output_type'] = 'display_data';\n",
              "          await google.colab.output.renderOutput(dataTable, element);\n",
              "          const docLink = document.createElement('div');\n",
              "          docLink.innerHTML = docLinkHtml;\n",
              "          element.appendChild(docLink);\n",
              "        }\n",
              "      </script>\n",
              "    </div>\n",
              "  </div>\n",
              "  "
            ]
          },
          "metadata": {},
          "execution_count": 598
        }
      ]
    },
    {
      "cell_type": "code",
      "source": [
        "parameters = {'xtick.labelsize': 15,\n",
        "          'ytick.labelsize': 15,\n",
        "          'axes.labelsize': 15,\n",
        "          'axes.titlesize': 15}\n",
        "plt.rcParams.update(parameters)\n",
        "\n",
        "colors = [ '#e7d9b4','#9ed1b7', '#78a890',  '#09738a', '#092b5a']\n",
        "querycapital.plot(kind=\"bar\",stacked=True,figsize=(10,8), color= colors)\n",
        "plt.ylabel('R$ Bilhões')\n",
        "plt.xlabel('Ano')\n",
        "plt.title('Receitas de Capital')\n",
        "plt.xticks(rotation=360)\n",
        "\n",
        "plt.savefig('grafico3.png', transparent = True)"
      ],
      "metadata": {
        "colab": {
          "base_uri": "https://localhost:8080/",
          "height": 371
        },
        "id": "6w0PNP-62Rnh",
        "outputId": "42d0f7b3-0c8b-4304-dd05-78c1b14bf268"
      },
      "execution_count": 599,
      "outputs": [
        {
          "output_type": "display_data",
          "data": {
            "text/plain": [
              "<Figure size 800x640 with 1 Axes>"
            ],
            "image/png": "[encoded data removed]"
          },
          "metadata": {}
        }
      ]
    },
    {
      "cell_type": "markdown",
      "source": [
        "Gráfico das receitas arrecadadas pela venda de CEPACs"
      ],
      "metadata": {
        "id": "NKl6IqSgIwbc"
      }
    },
    {
      "cell_type": "code",
      "source": [
        "\n",
        "cepac =\t{2017:  (63879808.81 * IPCA['2017']),\t\n",
        "2018:  (4341655.16 * IPCA['2018']) ,\n",
        "2019:  (1588211802.18 * IPCA['2019']),\n",
        "2020:  (48681197.82 * IPCA['2020']),\n",
        "2021:  (186292394.09 * IPCA['2021'])}\n",
        "cepac = pd.DataFrame.from_dict(cepac, orient='index')\n",
        "cepac.plot(kind=\"bar\",figsize=(10,8), color= '#092b5a')\n",
        "plt.ylabel('R$ Bilhões')\n",
        "plt.xlabel('Ano')\n",
        "plt.title('Receitas arrecadadas pela venda de CEPACs')\n",
        "plt.xticks(rotation=360)\n",
        "plt.ylim(1e4, 2e9)\n",
        "plt.legend().remove()\n",
        "\n",
        "plt.savefig('grafico4.png', transparent = True)\n",
        "\n"
      ],
      "metadata": {
        "colab": {
          "base_uri": "https://localhost:8080/",
          "height": 371
        },
        "id": "_Undj_e9Iv2c",
        "outputId": "b7cdbc41-b052-44e5-d865-540c5bc0fb28"
      },
      "execution_count": 600,
      "outputs": [
        {
          "output_type": "display_data",
          "data": {
            "text/plain": [
              "<Figure size 800x640 with 1 Axes>"
            ],
            "image/png": "[encoded data removed]"
          },
          "metadata": {}
        }
      ]
    },
    {
      "cell_type": "code",
      "source": [
        "querycorrente = querycorrente.T\n",
        "querycorrente = querycorrente.drop('RECEITA AGROPECUÁRIA')\n",
        "querycorrente = querycorrente.drop('RECEITA INDUSTRIAL')\n",
        "querycorrente = querycorrente.sort_values(by=['2017'], ascending=True)\n",
        "querycorrente = querycorrente.T"
      ],
      "metadata": {
        "id": "NRx2QoU8YbY9"
      },
      "execution_count": 601,
      "outputs": []
    },
    {
      "cell_type": "code",
      "source": [
        "querycorrente['RECEITA TRIBUTÁRIA']"
      ],
      "metadata": {
        "colab": {
          "base_uri": "https://localhost:8080/"
        },
        "id": "zN2-63PazeB-",
        "outputId": "0134b6bd-7afb-4048-bd1a-2873b14269c1"
      },
      "execution_count": 602,
      "outputs": [
        {
          "output_type": "execute_result",
          "data": {
            "text/plain": [
              "2017    3.165459e+10\n",
              "2018    3.566721e+10\n",
              "2019    3.888067e+10\n",
              "2020    3.888822e+10\n",
              "2021    4.377135e+10\n",
              "Name: RECEITA TRIBUTÁRIA, dtype: float64"
            ]
          },
          "metadata": {},
          "execution_count": 602
        }
      ]
    },
    {
      "cell_type": "code",
      "source": [
        "#colors = [ '#092b5a', '#09738a', '#78a890',  '#9ed1b7']\n",
        "colors = ['#9ed1b7', '#78a890',  '#09738a', '#092b5a']\n",
        "#colors = colors.reverse()\n",
        "\n",
        "querycorrente.plot(kind=\"bar\",stacked=True,figsize=(10,8), color= colors )\n",
        "plt.legend(bbox_to_anchor=(1.04,1), loc=\"upper left\")\n",
        "plt.xticks(rotation=360)\n",
        "plt.ticklabel_format(style='sci',axis='y',scilimits=(9,9))\n",
        "plt.ylabel('R$ Bilhões')\n",
        "plt.xlabel('Ano')\n",
        "plt.title('Receitas Correntes')\n",
        "#plt.style.use('seaborn-talk')\n"
      ],
      "metadata": {
        "colab": {
          "base_uri": "https://localhost:8080/",
          "height": 389
        },
        "id": "tRjsOh9zcki2",
        "outputId": "5c53ce7a-0da1-402b-c4a7-7402b51e5e63"
      },
      "execution_count": 603,
      "outputs": [
        {
          "output_type": "execute_result",
          "data": {
            "text/plain": [
              "Text(0.5, 1.0, 'Receitas Correntes')"
            ]
          },
          "metadata": {},
          "execution_count": 603
        },
        {
          "output_type": "display_data",
          "data": {
            "text/plain": [
              "<Figure size 800x640 with 1 Axes>"
            ],
            "image/png": "[encoded data removed]"
          },
          "metadata": {}
        }
      ]
    },
    {
      "cell_type": "code",
      "source": [
        "\n",
        "\n",
        "plt.figure(figsize=(10,6))\n",
        "plt.title('Receitas Tributárias')\n",
        "'''\n",
        "Plotando o gráfico escolhendo o estilo de linha com linestyle e a expessura da mesma com linewidth\n",
        "'''\n",
        "plt.plot(querycorrente['RECEITA TRIBUTÁRIA'], linestyle= '-', linewidth = 2, color = \"mediumblue\")\n",
        "'''\n",
        "Escolhendo o valor inicial e final do eixo y\n",
        "'''\n",
        "plt.ylim(30e9, 45e9)\n",
        "\n",
        "#plt.grid()\n",
        "\n",
        "'''\n",
        "Colocando pontos e legendas nos valores\n",
        "'''\n",
        "plt.scatter(querycorrente['RECEITA TRIBUTÁRIA'].index, querycorrente['RECEITA TRIBUTÁRIA'], label = \"Receitas Tributárias\", color = \"mediumblue\", marker = \".\", s =\n",
        "150, linewidths=2)\n",
        "\n",
        "\n",
        "'''\n",
        "Rotulando os eixos y e x\n",
        "'''\n",
        "plt.ylabel('R$ Bilhões')\n",
        "plt.xlabel('Ano')\n",
        "\n",
        "'''\n",
        "Colocando os valores na notação cientifica de 10^9\n",
        "'''\n",
        "plt.ticklabel_format(style='sci',axis='y',scilimits=(9,9))\n",
        "\n",
        "plt.savefig('grafico5.png', transparent = True)"
      ],
      "metadata": {
        "colab": {
          "base_uri": "https://localhost:8080/",
          "height": 302
        },
        "id": "s-dACHrTFx2o",
        "outputId": "2d067fa0-4b2b-475e-bd97-bdcc7e4c4caf"
      },
      "execution_count": 604,
      "outputs": [
        {
          "output_type": "display_data",
          "data": {
            "text/plain": [
              "<Figure size 800x480 with 1 Axes>"
            ],
            "image/png": "[encoded data removed]"
          },
          "metadata": {}
        }
      ]
    },
    {
      "cell_type": "code",
      "source": [
        "querycorrente2 = querycorrente.T\n",
        "querycorrente2 = querycorrente2.drop('RECEITA TRIBUTÁRIA')\n",
        "querycorrente2 = querycorrente2.sort_values(by=['2021'], ascending=True)\n",
        "querycorrente2 = querycorrente2.T"
      ],
      "metadata": {
        "id": "2OXBG-2D3ucq"
      },
      "execution_count": 605,
      "outputs": []
    },
    {
      "cell_type": "code",
      "source": [
        "querycorrente2"
      ],
      "metadata": {
        "colab": {
          "base_uri": "https://localhost:8080/",
          "height": 250
        },
        "id": "RJVomAIO4K0Z",
        "outputId": "d1ad1541-4c0b-465f-8d77-08edf7a16cb2"
      },
      "execution_count": 606,
      "outputs": [
        {
          "output_type": "execute_result",
          "data": {
            "text/plain": [
              "RECEITAS ORÇAMENTÁRIAS  RECEITA DE SERVIÇOS  RECEITA PATRIMONIAL  \\\n",
              "2017                           6.781334e+08         1.226195e+09   \n",
              "2018                           3.090118e+08         9.271229e+08   \n",
              "2019                           2.893740e+08         1.396119e+09   \n",
              "2020                           4.996831e+08         2.735958e+09   \n",
              "2021                           2.897719e+08         1.716641e+09   \n",
              "\n",
              "RECEITAS ORÇAMENTÁRIAS  OUTRAS RECEITAS CORRENTES  RECEITA DE CONTRIBUIÇÕES  \\\n",
              "2017                                 7.126218e+09              4.651160e+09   \n",
              "2018                                 3.033289e+09              4.736998e+09   \n",
              "2019                                 2.407117e+09              5.728853e+09   \n",
              "2020                                 1.709026e+09              5.686587e+09   \n",
              "2021                                 1.816134e+09              5.149676e+09   \n",
              "\n",
              "RECEITAS ORÇAMENTÁRIAS  TRANSFERÊNCIAS CORRENTES  \n",
              "2017                                1.750966e+10  \n",
              "2018                                1.821181e+10  \n",
              "2019                                1.880227e+10  \n",
              "2020                                2.078308e+10  \n",
              "2021                                2.034601e+10  "
            ],
            "text/html": [
              "\n",
              "  <div id=\"df-d7229d93-18ae-4572-a6aa-fdb01f3cbcd8\">\n",
              "    <div class=\"colab-df-container\">\n",
              "      <div>\n",
              "<style scoped>\n",
              "    .dataframe tbody tr th:only-of-type {\n",
              "        vertical-align: middle;\n",
              "    }\n",
              "\n",
              "    .dataframe tbody tr th {\n",
              "        vertical-align: top;\n",
              "    }\n",
              "\n",
              "    .dataframe thead th {\n",
              "        text-align: right;\n",
              "    }\n",
              "</style>\n",
              "<table border=\"1\" class=\"dataframe\">\n",
              "  <thead>\n",
              "    <tr style=\"text-align: right;\">\n",
              "      <th>RECEITAS ORÇAMENTÁRIAS</th>\n",
              "      <th>RECEITA DE SERVIÇOS</th>\n",
              "      <th>RECEITA PATRIMONIAL</th>\n",
              "      <th>OUTRAS RECEITAS CORRENTES</th>\n",
              "      <th>RECEITA DE CONTRIBUIÇÕES</th>\n",
              "      <th>TRANSFERÊNCIAS CORRENTES</th>\n",
              "    </tr>\n",
              "  </thead>\n",
              "  <tbody>\n",
              "    <tr>\n",
              "      <th>2017</th>\n",
              "      <td>6.781334e+08</td>\n",
              "      <td>1.226195e+09</td>\n",
              "      <td>7.126218e+09</td>\n",
              "      <td>4.651160e+09</td>\n",
              "      <td>1.750966e+10</td>\n",
              "    </tr>\n",
              "    <tr>\n",
              "      <th>2018</th>\n",
              "      <td>3.090118e+08</td>\n",
              "      <td>9.271229e+08</td>\n",
              "      <td>3.033289e+09</td>\n",
              "      <td>4.736998e+09</td>\n",
              "      <td>1.821181e+10</td>\n",
              "    </tr>\n",
              "    <tr>\n",
              "      <th>2019</th>\n",
              "      <td>2.893740e+08</td>\n",
              "      <td>1.396119e+09</td>\n",
              "      <td>2.407117e+09</td>\n",
              "      <td>5.728853e+09</td>\n",
              "      <td>1.880227e+10</td>\n",
              "    </tr>\n",
              "    <tr>\n",
              "      <th>2020</th>\n",
              "      <td>4.996831e+08</td>\n",
              "      <td>2.735958e+09</td>\n",
              "      <td>1.709026e+09</td>\n",
              "      <td>5.686587e+09</td>\n",
              "      <td>2.078308e+10</td>\n",
              "    </tr>\n",
              "    <tr>\n",
              "      <th>2021</th>\n",
              "      <td>2.897719e+08</td>\n",
              "      <td>1.716641e+09</td>\n",
              "      <td>1.816134e+09</td>\n",
              "      <td>5.149676e+09</td>\n",
              "      <td>2.034601e+10</td>\n",
              "    </tr>\n",
              "  </tbody>\n",
              "</table>\n",
              "</div>\n",
              "      <button class=\"colab-df-convert\" onclick=\"convertToInteractive('df-d7229d93-18ae-4572-a6aa-fdb01f3cbcd8')\"\n",
              "              title=\"Convert this dataframe to an interactive table.\"\n",
              "              style=\"display:none;\">\n",
              "        \n",
              "  <svg xmlns=\"http://www.w3.org/2000/svg\" height=\"24px\"viewBox=\"0 0 24 24\"\n",
              "       width=\"24px\">\n",
              "    <path d=\"M0 0h24v24H0V0z\" fill=\"none\"/>\n",
              "    <path d=\"M18.56 5.44l.94 2.06.94-2.06 2.06-.94-2.06-.94-.94-2.06-.94 2.06-2.06.94zm-11 1L8.5 8.5l.94-2.06 2.06-.94-2.06-.94L8.5 2.5l-.94 2.06-2.06.94zm10 10l.94 2.06.94-2.06 2.06-.94-2.06-.94-.94-2.06-.94 2.06-2.06.94z\"/><path d=\"M17.41 7.96l-1.37-1.37c-.4-.4-.92-.59-1.43-.59-.52 0-1.04.2-1.43.59L10.3 9.45l-7.72 7.72c-.78.78-.78 2.05 0 2.83L4 21.41c.39.39.9.59 1.41.59.51 0 1.02-.2 1.41-.59l7.78-7.78 2.81-2.81c.8-.78.8-2.07 0-2.86zM5.41 20L4 18.59l7.72-7.72 1.47 1.35L5.41 20z\"/>\n",
              "  </svg>\n",
              "      </button>\n",
              "      \n",
              "  <style>\n",
              "    .colab-df-container {\n",
              "      display:flex;\n",
              "      flex-wrap:wrap;\n",
              "      gap: 12px;\n",
              "    }\n",
              "\n",
              "    .colab-df-convert {\n",
              "      background-color: #E8F0FE;\n",
              "      border: none;\n",
              "      border-radius: 50%;\n",
              "      cursor: pointer;\n",
              "      display: none;\n",
              "      fill: #1967D2;\n",
              "      height: 32px;\n",
              "      padding: 0 0 0 0;\n",
              "      width: 32px;\n",
              "    }\n",
              "\n",
              "    .colab-df-convert:hover {\n",
              "      background-color: #E2EBFA;\n",
              "      box-shadow: 0px 1px 2px rgba(60, 64, 67, 0.3), 0px 1px 3px 1px rgba(60, 64, 67, 0.15);\n",
              "      fill: #174EA6;\n",
              "    }\n",
              "\n",
              "    [theme=dark] .colab-df-convert {\n",
              "      background-color: #3B4455;\n",
              "      fill: #D2E3FC;\n",
              "    }\n",
              "\n",
              "    [theme=dark] .colab-df-convert:hover {\n",
              "      background-color: #434B5C;\n",
              "      box-shadow: 0px 1px 3px 1px rgba(0, 0, 0, 0.15);\n",
              "      filter: drop-shadow(0px 1px 2px rgba(0, 0, 0, 0.3));\n",
              "      fill: #FFFFFF;\n",
              "    }\n",
              "  </style>\n",
              "\n",
              "      <script>\n",
              "        const buttonEl =\n",
              "          document.querySelector('#df-d7229d93-18ae-4572-a6aa-fdb01f3cbcd8 button.colab-df-convert');\n",
              "        buttonEl.style.display =\n",
              "          google.colab.kernel.accessAllowed ? 'block' : 'none';\n",
              "\n",
              "        async function convertToInteractive(key) {\n",
              "          const element = document.querySelector('#df-d7229d93-18ae-4572-a6aa-fdb01f3cbcd8');\n",
              "          const dataTable =\n",
              "            await google.colab.kernel.invokeFunction('convertToInteractive',\n",
              "                                                     [key], {});\n",
              "          if (!dataTable) return;\n",
              "\n",
              "          const docLinkHtml = 'Like what you see? Visit the ' +\n",
              "            '<a target=\"_blank\" href=https://colab.research.google.com/notebooks/data_table.ipynb>data table notebook</a>'\n",
              "            + ' to learn more about interactive tables.';\n",
              "          element.innerHTML = '';\n",
              "          dataTable['output_type'] = 'display_data';\n",
              "          await google.colab.output.renderOutput(dataTable, element);\n",
              "          const docLink = document.createElement('div');\n",
              "          docLink.innerHTML = docLinkHtml;\n",
              "          element.appendChild(docLink);\n",
              "        }\n",
              "      </script>\n",
              "    </div>\n",
              "  </div>\n",
              "  "
            ]
          },
          "metadata": {},
          "execution_count": 606
        }
      ]
    },
    {
      "cell_type": "markdown",
      "source": [
        "plt.style.use() >>> *`[‘Solarize_Light2’, ‘_classic_test_patch’, ‘bmh’, ‘classic’, ‘dark_background’, ‘fast’, ‘fivethirtyeight’, ‘ggplot’,’grayscale’,’seaborn’,’seaborn-bright’,’seaborn-colorblind’, ‘seaborn-dark’, ‘seaborn-dark-palette’, ‘seaborn-darkgrid’, ‘seaborn-deep’, ‘seaborn-muted’, ‘seaborn-notebook’, ‘seaborn-paper’, ‘seaborn-pastel’, ‘seaborn-poster’,’seaborn-talk’,’seaborn-ticks’,’seaborn-white’,’seaborn-whitegrid’,’tableau-colorblind10′]\\`*"
      ],
      "metadata": {
        "id": "V2fjGnRR8825"
      }
    },
    {
      "cell_type": "code",
      "source": [
        "'''\n",
        "parameters = {'xtick.labelsize': 15,\n",
        "          'ytick.labelsize': 15,\n",
        "          'axes.labelsize': 15,\n",
        "          'axes.titlesize': 15}\n",
        "plt.rcParams.update(parameters)\n",
        "plt.style.use('tableau-colorblind10')\n",
        "querycorrente2.plot(kind=\"bar\",stacked=True,figsize=(6, 8))\n",
        "plt.legend(bbox_to_anchor=(1.04,1), loc=\"upper left\")\n",
        "plt.xticks(rotation=360)\n",
        "plt.ticklabel_format(style='sci',axis='y',scilimits=(9,9))\n",
        "plt.ylabel('R$ Bilhões')\n",
        "plt.xlabel('Ano')\n",
        "plt.title('Receitas Correntes')\n",
        "plt.savefig('grafico6.png', transparent= True, bbox_inches='tight')\n",
        "'''\n",
        "\n"
      ],
      "metadata": {
        "colab": {
          "base_uri": "https://localhost:8080/",
          "height": 371
        },
        "id": "XFlZqkCw2CRG",
        "outputId": "1f87c306-c747-4740-87aa-55e10a3c3454"
      },
      "execution_count": 607,
      "outputs": [
        {
          "output_type": "display_data",
          "data": {
            "text/plain": [
              "<Figure size 480x640 with 1 Axes>"
            ],
            "image/png": "[encoded data removed]"
          },
          "metadata": {}
        }
      ]
    },
    {
      "cell_type": "code",
      "source": [
        "querysaldos.plot(kind=\"bar\",stacked=True,figsize=(10,8))"
      ],
      "metadata": {
        "id": "FqM-MHDecoKs",
        "colab": {
          "base_uri": "https://localhost:8080/",
          "height": 387
        },
        "outputId": "942e0582-24ac-4b29-db60-817782e140c5"
      },
      "execution_count": 608,
      "outputs": [
        {
          "output_type": "execute_result",
          "data": {
            "text/plain": [
              "<matplotlib.axes._subplots.AxesSubplot at 0x7feefabd6990>"
            ]
          },
          "metadata": {},
          "execution_count": 608
        },
        {
          "output_type": "display_data",
          "data": {
            "text/plain": [
              "<Figure size 800x640 with 1 Axes>"
            ],
            "image/png": "[encoded data removed]"
          },
          "metadata": {}
        }
      ]
    },
    {
      "cell_type": "code",
      "source": [
        "querycapital.plot(stacked=True,figsize=(10,8))\n",
        "plt.xticks(rotation=90)"
      ],
      "metadata": {
        "id": "HtzXxEpH5hJB",
        "colab": {
          "base_uri": "https://localhost:8080/",
          "height": 404
        },
        "outputId": "6b4c98cd-95ba-4505-9f58-0072ed8539fa"
      },
      "execution_count": 609,
      "outputs": [
        {
          "output_type": "execute_result",
          "data": {
            "text/plain": [
              "(array([0. , 0.5, 1. , 1.5, 2. , 2.5, 3. , 3.5, 4. ]),\n",
              " <a list of 9 Text major ticklabel objects>)"
            ]
          },
          "metadata": {},
          "execution_count": 609
        },
        {
          "output_type": "display_data",
          "data": {
            "text/plain": [
              "<Figure size 800x640 with 1 Axes>"
            ],
            "image/png": "[encoded data removed]"
          },
          "metadata": {}
        }
      ]
    },
    {
      "cell_type": "code",
      "source": [
        "querycorrente.plot(stacked=True,figsize=(10,8))\n",
        "plt.xticks(rotation=90)"
      ],
      "metadata": {
        "id": "EbgoNGaL59L4",
        "colab": {
          "base_uri": "https://localhost:8080/",
          "height": 404
        },
        "outputId": "06af1bc9-7240-48b8-9a4d-b4633822363d"
      },
      "execution_count": 610,
      "outputs": [
        {
          "output_type": "execute_result",
          "data": {
            "text/plain": [
              "(array([0. , 0.5, 1. , 1.5, 2. , 2.5, 3. , 3.5, 4. ]),\n",
              " <a list of 9 Text major ticklabel objects>)"
            ]
          },
          "metadata": {},
          "execution_count": 610
        },
        {
          "output_type": "display_data",
          "data": {
            "text/plain": [
              "<Figure size 800x640 with 1 Axes>"
            ],
            "image/png": "[encoded data removed]"
          },
          "metadata": {}
        }
      ]
    },
    {
      "cell_type": "code",
      "source": [
        "querysaldos.plot(stacked=True,figsize=(10,8))\n",
        "plt.xticks(rotation=90)"
      ],
      "metadata": {
        "id": "U2NLur8ccywO",
        "colab": {
          "base_uri": "https://localhost:8080/",
          "height": 404
        },
        "outputId": "88dcdfc2-568b-4954-b684-32766e494c2f"
      },
      "execution_count": 611,
      "outputs": [
        {
          "output_type": "execute_result",
          "data": {
            "text/plain": [
              "(array([0. , 0.5, 1. , 1.5, 2. , 2.5, 3. , 3.5, 4. ]),\n",
              " <a list of 9 Text major ticklabel objects>)"
            ]
          },
          "metadata": {},
          "execution_count": 611
        },
        {
          "output_type": "display_data",
          "data": {
            "text/plain": [
              "<Figure size 800x640 with 1 Axes>"
            ],
            "image/png": "[encoded data removed]"
          },
          "metadata": {}
        }
      ]
    },
    {
      "cell_type": "code",
      "source": [
        "type(querysaldos)"
      ],
      "metadata": {
        "id": "CzjIqqC21HUh",
        "colab": {
          "base_uri": "https://localhost:8080/"
        },
        "outputId": "646e07cd-4a78-4a06-cf35-2ffad0a5dc5b"
      },
      "execution_count": 612,
      "outputs": [
        {
          "output_type": "execute_result",
          "data": {
            "text/plain": [
              "pandas.core.frame.DataFrame"
            ]
          },
          "metadata": {},
          "execution_count": 612
        }
      ]
    },
    {
      "cell_type": "markdown",
      "source": [
        "7.3 Análise Vertical"
      ],
      "metadata": {
        "id": "_V9xBFv3dGfc"
      }
    },
    {
      "cell_type": "code",
      "source": [
        "'''\n",
        "Criando um Dataframe com os valores da análise vertical obtidos na etapa 6\n",
        "'''\n",
        "df_av = pd.concat([df['2017']['Categoria'], df['2017']['AV']], axis=1, ignore_index=True)\n",
        "df_av = pd.concat([df_av, df['2018']['AV']], axis=1, ignore_index=True)\n",
        "df_av = pd.concat([df_av, df['2019']['AV']], axis=1, ignore_index=True)\n",
        "df_av = pd.concat([df_av, df['2020']['AV']], axis=1, ignore_index=True)\n",
        "df_av = pd.concat([df_av, df['2021']['AV']], axis=1, ignore_index=True)"
      ],
      "metadata": {
        "id": "YlfIfAUH7NmQ"
      },
      "execution_count": 613,
      "outputs": []
    },
    {
      "cell_type": "code",
      "source": [
        "df_av"
      ],
      "metadata": {
        "id": "wiR_y9vn72-o",
        "colab": {
          "base_uri": "https://localhost:8080/",
          "height": 708
        },
        "outputId": "75ed6a91-8fe5-4a31-9004-f3d5c0e046f5"
      },
      "execution_count": 614,
      "outputs": [
        {
          "output_type": "execute_result",
          "data": {
            "text/plain": [
              "                                                                  0      1  \\\n",
              "RECEITAS ORÇAMENTÁRIAS                                                       \n",
              "RECEITA TRIBUTÁRIA                                RECEITAS CORRENTE  49.31   \n",
              "RECEITA DE CONTRIBUIÇÕES                          RECEITAS CORRENTE   7.25   \n",
              "RECEITA PATRIMONIAL                               RECEITAS CORRENTE   1.91   \n",
              "RECEITA AGROPECUÁRIA                              RECEITAS CORRENTE   0.00   \n",
              "RECEITA INDUSTRIAL                                RECEITAS CORRENTE   0.00   \n",
              "RECEITA DE SERVIÇOS                               RECEITAS CORRENTE   1.06   \n",
              "TRANSFERÊNCIAS CORRENTES                          RECEITAS CORRENTE  27.28   \n",
              "OUTRAS RECEITAS CORRENTES                         RECEITAS CORRENTE  11.10   \n",
              "OPERAÇÕES DE CRÉDITO                            RECEITAS DE CAPITAL   0.09   \n",
              "ALIENAÇÃO DE BENS                               RECEITAS DE CAPITAL   0.04   \n",
              "AMORTIZAÇÕES DE EMPRÉSTIMOS                     RECEITAS DE CAPITAL   0.04   \n",
              "TRANSFERÊNCIAS DE CAPITAL                       RECEITAS DE CAPITAL   1.24   \n",
              "OUTRAS RECEITAS DE CAPITAL                      RECEITAS DE CAPITAL   0.68   \n",
              "OPERAÇÕES DE CRÉDITO INTERNAS                  OPERAÇÕES DE CRÉDITO   0.00   \n",
              "MOBILIÁRIA                                     OPERAÇÕES DE CRÉDITO   0.00   \n",
              "CONTRATUAL                                     OPERAÇÕES DE CRÉDITO   0.00   \n",
              "OPERAÇÕES DE CRÉDITO EXTERNAS                  OPERAÇÕES DE CRÉDITO   0.00   \n",
              "RECURSOS ARRECADADOS EM EXERCÍCIOS ANTERIORES     SALDOS ANTERIORES   0.00   \n",
              "SUPERAVIT FINANCEIRO                              SALDOS ANTERIORES   0.32   \n",
              "REABERTURA DE CRÉDITOS ADICIONAIS                 SALDOS ANTERIORES   0.00   \n",
              "\n",
              "                                                   2      3      4      5  \n",
              "RECEITAS ORÇAMENTÁRIAS                                                     \n",
              "RECEITA TRIBUTÁRIA                             54.70  53.91  53.03  57.10  \n",
              "RECEITA DE CONTRIBUIÇÕES                        7.26   7.94   7.76   6.72  \n",
              "RECEITA PATRIMONIAL                             1.42   1.94   3.73   2.24  \n",
              "RECEITA AGROPECUÁRIA                            0.00   0.00   0.00   0.00  \n",
              "RECEITA INDUSTRIAL                              0.00   0.00   0.00   0.00  \n",
              "RECEITA DE SERVIÇOS                             0.47   0.40   0.68   0.38  \n",
              "TRANSFERÊNCIAS CORRENTES                       27.93  26.07  28.34  26.54  \n",
              "OUTRAS RECEITAS CORRENTES                       4.65   3.34   2.33   2.37  \n",
              "OPERAÇÕES DE CRÉDITO                            0.27   0.46   0.77   0.16  \n",
              "ALIENAÇÃO DE BENS                               0.04   0.05   0.08   0.13  \n",
              "AMORTIZAÇÕES DE EMPRÉSTIMOS                     0.04   0.04   0.03   0.03  \n",
              "TRANSFERÊNCIAS DE CAPITAL                       1.31   0.96   1.13   0.86  \n",
              "OUTRAS RECEITAS DE CAPITAL                      1.89   4.90   2.13   3.47  \n",
              "OPERAÇÕES DE CRÉDITO INTERNAS                   0.00   0.00   0.00   0.00  \n",
              "MOBILIÁRIA                                      0.00   0.00   0.00   0.00  \n",
              "CONTRATUAL                                      0.00   0.00   0.00   0.00  \n",
              "OPERAÇÕES DE CRÉDITO EXTERNAS                   0.00   0.00   0.00   0.00  \n",
              "RECURSOS ARRECADADOS EM EXERCÍCIOS ANTERIORES   0.00   0.00   0.00   0.00  \n",
              "SUPERAVIT FINANCEIRO                            0.24   2.97   3.11   8.55  \n",
              "REABERTURA DE CRÉDITOS ADICIONAIS               0.00   0.00   0.00   0.00  "
            ],
            "text/html": [
              "\n",
              "  <div id=\"df-5859cc40-09b0-42f1-8621-b7fb4736f475\">\n",
              "    <div class=\"colab-df-container\">\n",
              "      <div>\n",
              "<style scoped>\n",
              "    .dataframe tbody tr th:only-of-type {\n",
              "        vertical-align: middle;\n",
              "    }\n",
              "\n",
              "    .dataframe tbody tr th {\n",
              "        vertical-align: top;\n",
              "    }\n",
              "\n",
              "    .dataframe thead th {\n",
              "        text-align: right;\n",
              "    }\n",
              "</style>\n",
              "<table border=\"1\" class=\"dataframe\">\n",
              "  <thead>\n",
              "    <tr style=\"text-align: right;\">\n",
              "      <th></th>\n",
              "      <th>0</th>\n",
              "      <th>1</th>\n",
              "      <th>2</th>\n",
              "      <th>3</th>\n",
              "      <th>4</th>\n",
              "      <th>5</th>\n",
              "    </tr>\n",
              "    <tr>\n",
              "      <th>RECEITAS ORÇAMENTÁRIAS</th>\n",
              "      <th></th>\n",
              "      <th></th>\n",
              "      <th></th>\n",
              "      <th></th>\n",
              "      <th></th>\n",
              "      <th></th>\n",
              "    </tr>\n",
              "  </thead>\n",
              "  <tbody>\n",
              "    <tr>\n",
              "      <th>RECEITA TRIBUTÁRIA</th>\n",
              "      <td>RECEITAS CORRENTE</td>\n",
              "      <td>49.31</td>\n",
              "      <td>54.70</td>\n",
              "      <td>53.91</td>\n",
              "      <td>53.03</td>\n",
              "      <td>57.10</td>\n",
              "    </tr>\n",
              "    <tr>\n",
              "      <th>RECEITA DE CONTRIBUIÇÕES</th>\n",
              "      <td>RECEITAS CORRENTE</td>\n",
              "      <td>7.25</td>\n",
              "      <td>7.26</td>\n",
              "      <td>7.94</td>\n",
              "      <td>7.76</td>\n",
              "      <td>6.72</td>\n",
              "    </tr>\n",
              "    <tr>\n",
              "      <th>RECEITA PATRIMONIAL</th>\n",
              "      <td>RECEITAS CORRENTE</td>\n",
              "      <td>1.91</td>\n",
              "      <td>1.42</td>\n",
              "      <td>1.94</td>\n",
              "      <td>3.73</td>\n",
              "      <td>2.24</td>\n",
              "    </tr>\n",
              "    <tr>\n",
              "      <th>RECEITA AGROPECUÁRIA</th>\n",
              "      <td>RECEITAS CORRENTE</td>\n",
              "      <td>0.00</td>\n",
              "      <td>0.00</td>\n",
              "      <td>0.00</td>\n",
              "      <td>0.00</td>\n",
              "      <td>0.00</td>\n",
              "    </tr>\n",
              "    <tr>\n",
              "      <th>RECEITA INDUSTRIAL</th>\n",
              "      <td>RECEITAS CORRENTE</td>\n",
              "      <td>0.00</td>\n",
              "      <td>0.00</td>\n",
              "      <td>0.00</td>\n",
              "      <td>0.00</td>\n",
              "      <td>0.00</td>\n",
              "    </tr>\n",
              "    <tr>\n",
              "      <th>RECEITA DE SERVIÇOS</th>\n",
              "      <td>RECEITAS CORRENTE</td>\n",
              "      <td>1.06</td>\n",
              "      <td>0.47</td>\n",
              "      <td>0.40</td>\n",
              "      <td>0.68</td>\n",
              "      <td>0.38</td>\n",
              "    </tr>\n",
              "    <tr>\n",
              "      <th>TRANSFERÊNCIAS CORRENTES</th>\n",
              "      <td>RECEITAS CORRENTE</td>\n",
              "      <td>27.28</td>\n",
              "      <td>27.93</td>\n",
              "      <td>26.07</td>\n",
              "      <td>28.34</td>\n",
              "      <td>26.54</td>\n",
              "    </tr>\n",
              "    <tr>\n",
              "      <th>OUTRAS RECEITAS CORRENTES</th>\n",
              "      <td>RECEITAS CORRENTE</td>\n",
              "      <td>11.10</td>\n",
              "      <td>4.65</td>\n",
              "      <td>3.34</td>\n",
              "      <td>2.33</td>\n",
              "      <td>2.37</td>\n",
              "    </tr>\n",
              "    <tr>\n",
              "      <th>OPERAÇÕES DE CRÉDITO</th>\n",
              "      <td>RECEITAS DE CAPITAL</td>\n",
              "      <td>0.09</td>\n",
              "      <td>0.27</td>\n",
              "      <td>0.46</td>\n",
              "      <td>0.77</td>\n",
              "      <td>0.16</td>\n",
              "    </tr>\n",
              "    <tr>\n",
              "      <th>ALIENAÇÃO DE BENS</th>\n",
              "      <td>RECEITAS DE CAPITAL</td>\n",
              "      <td>0.04</td>\n",
              "      <td>0.04</td>\n",
              "      <td>0.05</td>\n",
              "      <td>0.08</td>\n",
              "      <td>0.13</td>\n",
              "    </tr>\n",
              "    <tr>\n",
              "      <th>AMORTIZAÇÕES DE EMPRÉSTIMOS</th>\n",
              "      <td>RECEITAS DE CAPITAL</td>\n",
              "      <td>0.04</td>\n",
              "      <td>0.04</td>\n",
              "      <td>0.04</td>\n",
              "      <td>0.03</td>\n",
              "      <td>0.03</td>\n",
              "    </tr>\n",
              "    <tr>\n",
              "      <th>TRANSFERÊNCIAS DE CAPITAL</th>\n",
              "      <td>RECEITAS DE CAPITAL</td>\n",
              "      <td>1.24</td>\n",
              "      <td>1.31</td>\n",
              "      <td>0.96</td>\n",
              "      <td>1.13</td>\n",
              "      <td>0.86</td>\n",
              "    </tr>\n",
              "    <tr>\n",
              "      <th>OUTRAS RECEITAS DE CAPITAL</th>\n",
              "      <td>RECEITAS DE CAPITAL</td>\n",
              "      <td>0.68</td>\n",
              "      <td>1.89</td>\n",
              "      <td>4.90</td>\n",
              "      <td>2.13</td>\n",
              "      <td>3.47</td>\n",
              "    </tr>\n",
              "    <tr>\n",
              "      <th>OPERAÇÕES DE CRÉDITO INTERNAS</th>\n",
              "      <td>OPERAÇÕES DE CRÉDITO</td>\n",
              "      <td>0.00</td>\n",
              "      <td>0.00</td>\n",
              "      <td>0.00</td>\n",
              "      <td>0.00</td>\n",
              "      <td>0.00</td>\n",
              "    </tr>\n",
              "    <tr>\n",
              "      <th>MOBILIÁRIA</th>\n",
              "      <td>OPERAÇÕES DE CRÉDITO</td>\n",
              "      <td>0.00</td>\n",
              "      <td>0.00</td>\n",
              "      <td>0.00</td>\n",
              "      <td>0.00</td>\n",
              "      <td>0.00</td>\n",
              "    </tr>\n",
              "    <tr>\n",
              "      <th>CONTRATUAL</th>\n",
              "      <td>OPERAÇÕES DE CRÉDITO</td>\n",
              "      <td>0.00</td>\n",
              "      <td>0.00</td>\n",
              "      <td>0.00</td>\n",
              "      <td>0.00</td>\n",
              "      <td>0.00</td>\n",
              "    </tr>\n",
              "    <tr>\n",
              "      <th>OPERAÇÕES DE CRÉDITO EXTERNAS</th>\n",
              "      <td>OPERAÇÕES DE CRÉDITO</td>\n",
              "      <td>0.00</td>\n",
              "      <td>0.00</td>\n",
              "      <td>0.00</td>\n",
              "      <td>0.00</td>\n",
              "      <td>0.00</td>\n",
              "    </tr>\n",
              "    <tr>\n",
              "      <th>RECURSOS ARRECADADOS EM EXERCÍCIOS ANTERIORES</th>\n",
              "      <td>SALDOS ANTERIORES</td>\n",
              "      <td>0.00</td>\n",
              "      <td>0.00</td>\n",
              "      <td>0.00</td>\n",
              "      <td>0.00</td>\n",
              "      <td>0.00</td>\n",
              "    </tr>\n",
              "    <tr>\n",
              "      <th>SUPERAVIT FINANCEIRO</th>\n",
              "      <td>SALDOS ANTERIORES</td>\n",
              "      <td>0.32</td>\n",
              "      <td>0.24</td>\n",
              "      <td>2.97</td>\n",
              "      <td>3.11</td>\n",
              "      <td>8.55</td>\n",
              "    </tr>\n",
              "    <tr>\n",
              "      <th>REABERTURA DE CRÉDITOS ADICIONAIS</th>\n",
              "      <td>SALDOS ANTERIORES</td>\n",
              "      <td>0.00</td>\n",
              "      <td>0.00</td>\n",
              "      <td>0.00</td>\n",
              "      <td>0.00</td>\n",
              "      <td>0.00</td>\n",
              "    </tr>\n",
              "  </tbody>\n",
              "</table>\n",
              "</div>\n",
              "      <button class=\"colab-df-convert\" onclick=\"convertToInteractive('df-5859cc40-09b0-42f1-8621-b7fb4736f475')\"\n",
              "              title=\"Convert this dataframe to an interactive table.\"\n",
              "              style=\"display:none;\">\n",
              "        \n",
              "  <svg xmlns=\"http://www.w3.org/2000/svg\" height=\"24px\"viewBox=\"0 0 24 24\"\n",
              "       width=\"24px\">\n",
              "    <path d=\"M0 0h24v24H0V0z\" fill=\"none\"/>\n",
              "    <path d=\"M18.56 5.44l.94 2.06.94-2.06 2.06-.94-2.06-.94-.94-2.06-.94 2.06-2.06.94zm-11 1L8.5 8.5l.94-2.06 2.06-.94-2.06-.94L8.5 2.5l-.94 2.06-2.06.94zm10 10l.94 2.06.94-2.06 2.06-.94-2.06-.94-.94-2.06-.94 2.06-2.06.94z\"/><path d=\"M17.41 7.96l-1.37-1.37c-.4-.4-.92-.59-1.43-.59-.52 0-1.04.2-1.43.59L10.3 9.45l-7.72 7.72c-.78.78-.78 2.05 0 2.83L4 21.41c.39.39.9.59 1.41.59.51 0 1.02-.2 1.41-.59l7.78-7.78 2.81-2.81c.8-.78.8-2.07 0-2.86zM5.41 20L4 18.59l7.72-7.72 1.47 1.35L5.41 20z\"/>\n",
              "  </svg>\n",
              "      </button>\n",
              "      \n",
              "  <style>\n",
              "    .colab-df-container {\n",
              "      display:flex;\n",
              "      flex-wrap:wrap;\n",
              "      gap: 12px;\n",
              "    }\n",
              "\n",
              "    .colab-df-convert {\n",
              "      background-color: #E8F0FE;\n",
              "      border: none;\n",
              "      border-radius: 50%;\n",
              "      cursor: pointer;\n",
              "      display: none;\n",
              "      fill: #1967D2;\n",
              "      height: 32px;\n",
              "      padding: 0 0 0 0;\n",
              "      width: 32px;\n",
              "    }\n",
              "\n",
              "    .colab-df-convert:hover {\n",
              "      background-color: #E2EBFA;\n",
              "      box-shadow: 0px 1px 2px rgba(60, 64, 67, 0.3), 0px 1px 3px 1px rgba(60, 64, 67, 0.15);\n",
              "      fill: #174EA6;\n",
              "    }\n",
              "\n",
              "    [theme=dark] .colab-df-convert {\n",
              "      background-color: #3B4455;\n",
              "      fill: #D2E3FC;\n",
              "    }\n",
              "\n",
              "    [theme=dark] .colab-df-convert:hover {\n",
              "      background-color: #434B5C;\n",
              "      box-shadow: 0px 1px 3px 1px rgba(0, 0, 0, 0.15);\n",
              "      filter: drop-shadow(0px 1px 2px rgba(0, 0, 0, 0.3));\n",
              "      fill: #FFFFFF;\n",
              "    }\n",
              "  </style>\n",
              "\n",
              "      <script>\n",
              "        const buttonEl =\n",
              "          document.querySelector('#df-5859cc40-09b0-42f1-8621-b7fb4736f475 button.colab-df-convert');\n",
              "        buttonEl.style.display =\n",
              "          google.colab.kernel.accessAllowed ? 'block' : 'none';\n",
              "\n",
              "        async function convertToInteractive(key) {\n",
              "          const element = document.querySelector('#df-5859cc40-09b0-42f1-8621-b7fb4736f475');\n",
              "          const dataTable =\n",
              "            await google.colab.kernel.invokeFunction('convertToInteractive',\n",
              "                                                     [key], {});\n",
              "          if (!dataTable) return;\n",
              "\n",
              "          const docLinkHtml = 'Like what you see? Visit the ' +\n",
              "            '<a target=\"_blank\" href=https://colab.research.google.com/notebooks/data_table.ipynb>data table notebook</a>'\n",
              "            + ' to learn more about interactive tables.';\n",
              "          element.innerHTML = '';\n",
              "          dataTable['output_type'] = 'display_data';\n",
              "          await google.colab.output.renderOutput(dataTable, element);\n",
              "          const docLink = document.createElement('div');\n",
              "          docLink.innerHTML = docLinkHtml;\n",
              "          element.appendChild(docLink);\n",
              "        }\n",
              "      </script>\n",
              "    </div>\n",
              "  </div>\n",
              "  "
            ]
          },
          "metadata": {},
          "execution_count": 614
        }
      ]
    },
    {
      "cell_type": "code",
      "source": [
        "df_av.columns = ['Categoria', '2017', '2018', '2019', '2020', '2021']"
      ],
      "metadata": {
        "id": "gJft-Sod9HAn"
      },
      "execution_count": 615,
      "outputs": []
    },
    {
      "cell_type": "code",
      "source": [
        "df_av_saldos = df_av.query('Categoria == [\"SALDOS ANTERIORES\"]')\n",
        "df_av_saldos = df_av_saldos.drop(columns=['Categoria'])\n",
        "df_av_credito = df_av.query('Categoria == [\"OPERAÇÕES DE CRÉDITO\"]')\n",
        "df_av_credito = df_av_credito.drop(columns=['Categoria'])\n",
        "df_av_corrente = df_av.query('Categoria == [\"RECEITAS CORRENTE\"]')\n",
        "df_av_corrente = df_av_corrente.drop(columns=['Categoria'])\n",
        "df_av_capital = df_av.query('Categoria == [\"RECEITAS DE CAPITAL\"]')\n",
        "df_av_capital = df_av_capital.drop(columns=['Categoria'])\n",
        "\n",
        "df_av_saldos =   df_av_saldos.T   \n",
        "df_av_credito =   df_av_credito.T\n",
        "df_av_corrente =   df_av_corrente.T\n",
        "df_av_capital =   df_av_capital.T "
      ],
      "metadata": {
        "id": "zQM3athV8OoX"
      },
      "execution_count": 616,
      "outputs": []
    },
    {
      "cell_type": "code",
      "source": [
        "\n",
        "df_av_capital.plot(stacked=True,figsize=(10,8))\n",
        "plt.xticks(rotation=90)"
      ],
      "metadata": {
        "id": "aDpt4c7m787A",
        "colab": {
          "base_uri": "https://localhost:8080/",
          "height": 398
        },
        "outputId": "542c00dd-de88-4959-dcdc-bd39a423337e"
      },
      "execution_count": 617,
      "outputs": [
        {
          "output_type": "execute_result",
          "data": {
            "text/plain": [
              "(array([0. , 0.5, 1. , 1.5, 2. , 2.5, 3. , 3.5, 4. ]),\n",
              " <a list of 9 Text major ticklabel objects>)"
            ]
          },
          "metadata": {},
          "execution_count": 617
        },
        {
          "output_type": "display_data",
          "data": {
            "text/plain": [
              "<Figure size 800x640 with 1 Axes>"
            ],
            "image/png": "[encoded data removed]"
          },
          "metadata": {}
        }
      ]
    },
    {
      "cell_type": "code",
      "source": [
        "\n",
        "df_av = df_av.drop(columns=['Categoria'])\n",
        "df_av = df_av.T"
      ],
      "metadata": {
        "id": "ANFQJu-uobEQ"
      },
      "execution_count": 618,
      "outputs": []
    },
    {
      "cell_type": "code",
      "source": [
        "df_av.head(n=30)"
      ],
      "metadata": {
        "id": "oEpeiMILo2QH",
        "colab": {
          "base_uri": "https://localhost:8080/",
          "height": 340
        },
        "outputId": "89956c02-f447-4e5e-9c87-17e821fe9cb1"
      },
      "execution_count": 619,
      "outputs": [
        {
          "output_type": "execute_result",
          "data": {
            "text/plain": [
              "RECEITAS ORÇAMENTÁRIAS  RECEITA TRIBUTÁRIA  RECEITA DE CONTRIBUIÇÕES  \\\n",
              "2017                                 49.31                      7.25   \n",
              "2018                                 54.70                      7.26   \n",
              "2019                                 53.91                      7.94   \n",
              "2020                                 53.03                      7.76   \n",
              "2021                                 57.10                      6.72   \n",
              "\n",
              "RECEITAS ORÇAMENTÁRIAS  RECEITA PATRIMONIAL  RECEITA AGROPECUÁRIA  \\\n",
              "2017                                   1.91                   0.0   \n",
              "2018                                   1.42                   0.0   \n",
              "2019                                   1.94                   0.0   \n",
              "2020                                   3.73                   0.0   \n",
              "2021                                   2.24                   0.0   \n",
              "\n",
              "RECEITAS ORÇAMENTÁRIAS  RECEITA INDUSTRIAL  RECEITA DE SERVIÇOS  \\\n",
              "2017                                   0.0                 1.06   \n",
              "2018                                   0.0                 0.47   \n",
              "2019                                   0.0                 0.40   \n",
              "2020                                   0.0                 0.68   \n",
              "2021                                   0.0                 0.38   \n",
              "\n",
              "RECEITAS ORÇAMENTÁRIAS  TRANSFERÊNCIAS CORRENTES  OUTRAS RECEITAS CORRENTES  \\\n",
              "2017                                       27.28                      11.10   \n",
              "2018                                       27.93                       4.65   \n",
              "2019                                       26.07                       3.34   \n",
              "2020                                       28.34                       2.33   \n",
              "2021                                       26.54                       2.37   \n",
              "\n",
              "RECEITAS ORÇAMENTÁRIAS  OPERAÇÕES DE CRÉDITO  ALIENAÇÃO DE BENS  \\\n",
              "2017                                    0.09               0.04   \n",
              "2018                                    0.27               0.04   \n",
              "2019                                    0.46               0.05   \n",
              "2020                                    0.77               0.08   \n",
              "2021                                    0.16               0.13   \n",
              "\n",
              "RECEITAS ORÇAMENTÁRIAS  AMORTIZAÇÕES DE EMPRÉSTIMOS  \\\n",
              "2017                                           0.04   \n",
              "2018                                           0.04   \n",
              "2019                                           0.04   \n",
              "2020                                           0.03   \n",
              "2021                                           0.03   \n",
              "\n",
              "RECEITAS ORÇAMENTÁRIAS  TRANSFERÊNCIAS DE CAPITAL  OUTRAS RECEITAS DE CAPITAL  \\\n",
              "2017                                         1.24                        0.68   \n",
              "2018                                         1.31                        1.89   \n",
              "2019                                         0.96                        4.90   \n",
              "2020                                         1.13                        2.13   \n",
              "2021                                         0.86                        3.47   \n",
              "\n",
              "RECEITAS ORÇAMENTÁRIAS  OPERAÇÕES DE CRÉDITO INTERNAS  MOBILIÁRIA  CONTRATUAL  \\\n",
              "2017                                              0.0         0.0         0.0   \n",
              "2018                                              0.0         0.0         0.0   \n",
              "2019                                              0.0         0.0         0.0   \n",
              "2020                                              0.0         0.0         0.0   \n",
              "2021                                              0.0         0.0         0.0   \n",
              "\n",
              "RECEITAS ORÇAMENTÁRIAS  OPERAÇÕES DE CRÉDITO EXTERNAS  \\\n",
              "2017                                              0.0   \n",
              "2018                                              0.0   \n",
              "2019                                              0.0   \n",
              "2020                                              0.0   \n",
              "2021                                              0.0   \n",
              "\n",
              "RECEITAS ORÇAMENTÁRIAS  RECURSOS ARRECADADOS EM EXERCÍCIOS ANTERIORES  \\\n",
              "2017                                                              0.0   \n",
              "2018                                                              0.0   \n",
              "2019                                                              0.0   \n",
              "2020                                                              0.0   \n",
              "2021                                                              0.0   \n",
              "\n",
              "RECEITAS ORÇAMENTÁRIAS  SUPERAVIT FINANCEIRO  \\\n",
              "2017                                    0.32   \n",
              "2018                                    0.24   \n",
              "2019                                    2.97   \n",
              "2020                                    3.11   \n",
              "2021                                    8.55   \n",
              "\n",
              "RECEITAS ORÇAMENTÁRIAS  REABERTURA DE CRÉDITOS ADICIONAIS  \n",
              "2017                                                  0.0  \n",
              "2018                                                  0.0  \n",
              "2019                                                  0.0  \n",
              "2020                                                  0.0  \n",
              "2021                                                  0.0  "
            ],
            "text/html": [
              "\n",
              "  <div id=\"df-2b853f1a-60d9-4c67-8897-3493e85f73fa\">\n",
              "    <div class=\"colab-df-container\">\n",
              "      <div>\n",
              "<style scoped>\n",
              "    .dataframe tbody tr th:only-of-type {\n",
              "        vertical-align: middle;\n",
              "    }\n",
              "\n",
              "    .dataframe tbody tr th {\n",
              "        vertical-align: top;\n",
              "    }\n",
              "\n",
              "    .dataframe thead th {\n",
              "        text-align: right;\n",
              "    }\n",
              "</style>\n",
              "<table border=\"1\" class=\"dataframe\">\n",
              "  <thead>\n",
              "    <tr style=\"text-align: right;\">\n",
              "      <th>RECEITAS ORÇAMENTÁRIAS</th>\n",
              "      <th>RECEITA TRIBUTÁRIA</th>\n",
              "      <th>RECEITA DE CONTRIBUIÇÕES</th>\n",
              "      <th>RECEITA PATRIMONIAL</th>\n",
              "      <th>RECEITA AGROPECUÁRIA</th>\n",
              "      <th>RECEITA INDUSTRIAL</th>\n",
              "      <th>RECEITA DE SERVIÇOS</th>\n",
              "      <th>TRANSFERÊNCIAS CORRENTES</th>\n",
              "      <th>OUTRAS RECEITAS CORRENTES</th>\n",
              "      <th>OPERAÇÕES DE CRÉDITO</th>\n",
              "      <th>ALIENAÇÃO DE BENS</th>\n",
              "      <th>AMORTIZAÇÕES DE EMPRÉSTIMOS</th>\n",
              "      <th>TRANSFERÊNCIAS DE CAPITAL</th>\n",
              "      <th>OUTRAS RECEITAS DE CAPITAL</th>\n",
              "      <th>OPERAÇÕES DE CRÉDITO INTERNAS</th>\n",
              "      <th>MOBILIÁRIA</th>\n",
              "      <th>CONTRATUAL</th>\n",
              "      <th>OPERAÇÕES DE CRÉDITO EXTERNAS</th>\n",
              "      <th>RECURSOS ARRECADADOS EM EXERCÍCIOS ANTERIORES</th>\n",
              "      <th>SUPERAVIT FINANCEIRO</th>\n",
              "      <th>REABERTURA DE CRÉDITOS ADICIONAIS</th>\n",
              "    </tr>\n",
              "  </thead>\n",
              "  <tbody>\n",
              "    <tr>\n",
              "      <th>2017</th>\n",
              "      <td>49.31</td>\n",
              "      <td>7.25</td>\n",
              "      <td>1.91</td>\n",
              "      <td>0.0</td>\n",
              "      <td>0.0</td>\n",
              "      <td>1.06</td>\n",
              "      <td>27.28</td>\n",
              "      <td>11.10</td>\n",
              "      <td>0.09</td>\n",
              "      <td>0.04</td>\n",
              "      <td>0.04</td>\n",
              "      <td>1.24</td>\n",
              "      <td>0.68</td>\n",
              "      <td>0.0</td>\n",
              "      <td>0.0</td>\n",
              "      <td>0.0</td>\n",
              "      <td>0.0</td>\n",
              "      <td>0.0</td>\n",
              "      <td>0.32</td>\n",
              "      <td>0.0</td>\n",
              "    </tr>\n",
              "    <tr>\n",
              "      <th>2018</th>\n",
              "      <td>54.70</td>\n",
              "      <td>7.26</td>\n",
              "      <td>1.42</td>\n",
              "      <td>0.0</td>\n",
              "      <td>0.0</td>\n",
              "      <td>0.47</td>\n",
              "      <td>27.93</td>\n",
              "      <td>4.65</td>\n",
              "      <td>0.27</td>\n",
              "      <td>0.04</td>\n",
              "      <td>0.04</td>\n",
              "      <td>1.31</td>\n",
              "      <td>1.89</td>\n",
              "      <td>0.0</td>\n",
              "      <td>0.0</td>\n",
              "      <td>0.0</td>\n",
              "      <td>0.0</td>\n",
              "      <td>0.0</td>\n",
              "      <td>0.24</td>\n",
              "      <td>0.0</td>\n",
              "    </tr>\n",
              "    <tr>\n",
              "      <th>2019</th>\n",
              "      <td>53.91</td>\n",
              "      <td>7.94</td>\n",
              "      <td>1.94</td>\n",
              "      <td>0.0</td>\n",
              "      <td>0.0</td>\n",
              "      <td>0.40</td>\n",
              "      <td>26.07</td>\n",
              "      <td>3.34</td>\n",
              "      <td>0.46</td>\n",
              "      <td>0.05</td>\n",
              "      <td>0.04</td>\n",
              "      <td>0.96</td>\n",
              "      <td>4.90</td>\n",
              "      <td>0.0</td>\n",
              "      <td>0.0</td>\n",
              "      <td>0.0</td>\n",
              "      <td>0.0</td>\n",
              "      <td>0.0</td>\n",
              "      <td>2.97</td>\n",
              "      <td>0.0</td>\n",
              "    </tr>\n",
              "    <tr>\n",
              "      <th>2020</th>\n",
              "      <td>53.03</td>\n",
              "      <td>7.76</td>\n",
              "      <td>3.73</td>\n",
              "      <td>0.0</td>\n",
              "      <td>0.0</td>\n",
              "      <td>0.68</td>\n",
              "      <td>28.34</td>\n",
              "      <td>2.33</td>\n",
              "      <td>0.77</td>\n",
              "      <td>0.08</td>\n",
              "      <td>0.03</td>\n",
              "      <td>1.13</td>\n",
              "      <td>2.13</td>\n",
              "      <td>0.0</td>\n",
              "      <td>0.0</td>\n",
              "      <td>0.0</td>\n",
              "      <td>0.0</td>\n",
              "      <td>0.0</td>\n",
              "      <td>3.11</td>\n",
              "      <td>0.0</td>\n",
              "    </tr>\n",
              "    <tr>\n",
              "      <th>2021</th>\n",
              "      <td>57.10</td>\n",
              "      <td>6.72</td>\n",
              "      <td>2.24</td>\n",
              "      <td>0.0</td>\n",
              "      <td>0.0</td>\n",
              "      <td>0.38</td>\n",
              "      <td>26.54</td>\n",
              "      <td>2.37</td>\n",
              "      <td>0.16</td>\n",
              "      <td>0.13</td>\n",
              "      <td>0.03</td>\n",
              "      <td>0.86</td>\n",
              "      <td>3.47</td>\n",
              "      <td>0.0</td>\n",
              "      <td>0.0</td>\n",
              "      <td>0.0</td>\n",
              "      <td>0.0</td>\n",
              "      <td>0.0</td>\n",
              "      <td>8.55</td>\n",
              "      <td>0.0</td>\n",
              "    </tr>\n",
              "  </tbody>\n",
              "</table>\n",
              "</div>\n",
              "      <button class=\"colab-df-convert\" onclick=\"convertToInteractive('df-2b853f1a-60d9-4c67-8897-3493e85f73fa')\"\n",
              "              title=\"Convert this dataframe to an interactive table.\"\n",
              "              style=\"display:none;\">\n",
              "        \n",
              "  <svg xmlns=\"http://www.w3.org/2000/svg\" height=\"24px\"viewBox=\"0 0 24 24\"\n",
              "       width=\"24px\">\n",
              "    <path d=\"M0 0h24v24H0V0z\" fill=\"none\"/>\n",
              "    <path d=\"M18.56 5.44l.94 2.06.94-2.06 2.06-.94-2.06-.94-.94-2.06-.94 2.06-2.06.94zm-11 1L8.5 8.5l.94-2.06 2.06-.94-2.06-.94L8.5 2.5l-.94 2.06-2.06.94zm10 10l.94 2.06.94-2.06 2.06-.94-2.06-.94-.94-2.06-.94 2.06-2.06.94z\"/><path d=\"M17.41 7.96l-1.37-1.37c-.4-.4-.92-.59-1.43-.59-.52 0-1.04.2-1.43.59L10.3 9.45l-7.72 7.72c-.78.78-.78 2.05 0 2.83L4 21.41c.39.39.9.59 1.41.59.51 0 1.02-.2 1.41-.59l7.78-7.78 2.81-2.81c.8-.78.8-2.07 0-2.86zM5.41 20L4 18.59l7.72-7.72 1.47 1.35L5.41 20z\"/>\n",
              "  </svg>\n",
              "      </button>\n",
              "      \n",
              "  <style>\n",
              "    .colab-df-container {\n",
              "      display:flex;\n",
              "      flex-wrap:wrap;\n",
              "      gap: 12px;\n",
              "    }\n",
              "\n",
              "    .colab-df-convert {\n",
              "      background-color: #E8F0FE;\n",
              "      border: none;\n",
              "      border-radius: 50%;\n",
              "      cursor: pointer;\n",
              "      display: none;\n",
              "      fill: #1967D2;\n",
              "      height: 32px;\n",
              "      padding: 0 0 0 0;\n",
              "      width: 32px;\n",
              "    }\n",
              "\n",
              "    .colab-df-convert:hover {\n",
              "      background-color: #E2EBFA;\n",
              "      box-shadow: 0px 1px 2px rgba(60, 64, 67, 0.3), 0px 1px 3px 1px rgba(60, 64, 67, 0.15);\n",
              "      fill: #174EA6;\n",
              "    }\n",
              "\n",
              "    [theme=dark] .colab-df-convert {\n",
              "      background-color: #3B4455;\n",
              "      fill: #D2E3FC;\n",
              "    }\n",
              "\n",
              "    [theme=dark] .colab-df-convert:hover {\n",
              "      background-color: #434B5C;\n",
              "      box-shadow: 0px 1px 3px 1px rgba(0, 0, 0, 0.15);\n",
              "      filter: drop-shadow(0px 1px 2px rgba(0, 0, 0, 0.3));\n",
              "      fill: #FFFFFF;\n",
              "    }\n",
              "  </style>\n",
              "\n",
              "      <script>\n",
              "        const buttonEl =\n",
              "          document.querySelector('#df-2b853f1a-60d9-4c67-8897-3493e85f73fa button.colab-df-convert');\n",
              "        buttonEl.style.display =\n",
              "          google.colab.kernel.accessAllowed ? 'block' : 'none';\n",
              "\n",
              "        async function convertToInteractive(key) {\n",
              "          const element = document.querySelector('#df-2b853f1a-60d9-4c67-8897-3493e85f73fa');\n",
              "          const dataTable =\n",
              "            await google.colab.kernel.invokeFunction('convertToInteractive',\n",
              "                                                     [key], {});\n",
              "          if (!dataTable) return;\n",
              "\n",
              "          const docLinkHtml = 'Like what you see? Visit the ' +\n",
              "            '<a target=\"_blank\" href=https://colab.research.google.com/notebooks/data_table.ipynb>data table notebook</a>'\n",
              "            + ' to learn more about interactive tables.';\n",
              "          element.innerHTML = '';\n",
              "          dataTable['output_type'] = 'display_data';\n",
              "          await google.colab.output.renderOutput(dataTable, element);\n",
              "          const docLink = document.createElement('div');\n",
              "          docLink.innerHTML = docLinkHtml;\n",
              "          element.appendChild(docLink);\n",
              "        }\n",
              "      </script>\n",
              "    </div>\n",
              "  </div>\n",
              "  "
            ]
          },
          "metadata": {},
          "execution_count": 619
        }
      ]
    },
    {
      "cell_type": "code",
      "source": [
        "\n",
        "\n",
        "df_av = df_av.drop(columns=['RECEITA AGROPECUÁRIA','OPERAÇÕES DE CRÉDITO INTERNAS' ,'MOBILIÁRIA' ,'CONTRATUAL' ,'OPERAÇÕES DE CRÉDITO EXTERNAS','RECURSOS ARRECADADOS EM EXERCÍCIOS ANTERIORES','REABERTURA DE CRÉDITOS ADICIONAIS', 'RECEITA AGROPECUÁRIA' ,'RECEITA INDUSTRIAL', 'AMORTIZAÇÕES DE EMPRÉSTIMOS',\t 'ALIENAÇÃO DE BENS'])\n"
      ],
      "metadata": {
        "id": "_qiKyzRWhakx"
      },
      "execution_count": 620,
      "outputs": []
    },
    {
      "cell_type": "code",
      "source": [
        "\n",
        "df_av =df_av.T\n",
        "colors = [ 'orangered','sandybrown', 'saddlebrown',  'tan', 'orange',  'orangered','sandybrown', 'lightgray',  'darkgrey', 'grey']\n",
        "df_av = df_av.sort_values(by=['2021'], ascending=False)\n",
        "df_av =df_av.T\n",
        "\n",
        "\n",
        "\n",
        "df_av.plot(kind=\"barh\",stacked=True, color=colors,width=0.9, figsize=(12,10))\n",
        "plt.xlim(0, 100)\n",
        "plt.xticks(fontsize=15)\n",
        "\n",
        "\n",
        "#coloca o sinal %\n",
        "current_values = plt.gca().get_xticks()\n",
        "plt.gca().set_xticklabels([f'{x.astype(int)}%' for x in current_values])\n",
        "\n",
        "#coloca a legenda fora dp gráfico\n",
        "plt.legend(bbox_to_anchor=(1.04,1), loc=\"upper left\")"
      ],
      "metadata": {
        "id": "7Fg0pkyzc4a7",
        "colab": {
          "base_uri": "https://localhost:8080/",
          "height": 392
        },
        "outputId": "a42eeb55-60a1-430d-c6de-de45b6c20fb0"
      },
      "execution_count": 621,
      "outputs": [
        {
          "output_type": "execute_result",
          "data": {
            "text/plain": [
              "<matplotlib.legend.Legend at 0x7feefaeb8f90>"
            ]
          },
          "metadata": {},
          "execution_count": 621
        },
        {
          "output_type": "display_data",
          "data": {
            "text/plain": [
              "<Figure size 960x800 with 1 Axes>"
            ],
            "image/png": "[encoded data removed]"
          },
          "metadata": {}
        }
      ]
    },
    {
      "cell_type": "markdown",
      "source": [
        "7.4 Análise Horizontal"
      ],
      "metadata": {
        "id": "ovBgElvudx78"
      }
    },
    {
      "cell_type": "code",
      "source": [
        "'''\n",
        "Criando um Dataframe com os valores da análise horizontal obtidos na etapa 6\n",
        "'''\n",
        "df_ah = pd.concat([df['2017']['Categoria'], df['2017']['AH']], axis=1, ignore_index=True)\n",
        "df_ah = pd.concat([df_ah, df['2018']['AH']], axis=1, ignore_index=True)\n",
        "df_ah = pd.concat([df_ah, df['2019']['AH']], axis=1, ignore_index=True)\n",
        "df_ah = pd.concat([df_ah, df['2020']['AH']], axis=1, ignore_index=True)\n",
        "df_ah = pd.concat([df_ah, df['2021']['AH']], axis=1, ignore_index=True)\n",
        "df_ah.columns = ['Categoria', '2017', '2018', '2019', '2020', '2021']\n",
        "\n",
        "df_ah_saldos = df_ah.query('Categoria == [\"SALDOS ANTERIORES\"]')\n",
        "df_ah_saldos = df_ah_saldos.drop(columns=['Categoria'])\n",
        "df_ah_credito = df_ah.query('Categoria == [\"OPERAÇÕES DE CRÉDITO\"]')\n",
        "df_ah_credito = df_ah_credito.drop(columns=['Categoria'])\n",
        "df_ah_corrente = df_ah.query('Categoria == [\"RECEITAS CORRENTE\"]')\n",
        "df_ah_corrente = df_ah_corrente.drop(columns=['Categoria'])\n",
        "df_ah_capital = df_ah.query('Categoria == [\"RECEITAS DE CAPITAL\"]')\n",
        "df_ah_capital = df_ah_capital.drop(columns=['Categoria'])\n",
        "\n",
        "df_ah_saldos =   df_ah_saldos.T   \n",
        "df_ah_credito =   df_ah_credito.T\n",
        "df_ah_corrente =   df_ah_corrente.T\n",
        "df_ah_capital =   df_ah_capital.T "
      ],
      "metadata": {
        "id": "2UA2QIE29m_Q"
      },
      "execution_count": 622,
      "outputs": []
    },
    {
      "cell_type": "code",
      "source": [
        "df_ah_corrente"
      ],
      "metadata": {
        "id": "iWH-A9p-ef9O",
        "colab": {
          "base_uri": "https://localhost:8080/",
          "height": 285
        },
        "outputId": "842401c7-2749-4cd1-fba4-c62a5a5f5667"
      },
      "execution_count": 623,
      "outputs": [
        {
          "output_type": "execute_result",
          "data": {
            "text/plain": [
              "RECEITAS ORÇAMENTÁRIAS  RECEITA TRIBUTÁRIA  RECEITA DE CONTRIBUIÇÕES  \\\n",
              "2017                                102.15                     99.02   \n",
              "2018                                101.92                     99.31   \n",
              "2019                                106.65                    120.33   \n",
              "2020                                103.96                     93.67   \n",
              "2021                                121.51                     90.36   \n",
              "\n",
              "RECEITAS ORÇAMENTÁRIAS  RECEITA PATRIMONIAL  RECEITA AGROPECUÁRIA  \\\n",
              "2017                                  97.42                   NaN   \n",
              "2018                                  71.09                   NaN   \n",
              "2019                                 112.94                   NaN   \n",
              "2020                                  72.30                   NaN   \n",
              "2021                                  98.27                   NaN   \n",
              "\n",
              "RECEITAS ORÇAMENTÁRIAS  RECEITA INDUSTRIAL  RECEITA DE SERVIÇOS  \\\n",
              "2017                                   NaN                87.72   \n",
              "2018                                   NaN                43.03   \n",
              "2019                                   NaN               113.54   \n",
              "2020                                   NaN                96.57   \n",
              "2021                                   NaN                66.70   \n",
              "\n",
              "RECEITAS ORÇAMENTÁRIAS  TRANSFERÊNCIAS CORRENTES  OUTRAS RECEITAS CORRENTES  \n",
              "2017                                       96.89                     121.02  \n",
              "2018                                      101.96                     103.17  \n",
              "2019                                      101.91                      73.70  \n",
              "2020                                      109.24                      62.65  \n",
              "2021                                      118.01                      85.69  "
            ],
            "text/html": [
              "\n",
              "  <div id=\"df-c2fecdcc-5af2-4b94-b674-1dbe361885cd\">\n",
              "    <div class=\"colab-df-container\">\n",
              "      <div>\n",
              "<style scoped>\n",
              "    .dataframe tbody tr th:only-of-type {\n",
              "        vertical-align: middle;\n",
              "    }\n",
              "\n",
              "    .dataframe tbody tr th {\n",
              "        vertical-align: top;\n",
              "    }\n",
              "\n",
              "    .dataframe thead th {\n",
              "        text-align: right;\n",
              "    }\n",
              "</style>\n",
              "<table border=\"1\" class=\"dataframe\">\n",
              "  <thead>\n",
              "    <tr style=\"text-align: right;\">\n",
              "      <th>RECEITAS ORÇAMENTÁRIAS</th>\n",
              "      <th>RECEITA TRIBUTÁRIA</th>\n",
              "      <th>RECEITA DE CONTRIBUIÇÕES</th>\n",
              "      <th>RECEITA PATRIMONIAL</th>\n",
              "      <th>RECEITA AGROPECUÁRIA</th>\n",
              "      <th>RECEITA INDUSTRIAL</th>\n",
              "      <th>RECEITA DE SERVIÇOS</th>\n",
              "      <th>TRANSFERÊNCIAS CORRENTES</th>\n",
              "      <th>OUTRAS RECEITAS CORRENTES</th>\n",
              "    </tr>\n",
              "  </thead>\n",
              "  <tbody>\n",
              "    <tr>\n",
              "      <th>2017</th>\n",
              "      <td>102.15</td>\n",
              "      <td>99.02</td>\n",
              "      <td>97.42</td>\n",
              "      <td>NaN</td>\n",
              "      <td>NaN</td>\n",
              "      <td>87.72</td>\n",
              "      <td>96.89</td>\n",
              "      <td>121.02</td>\n",
              "    </tr>\n",
              "    <tr>\n",
              "      <th>2018</th>\n",
              "      <td>101.92</td>\n",
              "      <td>99.31</td>\n",
              "      <td>71.09</td>\n",
              "      <td>NaN</td>\n",
              "      <td>NaN</td>\n",
              "      <td>43.03</td>\n",
              "      <td>101.96</td>\n",
              "      <td>103.17</td>\n",
              "    </tr>\n",
              "    <tr>\n",
              "      <th>2019</th>\n",
              "      <td>106.65</td>\n",
              "      <td>120.33</td>\n",
              "      <td>112.94</td>\n",
              "      <td>NaN</td>\n",
              "      <td>NaN</td>\n",
              "      <td>113.54</td>\n",
              "      <td>101.91</td>\n",
              "      <td>73.70</td>\n",
              "    </tr>\n",
              "    <tr>\n",
              "      <th>2020</th>\n",
              "      <td>103.96</td>\n",
              "      <td>93.67</td>\n",
              "      <td>72.30</td>\n",
              "      <td>NaN</td>\n",
              "      <td>NaN</td>\n",
              "      <td>96.57</td>\n",
              "      <td>109.24</td>\n",
              "      <td>62.65</td>\n",
              "    </tr>\n",
              "    <tr>\n",
              "      <th>2021</th>\n",
              "      <td>121.51</td>\n",
              "      <td>90.36</td>\n",
              "      <td>98.27</td>\n",
              "      <td>NaN</td>\n",
              "      <td>NaN</td>\n",
              "      <td>66.70</td>\n",
              "      <td>118.01</td>\n",
              "      <td>85.69</td>\n",
              "    </tr>\n",
              "  </tbody>\n",
              "</table>\n",
              "</div>\n",
              "      <button class=\"colab-df-convert\" onclick=\"convertToInteractive('df-c2fecdcc-5af2-4b94-b674-1dbe361885cd')\"\n",
              "              title=\"Convert this dataframe to an interactive table.\"\n",
              "              style=\"display:none;\">\n",
              "        \n",
              "  <svg xmlns=\"http://www.w3.org/2000/svg\" height=\"24px\"viewBox=\"0 0 24 24\"\n",
              "       width=\"24px\">\n",
              "    <path d=\"M0 0h24v24H0V0z\" fill=\"none\"/>\n",
              "    <path d=\"M18.56 5.44l.94 2.06.94-2.06 2.06-.94-2.06-.94-.94-2.06-.94 2.06-2.06.94zm-11 1L8.5 8.5l.94-2.06 2.06-.94-2.06-.94L8.5 2.5l-.94 2.06-2.06.94zm10 10l.94 2.06.94-2.06 2.06-.94-2.06-.94-.94-2.06-.94 2.06-2.06.94z\"/><path d=\"M17.41 7.96l-1.37-1.37c-.4-.4-.92-.59-1.43-.59-.52 0-1.04.2-1.43.59L10.3 9.45l-7.72 7.72c-.78.78-.78 2.05 0 2.83L4 21.41c.39.39.9.59 1.41.59.51 0 1.02-.2 1.41-.59l7.78-7.78 2.81-2.81c.8-.78.8-2.07 0-2.86zM5.41 20L4 18.59l7.72-7.72 1.47 1.35L5.41 20z\"/>\n",
              "  </svg>\n",
              "      </button>\n",
              "      \n",
              "  <style>\n",
              "    .colab-df-container {\n",
              "      display:flex;\n",
              "      flex-wrap:wrap;\n",
              "      gap: 12px;\n",
              "    }\n",
              "\n",
              "    .colab-df-convert {\n",
              "      background-color: #E8F0FE;\n",
              "      border: none;\n",
              "      border-radius: 50%;\n",
              "      cursor: pointer;\n",
              "      display: none;\n",
              "      fill: #1967D2;\n",
              "      height: 32px;\n",
              "      padding: 0 0 0 0;\n",
              "      width: 32px;\n",
              "    }\n",
              "\n",
              "    .colab-df-convert:hover {\n",
              "      background-color: #E2EBFA;\n",
              "      box-shadow: 0px 1px 2px rgba(60, 64, 67, 0.3), 0px 1px 3px 1px rgba(60, 64, 67, 0.15);\n",
              "      fill: #174EA6;\n",
              "    }\n",
              "\n",
              "    [theme=dark] .colab-df-convert {\n",
              "      background-color: #3B4455;\n",
              "      fill: #D2E3FC;\n",
              "    }\n",
              "\n",
              "    [theme=dark] .colab-df-convert:hover {\n",
              "      background-color: #434B5C;\n",
              "      box-shadow: 0px 1px 3px 1px rgba(0, 0, 0, 0.15);\n",
              "      filter: drop-shadow(0px 1px 2px rgba(0, 0, 0, 0.3));\n",
              "      fill: #FFFFFF;\n",
              "    }\n",
              "  </style>\n",
              "\n",
              "      <script>\n",
              "        const buttonEl =\n",
              "          document.querySelector('#df-c2fecdcc-5af2-4b94-b674-1dbe361885cd button.colab-df-convert');\n",
              "        buttonEl.style.display =\n",
              "          google.colab.kernel.accessAllowed ? 'block' : 'none';\n",
              "\n",
              "        async function convertToInteractive(key) {\n",
              "          const element = document.querySelector('#df-c2fecdcc-5af2-4b94-b674-1dbe361885cd');\n",
              "          const dataTable =\n",
              "            await google.colab.kernel.invokeFunction('convertToInteractive',\n",
              "                                                     [key], {});\n",
              "          if (!dataTable) return;\n",
              "\n",
              "          const docLinkHtml = 'Like what you see? Visit the ' +\n",
              "            '<a target=\"_blank\" href=https://colab.research.google.com/notebooks/data_table.ipynb>data table notebook</a>'\n",
              "            + ' to learn more about interactive tables.';\n",
              "          element.innerHTML = '';\n",
              "          dataTable['output_type'] = 'display_data';\n",
              "          await google.colab.output.renderOutput(dataTable, element);\n",
              "          const docLink = document.createElement('div');\n",
              "          docLink.innerHTML = docLinkHtml;\n",
              "          element.appendChild(docLink);\n",
              "        }\n",
              "      </script>\n",
              "    </div>\n",
              "  </div>\n",
              "  "
            ]
          },
          "metadata": {},
          "execution_count": 623
        }
      ]
    },
    {
      "cell_type": "code",
      "source": [
        "\n",
        "df_ah_corrente.plot(kind= 'bar', stacked=True,figsize=(10,8))\n",
        "plt.xticks(rotation=90)"
      ],
      "metadata": {
        "id": "MNlBwqBZ96mO",
        "colab": {
          "base_uri": "https://localhost:8080/",
          "height": 380
        },
        "outputId": "36be3ba5-3ed4-41d6-a8f9-cbce6b3bd5c4"
      },
      "execution_count": 624,
      "outputs": [
        {
          "output_type": "execute_result",
          "data": {
            "text/plain": [
              "(array([0, 1, 2, 3, 4]), <a list of 5 Text major ticklabel objects>)"
            ]
          },
          "metadata": {},
          "execution_count": 624
        },
        {
          "output_type": "display_data",
          "data": {
            "text/plain": [
              "<Figure size 800x640 with 1 Axes>"
            ],
            "image/png": "[encoded data removed]"
          },
          "metadata": {}
        }
      ]
    },
    {
      "cell_type": "code",
      "source": [
        "colors = ['r', 'r', 'b', 'r', 'b']\n",
        "plt.axhline(1, color='k')\n",
        "plt.scatter(q_execucao.index, q_execucao['execução'],c=colors)"
      ],
      "metadata": {
        "id": "L6Xr-48dzFKQ",
        "colab": {
          "base_uri": "https://localhost:8080/",
          "height": 328
        },
        "outputId": "d8158c65-eb43-4d8e-9c96-31b85ae7db75"
      },
      "execution_count": 625,
      "outputs": [
        {
          "output_type": "execute_result",
          "data": {
            "text/plain": [
              "<matplotlib.collections.PathCollection at 0x7feef9dd8150>"
            ]
          },
          "metadata": {},
          "execution_count": 625
        },
        {
          "output_type": "display_data",
          "data": {
            "text/plain": [
              "<Figure size 832x572 with 1 Axes>"
            ],
            "image/png": "[encoded data removed]"
          },
          "metadata": {}
        }
      ]
    }
  ]
}