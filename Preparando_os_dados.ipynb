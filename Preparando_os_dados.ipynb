{
  "nbformat": 4,
  "nbformat_minor": 0,
  "metadata": {
    "colab": {
      "name": "Preparando_os_dados.ipynb",
      "provenance": [],
      "collapsed_sections": [
        "rTC2b4rEX5Nb"
      ],
      "authorship_tag": "ABX9TyMPBXUVSFwIvD5vx52ArcsJ",
      "include_colab_link": true
    },
    "kernelspec": {
      "name": "python3",
      "display_name": "Python 3"
    },
    "language_info": {
      "name": "python"
    }
  },
  "cells": [
    {
      "cell_type": "markdown",
      "metadata": {
        "id": "view-in-github",
        "colab_type": "text"
      },
      "source": [
        "<a href=\"https://colab.research.google.com/github/carolfazani/orcamento_sp/blob/main/Preparando_os_dados.ipynb\" target=\"_parent\"><img src=\"https://colab.research.google.com/assets/colab-badge.svg\" alt=\"Open In Colab\"/></a>"
      ]
    },
    {
      "cell_type": "markdown",
      "source": [
        "#1. Coletando os dados:"
      ],
      "metadata": {
        "id": "rTC2b4rEX5Nb"
      }
    },
    {
      "cell_type": "markdown",
      "source": [
        "Para realizar nossa análise orçamentária vamos utilizar os balanços orçamentários do município de São Paulo referentes aos anos de 2017, 2018, 2019, 2020 e 2021, ambos disponíveis no site: https://www.prefeitura.sp.gov.br/cidade/secretarias/fazenda/contaspublicas/index.php?p=3212\n",
        "\n",
        "Eu editei as tabelas e as deixei apenas com os dados sobre a arrecadação de receitas. As tabelas editadas você encontra neste link: https://github.com/carolfazani/orcamento_sp/tree/main/balancos\n",
        "\n"
      ],
      "metadata": {
        "id": "b3AVkPIBYE9B"
      }
    },
    {
      "cell_type": "markdown",
      "source": [
        "#2. Limpando os dados:"
      ],
      "metadata": {
        "id": "Cc-9aJ7uX8OM"
      }
    },
    {
      "cell_type": "code",
      "source": [
        "import pandas as pd\n",
        "import numpy as np"
      ],
      "metadata": {
        "id": "iXVEEmi-SzUC"
      },
      "execution_count": 86,
      "outputs": []
    },
    {
      "cell_type": "markdown",
      "source": [
        "2.1 Lendo os arquivos em xlsx e os tranformando em dataframes"
      ],
      "metadata": {
        "id": "1EZnH0AAH4px"
      }
    },
    {
      "cell_type": "code",
      "source": [
        "files = ('r2017.xlsx', 'r2018.xlsx', 'r2019.xlsx', 'r2020.xlsx', 'r2021.xlsx')\n",
        "years = ('2017', '2018', '2019', '2020', '2021')\n",
        "df ={}\n",
        "for year,file in zip(years, files):\n",
        "    df[year] = pd.read_excel(file, index_col = 0)\n",
        "    print(f'shape: {df[year].shape}')\n"
      ],
      "metadata": {
        "colab": {
          "base_uri": "https://localhost:8080/"
        },
        "id": "zwcLSyuwEp7-",
        "outputId": "2570b7b5-7dc3-432f-e9fd-0f6e980bd4c0"
      },
      "execution_count": 87,
      "outputs": [
        {
          "output_type": "stream",
          "name": "stdout",
          "text": [
            "shape: (31, 4)\n",
            "shape: (31, 4)\n",
            "shape: (31, 4)\n",
            "shape: (31, 4)\n",
            "shape: (31, 4)\n"
          ]
        }
      ]
    },
    {
      "cell_type": "markdown",
      "source": [
        "2.2 Renomeando as colunas"
      ],
      "metadata": {
        "id": "uTy30s8FJQrm"
      }
    },
    {
      "cell_type": "code",
      "source": [
        "\n",
        "for year in years:\n",
        "  df[year].columns = ['Previsão_Inicial', 'Previsão_Atualizada','Receitas_Realizadas', 'Saldo']\n"
      ],
      "metadata": {
        "id": "LbtaE4iVIorO"
      },
      "execution_count": 88,
      "outputs": []
    },
    {
      "cell_type": "markdown",
      "source": [
        "2.3 Inserindo uma nova coluna"
      ],
      "metadata": {
        "id": "83H7qozCKM25"
      }
    },
    {
      "cell_type": "code",
      "source": [
        "for year in years:\n",
        "  df[year].insert(0, 'Categoria', (np.nan))"
      ],
      "metadata": {
        "id": "wXkLfnoDJuBM"
      },
      "execution_count": 89,
      "outputs": []
    },
    {
      "cell_type": "code",
      "source": [
        "df['2021'].columns"
      ],
      "metadata": {
        "colab": {
          "base_uri": "https://localhost:8080/"
        },
        "id": "UP1mY6MhHSdl",
        "outputId": "4152a042-d26b-43ce-d2fb-dc13f3df1ab9"
      },
      "execution_count": 90,
      "outputs": [
        {
          "output_type": "execute_result",
          "data": {
            "text/plain": [
              "Index(['Categoria', 'Previsão_Inicial', 'Previsão_Atualizada',\n",
              "       'Receitas_Realizadas', 'Saldo'],\n",
              "      dtype='object')"
            ]
          },
          "metadata": {},
          "execution_count": 90
        }
      ]
    },
    {
      "cell_type": "markdown",
      "source": [
        "2.4 Conferindo se nossos índices são iguais"
      ],
      "metadata": {
        "id": "vhAFNYOCOL5A"
      }
    },
    {
      "cell_type": "code",
      "source": [
        "#capturando os objetos Index\n",
        "idx17 = df['2017'].index\n",
        "idx18 = df['2018'].index\n",
        "idx19 = df['2019'].index\n",
        "idx20 = df['2020'].index\n",
        "idx21 = df['2021'].index\n",
        "\n"
      ],
      "metadata": {
        "id": "2rCfHRTyMlhG"
      },
      "execution_count": 91,
      "outputs": []
    },
    {
      "cell_type": "code",
      "source": [
        "type(idx17)"
      ],
      "metadata": {
        "colab": {
          "base_uri": "https://localhost:8080/"
        },
        "id": "15LLxdfDNV67",
        "outputId": "f5a6791f-cee9-40e0-9c84-69857396e17e"
      },
      "execution_count": 92,
      "outputs": [
        {
          "output_type": "execute_result",
          "data": {
            "text/plain": [
              "pandas.core.indexes.base.Index"
            ]
          },
          "metadata": {},
          "execution_count": 92
        }
      ]
    },
    {
      "cell_type": "code",
      "source": [
        "#todos indices colocados dentro dos parenteses retornaram True\n",
        "idx17.equals(idx21)"
      ],
      "metadata": {
        "colab": {
          "base_uri": "https://localhost:8080/"
        },
        "id": "HTbJe_5dOAcg",
        "outputId": "a3b38419-fa85-46df-9728-56b791f8e120"
      },
      "execution_count": 93,
      "outputs": [
        {
          "output_type": "execute_result",
          "data": {
            "text/plain": [
              "True"
            ]
          },
          "metadata": {},
          "execution_count": 93
        }
      ]
    },
    {
      "cell_type": "markdown",
      "source": [
        "2.5 Removendo linhas"
      ],
      "metadata": {
        "id": "Jpq3eDSIP1e9"
      }
    },
    {
      "cell_type": "code",
      "source": [
        "for year in years:\n",
        "    df[year] = df[year].drop(['RECEITAS  CORRENTES (I)', 'RECEITAS DE CAPITAL (II)','SUBTOTAL DAS RECEITAS (III) = ( I + II)', 'OPERAÇÕES DE CRÉDITO / REFINANCIAMENTO (IV)','TOTAL (VII) = (V + VI)', 'Saldos de Exercícios Anteriores (Utilizados para Créditos', 'Adicionais)','SUBTOTAL COM REFINANCIAMENTO (V) = (III + IV)','Deficit (VI)'])\n"
      ],
      "metadata": {
        "id": "9cEh_Q7mP432"
      },
      "execution_count": 94,
      "outputs": []
    },
    {
      "cell_type": "markdown",
      "source": [
        "2.6 Tratando valores nulos"
      ],
      "metadata": {
        "id": "QVGn0nvqYswf"
      }
    },
    {
      "cell_type": "code",
      "source": [
        "for year in years:\n",
        "    df[year].loc[df[year]['Previsão_Inicial'] == '-', 'Previsão_Inicial'] = 0\n",
        "    df[year].loc[df[year]['Previsão_Atualizada'] == '-', 'Previsão_Atualizada'] = 0\n",
        "    df[year].loc[df[year]['Receitas_Realizadas'] == '-', 'Receitas_Realizadas'] = 0\n",
        "    df[year].loc[df[year]['Saldo'] == '-', 'Saldo'] = 0"
      ],
      "metadata": {
        "id": "KA2qd9FmYxTV"
      },
      "execution_count": 95,
      "outputs": []
    },
    {
      "cell_type": "code",
      "source": [
        "df['2017'].dtypes"
      ],
      "metadata": {
        "colab": {
          "base_uri": "https://localhost:8080/"
        },
        "id": "p5nLQEe7b33O",
        "outputId": "4d42b392-f530-42b3-cf01-99317bbacff8"
      },
      "execution_count": 96,
      "outputs": [
        {
          "output_type": "execute_result",
          "data": {
            "text/plain": [
              "Categoria              float64\n",
              "Previsão_Inicial        object\n",
              "Previsão_Atualizada     object\n",
              "Receitas_Realizadas     object\n",
              "Saldo                   object\n",
              "dtype: object"
            ]
          },
          "metadata": {},
          "execution_count": 96
        }
      ]
    },
    {
      "cell_type": "markdown",
      "source": [
        "2.7 Alterando os tipos de valores"
      ],
      "metadata": {
        "id": "wAVu4eKmb_jv"
      }
    },
    {
      "cell_type": "code",
      "source": [
        "for year in years:\n",
        "    df[year]['Previsão_Inicial'] = df[year]['Previsão_Inicial'].astype(float)\n",
        "    df[year]['Previsão_Atualizada'] = df[year]['Previsão_Atualizada'].astype(float)\n",
        "    df[year]['Receitas_Realizadas'] = df[year]['Receitas_Realizadas'].astype(float)\n",
        "    df[year]['Saldo'] = df[year]['Saldo'].astype(float)"
      ],
      "metadata": {
        "id": "OzFbBcADcGtA"
      },
      "execution_count": 97,
      "outputs": []
    },
    {
      "cell_type": "code",
      "source": [
        "df['2018'].dtypes"
      ],
      "metadata": {
        "colab": {
          "base_uri": "https://localhost:8080/"
        },
        "id": "C7Pbkzwlc4Wp",
        "outputId": "83200c57-3ae4-4156-d195-fc8e5379ab75"
      },
      "execution_count": 98,
      "outputs": [
        {
          "output_type": "execute_result",
          "data": {
            "text/plain": [
              "Categoria              float64\n",
              "Previsão_Inicial       float64\n",
              "Previsão_Atualizada    float64\n",
              "Receitas_Realizadas    float64\n",
              "Saldo                  float64\n",
              "dtype: object"
            ]
          },
          "metadata": {},
          "execution_count": 98
        }
      ]
    },
    {
      "cell_type": "markdown",
      "source": [
        "2.8 Verificando duplicados"
      ],
      "metadata": {
        "id": "73YSs3_rVWT3"
      }
    },
    {
      "cell_type": "code",
      "source": [
        "print(idx17.duplicated(keep = False))\n",
        "print(idx18.duplicated(keep = False))\n",
        "print(idx19.duplicated(keep = False))\n",
        "print(idx20.duplicated(keep = False))\n",
        "print(idx21.duplicated(keep = False))"
      ],
      "metadata": {
        "colab": {
          "base_uri": "https://localhost:8080/"
        },
        "id": "fTwS3lArVTYj",
        "outputId": "26687d08-41f0-4976-8e85-a46ae4ed0f3d"
      },
      "execution_count": 99,
      "outputs": [
        {
          "output_type": "stream",
          "name": "stdout",
          "text": [
            "[False False False False False False False False False False False False\n",
            " False False False False False False  True  True False  True  True False\n",
            " False False False False False False False]\n",
            "[False False False False False False False False False False False False\n",
            " False False False False False False  True  True False  True  True False\n",
            " False False False False False False False]\n",
            "[False False False False False False False False False False False False\n",
            " False False False False False False  True  True False  True  True False\n",
            " False False False False False False False]\n",
            "[False False False False False False False False False False False False\n",
            " False False False False False False  True  True False  True  True False\n",
            " False False False False False False False]\n",
            "[False False False False False False False False False False False False\n",
            " False False False False False False  True  True False  True  True False\n",
            " False False False False False False False]\n"
          ]
        }
      ]
    },
    {
      "cell_type": "code",
      "source": [
        "for year in years:\n",
        "  print(f'shape: {df[year].shape}')"
      ],
      "metadata": {
        "colab": {
          "base_uri": "https://localhost:8080/"
        },
        "id": "JYLWh4RZiywJ",
        "outputId": "78275998-f5a9-4d98-cf79-291c571a0f83"
      },
      "execution_count": 100,
      "outputs": [
        {
          "output_type": "stream",
          "name": "stdout",
          "text": [
            "shape: (22, 5)\n",
            "shape: (22, 5)\n",
            "shape: (22, 5)\n",
            "shape: (22, 5)\n",
            "shape: (22, 5)\n"
          ]
        }
      ]
    },
    {
      "cell_type": "code",
      "source": [
        "for year in years:\n",
        "    df[year] = df[year][~df[year].index.duplicated(keep='first')]"
      ],
      "metadata": {
        "id": "CrZnAvqWkw4S"
      },
      "execution_count": 101,
      "outputs": []
    },
    {
      "cell_type": "code",
      "source": [
        "#capturando os novos indices\n",
        "idx17 = df['2017'].index\n",
        "idx18 = df['2018'].index\n",
        "idx19 = df['2019'].index\n",
        "idx20 = df['2020'].index\n",
        "idx21 = df['2021'].index"
      ],
      "metadata": {
        "id": "5fX5dJ3Nfu_u"
      },
      "execution_count": 102,
      "outputs": []
    },
    {
      "cell_type": "code",
      "source": [
        "print(idx17.duplicated(keep = False))\n",
        "print(idx18.duplicated(keep = False))\n",
        "print(idx19.duplicated(keep = False))\n",
        "print(idx20.duplicated(keep = False))\n",
        "print(idx21.duplicated(keep = False))"
      ],
      "metadata": {
        "colab": {
          "base_uri": "https://localhost:8080/"
        },
        "id": "4TR2S3Smfp1G",
        "outputId": "c598a669-530a-4386-b357-d10788ca5f50"
      },
      "execution_count": 103,
      "outputs": [
        {
          "output_type": "stream",
          "name": "stdout",
          "text": [
            "[False False False False False False False False False False False False\n",
            " False False False False False False False False]\n",
            "[False False False False False False False False False False False False\n",
            " False False False False False False False False]\n",
            "[False False False False False False False False False False False False\n",
            " False False False False False False False False]\n",
            "[False False False False False False False False False False False False\n",
            " False False False False False False False False]\n",
            "[False False False False False False False False False False False False\n",
            " False False False False False False False False]\n"
          ]
        }
      ]
    },
    {
      "cell_type": "code",
      "source": [
        "for year in years:\n",
        "  print(f'shape: {df[year].shape}')"
      ],
      "metadata": {
        "colab": {
          "base_uri": "https://localhost:8080/"
        },
        "id": "awWIsV1fijMV",
        "outputId": "0fe5a146-8398-4eeb-cc46-2460c31b69bf"
      },
      "execution_count": 104,
      "outputs": [
        {
          "output_type": "stream",
          "name": "stdout",
          "text": [
            "shape: (20, 5)\n",
            "shape: (20, 5)\n",
            "shape: (20, 5)\n",
            "shape: (20, 5)\n",
            "shape: (20, 5)\n"
          ]
        }
      ]
    },
    {
      "cell_type": "markdown",
      "source": [
        "#3. Classificando os dados"
      ],
      "metadata": {
        "id": "1TaU_2LhmHwF"
      }
    },
    {
      "cell_type": "code",
      "source": [
        "#classifica as receitas por categoria\n",
        "for year in years:\n",
        "  df[year].loc[0:8,'Categoria'] = \"RECEITAS CORRENTE\"\n",
        "  df[year].loc[8:13, 'Categoria'] ='RECEITAS DE CAPITAL'\n",
        "  df[year].loc[13:17, 'Categoria'] = 'OPERAÇÕES DE CRÉDITO'\n",
        "  df[year].loc[17:20, 'Categoria'] = 'SALDOS ANTERIORES'\n"
      ],
      "metadata": {
        "colab": {
          "base_uri": "https://localhost:8080/"
        },
        "id": "cLvGlat5yZQz",
        "outputId": "58a1386a-8106-4dd4-e56b-9c9c7b259c51"
      },
      "execution_count": 105,
      "outputs": [
        {
          "output_type": "stream",
          "name": "stderr",
          "text": [
            "/usr/local/lib/python3.7/dist-packages/pandas/core/indexing.py:719: FutureWarning: Slicing a positional slice with .loc is not supported, and will raise TypeError in a future version.  Use .loc with labels or .iloc with positions instead.\n",
            "  indexer = self._get_setitem_indexer(key)\n"
          ]
        }
      ]
    },
    {
      "cell_type": "markdown",
      "source": [
        "#4. Correção monetária pela variação do IPCA"
      ],
      "metadata": {
        "id": "LqZi4riihi8h"
      }
    },
    {
      "cell_type": "markdown",
      "source": [
        "Para analisar os dados orçamentários, primeiro vamos corrigi-los pelo IPCA, mais informações sobre ele você encontra nesse link:  https://www.ibge.gov.br/estatisticas/economicas/precos-e-custos/9256-indice-nacional-de-precos-ao-consumidor-amplo.html?edicao=20932&t=series-historicas"
      ],
      "metadata": {
        "id": "WbiLbWqBBb_a"
      }
    },
    {
      "cell_type": "code",
      "source": [
        "\n",
        "IPCA= {}\n",
        "deflator = 1.24, 1.20, 1.15, 1.10, 1.00\n",
        "for year, defl in zip(years, deflator):\n",
        "  IPCA[year] = defl\n"
      ],
      "metadata": {
        "id": "qI1GwDj5YxTb"
      },
      "execution_count": 106,
      "outputs": []
    },
    {
      "cell_type": "code",
      "source": [
        "\n",
        "for year in years:\n",
        "    df[year]['Previsão_Inicial'] = df[year]['Previsão_Inicial'].mul(IPCA[year])\n",
        "    df[year]['Previsão_Atualizada'] = df[year]['Previsão_Atualizada'].mul(IPCA[year])\n",
        "    df[year]['Receitas_Realizadas'] = df[year]['Receitas_Realizadas'].mul(IPCA[year])\n",
        "    df[year]['Saldo'] = df[year]['Saldo'].mul(IPCA[year])\n"
      ],
      "metadata": {
        "id": "KtXKLt6-bY2t"
      },
      "execution_count": 107,
      "outputs": []
    },
    {
      "cell_type": "markdown",
      "source": [
        "#5. Criando variáveis de análise"
      ],
      "metadata": {
        "id": "5t3ro9Mu2QDq"
      }
    },
    {
      "cell_type": "markdown",
      "source": [
        "As tabelas originais continham linhas com a soma de alguns valores da nossa tabela, essas linhas foram excluidas na etapa da limpeza e agora vamos criar variáveis que vão armazenar esses mesmos valores. "
      ],
      "metadata": {
        "id": "TMjf55V4VKkv"
      }
    },
    {
      "cell_type": "markdown",
      "source": [
        "5.1 Valores por categoria"
      ],
      "metadata": {
        "id": "f6rT2BNhWxRd"
      }
    },
    {
      "cell_type": "code",
      "source": [
        "'''\n",
        "guarda a soma de cada coluna por categoria em uma variável, equivalem as linhas RECEITAS  CORRENTES (I), RECEITAS DE CAPITAL (II),\n",
        "OPERAÇÕES DE CRÉDITO EXTERNAS e Saldos de Exercícios Anteriores da tabela original.\n",
        "'''\n",
        "inicial ={}\n",
        "atualizada = {}\n",
        "realizada = {}\n",
        "saldo = {}\n",
        "for year in years:\n",
        "    inicial[f'{year}'] = df[year].groupby('Categoria')['Previsão_Inicial'].sum().reset_index(name='Previsão_Inicial')\n",
        "    atualizada[f'{year}'] = df[year].groupby('Categoria')['Previsão_Atualizada'].sum().reset_index(name='Previsão_Atualizada')\n",
        "    realizada[f'{year}'] = df[year].groupby('Categoria')['Receitas_Realizadas'].sum().reset_index(name='Receitas_Realizadas')\n",
        "    saldo[f'{year}'] = df[year].groupby('Categoria')['Saldo'].sum().reset_index(name='Saldo')"
      ],
      "metadata": {
        "id": "yVKHWb6b2ayg"
      },
      "execution_count": 108,
      "outputs": []
    },
    {
      "cell_type": "code",
      "source": [
        "inicial['2018']"
      ],
      "metadata": {
        "id": "AJh2I5OHWrX8",
        "colab": {
          "base_uri": "https://localhost:8080/",
          "height": 175
        },
        "outputId": "cbe1e72a-d98a-43e8-b7eb-4f90385f38b2"
      },
      "execution_count": 109,
      "outputs": [
        {
          "output_type": "execute_result",
          "data": {
            "text/plain": [
              "              Categoria  Previsão_Inicial\n",
              "0  OPERAÇÕES DE CRÉDITO      0.000000e+00\n",
              "1     RECEITAS CORRENTE      6.258866e+10\n",
              "2   RECEITAS DE CAPITAL      5.008014e+09\n",
              "3     SALDOS ANTERIORES      4.800000e+07"
            ],
            "text/html": [
              "\n",
              "  <div id=\"df-60ef408d-0dcc-453c-b6ee-73d905f46fcd\">\n",
              "    <div class=\"colab-df-container\">\n",
              "      <div>\n",
              "<style scoped>\n",
              "    .dataframe tbody tr th:only-of-type {\n",
              "        vertical-align: middle;\n",
              "    }\n",
              "\n",
              "    .dataframe tbody tr th {\n",
              "        vertical-align: top;\n",
              "    }\n",
              "\n",
              "    .dataframe thead th {\n",
              "        text-align: right;\n",
              "    }\n",
              "</style>\n",
              "<table border=\"1\" class=\"dataframe\">\n",
              "  <thead>\n",
              "    <tr style=\"text-align: right;\">\n",
              "      <th></th>\n",
              "      <th>Categoria</th>\n",
              "      <th>Previsão_Inicial</th>\n",
              "    </tr>\n",
              "  </thead>\n",
              "  <tbody>\n",
              "    <tr>\n",
              "      <th>0</th>\n",
              "      <td>OPERAÇÕES DE CRÉDITO</td>\n",
              "      <td>0.000000e+00</td>\n",
              "    </tr>\n",
              "    <tr>\n",
              "      <th>1</th>\n",
              "      <td>RECEITAS CORRENTE</td>\n",
              "      <td>6.258866e+10</td>\n",
              "    </tr>\n",
              "    <tr>\n",
              "      <th>2</th>\n",
              "      <td>RECEITAS DE CAPITAL</td>\n",
              "      <td>5.008014e+09</td>\n",
              "    </tr>\n",
              "    <tr>\n",
              "      <th>3</th>\n",
              "      <td>SALDOS ANTERIORES</td>\n",
              "      <td>4.800000e+07</td>\n",
              "    </tr>\n",
              "  </tbody>\n",
              "</table>\n",
              "</div>\n",
              "      <button class=\"colab-df-convert\" onclick=\"convertToInteractive('df-60ef408d-0dcc-453c-b6ee-73d905f46fcd')\"\n",
              "              title=\"Convert this dataframe to an interactive table.\"\n",
              "              style=\"display:none;\">\n",
              "        \n",
              "  <svg xmlns=\"http://www.w3.org/2000/svg\" height=\"24px\"viewBox=\"0 0 24 24\"\n",
              "       width=\"24px\">\n",
              "    <path d=\"M0 0h24v24H0V0z\" fill=\"none\"/>\n",
              "    <path d=\"M18.56 5.44l.94 2.06.94-2.06 2.06-.94-2.06-.94-.94-2.06-.94 2.06-2.06.94zm-11 1L8.5 8.5l.94-2.06 2.06-.94-2.06-.94L8.5 2.5l-.94 2.06-2.06.94zm10 10l.94 2.06.94-2.06 2.06-.94-2.06-.94-.94-2.06-.94 2.06-2.06.94z\"/><path d=\"M17.41 7.96l-1.37-1.37c-.4-.4-.92-.59-1.43-.59-.52 0-1.04.2-1.43.59L10.3 9.45l-7.72 7.72c-.78.78-.78 2.05 0 2.83L4 21.41c.39.39.9.59 1.41.59.51 0 1.02-.2 1.41-.59l7.78-7.78 2.81-2.81c.8-.78.8-2.07 0-2.86zM5.41 20L4 18.59l7.72-7.72 1.47 1.35L5.41 20z\"/>\n",
              "  </svg>\n",
              "      </button>\n",
              "      \n",
              "  <style>\n",
              "    .colab-df-container {\n",
              "      display:flex;\n",
              "      flex-wrap:wrap;\n",
              "      gap: 12px;\n",
              "    }\n",
              "\n",
              "    .colab-df-convert {\n",
              "      background-color: #E8F0FE;\n",
              "      border: none;\n",
              "      border-radius: 50%;\n",
              "      cursor: pointer;\n",
              "      display: none;\n",
              "      fill: #1967D2;\n",
              "      height: 32px;\n",
              "      padding: 0 0 0 0;\n",
              "      width: 32px;\n",
              "    }\n",
              "\n",
              "    .colab-df-convert:hover {\n",
              "      background-color: #E2EBFA;\n",
              "      box-shadow: 0px 1px 2px rgba(60, 64, 67, 0.3), 0px 1px 3px 1px rgba(60, 64, 67, 0.15);\n",
              "      fill: #174EA6;\n",
              "    }\n",
              "\n",
              "    [theme=dark] .colab-df-convert {\n",
              "      background-color: #3B4455;\n",
              "      fill: #D2E3FC;\n",
              "    }\n",
              "\n",
              "    [theme=dark] .colab-df-convert:hover {\n",
              "      background-color: #434B5C;\n",
              "      box-shadow: 0px 1px 3px 1px rgba(0, 0, 0, 0.15);\n",
              "      filter: drop-shadow(0px 1px 2px rgba(0, 0, 0, 0.3));\n",
              "      fill: #FFFFFF;\n",
              "    }\n",
              "  </style>\n",
              "\n",
              "      <script>\n",
              "        const buttonEl =\n",
              "          document.querySelector('#df-60ef408d-0dcc-453c-b6ee-73d905f46fcd button.colab-df-convert');\n",
              "        buttonEl.style.display =\n",
              "          google.colab.kernel.accessAllowed ? 'block' : 'none';\n",
              "\n",
              "        async function convertToInteractive(key) {\n",
              "          const element = document.querySelector('#df-60ef408d-0dcc-453c-b6ee-73d905f46fcd');\n",
              "          const dataTable =\n",
              "            await google.colab.kernel.invokeFunction('convertToInteractive',\n",
              "                                                     [key], {});\n",
              "          if (!dataTable) return;\n",
              "\n",
              "          const docLinkHtml = 'Like what you see? Visit the ' +\n",
              "            '<a target=\"_blank\" href=https://colab.research.google.com/notebooks/data_table.ipynb>data table notebook</a>'\n",
              "            + ' to learn more about interactive tables.';\n",
              "          element.innerHTML = '';\n",
              "          dataTable['output_type'] = 'display_data';\n",
              "          await google.colab.output.renderOutput(dataTable, element);\n",
              "          const docLink = document.createElement('div');\n",
              "          docLink.innerHTML = docLinkHtml;\n",
              "          element.appendChild(docLink);\n",
              "        }\n",
              "      </script>\n",
              "    </div>\n",
              "  </div>\n",
              "  "
            ]
          },
          "metadata": {},
          "execution_count": 109
        }
      ]
    },
    {
      "cell_type": "code",
      "source": [
        "atualizada['2018']"
      ],
      "metadata": {
        "id": "aU9DsDpP4ktT",
        "colab": {
          "base_uri": "https://localhost:8080/",
          "height": 175
        },
        "outputId": "b21fd456-168b-4a6c-b807-205a465b6578"
      },
      "execution_count": 110,
      "outputs": [
        {
          "output_type": "execute_result",
          "data": {
            "text/plain": [
              "              Categoria  Previsão_Atualizada\n",
              "0  OPERAÇÕES DE CRÉDITO         0.000000e+00\n",
              "1     RECEITAS CORRENTE         6.258866e+10\n",
              "2   RECEITAS DE CAPITAL         5.008014e+09\n",
              "3     SALDOS ANTERIORES         2.026738e+08"
            ],
            "text/html": [
              "\n",
              "  <div id=\"df-ba52deb0-42e3-4bcb-ad35-d55e2070dc39\">\n",
              "    <div class=\"colab-df-container\">\n",
              "      <div>\n",
              "<style scoped>\n",
              "    .dataframe tbody tr th:only-of-type {\n",
              "        vertical-align: middle;\n",
              "    }\n",
              "\n",
              "    .dataframe tbody tr th {\n",
              "        vertical-align: top;\n",
              "    }\n",
              "\n",
              "    .dataframe thead th {\n",
              "        text-align: right;\n",
              "    }\n",
              "</style>\n",
              "<table border=\"1\" class=\"dataframe\">\n",
              "  <thead>\n",
              "    <tr style=\"text-align: right;\">\n",
              "      <th></th>\n",
              "      <th>Categoria</th>\n",
              "      <th>Previsão_Atualizada</th>\n",
              "    </tr>\n",
              "  </thead>\n",
              "  <tbody>\n",
              "    <tr>\n",
              "      <th>0</th>\n",
              "      <td>OPERAÇÕES DE CRÉDITO</td>\n",
              "      <td>0.000000e+00</td>\n",
              "    </tr>\n",
              "    <tr>\n",
              "      <th>1</th>\n",
              "      <td>RECEITAS CORRENTE</td>\n",
              "      <td>6.258866e+10</td>\n",
              "    </tr>\n",
              "    <tr>\n",
              "      <th>2</th>\n",
              "      <td>RECEITAS DE CAPITAL</td>\n",
              "      <td>5.008014e+09</td>\n",
              "    </tr>\n",
              "    <tr>\n",
              "      <th>3</th>\n",
              "      <td>SALDOS ANTERIORES</td>\n",
              "      <td>2.026738e+08</td>\n",
              "    </tr>\n",
              "  </tbody>\n",
              "</table>\n",
              "</div>\n",
              "      <button class=\"colab-df-convert\" onclick=\"convertToInteractive('df-ba52deb0-42e3-4bcb-ad35-d55e2070dc39')\"\n",
              "              title=\"Convert this dataframe to an interactive table.\"\n",
              "              style=\"display:none;\">\n",
              "        \n",
              "  <svg xmlns=\"http://www.w3.org/2000/svg\" height=\"24px\"viewBox=\"0 0 24 24\"\n",
              "       width=\"24px\">\n",
              "    <path d=\"M0 0h24v24H0V0z\" fill=\"none\"/>\n",
              "    <path d=\"M18.56 5.44l.94 2.06.94-2.06 2.06-.94-2.06-.94-.94-2.06-.94 2.06-2.06.94zm-11 1L8.5 8.5l.94-2.06 2.06-.94-2.06-.94L8.5 2.5l-.94 2.06-2.06.94zm10 10l.94 2.06.94-2.06 2.06-.94-2.06-.94-.94-2.06-.94 2.06-2.06.94z\"/><path d=\"M17.41 7.96l-1.37-1.37c-.4-.4-.92-.59-1.43-.59-.52 0-1.04.2-1.43.59L10.3 9.45l-7.72 7.72c-.78.78-.78 2.05 0 2.83L4 21.41c.39.39.9.59 1.41.59.51 0 1.02-.2 1.41-.59l7.78-7.78 2.81-2.81c.8-.78.8-2.07 0-2.86zM5.41 20L4 18.59l7.72-7.72 1.47 1.35L5.41 20z\"/>\n",
              "  </svg>\n",
              "      </button>\n",
              "      \n",
              "  <style>\n",
              "    .colab-df-container {\n",
              "      display:flex;\n",
              "      flex-wrap:wrap;\n",
              "      gap: 12px;\n",
              "    }\n",
              "\n",
              "    .colab-df-convert {\n",
              "      background-color: #E8F0FE;\n",
              "      border: none;\n",
              "      border-radius: 50%;\n",
              "      cursor: pointer;\n",
              "      display: none;\n",
              "      fill: #1967D2;\n",
              "      height: 32px;\n",
              "      padding: 0 0 0 0;\n",
              "      width: 32px;\n",
              "    }\n",
              "\n",
              "    .colab-df-convert:hover {\n",
              "      background-color: #E2EBFA;\n",
              "      box-shadow: 0px 1px 2px rgba(60, 64, 67, 0.3), 0px 1px 3px 1px rgba(60, 64, 67, 0.15);\n",
              "      fill: #174EA6;\n",
              "    }\n",
              "\n",
              "    [theme=dark] .colab-df-convert {\n",
              "      background-color: #3B4455;\n",
              "      fill: #D2E3FC;\n",
              "    }\n",
              "\n",
              "    [theme=dark] .colab-df-convert:hover {\n",
              "      background-color: #434B5C;\n",
              "      box-shadow: 0px 1px 3px 1px rgba(0, 0, 0, 0.15);\n",
              "      filter: drop-shadow(0px 1px 2px rgba(0, 0, 0, 0.3));\n",
              "      fill: #FFFFFF;\n",
              "    }\n",
              "  </style>\n",
              "\n",
              "      <script>\n",
              "        const buttonEl =\n",
              "          document.querySelector('#df-ba52deb0-42e3-4bcb-ad35-d55e2070dc39 button.colab-df-convert');\n",
              "        buttonEl.style.display =\n",
              "          google.colab.kernel.accessAllowed ? 'block' : 'none';\n",
              "\n",
              "        async function convertToInteractive(key) {\n",
              "          const element = document.querySelector('#df-ba52deb0-42e3-4bcb-ad35-d55e2070dc39');\n",
              "          const dataTable =\n",
              "            await google.colab.kernel.invokeFunction('convertToInteractive',\n",
              "                                                     [key], {});\n",
              "          if (!dataTable) return;\n",
              "\n",
              "          const docLinkHtml = 'Like what you see? Visit the ' +\n",
              "            '<a target=\"_blank\" href=https://colab.research.google.com/notebooks/data_table.ipynb>data table notebook</a>'\n",
              "            + ' to learn more about interactive tables.';\n",
              "          element.innerHTML = '';\n",
              "          dataTable['output_type'] = 'display_data';\n",
              "          await google.colab.output.renderOutput(dataTable, element);\n",
              "          const docLink = document.createElement('div');\n",
              "          docLink.innerHTML = docLinkHtml;\n",
              "          element.appendChild(docLink);\n",
              "        }\n",
              "      </script>\n",
              "    </div>\n",
              "  </div>\n",
              "  "
            ]
          },
          "metadata": {},
          "execution_count": 110
        }
      ]
    },
    {
      "cell_type": "code",
      "source": [
        "realizada['2018']"
      ],
      "metadata": {
        "id": "CQvsGftqWtDZ",
        "colab": {
          "base_uri": "https://localhost:8080/",
          "height": 175
        },
        "outputId": "97a5452f-721a-46ea-c749-a96f5780efa7"
      },
      "execution_count": 111,
      "outputs": [
        {
          "output_type": "execute_result",
          "data": {
            "text/plain": [
              "              Categoria  Receitas_Realizadas\n",
              "0  OPERAÇÕES DE CRÉDITO         0.000000e+00\n",
              "1     RECEITAS CORRENTE         6.288545e+10\n",
              "2   RECEITAS DE CAPITAL         2.320167e+09\n",
              "3     SALDOS ANTERIORES         1.546738e+08"
            ],
            "text/html": [
              "\n",
              "  <div id=\"df-b196e088-6c22-4b51-a10a-1108905efc46\">\n",
              "    <div class=\"colab-df-container\">\n",
              "      <div>\n",
              "<style scoped>\n",
              "    .dataframe tbody tr th:only-of-type {\n",
              "        vertical-align: middle;\n",
              "    }\n",
              "\n",
              "    .dataframe tbody tr th {\n",
              "        vertical-align: top;\n",
              "    }\n",
              "\n",
              "    .dataframe thead th {\n",
              "        text-align: right;\n",
              "    }\n",
              "</style>\n",
              "<table border=\"1\" class=\"dataframe\">\n",
              "  <thead>\n",
              "    <tr style=\"text-align: right;\">\n",
              "      <th></th>\n",
              "      <th>Categoria</th>\n",
              "      <th>Receitas_Realizadas</th>\n",
              "    </tr>\n",
              "  </thead>\n",
              "  <tbody>\n",
              "    <tr>\n",
              "      <th>0</th>\n",
              "      <td>OPERAÇÕES DE CRÉDITO</td>\n",
              "      <td>0.000000e+00</td>\n",
              "    </tr>\n",
              "    <tr>\n",
              "      <th>1</th>\n",
              "      <td>RECEITAS CORRENTE</td>\n",
              "      <td>6.288545e+10</td>\n",
              "    </tr>\n",
              "    <tr>\n",
              "      <th>2</th>\n",
              "      <td>RECEITAS DE CAPITAL</td>\n",
              "      <td>2.320167e+09</td>\n",
              "    </tr>\n",
              "    <tr>\n",
              "      <th>3</th>\n",
              "      <td>SALDOS ANTERIORES</td>\n",
              "      <td>1.546738e+08</td>\n",
              "    </tr>\n",
              "  </tbody>\n",
              "</table>\n",
              "</div>\n",
              "      <button class=\"colab-df-convert\" onclick=\"convertToInteractive('df-b196e088-6c22-4b51-a10a-1108905efc46')\"\n",
              "              title=\"Convert this dataframe to an interactive table.\"\n",
              "              style=\"display:none;\">\n",
              "        \n",
              "  <svg xmlns=\"http://www.w3.org/2000/svg\" height=\"24px\"viewBox=\"0 0 24 24\"\n",
              "       width=\"24px\">\n",
              "    <path d=\"M0 0h24v24H0V0z\" fill=\"none\"/>\n",
              "    <path d=\"M18.56 5.44l.94 2.06.94-2.06 2.06-.94-2.06-.94-.94-2.06-.94 2.06-2.06.94zm-11 1L8.5 8.5l.94-2.06 2.06-.94-2.06-.94L8.5 2.5l-.94 2.06-2.06.94zm10 10l.94 2.06.94-2.06 2.06-.94-2.06-.94-.94-2.06-.94 2.06-2.06.94z\"/><path d=\"M17.41 7.96l-1.37-1.37c-.4-.4-.92-.59-1.43-.59-.52 0-1.04.2-1.43.59L10.3 9.45l-7.72 7.72c-.78.78-.78 2.05 0 2.83L4 21.41c.39.39.9.59 1.41.59.51 0 1.02-.2 1.41-.59l7.78-7.78 2.81-2.81c.8-.78.8-2.07 0-2.86zM5.41 20L4 18.59l7.72-7.72 1.47 1.35L5.41 20z\"/>\n",
              "  </svg>\n",
              "      </button>\n",
              "      \n",
              "  <style>\n",
              "    .colab-df-container {\n",
              "      display:flex;\n",
              "      flex-wrap:wrap;\n",
              "      gap: 12px;\n",
              "    }\n",
              "\n",
              "    .colab-df-convert {\n",
              "      background-color: #E8F0FE;\n",
              "      border: none;\n",
              "      border-radius: 50%;\n",
              "      cursor: pointer;\n",
              "      display: none;\n",
              "      fill: #1967D2;\n",
              "      height: 32px;\n",
              "      padding: 0 0 0 0;\n",
              "      width: 32px;\n",
              "    }\n",
              "\n",
              "    .colab-df-convert:hover {\n",
              "      background-color: #E2EBFA;\n",
              "      box-shadow: 0px 1px 2px rgba(60, 64, 67, 0.3), 0px 1px 3px 1px rgba(60, 64, 67, 0.15);\n",
              "      fill: #174EA6;\n",
              "    }\n",
              "\n",
              "    [theme=dark] .colab-df-convert {\n",
              "      background-color: #3B4455;\n",
              "      fill: #D2E3FC;\n",
              "    }\n",
              "\n",
              "    [theme=dark] .colab-df-convert:hover {\n",
              "      background-color: #434B5C;\n",
              "      box-shadow: 0px 1px 3px 1px rgba(0, 0, 0, 0.15);\n",
              "      filter: drop-shadow(0px 1px 2px rgba(0, 0, 0, 0.3));\n",
              "      fill: #FFFFFF;\n",
              "    }\n",
              "  </style>\n",
              "\n",
              "      <script>\n",
              "        const buttonEl =\n",
              "          document.querySelector('#df-b196e088-6c22-4b51-a10a-1108905efc46 button.colab-df-convert');\n",
              "        buttonEl.style.display =\n",
              "          google.colab.kernel.accessAllowed ? 'block' : 'none';\n",
              "\n",
              "        async function convertToInteractive(key) {\n",
              "          const element = document.querySelector('#df-b196e088-6c22-4b51-a10a-1108905efc46');\n",
              "          const dataTable =\n",
              "            await google.colab.kernel.invokeFunction('convertToInteractive',\n",
              "                                                     [key], {});\n",
              "          if (!dataTable) return;\n",
              "\n",
              "          const docLinkHtml = 'Like what you see? Visit the ' +\n",
              "            '<a target=\"_blank\" href=https://colab.research.google.com/notebooks/data_table.ipynb>data table notebook</a>'\n",
              "            + ' to learn more about interactive tables.';\n",
              "          element.innerHTML = '';\n",
              "          dataTable['output_type'] = 'display_data';\n",
              "          await google.colab.output.renderOutput(dataTable, element);\n",
              "          const docLink = document.createElement('div');\n",
              "          docLink.innerHTML = docLinkHtml;\n",
              "          element.appendChild(docLink);\n",
              "        }\n",
              "      </script>\n",
              "    </div>\n",
              "  </div>\n",
              "  "
            ]
          },
          "metadata": {},
          "execution_count": 111
        }
      ]
    },
    {
      "cell_type": "code",
      "source": [
        "saldo['2018']"
      ],
      "metadata": {
        "id": "Av_9J3teWurm",
        "colab": {
          "base_uri": "https://localhost:8080/",
          "height": 175
        },
        "outputId": "b5fab2ea-9733-4da0-d066-407e6e1ba5be"
      },
      "execution_count": 112,
      "outputs": [
        {
          "output_type": "execute_result",
          "data": {
            "text/plain": [
              "              Categoria         Saldo\n",
              "0  OPERAÇÕES DE CRÉDITO  0.000000e+00\n",
              "1     RECEITAS CORRENTE  2.967896e+08\n",
              "2   RECEITAS DE CAPITAL -2.687848e+09\n",
              "3     SALDOS ANTERIORES -4.800000e+07"
            ],
            "text/html": [
              "\n",
              "  <div id=\"df-8f2d8412-3d84-4093-a936-735b0cd8d226\">\n",
              "    <div class=\"colab-df-container\">\n",
              "      <div>\n",
              "<style scoped>\n",
              "    .dataframe tbody tr th:only-of-type {\n",
              "        vertical-align: middle;\n",
              "    }\n",
              "\n",
              "    .dataframe tbody tr th {\n",
              "        vertical-align: top;\n",
              "    }\n",
              "\n",
              "    .dataframe thead th {\n",
              "        text-align: right;\n",
              "    }\n",
              "</style>\n",
              "<table border=\"1\" class=\"dataframe\">\n",
              "  <thead>\n",
              "    <tr style=\"text-align: right;\">\n",
              "      <th></th>\n",
              "      <th>Categoria</th>\n",
              "      <th>Saldo</th>\n",
              "    </tr>\n",
              "  </thead>\n",
              "  <tbody>\n",
              "    <tr>\n",
              "      <th>0</th>\n",
              "      <td>OPERAÇÕES DE CRÉDITO</td>\n",
              "      <td>0.000000e+00</td>\n",
              "    </tr>\n",
              "    <tr>\n",
              "      <th>1</th>\n",
              "      <td>RECEITAS CORRENTE</td>\n",
              "      <td>2.967896e+08</td>\n",
              "    </tr>\n",
              "    <tr>\n",
              "      <th>2</th>\n",
              "      <td>RECEITAS DE CAPITAL</td>\n",
              "      <td>-2.687848e+09</td>\n",
              "    </tr>\n",
              "    <tr>\n",
              "      <th>3</th>\n",
              "      <td>SALDOS ANTERIORES</td>\n",
              "      <td>-4.800000e+07</td>\n",
              "    </tr>\n",
              "  </tbody>\n",
              "</table>\n",
              "</div>\n",
              "      <button class=\"colab-df-convert\" onclick=\"convertToInteractive('df-8f2d8412-3d84-4093-a936-735b0cd8d226')\"\n",
              "              title=\"Convert this dataframe to an interactive table.\"\n",
              "              style=\"display:none;\">\n",
              "        \n",
              "  <svg xmlns=\"http://www.w3.org/2000/svg\" height=\"24px\"viewBox=\"0 0 24 24\"\n",
              "       width=\"24px\">\n",
              "    <path d=\"M0 0h24v24H0V0z\" fill=\"none\"/>\n",
              "    <path d=\"M18.56 5.44l.94 2.06.94-2.06 2.06-.94-2.06-.94-.94-2.06-.94 2.06-2.06.94zm-11 1L8.5 8.5l.94-2.06 2.06-.94-2.06-.94L8.5 2.5l-.94 2.06-2.06.94zm10 10l.94 2.06.94-2.06 2.06-.94-2.06-.94-.94-2.06-.94 2.06-2.06.94z\"/><path d=\"M17.41 7.96l-1.37-1.37c-.4-.4-.92-.59-1.43-.59-.52 0-1.04.2-1.43.59L10.3 9.45l-7.72 7.72c-.78.78-.78 2.05 0 2.83L4 21.41c.39.39.9.59 1.41.59.51 0 1.02-.2 1.41-.59l7.78-7.78 2.81-2.81c.8-.78.8-2.07 0-2.86zM5.41 20L4 18.59l7.72-7.72 1.47 1.35L5.41 20z\"/>\n",
              "  </svg>\n",
              "      </button>\n",
              "      \n",
              "  <style>\n",
              "    .colab-df-container {\n",
              "      display:flex;\n",
              "      flex-wrap:wrap;\n",
              "      gap: 12px;\n",
              "    }\n",
              "\n",
              "    .colab-df-convert {\n",
              "      background-color: #E8F0FE;\n",
              "      border: none;\n",
              "      border-radius: 50%;\n",
              "      cursor: pointer;\n",
              "      display: none;\n",
              "      fill: #1967D2;\n",
              "      height: 32px;\n",
              "      padding: 0 0 0 0;\n",
              "      width: 32px;\n",
              "    }\n",
              "\n",
              "    .colab-df-convert:hover {\n",
              "      background-color: #E2EBFA;\n",
              "      box-shadow: 0px 1px 2px rgba(60, 64, 67, 0.3), 0px 1px 3px 1px rgba(60, 64, 67, 0.15);\n",
              "      fill: #174EA6;\n",
              "    }\n",
              "\n",
              "    [theme=dark] .colab-df-convert {\n",
              "      background-color: #3B4455;\n",
              "      fill: #D2E3FC;\n",
              "    }\n",
              "\n",
              "    [theme=dark] .colab-df-convert:hover {\n",
              "      background-color: #434B5C;\n",
              "      box-shadow: 0px 1px 3px 1px rgba(0, 0, 0, 0.15);\n",
              "      filter: drop-shadow(0px 1px 2px rgba(0, 0, 0, 0.3));\n",
              "      fill: #FFFFFF;\n",
              "    }\n",
              "  </style>\n",
              "\n",
              "      <script>\n",
              "        const buttonEl =\n",
              "          document.querySelector('#df-8f2d8412-3d84-4093-a936-735b0cd8d226 button.colab-df-convert');\n",
              "        buttonEl.style.display =\n",
              "          google.colab.kernel.accessAllowed ? 'block' : 'none';\n",
              "\n",
              "        async function convertToInteractive(key) {\n",
              "          const element = document.querySelector('#df-8f2d8412-3d84-4093-a936-735b0cd8d226');\n",
              "          const dataTable =\n",
              "            await google.colab.kernel.invokeFunction('convertToInteractive',\n",
              "                                                     [key], {});\n",
              "          if (!dataTable) return;\n",
              "\n",
              "          const docLinkHtml = 'Like what you see? Visit the ' +\n",
              "            '<a target=\"_blank\" href=https://colab.research.google.com/notebooks/data_table.ipynb>data table notebook</a>'\n",
              "            + ' to learn more about interactive tables.';\n",
              "          element.innerHTML = '';\n",
              "          dataTable['output_type'] = 'display_data';\n",
              "          await google.colab.output.renderOutput(dataTable, element);\n",
              "          const docLink = document.createElement('div');\n",
              "          docLink.innerHTML = docLinkHtml;\n",
              "          element.appendChild(docLink);\n",
              "        }\n",
              "      </script>\n",
              "    </div>\n",
              "  </div>\n",
              "  "
            ]
          },
          "metadata": {},
          "execution_count": 112
        }
      ]
    },
    {
      "cell_type": "markdown",
      "source": [
        "5.2 Valores Totais"
      ],
      "metadata": {
        "id": "113o_7oYW6C2"
      }
    },
    {
      "cell_type": "code",
      "source": [
        "'''equivalem a linha TOTAL (VII) = (V + VI) da tabela original, \n",
        "a c_realizada é a soma das receitas realizadas: correntes , de capital e operações de crédito\n",
        "a c_saldo é o total realizado menos a soma das receitas atualizadas: correntes , de capital e operações de crédito '''\n",
        "\n",
        "c_inicial ={}\n",
        "c_atualizada = {}\n",
        "c_realizada = {}\n",
        "c_saldo = {}\n",
        "for year in years:\n",
        "  c_inicial[f'{year}'] = inicial[year]['Previsão_Inicial'].sum()\n",
        "  c_atualizada[f'{year}'] = atualizada[year]['Previsão_Atualizada'].sum()\n",
        "  c_realizada[f'{year}'] = realizada[year]['Receitas_Realizadas'].sum()-realizada[year]['Receitas_Realizadas'][3]\n",
        "  c_saldo[f'{year}'] = (c_realizada[f'{year}'] - (c_atualizada[f'{year}'] - atualizada[year]['Previsão_Atualizada'][3:]))"
      ],
      "metadata": {
        "id": "foKgAa-T66lX"
      },
      "execution_count": 113,
      "outputs": []
    },
    {
      "cell_type": "code",
      "source": [
        "print(c_inicial['2018'])\n",
        "print(c_atualizada['2018'])\n",
        "print(c_realizada['2019'])\n",
        "print(c_saldo['2018'])"
      ],
      "metadata": {
        "id": "qOWT2V-D8ECx",
        "colab": {
          "base_uri": "https://localhost:8080/"
        },
        "outputId": "0d6dcfdf-0c53-450a-e3ce-451b9e839ff1"
      },
      "execution_count": 114,
      "outputs": [
        {
          "output_type": "stream",
          "name": "stdout",
          "text": [
            "67644672674.39999\n",
            "67799346522.05999\n",
            "72124529530.39099\n",
            "3   -2.391058e+09\n",
            "Name: Previsão_Atualizada, dtype: float64\n"
          ]
        }
      ]
    },
    {
      "cell_type": "code",
      "source": [
        "'''\n",
        "equivale a linha TOTAL (VII) = (V + VI) da tabela original\n",
        "'''\n",
        "\n",
        "t_inicial ={}\n",
        "t_atualizada = {}\n",
        "t_realizada = {}\n",
        "t_saldo = {}\n",
        "for year in years:\n",
        "  t_inicial[f'{year}'] = df[year]['Previsão_Inicial'].sum()\n",
        "  t_atualizada[f'{year}'] = df[year]['Previsão_Atualizada'].sum()\n",
        "  t_realizada[f'{year}'] = (df[year]['Receitas_Realizadas'].sum() - realizada[year]['Receitas_Realizadas'][3:]).astype(int)\n",
        "  t_saldo[f'{year}'] = (t_realizada[f'{year}'] - (t_atualizada[f'{year}'] - atualizada[year]['Previsão_Atualizada'][3:])).astype(int)"
      ],
      "metadata": {
        "id": "fNDjnRg_8nc4"
      },
      "execution_count": 115,
      "outputs": []
    },
    {
      "cell_type": "code",
      "source": [
        "print(t_inicial['2018'])\n",
        "print(t_atualizada['2018'])\n",
        "print(t_realizada['2018'])\n",
        "print(t_saldo['2018'])"
      ],
      "metadata": {
        "id": "gFtDKF5maQTS",
        "colab": {
          "base_uri": "https://localhost:8080/"
        },
        "outputId": "47d215b9-4ee4-47f9-a51a-ff62a7ed76c7"
      },
      "execution_count": 116,
      "outputs": [
        {
          "output_type": "stream",
          "name": "stdout",
          "text": [
            "67644672674.399994\n",
            "67799346522.06\n",
            "3    65205614718\n",
            "Name: Receitas_Realizadas, dtype: int64\n",
            "3   -2391057956\n",
            "dtype: int64\n"
          ]
        }
      ]
    },
    {
      "cell_type": "markdown",
      "source": [
        "#6. Indicadores para análise"
      ],
      "metadata": {
        "id": "RXGLGzmP-O4w"
      }
    },
    {
      "cell_type": "markdown",
      "source": [
        "6.1 Quociente de execução da receita"
      ],
      "metadata": {
        "id": "9Q0OiQkQXJDO"
      }
    },
    {
      "cell_type": "markdown",
      "source": [
        "Execução da Receita: Receita Executada/ Receita Prevista\n",
        "\n",
        "\n",
        "* '1' = Receita executada é igual à receita prevista;\n",
        "* '>1' = Receita executada é maior que a prevista, portanto,representa o excesso de arrecadação;\n",
        "* '<1' = Receita executada é menor que a prevista, portanto,representa a falta de arrecadação.\n",
        "\n",
        "\n",
        "\n",
        "\n",
        "\n",
        "\n",
        "*Quociente de execução da receita: Receita Executada Receita Prevista (Kohama, 2000, p. 144-148)*"
      ],
      "metadata": {
        "id": "czdsu1Zm-ZkO"
      }
    },
    {
      "cell_type": "code",
      "source": [
        "q_execucao= {}\n",
        "for year in years:\n",
        "  q_execucao[f'{year}'] = t_realizada[f'{year}']/ t_inicial[f'{year}'] \n",
        "  print(type(q_execucao[f'{year}']))"
      ],
      "metadata": {
        "id": "stYZ01Xp-cfj",
        "colab": {
          "base_uri": "https://localhost:8080/"
        },
        "outputId": "c4cc9a1e-5ef6-49af-a999-d0888154e637"
      },
      "execution_count": 117,
      "outputs": [
        {
          "output_type": "stream",
          "name": "stdout",
          "text": [
            "<class 'pandas.core.series.Series'>\n",
            "<class 'pandas.core.series.Series'>\n",
            "<class 'pandas.core.series.Series'>\n",
            "<class 'pandas.core.series.Series'>\n",
            "<class 'pandas.core.series.Series'>\n"
          ]
        }
      ]
    },
    {
      "cell_type": "code",
      "source": [
        "q_execucao"
      ],
      "metadata": {
        "colab": {
          "base_uri": "https://localhost:8080/"
        },
        "id": "KqL5-QBNfoxe",
        "outputId": "f12512a9-aa97-456c-9a7e-b779db09afac"
      },
      "execution_count": 118,
      "outputs": [
        {
          "output_type": "execute_result",
          "data": {
            "text/plain": [
              "{'2017': 3    0.946494\n",
              " Name: Receitas_Realizadas, dtype: float64, '2018': 3    0.963943\n",
              " Name: Receitas_Realizadas, dtype: float64, '2019': 3    1.035558\n",
              " Name: Receitas_Realizadas, dtype: float64, '2020': 3    0.966252\n",
              " Name: Receitas_Realizadas, dtype: float64, '2021': 3    1.127835\n",
              " Name: Receitas_Realizadas, dtype: float64}"
            ]
          },
          "metadata": {},
          "execution_count": 118
        }
      ]
    },
    {
      "cell_type": "code",
      "source": [
        "q_execucao = pd.DataFrame(q_execucao)\n",
        "q_execucao = q_execucao.T\n",
        "q_execucao.columns = ['execução']"
      ],
      "metadata": {
        "id": "rN50jW0szR7x"
      },
      "execution_count": 119,
      "outputs": []
    },
    {
      "cell_type": "code",
      "source": [
        "q_execucao.index"
      ],
      "metadata": {
        "colab": {
          "base_uri": "https://localhost:8080/"
        },
        "id": "I6bErmTX2y5A",
        "outputId": "9c387284-fc96-49d8-e0d6-981c6fabe708"
      },
      "execution_count": 120,
      "outputs": [
        {
          "output_type": "execute_result",
          "data": {
            "text/plain": [
              "Index(['2017', '2018', '2019', '2020', '2021'], dtype='object')"
            ]
          },
          "metadata": {},
          "execution_count": 120
        }
      ]
    },
    {
      "cell_type": "markdown",
      "source": [
        "6.2 Análise Horizontal"
      ],
      "metadata": {
        "id": "z5aXjA3kYHzd"
      }
    },
    {
      "cell_type": "markdown",
      "source": [
        "Analise Horizontal: Realizado/ Previsto *100.\n",
        "\n",
        "Demonstra a variação entre a Receita Prevista e a Realizada"
      ],
      "metadata": {
        "id": "6T_u823bf5BP"
      }
    },
    {
      "cell_type": "code",
      "source": [
        "for year in years:\n",
        "    df[year]['AH'] = round(df[year]['Receitas_Realizadas']/df[year]['Previsão_Inicial']*100, 2)\n"
      ],
      "metadata": {
        "id": "v8PBn5bKhDtA"
      },
      "execution_count": 121,
      "outputs": []
    },
    {
      "cell_type": "markdown",
      "source": [
        "6.3 Análise Vertical"
      ],
      "metadata": {
        "id": "urqsAULIZNZu"
      }
    },
    {
      "cell_type": "markdown",
      "source": [
        "Análise Vertical: cada linha realizada/ total realizado *100.\n",
        "\n",
        "Demonstra o peso de cada receita no total arrecadado."
      ],
      "metadata": {
        "id": "8XgRwHRpigJ2"
      }
    },
    {
      "cell_type": "code",
      "source": [
        "for year in years:\n",
        "    df[year]['AV'] = round(df[year]['Receitas_Realizadas'].div(c_realizada[year])*100, 2)"
      ],
      "metadata": {
        "id": "k_DXcVsLi9Q1"
      },
      "execution_count": 122,
      "outputs": []
    },
    {
      "cell_type": "code",
      "source": [
        "df['2017'].head(n=30)"
      ],
      "metadata": {
        "colab": {
          "base_uri": "https://localhost:8080/",
          "height": 707
        },
        "id": "yoQLbw04hep6",
        "outputId": "e98f19d8-9d1b-41b4-8168-37e50df81890"
      },
      "execution_count": 123,
      "outputs": [
        {
          "output_type": "execute_result",
          "data": {
            "text/plain": [
              "                                                          Categoria  \\\n",
              "RECEITAS ORÇAMENTÁRIAS                                                \n",
              "RECEITA TRIBUTÁRIA                                RECEITAS CORRENTE   \n",
              "RECEITA DE CONTRIBUIÇÕES                          RECEITAS CORRENTE   \n",
              "RECEITA PATRIMONIAL                               RECEITAS CORRENTE   \n",
              "RECEITA AGROPECUÁRIA                              RECEITAS CORRENTE   \n",
              "RECEITA INDUSTRIAL                                RECEITAS CORRENTE   \n",
              "RECEITA DE SERVIÇOS                               RECEITAS CORRENTE   \n",
              "TRANSFERÊNCIAS CORRENTES                          RECEITAS CORRENTE   \n",
              "OUTRAS RECEITAS CORRENTES                         RECEITAS CORRENTE   \n",
              "OPERAÇÕES DE CRÉDITO                            RECEITAS DE CAPITAL   \n",
              "ALIENAÇÃO DE BENS                               RECEITAS DE CAPITAL   \n",
              "AMORTIZAÇÕES DE EMPRÉSTIMOS                     RECEITAS DE CAPITAL   \n",
              "TRANSFERÊNCIAS DE CAPITAL                       RECEITAS DE CAPITAL   \n",
              "OUTRAS RECEITAS DE CAPITAL                      RECEITAS DE CAPITAL   \n",
              "OPERAÇÕES DE CRÉDITO INTERNAS                  OPERAÇÕES DE CRÉDITO   \n",
              "MOBILIÁRIA                                     OPERAÇÕES DE CRÉDITO   \n",
              "CONTRATUAL                                     OPERAÇÕES DE CRÉDITO   \n",
              "OPERAÇÕES DE CRÉDITO EXTERNAS                  OPERAÇÕES DE CRÉDITO   \n",
              "RECURSOS ARRECADADOS EM EXERCÍCIOS ANTERIORES     SALDOS ANTERIORES   \n",
              "SUPERAVIT FINANCEIRO                              SALDOS ANTERIORES   \n",
              "REABERTURA DE CRÉDITOS ADICIONAIS                 SALDOS ANTERIORES   \n",
              "\n",
              "                                               Previsão_Inicial  \\\n",
              "RECEITAS ORÇAMENTÁRIAS                                            \n",
              "RECEITA TRIBUTÁRIA                                 3.098723e+10   \n",
              "RECEITA DE CONTRIBUIÇÕES                           4.697278e+09   \n",
              "RECEITA PATRIMONIAL                                1.258634e+09   \n",
              "RECEITA AGROPECUÁRIA                               0.000000e+00   \n",
              "RECEITA INDUSTRIAL                                 0.000000e+00   \n",
              "RECEITA DE SERVIÇOS                                7.730245e+08   \n",
              "TRANSFERÊNCIAS CORRENTES                           1.807210e+10   \n",
              "OUTRAS RECEITAS CORRENTES                          5.888677e+09   \n",
              "OPERAÇÕES DE CRÉDITO                               1.341779e+08   \n",
              "ALIENAÇÃO DE BENS                                  1.123876e+09   \n",
              "AMORTIZAÇÕES DE EMPRÉSTIMOS                        2.900204e+07   \n",
              "TRANSFERÊNCIAS DE CAPITAL                          3.332409e+09   \n",
              "OUTRAS RECEITAS DE CAPITAL                         1.400856e+09   \n",
              "OPERAÇÕES DE CRÉDITO INTERNAS                      0.000000e+00   \n",
              "MOBILIÁRIA                                         0.000000e+00   \n",
              "CONTRATUAL                                         0.000000e+00   \n",
              "OPERAÇÕES DE CRÉDITO EXTERNAS                      0.000000e+00   \n",
              "RECURSOS ARRECADADOS EM EXERCÍCIOS ANTERIORES      1.240000e+08   \n",
              "SUPERAVIT FINANCEIRO                               0.000000e+00   \n",
              "REABERTURA DE CRÉDITOS ADICIONAIS                  0.000000e+00   \n",
              "\n",
              "                                               Previsão_Atualizada  \\\n",
              "RECEITAS ORÇAMENTÁRIAS                                               \n",
              "RECEITA TRIBUTÁRIA                                    3.098723e+10   \n",
              "RECEITA DE CONTRIBUIÇÕES                              4.697278e+09   \n",
              "RECEITA PATRIMONIAL                                   1.258634e+09   \n",
              "RECEITA AGROPECUÁRIA                                  0.000000e+00   \n",
              "RECEITA INDUSTRIAL                                    0.000000e+00   \n",
              "RECEITA DE SERVIÇOS                                   7.730245e+08   \n",
              "TRANSFERÊNCIAS CORRENTES                              1.807210e+10   \n",
              "OUTRAS RECEITAS CORRENTES                             5.888677e+09   \n",
              "OPERAÇÕES DE CRÉDITO                                  1.341779e+08   \n",
              "ALIENAÇÃO DE BENS                                     1.123876e+09   \n",
              "AMORTIZAÇÕES DE EMPRÉSTIMOS                           2.900204e+07   \n",
              "TRANSFERÊNCIAS DE CAPITAL                             3.332409e+09   \n",
              "OUTRAS RECEITAS DE CAPITAL                            1.400856e+09   \n",
              "OPERAÇÕES DE CRÉDITO INTERNAS                         0.000000e+00   \n",
              "MOBILIÁRIA                                            0.000000e+00   \n",
              "CONTRATUAL                                            0.000000e+00   \n",
              "OPERAÇÕES DE CRÉDITO EXTERNAS                         0.000000e+00   \n",
              "RECURSOS ARRECADADOS EM EXERCÍCIOS ANTERIORES         1.240000e+08   \n",
              "SUPERAVIT FINANCEIRO                                  2.023454e+08   \n",
              "REABERTURA DE CRÉDITOS ADICIONAIS                     0.000000e+00   \n",
              "\n",
              "                                               Receitas_Realizadas  \\\n",
              "RECEITAS ORÇAMENTÁRIAS                                               \n",
              "RECEITA TRIBUTÁRIA                                    3.165459e+10   \n",
              "RECEITA DE CONTRIBUIÇÕES                              4.651160e+09   \n",
              "RECEITA PATRIMONIAL                                   1.226195e+09   \n",
              "RECEITA AGROPECUÁRIA                                  0.000000e+00   \n",
              "RECEITA INDUSTRIAL                                    0.000000e+00   \n",
              "RECEITA DE SERVIÇOS                                   6.781334e+08   \n",
              "TRANSFERÊNCIAS CORRENTES                              1.750966e+10   \n",
              "OUTRAS RECEITAS CORRENTES                             7.126218e+09   \n",
              "OPERAÇÕES DE CRÉDITO                                  5.508162e+07   \n",
              "ALIENAÇÃO DE BENS                                     2.851099e+07   \n",
              "AMORTIZAÇÕES DE EMPRÉSTIMOS                           2.767711e+07   \n",
              "TRANSFERÊNCIAS DE CAPITAL                             7.961880e+08   \n",
              "OUTRAS RECEITAS DE CAPITAL                            4.390146e+08   \n",
              "OPERAÇÕES DE CRÉDITO INTERNAS                         0.000000e+00   \n",
              "MOBILIÁRIA                                            0.000000e+00   \n",
              "CONTRATUAL                                            0.000000e+00   \n",
              "OPERAÇÕES DE CRÉDITO EXTERNAS                         0.000000e+00   \n",
              "RECURSOS ARRECADADOS EM EXERCÍCIOS ANTERIORES         0.000000e+00   \n",
              "SUPERAVIT FINANCEIRO                                  2.023454e+08   \n",
              "REABERTURA DE CRÉDITOS ADICIONAIS                     0.000000e+00   \n",
              "\n",
              "                                                      Saldo      AH     AV  \n",
              "RECEITAS ORÇAMENTÁRIAS                                                      \n",
              "RECEITA TRIBUTÁRIA                             6.673591e+08  102.15  49.31  \n",
              "RECEITA DE CONTRIBUIÇÕES                      -4.611825e+07   99.02   7.25  \n",
              "RECEITA PATRIMONIAL                           -3.243882e+07   97.42   1.91  \n",
              "RECEITA AGROPECUÁRIA                           0.000000e+00     NaN   0.00  \n",
              "RECEITA INDUSTRIAL                             0.000000e+00     NaN   0.00  \n",
              "RECEITA DE SERVIÇOS                           -9.489108e+07   87.72   1.06  \n",
              "TRANSFERÊNCIAS CORRENTES                      -5.624353e+08   96.89  27.28  \n",
              "OUTRAS RECEITAS CORRENTES                      1.237541e+09  121.02  11.10  \n",
              "OPERAÇÕES DE CRÉDITO                          -7.909630e+07   41.05   0.09  \n",
              "ALIENAÇÃO DE BENS                             -1.095365e+09    2.54   0.04  \n",
              "AMORTIZAÇÕES DE EMPRÉSTIMOS                   -1.324927e+06   95.43   0.04  \n",
              "TRANSFERÊNCIAS DE CAPITAL                     -2.536221e+09   23.89   1.24  \n",
              "OUTRAS RECEITAS DE CAPITAL                    -9.618418e+08   31.34   0.68  \n",
              "OPERAÇÕES DE CRÉDITO INTERNAS                  0.000000e+00     NaN   0.00  \n",
              "MOBILIÁRIA                                     0.000000e+00     NaN   0.00  \n",
              "CONTRATUAL                                     0.000000e+00     NaN   0.00  \n",
              "OPERAÇÕES DE CRÉDITO EXTERNAS                  0.000000e+00     NaN   0.00  \n",
              "RECURSOS ARRECADADOS EM EXERCÍCIOS ANTERIORES -1.240000e+08    0.00   0.00  \n",
              "SUPERAVIT FINANCEIRO                           0.000000e+00     inf   0.32  \n",
              "REABERTURA DE CRÉDITOS ADICIONAIS              0.000000e+00     NaN   0.00  "
            ],
            "text/html": [
              "\n",
              "  <div id=\"df-33c4bd33-a5c9-40f4-bd19-9e0f6d824ab0\">\n",
              "    <div class=\"colab-df-container\">\n",
              "      <div>\n",
              "<style scoped>\n",
              "    .dataframe tbody tr th:only-of-type {\n",
              "        vertical-align: middle;\n",
              "    }\n",
              "\n",
              "    .dataframe tbody tr th {\n",
              "        vertical-align: top;\n",
              "    }\n",
              "\n",
              "    .dataframe thead th {\n",
              "        text-align: right;\n",
              "    }\n",
              "</style>\n",
              "<table border=\"1\" class=\"dataframe\">\n",
              "  <thead>\n",
              "    <tr style=\"text-align: right;\">\n",
              "      <th></th>\n",
              "      <th>Categoria</th>\n",
              "      <th>Previsão_Inicial</th>\n",
              "      <th>Previsão_Atualizada</th>\n",
              "      <th>Receitas_Realizadas</th>\n",
              "      <th>Saldo</th>\n",
              "      <th>AH</th>\n",
              "      <th>AV</th>\n",
              "    </tr>\n",
              "    <tr>\n",
              "      <th>RECEITAS ORÇAMENTÁRIAS</th>\n",
              "      <th></th>\n",
              "      <th></th>\n",
              "      <th></th>\n",
              "      <th></th>\n",
              "      <th></th>\n",
              "      <th></th>\n",
              "      <th></th>\n",
              "    </tr>\n",
              "  </thead>\n",
              "  <tbody>\n",
              "    <tr>\n",
              "      <th>RECEITA TRIBUTÁRIA</th>\n",
              "      <td>RECEITAS CORRENTE</td>\n",
              "      <td>3.098723e+10</td>\n",
              "      <td>3.098723e+10</td>\n",
              "      <td>3.165459e+10</td>\n",
              "      <td>6.673591e+08</td>\n",
              "      <td>102.15</td>\n",
              "      <td>49.31</td>\n",
              "    </tr>\n",
              "    <tr>\n",
              "      <th>RECEITA DE CONTRIBUIÇÕES</th>\n",
              "      <td>RECEITAS CORRENTE</td>\n",
              "      <td>4.697278e+09</td>\n",
              "      <td>4.697278e+09</td>\n",
              "      <td>4.651160e+09</td>\n",
              "      <td>-4.611825e+07</td>\n",
              "      <td>99.02</td>\n",
              "      <td>7.25</td>\n",
              "    </tr>\n",
              "    <tr>\n",
              "      <th>RECEITA PATRIMONIAL</th>\n",
              "      <td>RECEITAS CORRENTE</td>\n",
              "      <td>1.258634e+09</td>\n",
              "      <td>1.258634e+09</td>\n",
              "      <td>1.226195e+09</td>\n",
              "      <td>-3.243882e+07</td>\n",
              "      <td>97.42</td>\n",
              "      <td>1.91</td>\n",
              "    </tr>\n",
              "    <tr>\n",
              "      <th>RECEITA AGROPECUÁRIA</th>\n",
              "      <td>RECEITAS CORRENTE</td>\n",
              "      <td>0.000000e+00</td>\n",
              "      <td>0.000000e+00</td>\n",
              "      <td>0.000000e+00</td>\n",
              "      <td>0.000000e+00</td>\n",
              "      <td>NaN</td>\n",
              "      <td>0.00</td>\n",
              "    </tr>\n",
              "    <tr>\n",
              "      <th>RECEITA INDUSTRIAL</th>\n",
              "      <td>RECEITAS CORRENTE</td>\n",
              "      <td>0.000000e+00</td>\n",
              "      <td>0.000000e+00</td>\n",
              "      <td>0.000000e+00</td>\n",
              "      <td>0.000000e+00</td>\n",
              "      <td>NaN</td>\n",
              "      <td>0.00</td>\n",
              "    </tr>\n",
              "    <tr>\n",
              "      <th>RECEITA DE SERVIÇOS</th>\n",
              "      <td>RECEITAS CORRENTE</td>\n",
              "      <td>7.730245e+08</td>\n",
              "      <td>7.730245e+08</td>\n",
              "      <td>6.781334e+08</td>\n",
              "      <td>-9.489108e+07</td>\n",
              "      <td>87.72</td>\n",
              "      <td>1.06</td>\n",
              "    </tr>\n",
              "    <tr>\n",
              "      <th>TRANSFERÊNCIAS CORRENTES</th>\n",
              "      <td>RECEITAS CORRENTE</td>\n",
              "      <td>1.807210e+10</td>\n",
              "      <td>1.807210e+10</td>\n",
              "      <td>1.750966e+10</td>\n",
              "      <td>-5.624353e+08</td>\n",
              "      <td>96.89</td>\n",
              "      <td>27.28</td>\n",
              "    </tr>\n",
              "    <tr>\n",
              "      <th>OUTRAS RECEITAS CORRENTES</th>\n",
              "      <td>RECEITAS CORRENTE</td>\n",
              "      <td>5.888677e+09</td>\n",
              "      <td>5.888677e+09</td>\n",
              "      <td>7.126218e+09</td>\n",
              "      <td>1.237541e+09</td>\n",
              "      <td>121.02</td>\n",
              "      <td>11.10</td>\n",
              "    </tr>\n",
              "    <tr>\n",
              "      <th>OPERAÇÕES DE CRÉDITO</th>\n",
              "      <td>RECEITAS DE CAPITAL</td>\n",
              "      <td>1.341779e+08</td>\n",
              "      <td>1.341779e+08</td>\n",
              "      <td>5.508162e+07</td>\n",
              "      <td>-7.909630e+07</td>\n",
              "      <td>41.05</td>\n",
              "      <td>0.09</td>\n",
              "    </tr>\n",
              "    <tr>\n",
              "      <th>ALIENAÇÃO DE BENS</th>\n",
              "      <td>RECEITAS DE CAPITAL</td>\n",
              "      <td>1.123876e+09</td>\n",
              "      <td>1.123876e+09</td>\n",
              "      <td>2.851099e+07</td>\n",
              "      <td>-1.095365e+09</td>\n",
              "      <td>2.54</td>\n",
              "      <td>0.04</td>\n",
              "    </tr>\n",
              "    <tr>\n",
              "      <th>AMORTIZAÇÕES DE EMPRÉSTIMOS</th>\n",
              "      <td>RECEITAS DE CAPITAL</td>\n",
              "      <td>2.900204e+07</td>\n",
              "      <td>2.900204e+07</td>\n",
              "      <td>2.767711e+07</td>\n",
              "      <td>-1.324927e+06</td>\n",
              "      <td>95.43</td>\n",
              "      <td>0.04</td>\n",
              "    </tr>\n",
              "    <tr>\n",
              "      <th>TRANSFERÊNCIAS DE CAPITAL</th>\n",
              "      <td>RECEITAS DE CAPITAL</td>\n",
              "      <td>3.332409e+09</td>\n",
              "      <td>3.332409e+09</td>\n",
              "      <td>7.961880e+08</td>\n",
              "      <td>-2.536221e+09</td>\n",
              "      <td>23.89</td>\n",
              "      <td>1.24</td>\n",
              "    </tr>\n",
              "    <tr>\n",
              "      <th>OUTRAS RECEITAS DE CAPITAL</th>\n",
              "      <td>RECEITAS DE CAPITAL</td>\n",
              "      <td>1.400856e+09</td>\n",
              "      <td>1.400856e+09</td>\n",
              "      <td>4.390146e+08</td>\n",
              "      <td>-9.618418e+08</td>\n",
              "      <td>31.34</td>\n",
              "      <td>0.68</td>\n",
              "    </tr>\n",
              "    <tr>\n",
              "      <th>OPERAÇÕES DE CRÉDITO INTERNAS</th>\n",
              "      <td>OPERAÇÕES DE CRÉDITO</td>\n",
              "      <td>0.000000e+00</td>\n",
              "      <td>0.000000e+00</td>\n",
              "      <td>0.000000e+00</td>\n",
              "      <td>0.000000e+00</td>\n",
              "      <td>NaN</td>\n",
              "      <td>0.00</td>\n",
              "    </tr>\n",
              "    <tr>\n",
              "      <th>MOBILIÁRIA</th>\n",
              "      <td>OPERAÇÕES DE CRÉDITO</td>\n",
              "      <td>0.000000e+00</td>\n",
              "      <td>0.000000e+00</td>\n",
              "      <td>0.000000e+00</td>\n",
              "      <td>0.000000e+00</td>\n",
              "      <td>NaN</td>\n",
              "      <td>0.00</td>\n",
              "    </tr>\n",
              "    <tr>\n",
              "      <th>CONTRATUAL</th>\n",
              "      <td>OPERAÇÕES DE CRÉDITO</td>\n",
              "      <td>0.000000e+00</td>\n",
              "      <td>0.000000e+00</td>\n",
              "      <td>0.000000e+00</td>\n",
              "      <td>0.000000e+00</td>\n",
              "      <td>NaN</td>\n",
              "      <td>0.00</td>\n",
              "    </tr>\n",
              "    <tr>\n",
              "      <th>OPERAÇÕES DE CRÉDITO EXTERNAS</th>\n",
              "      <td>OPERAÇÕES DE CRÉDITO</td>\n",
              "      <td>0.000000e+00</td>\n",
              "      <td>0.000000e+00</td>\n",
              "      <td>0.000000e+00</td>\n",
              "      <td>0.000000e+00</td>\n",
              "      <td>NaN</td>\n",
              "      <td>0.00</td>\n",
              "    </tr>\n",
              "    <tr>\n",
              "      <th>RECURSOS ARRECADADOS EM EXERCÍCIOS ANTERIORES</th>\n",
              "      <td>SALDOS ANTERIORES</td>\n",
              "      <td>1.240000e+08</td>\n",
              "      <td>1.240000e+08</td>\n",
              "      <td>0.000000e+00</td>\n",
              "      <td>-1.240000e+08</td>\n",
              "      <td>0.00</td>\n",
              "      <td>0.00</td>\n",
              "    </tr>\n",
              "    <tr>\n",
              "      <th>SUPERAVIT FINANCEIRO</th>\n",
              "      <td>SALDOS ANTERIORES</td>\n",
              "      <td>0.000000e+00</td>\n",
              "      <td>2.023454e+08</td>\n",
              "      <td>2.023454e+08</td>\n",
              "      <td>0.000000e+00</td>\n",
              "      <td>inf</td>\n",
              "      <td>0.32</td>\n",
              "    </tr>\n",
              "    <tr>\n",
              "      <th>REABERTURA DE CRÉDITOS ADICIONAIS</th>\n",
              "      <td>SALDOS ANTERIORES</td>\n",
              "      <td>0.000000e+00</td>\n",
              "      <td>0.000000e+00</td>\n",
              "      <td>0.000000e+00</td>\n",
              "      <td>0.000000e+00</td>\n",
              "      <td>NaN</td>\n",
              "      <td>0.00</td>\n",
              "    </tr>\n",
              "  </tbody>\n",
              "</table>\n",
              "</div>\n",
              "      <button class=\"colab-df-convert\" onclick=\"convertToInteractive('df-33c4bd33-a5c9-40f4-bd19-9e0f6d824ab0')\"\n",
              "              title=\"Convert this dataframe to an interactive table.\"\n",
              "              style=\"display:none;\">\n",
              "        \n",
              "  <svg xmlns=\"http://www.w3.org/2000/svg\" height=\"24px\"viewBox=\"0 0 24 24\"\n",
              "       width=\"24px\">\n",
              "    <path d=\"M0 0h24v24H0V0z\" fill=\"none\"/>\n",
              "    <path d=\"M18.56 5.44l.94 2.06.94-2.06 2.06-.94-2.06-.94-.94-2.06-.94 2.06-2.06.94zm-11 1L8.5 8.5l.94-2.06 2.06-.94-2.06-.94L8.5 2.5l-.94 2.06-2.06.94zm10 10l.94 2.06.94-2.06 2.06-.94-2.06-.94-.94-2.06-.94 2.06-2.06.94z\"/><path d=\"M17.41 7.96l-1.37-1.37c-.4-.4-.92-.59-1.43-.59-.52 0-1.04.2-1.43.59L10.3 9.45l-7.72 7.72c-.78.78-.78 2.05 0 2.83L4 21.41c.39.39.9.59 1.41.59.51 0 1.02-.2 1.41-.59l7.78-7.78 2.81-2.81c.8-.78.8-2.07 0-2.86zM5.41 20L4 18.59l7.72-7.72 1.47 1.35L5.41 20z\"/>\n",
              "  </svg>\n",
              "      </button>\n",
              "      \n",
              "  <style>\n",
              "    .colab-df-container {\n",
              "      display:flex;\n",
              "      flex-wrap:wrap;\n",
              "      gap: 12px;\n",
              "    }\n",
              "\n",
              "    .colab-df-convert {\n",
              "      background-color: #E8F0FE;\n",
              "      border: none;\n",
              "      border-radius: 50%;\n",
              "      cursor: pointer;\n",
              "      display: none;\n",
              "      fill: #1967D2;\n",
              "      height: 32px;\n",
              "      padding: 0 0 0 0;\n",
              "      width: 32px;\n",
              "    }\n",
              "\n",
              "    .colab-df-convert:hover {\n",
              "      background-color: #E2EBFA;\n",
              "      box-shadow: 0px 1px 2px rgba(60, 64, 67, 0.3), 0px 1px 3px 1px rgba(60, 64, 67, 0.15);\n",
              "      fill: #174EA6;\n",
              "    }\n",
              "\n",
              "    [theme=dark] .colab-df-convert {\n",
              "      background-color: #3B4455;\n",
              "      fill: #D2E3FC;\n",
              "    }\n",
              "\n",
              "    [theme=dark] .colab-df-convert:hover {\n",
              "      background-color: #434B5C;\n",
              "      box-shadow: 0px 1px 3px 1px rgba(0, 0, 0, 0.15);\n",
              "      filter: drop-shadow(0px 1px 2px rgba(0, 0, 0, 0.3));\n",
              "      fill: #FFFFFF;\n",
              "    }\n",
              "  </style>\n",
              "\n",
              "      <script>\n",
              "        const buttonEl =\n",
              "          document.querySelector('#df-33c4bd33-a5c9-40f4-bd19-9e0f6d824ab0 button.colab-df-convert');\n",
              "        buttonEl.style.display =\n",
              "          google.colab.kernel.accessAllowed ? 'block' : 'none';\n",
              "\n",
              "        async function convertToInteractive(key) {\n",
              "          const element = document.querySelector('#df-33c4bd33-a5c9-40f4-bd19-9e0f6d824ab0');\n",
              "          const dataTable =\n",
              "            await google.colab.kernel.invokeFunction('convertToInteractive',\n",
              "                                                     [key], {});\n",
              "          if (!dataTable) return;\n",
              "\n",
              "          const docLinkHtml = 'Like what you see? Visit the ' +\n",
              "            '<a target=\"_blank\" href=https://colab.research.google.com/notebooks/data_table.ipynb>data table notebook</a>'\n",
              "            + ' to learn more about interactive tables.';\n",
              "          element.innerHTML = '';\n",
              "          dataTable['output_type'] = 'display_data';\n",
              "          await google.colab.output.renderOutput(dataTable, element);\n",
              "          const docLink = document.createElement('div');\n",
              "          docLink.innerHTML = docLinkHtml;\n",
              "          element.appendChild(docLink);\n",
              "        }\n",
              "      </script>\n",
              "    </div>\n",
              "  </div>\n",
              "  "
            ]
          },
          "metadata": {},
          "execution_count": 123
        }
      ]
    },
    {
      "cell_type": "markdown",
      "source": [
        "#7. Elaboração de Gráficos"
      ],
      "metadata": {
        "id": "ZR8ATNuvmY1P"
      }
    },
    {
      "cell_type": "markdown",
      "source": [
        "7.1 Evolução da receita"
      ],
      "metadata": {
        "id": "zn-YIZuemgA2"
      }
    },
    {
      "cell_type": "code",
      "source": [
        "import datetime as dt\n",
        "from datetime import timedelta\n",
        "import matplotlib.pyplot as plt"
      ],
      "metadata": {
        "id": "nre64vsTnCwC"
      },
      "execution_count": 124,
      "outputs": []
    },
    {
      "cell_type": "code",
      "source": [
        "serie ={}\n",
        "for year in years:\n",
        "  serie[year] = round(c_realizada[year], 2)"
      ],
      "metadata": {
        "id": "05pBukeyqmUO"
      },
      "execution_count": 125,
      "outputs": []
    },
    {
      "cell_type": "code",
      "source": [
        "serie = pd.DataFrame([serie])\n",
        "serie = serie.T\n"
      ],
      "metadata": {
        "id": "CHGuiLiLrOaG"
      },
      "execution_count": 126,
      "outputs": []
    },
    {
      "cell_type": "code",
      "source": [
        "serie.head(n=10)\n",
        "serie.to_csv('serie.csv')"
      ],
      "metadata": {
        "id": "e2IMbR71sGej"
      },
      "execution_count": 176,
      "outputs": []
    },
    {
      "cell_type": "code",
      "source": [
        "plt.rcParams[\"axes.spines.right\"] = False\n",
        "plt.rcParams[\"axes.spines.top\"] = False\n",
        "plt.rcParams['xtick.color'] = '#525252'\n",
        "plt.rcParams['ytick.color'] = '#525252'\n",
        "\n",
        "plt.figure(figsize=(10,6))\n",
        "'''\n",
        "Plotando o gráfico escolhendo o estilo de linha com linestyle e a expessura da mesma com linewidth\n",
        "'''\n",
        "plt.plot(serie, linestyle= '-', linewidth = 2, color = '#092b5a')\n",
        "'''\n",
        "Escolhendo o valor inicial e final do eixo y\n",
        "'''\n",
        "plt.ylim(0e9, 79e9)\n",
        "\n",
        "#plt.grid()\n",
        "\n",
        "'''\n",
        "Colocando pontos e legendas nos valores\n",
        "'''\n",
        "plt.scatter(serie.index, serie[0], label = \"Receitas Realizadas\", color = '#092b5a', marker = \".\", s =\n",
        "150)\n",
        "plt.legend(loc='lower right', frameon=False, fontsize=15)\n",
        "\n",
        "'''\n",
        "Rotulando os eixos y e x\n",
        "'''\n",
        "plt.ylabel('R$ Bilhões',  color= '#525252')\n",
        "#plt.xlabel('Ano')\n",
        "\n",
        "'''\n",
        "Colocando os valores na notação cientifica de 10^9\n",
        "'''\n",
        "plt.ticklabel_format(style='sci',axis='y',scilimits=(9,9))\n",
        "\n",
        "\n",
        "\n",
        "plt.savefig('grafico1.png', transparent = True)\n",
        "\n"
      ],
      "metadata": {
        "colab": {
          "base_uri": "https://localhost:8080/",
          "height": 399
        },
        "id": "bknZzDOhruLo",
        "outputId": "b1259542-e58d-43a6-b86b-a40bcd8c7cc3"
      },
      "execution_count": 128,
      "outputs": [
        {
          "output_type": "display_data",
          "data": {
            "text/plain": [
              "<Figure size 720x432 with 1 Axes>"
            ],
            "image/png": "[encoded data removed]"
          },
          "metadata": {
            "needs_background": "light"
          }
        }
      ]
    },
    {
      "cell_type": "markdown",
      "source": [
        "2021= 79.173.432.412,36\n"
      ],
      "metadata": {
        "id": "Niw3ydXCJiaF"
      }
    },
    {
      "cell_type": "markdown",
      "source": [
        "7.2 Evolução da receita por categoria"
      ],
      "metadata": {
        "id": "3azKoMFnbtDl"
      }
    },
    {
      "cell_type": "code",
      "source": [
        "serie_credito= {}\n",
        "serie_corrente= {}\n",
        "serie_capital= {}\n",
        "serie_saldos = {}\n",
        "for year in years:\n",
        "  #c_serie[year] = round(c_realizada[year], 2)\n",
        "  serie_credito[year]=   realizada[year]['Receitas_Realizadas'][0]\n",
        "  serie_corrente[year]=   realizada[year]['Receitas_Realizadas'][1]\n",
        "  serie_capital[year]=   realizada[year]['Receitas_Realizadas'][2]\n",
        "  serie_saldos[year] =   realizada[year]['Receitas_Realizadas'][3]\n",
        "\n"
      ],
      "metadata": {
        "id": "8Cmgxtz-wzlA"
      },
      "execution_count": 129,
      "outputs": []
    },
    {
      "cell_type": "code",
      "source": [
        "  serie_credito=   pd.DataFrame([serie_credito])\n",
        "  serie_corrente=   pd.DataFrame([serie_corrente])\n",
        "  serie_capital=   pd.DataFrame([serie_capital])\n",
        "  serie_saldos =   pd.DataFrame([serie_saldos])\n"
      ],
      "metadata": {
        "id": "3zIyUTuf0Ybr"
      },
      "execution_count": 130,
      "outputs": []
    },
    {
      "cell_type": "code",
      "source": [
        "  serie_credito=   serie_credito.T\n",
        "  serie_corrente=   serie_corrente.T\n",
        "  serie_capital=   serie_capital.T\n",
        "  serie_saldos =   serie_saldos.T  \n",
        "  "
      ],
      "metadata": {
        "id": "Dvz1fCR95cEg"
      },
      "execution_count": 131,
      "outputs": []
    },
    {
      "cell_type": "code",
      "source": [
        "serie_saldos.head()"
      ],
      "metadata": {
        "colab": {
          "base_uri": "https://localhost:8080/",
          "height": 206
        },
        "id": "kBrS2cd2020t",
        "outputId": "f0feb4aa-4b5d-4ae1-9ec8-e96f17b08ab7"
      },
      "execution_count": 132,
      "outputs": [
        {
          "output_type": "execute_result",
          "data": {
            "text/plain": [
              "                 0\n",
              "2017  2.023454e+08\n",
              "2018  1.546738e+08\n",
              "2019  2.140512e+09\n",
              "2020  2.279084e+09\n",
              "2021  6.553710e+09"
            ],
            "text/html": [
              "\n",
              "  <div id=\"df-70fb2a16-da9f-499a-a077-2bdb143ef3c8\">\n",
              "    <div class=\"colab-df-container\">\n",
              "      <div>\n",
              "<style scoped>\n",
              "    .dataframe tbody tr th:only-of-type {\n",
              "        vertical-align: middle;\n",
              "    }\n",
              "\n",
              "    .dataframe tbody tr th {\n",
              "        vertical-align: top;\n",
              "    }\n",
              "\n",
              "    .dataframe thead th {\n",
              "        text-align: right;\n",
              "    }\n",
              "</style>\n",
              "<table border=\"1\" class=\"dataframe\">\n",
              "  <thead>\n",
              "    <tr style=\"text-align: right;\">\n",
              "      <th></th>\n",
              "      <th>0</th>\n",
              "    </tr>\n",
              "  </thead>\n",
              "  <tbody>\n",
              "    <tr>\n",
              "      <th>2017</th>\n",
              "      <td>2.023454e+08</td>\n",
              "    </tr>\n",
              "    <tr>\n",
              "      <th>2018</th>\n",
              "      <td>1.546738e+08</td>\n",
              "    </tr>\n",
              "    <tr>\n",
              "      <th>2019</th>\n",
              "      <td>2.140512e+09</td>\n",
              "    </tr>\n",
              "    <tr>\n",
              "      <th>2020</th>\n",
              "      <td>2.279084e+09</td>\n",
              "    </tr>\n",
              "    <tr>\n",
              "      <th>2021</th>\n",
              "      <td>6.553710e+09</td>\n",
              "    </tr>\n",
              "  </tbody>\n",
              "</table>\n",
              "</div>\n",
              "      <button class=\"colab-df-convert\" onclick=\"convertToInteractive('df-70fb2a16-da9f-499a-a077-2bdb143ef3c8')\"\n",
              "              title=\"Convert this dataframe to an interactive table.\"\n",
              "              style=\"display:none;\">\n",
              "        \n",
              "  <svg xmlns=\"http://www.w3.org/2000/svg\" height=\"24px\"viewBox=\"0 0 24 24\"\n",
              "       width=\"24px\">\n",
              "    <path d=\"M0 0h24v24H0V0z\" fill=\"none\"/>\n",
              "    <path d=\"M18.56 5.44l.94 2.06.94-2.06 2.06-.94-2.06-.94-.94-2.06-.94 2.06-2.06.94zm-11 1L8.5 8.5l.94-2.06 2.06-.94-2.06-.94L8.5 2.5l-.94 2.06-2.06.94zm10 10l.94 2.06.94-2.06 2.06-.94-2.06-.94-.94-2.06-.94 2.06-2.06.94z\"/><path d=\"M17.41 7.96l-1.37-1.37c-.4-.4-.92-.59-1.43-.59-.52 0-1.04.2-1.43.59L10.3 9.45l-7.72 7.72c-.78.78-.78 2.05 0 2.83L4 21.41c.39.39.9.59 1.41.59.51 0 1.02-.2 1.41-.59l7.78-7.78 2.81-2.81c.8-.78.8-2.07 0-2.86zM5.41 20L4 18.59l7.72-7.72 1.47 1.35L5.41 20z\"/>\n",
              "  </svg>\n",
              "      </button>\n",
              "      \n",
              "  <style>\n",
              "    .colab-df-container {\n",
              "      display:flex;\n",
              "      flex-wrap:wrap;\n",
              "      gap: 12px;\n",
              "    }\n",
              "\n",
              "    .colab-df-convert {\n",
              "      background-color: #E8F0FE;\n",
              "      border: none;\n",
              "      border-radius: 50%;\n",
              "      cursor: pointer;\n",
              "      display: none;\n",
              "      fill: #1967D2;\n",
              "      height: 32px;\n",
              "      padding: 0 0 0 0;\n",
              "      width: 32px;\n",
              "    }\n",
              "\n",
              "    .colab-df-convert:hover {\n",
              "      background-color: #E2EBFA;\n",
              "      box-shadow: 0px 1px 2px rgba(60, 64, 67, 0.3), 0px 1px 3px 1px rgba(60, 64, 67, 0.15);\n",
              "      fill: #174EA6;\n",
              "    }\n",
              "\n",
              "    [theme=dark] .colab-df-convert {\n",
              "      background-color: #3B4455;\n",
              "      fill: #D2E3FC;\n",
              "    }\n",
              "\n",
              "    [theme=dark] .colab-df-convert:hover {\n",
              "      background-color: #434B5C;\n",
              "      box-shadow: 0px 1px 3px 1px rgba(0, 0, 0, 0.15);\n",
              "      filter: drop-shadow(0px 1px 2px rgba(0, 0, 0, 0.3));\n",
              "      fill: #FFFFFF;\n",
              "    }\n",
              "  </style>\n",
              "\n",
              "      <script>\n",
              "        const buttonEl =\n",
              "          document.querySelector('#df-70fb2a16-da9f-499a-a077-2bdb143ef3c8 button.colab-df-convert');\n",
              "        buttonEl.style.display =\n",
              "          google.colab.kernel.accessAllowed ? 'block' : 'none';\n",
              "\n",
              "        async function convertToInteractive(key) {\n",
              "          const element = document.querySelector('#df-70fb2a16-da9f-499a-a077-2bdb143ef3c8');\n",
              "          const dataTable =\n",
              "            await google.colab.kernel.invokeFunction('convertToInteractive',\n",
              "                                                     [key], {});\n",
              "          if (!dataTable) return;\n",
              "\n",
              "          const docLinkHtml = 'Like what you see? Visit the ' +\n",
              "            '<a target=\"_blank\" href=https://colab.research.google.com/notebooks/data_table.ipynb>data table notebook</a>'\n",
              "            + ' to learn more about interactive tables.';\n",
              "          element.innerHTML = '';\n",
              "          dataTable['output_type'] = 'display_data';\n",
              "          await google.colab.output.renderOutput(dataTable, element);\n",
              "          const docLink = document.createElement('div');\n",
              "          docLink.innerHTML = docLinkHtml;\n",
              "          element.appendChild(docLink);\n",
              "        }\n",
              "      </script>\n",
              "    </div>\n",
              "  </div>\n",
              "  "
            ]
          },
          "metadata": {},
          "execution_count": 132
        }
      ]
    },
    {
      "cell_type": "code",
      "source": [
        "realizada['2021']['Receitas_Realizadas'][:]"
      ],
      "metadata": {
        "colab": {
          "base_uri": "https://localhost:8080/"
        },
        "id": "WBEgp2l1GVOV",
        "outputId": "b66ec409-9ec5-4fe3-aa44-5734d2f59a04"
      },
      "execution_count": 133,
      "outputs": [
        {
          "output_type": "execute_result",
          "data": {
            "text/plain": [
              "0    0.000000e+00\n",
              "1    7.308958e+10\n",
              "2    3.561113e+09\n",
              "3    6.553710e+09\n",
              "Name: Receitas_Realizadas, dtype: float64"
            ]
          },
          "metadata": {},
          "execution_count": 133
        }
      ]
    },
    {
      "cell_type": "code",
      "source": [
        "\n",
        "parameters = {'xtick.labelsize': 18,\n",
        "          'ytick.labelsize': 18,\n",
        "          'axes.labelsize': 18,\n",
        "          'axes.titlesize': 20}\n",
        "plt.rcParams.update(parameters)\n",
        "\n",
        "\n",
        "'''\n",
        "altera a cor dos spines de modo global\n",
        "'''\n",
        "plt.rcParams['axes.edgecolor'] = '#525252'\n",
        "\n",
        "fig1, f1_axes = plt.subplots(ncols=2, nrows=2, figsize = (28,23))\n",
        "#fig1.suptitle(\"Receitas por Categoria\", size=30, color= '#525252')\n",
        "\n",
        "f1_axes[1,1].set_ylim(0, 75e9)\n",
        "f1_axes[0,0].set_ylim(0e9, 75e9)\n",
        "f1_axes[0,1].set_ylim(0, 75e9)\n",
        "f1_axes[1,0].set_ylim(0, 75e9)\n",
        "\n",
        "f1_axes[1,1].plot(serie_credito, linestyle= '-', linewidth = 9, color = '#bf2a23')\n",
        "f1_axes[0,0].plot(serie_corrente, linestyle= '-', linewidth = 4, color = '#092b5a')\n",
        "f1_axes[0,1].plot(serie_capital, linestyle= '-', linewidth = 4, color = '#092b5a')\n",
        "f1_axes[1,0].plot(serie_saldos, linestyle= '-', linewidth = 4, color = '#092b5a')\n",
        "\n",
        "f1_axes[1,1].spines['right'].set_visible(False)\n",
        "f1_axes[0,0].spines['right'].set_visible(False)\n",
        "f1_axes[0,1].spines['right'].set_visible(False)\n",
        "f1_axes[1,0].spines['right'].set_visible(False)\n",
        "\n",
        "\n",
        "f1_axes[1,1].spines['top'].set_visible(False)\n",
        "f1_axes[0,0].spines['top'].set_visible(False)\n",
        "f1_axes[0,1].spines['top'].set_visible(False)\n",
        "f1_axes[1,0].spines['top'].set_visible(False)\n",
        "\n",
        "\n",
        "f1_axes[1,1].set_title('Operações de Crédito',  fontsize=25, color= '#525252')\n",
        "f1_axes[0,0].set_title('Receitas Correntes',  fontsize=25, color= '#525252')\n",
        "f1_axes[0,1].set_title('Receitas de Capital',  fontsize=25, color= '#525252')\n",
        "f1_axes[1,0].set_title('Saldos de Exercícios Anteriores',  fontsize=25, color= '#525252')\n",
        "\n",
        "'''\n",
        "f1_axes[1,1].set_xlabel('Ano')\n",
        "f1_axes[0,0].set_xlabel('Ano')\n",
        "f1_axes[0,1].set_xlabel('Ano')\n",
        "f1_axes[1,0].set_xlabel('Ano')\n",
        "'''\n",
        "\n",
        "f1_axes[1,1].set_ylabel('R$ Bilhões', fontsize=20, color= '#525252')\n",
        "f1_axes[0,0].set_ylabel('R$ Bilhões', fontsize=20, color= '#525252')\n",
        "f1_axes[0,1].set_ylabel('R$ Bilhões', fontsize=20, color= '#525252')\n",
        "f1_axes[1,0].set_ylabel('R$ Bilhões', fontsize=20, color= '#525252')\n",
        "\n",
        "\n",
        "f1_axes[1,1].axis(ymin=0,ymax=10)\n",
        "f1_axes[0,0].ticklabel_format(style='sci', axis='y',scilimits=(9,9))\n",
        "f1_axes[0,1].ticklabel_format(style='sci', axis='y',scilimits=(9,9))\n",
        "f1_axes[1,0].ticklabel_format(style='sci', axis='y',scilimits=(9,9))\n",
        "\n",
        "#f1_axes[0,0].axis(ymin=0,ymax=72000000000)\n",
        "\n",
        "f1_axes[1,1].scatter(serie_credito.index, serie_credito[0], color = '#bf2a23', marker = \".\", s = 150)\n",
        "f1_axes[0,0].scatter(serie_corrente.index, serie_corrente[0], color = '#092b5a', marker = \".\", s = 200)\n",
        "f1_axes[0,1].scatter(serie_capital.index, serie_capital[0], color = '#092b5a', marker = \".\", s = 200)\n",
        "f1_axes[1,0].scatter(serie_saldos.index, serie_saldos[0], color = '#092b5a', marker = \".\", s = 200)\n",
        "\n",
        "\n",
        "\n",
        "\n",
        "plt.savefig('grafico2.png', transparent = True)"
      ],
      "metadata": {
        "colab": {
          "base_uri": "https://localhost:8080/",
          "height": 1000
        },
        "id": "RZTrKRvCvw9s",
        "outputId": "e34b71dc-a794-4032-c032-e419d1cf2f74"
      },
      "execution_count": 170,
      "outputs": [
        {
          "output_type": "display_data",
          "data": {
            "text/plain": [
              "<Figure size 2016x1656 with 4 Axes>"
            ],
            "image/png": "[encoded data removed]"
          },
          "metadata": {
            "needs_background": "light"
          }
        }
      ]
    },
    {
      "cell_type": "markdown",
      "source": [
        "7.3 "
      ],
      "metadata": {
        "id": "o1Sm67smbzA7"
      }
    },
    {
      "cell_type": "code",
      "source": [
        "'''\n",
        "Formando um dataframe com as receitas realizadas de todos os anos linha a linha\n",
        "'''\n",
        "df_total = pd.concat([df['2017']['Categoria'], df['2017']['Receitas_Realizadas']], axis=1, ignore_index=True)\n",
        "df_total = pd.concat([df_total, df['2018']['Receitas_Realizadas']], axis=1, ignore_index=True)\n",
        "df_total = pd.concat([df_total, df['2019']['Receitas_Realizadas']], axis=1, ignore_index=True)\n",
        "df_total = pd.concat([df_total, df['2020']['Receitas_Realizadas']], axis=1, ignore_index=True)\n",
        "df_total = pd.concat([df_total, df['2021']['Receitas_Realizadas']], axis=1, ignore_index=True)\n",
        "df_total.columns = ['Categoria', '2017', '2018', '2019', '2020', '2021']"
      ],
      "metadata": {
        "id": "_u5VaHiEw7kD"
      },
      "execution_count": 135,
      "outputs": []
    },
    {
      "cell_type": "code",
      "source": [
        "df_total"
      ],
      "metadata": {
        "colab": {
          "base_uri": "https://localhost:8080/",
          "height": 707
        },
        "id": "9kbrxu-RwGGS",
        "outputId": "dce19276-43b8-49c8-d1b4-534694d84bee"
      },
      "execution_count": 136,
      "outputs": [
        {
          "output_type": "execute_result",
          "data": {
            "text/plain": [
              "                                                          Categoria  \\\n",
              "RECEITAS ORÇAMENTÁRIAS                                                \n",
              "RECEITA TRIBUTÁRIA                                RECEITAS CORRENTE   \n",
              "RECEITA DE CONTRIBUIÇÕES                          RECEITAS CORRENTE   \n",
              "RECEITA PATRIMONIAL                               RECEITAS CORRENTE   \n",
              "RECEITA AGROPECUÁRIA                              RECEITAS CORRENTE   \n",
              "RECEITA INDUSTRIAL                                RECEITAS CORRENTE   \n",
              "RECEITA DE SERVIÇOS                               RECEITAS CORRENTE   \n",
              "TRANSFERÊNCIAS CORRENTES                          RECEITAS CORRENTE   \n",
              "OUTRAS RECEITAS CORRENTES                         RECEITAS CORRENTE   \n",
              "OPERAÇÕES DE CRÉDITO                            RECEITAS DE CAPITAL   \n",
              "ALIENAÇÃO DE BENS                               RECEITAS DE CAPITAL   \n",
              "AMORTIZAÇÕES DE EMPRÉSTIMOS                     RECEITAS DE CAPITAL   \n",
              "TRANSFERÊNCIAS DE CAPITAL                       RECEITAS DE CAPITAL   \n",
              "OUTRAS RECEITAS DE CAPITAL                      RECEITAS DE CAPITAL   \n",
              "OPERAÇÕES DE CRÉDITO INTERNAS                  OPERAÇÕES DE CRÉDITO   \n",
              "MOBILIÁRIA                                     OPERAÇÕES DE CRÉDITO   \n",
              "CONTRATUAL                                     OPERAÇÕES DE CRÉDITO   \n",
              "OPERAÇÕES DE CRÉDITO EXTERNAS                  OPERAÇÕES DE CRÉDITO   \n",
              "RECURSOS ARRECADADOS EM EXERCÍCIOS ANTERIORES     SALDOS ANTERIORES   \n",
              "SUPERAVIT FINANCEIRO                              SALDOS ANTERIORES   \n",
              "REABERTURA DE CRÉDITOS ADICIONAIS                 SALDOS ANTERIORES   \n",
              "\n",
              "                                                       2017          2018  \\\n",
              "RECEITAS ORÇAMENTÁRIAS                                                      \n",
              "RECEITA TRIBUTÁRIA                             3.165459e+10  3.566721e+10   \n",
              "RECEITA DE CONTRIBUIÇÕES                       4.651160e+09  4.736998e+09   \n",
              "RECEITA PATRIMONIAL                            1.226195e+09  9.271229e+08   \n",
              "RECEITA AGROPECUÁRIA                           0.000000e+00  0.000000e+00   \n",
              "RECEITA INDUSTRIAL                             0.000000e+00  0.000000e+00   \n",
              "RECEITA DE SERVIÇOS                            6.781334e+08  3.090118e+08   \n",
              "TRANSFERÊNCIAS CORRENTES                       1.750966e+10  1.821181e+10   \n",
              "OUTRAS RECEITAS CORRENTES                      7.126218e+09  3.033289e+09   \n",
              "OPERAÇÕES DE CRÉDITO                           5.508162e+07  1.786037e+08   \n",
              "ALIENAÇÃO DE BENS                              2.851099e+07  2.691381e+07   \n",
              "AMORTIZAÇÕES DE EMPRÉSTIMOS                    2.767711e+07  2.809988e+07   \n",
              "TRANSFERÊNCIAS DE CAPITAL                      7.961880e+08  8.565466e+08   \n",
              "OUTRAS RECEITAS DE CAPITAL                     4.390146e+08  1.230003e+09   \n",
              "OPERAÇÕES DE CRÉDITO INTERNAS                  0.000000e+00  0.000000e+00   \n",
              "MOBILIÁRIA                                     0.000000e+00  0.000000e+00   \n",
              "CONTRATUAL                                     0.000000e+00  0.000000e+00   \n",
              "OPERAÇÕES DE CRÉDITO EXTERNAS                  0.000000e+00  0.000000e+00   \n",
              "RECURSOS ARRECADADOS EM EXERCÍCIOS ANTERIORES  0.000000e+00  0.000000e+00   \n",
              "SUPERAVIT FINANCEIRO                           2.023454e+08  1.546738e+08   \n",
              "REABERTURA DE CRÉDITOS ADICIONAIS              0.000000e+00  0.000000e+00   \n",
              "\n",
              "                                                       2019          2020  \\\n",
              "RECEITAS ORÇAMENTÁRIAS                                                      \n",
              "RECEITA TRIBUTÁRIA                             3.888067e+10  3.888822e+10   \n",
              "RECEITA DE CONTRIBUIÇÕES                       5.728853e+09  5.686587e+09   \n",
              "RECEITA PATRIMONIAL                            1.396119e+09  2.735958e+09   \n",
              "RECEITA AGROPECUÁRIA                           0.000000e+00  0.000000e+00   \n",
              "RECEITA INDUSTRIAL                             0.000000e+00  0.000000e+00   \n",
              "RECEITA DE SERVIÇOS                            2.893740e+08  4.996831e+08   \n",
              "TRANSFERÊNCIAS CORRENTES                       1.880227e+10  2.078308e+10   \n",
              "OUTRAS RECEITAS CORRENTES                      2.407117e+09  1.709026e+09   \n",
              "OPERAÇÕES DE CRÉDITO                           3.347870e+08  5.612165e+08   \n",
              "ALIENAÇÃO DE BENS                              3.482471e+07  5.532504e+07   \n",
              "AMORTIZAÇÕES DE EMPRÉSTIMOS                    2.644835e+07  2.255168e+07   \n",
              "TRANSFERÊNCIAS DE CAPITAL                      6.887996e+08  8.269763e+08   \n",
              "OUTRAS RECEITAS DE CAPITAL                     3.535266e+09  1.558709e+09   \n",
              "OPERAÇÕES DE CRÉDITO INTERNAS                  0.000000e+00  0.000000e+00   \n",
              "MOBILIÁRIA                                     0.000000e+00  0.000000e+00   \n",
              "CONTRATUAL                                     0.000000e+00  0.000000e+00   \n",
              "OPERAÇÕES DE CRÉDITO EXTERNAS                  0.000000e+00  0.000000e+00   \n",
              "RECURSOS ARRECADADOS EM EXERCÍCIOS ANTERIORES  0.000000e+00  0.000000e+00   \n",
              "SUPERAVIT FINANCEIRO                           2.140512e+09  2.279084e+09   \n",
              "REABERTURA DE CRÉDITOS ADICIONAIS              0.000000e+00  0.000000e+00   \n",
              "\n",
              "                                                       2021  \n",
              "RECEITAS ORÇAMENTÁRIAS                                       \n",
              "RECEITA TRIBUTÁRIA                             4.377135e+10  \n",
              "RECEITA DE CONTRIBUIÇÕES                       5.149676e+09  \n",
              "RECEITA PATRIMONIAL                            1.716641e+09  \n",
              "RECEITA AGROPECUÁRIA                           0.000000e+00  \n",
              "RECEITA INDUSTRIAL                             0.000000e+00  \n",
              "RECEITA DE SERVIÇOS                            2.897719e+08  \n",
              "TRANSFERÊNCIAS CORRENTES                       2.034601e+10  \n",
              "OUTRAS RECEITAS CORRENTES                      1.816134e+09  \n",
              "OPERAÇÕES DE CRÉDITO                           1.221780e+08  \n",
              "ALIENAÇÃO DE BENS                              9.821570e+07  \n",
              "AMORTIZAÇÕES DE EMPRÉSTIMOS                    2.144332e+07  \n",
              "TRANSFERÊNCIAS DE CAPITAL                      6.571330e+08  \n",
              "OUTRAS RECEITAS DE CAPITAL                     2.662143e+09  \n",
              "OPERAÇÕES DE CRÉDITO INTERNAS                  0.000000e+00  \n",
              "MOBILIÁRIA                                     0.000000e+00  \n",
              "CONTRATUAL                                     0.000000e+00  \n",
              "OPERAÇÕES DE CRÉDITO EXTERNAS                  0.000000e+00  \n",
              "RECURSOS ARRECADADOS EM EXERCÍCIOS ANTERIORES  0.000000e+00  \n",
              "SUPERAVIT FINANCEIRO                           6.553710e+09  \n",
              "REABERTURA DE CRÉDITOS ADICIONAIS              0.000000e+00  "
            ],
            "text/html": [
              "\n",
              "  <div id=\"df-feedc0d3-1d28-45ea-bfe1-ea8472660bd8\">\n",
              "    <div class=\"colab-df-container\">\n",
              "      <div>\n",
              "<style scoped>\n",
              "    .dataframe tbody tr th:only-of-type {\n",
              "        vertical-align: middle;\n",
              "    }\n",
              "\n",
              "    .dataframe tbody tr th {\n",
              "        vertical-align: top;\n",
              "    }\n",
              "\n",
              "    .dataframe thead th {\n",
              "        text-align: right;\n",
              "    }\n",
              "</style>\n",
              "<table border=\"1\" class=\"dataframe\">\n",
              "  <thead>\n",
              "    <tr style=\"text-align: right;\">\n",
              "      <th></th>\n",
              "      <th>Categoria</th>\n",
              "      <th>2017</th>\n",
              "      <th>2018</th>\n",
              "      <th>2019</th>\n",
              "      <th>2020</th>\n",
              "      <th>2021</th>\n",
              "    </tr>\n",
              "    <tr>\n",
              "      <th>RECEITAS ORÇAMENTÁRIAS</th>\n",
              "      <th></th>\n",
              "      <th></th>\n",
              "      <th></th>\n",
              "      <th></th>\n",
              "      <th></th>\n",
              "      <th></th>\n",
              "    </tr>\n",
              "  </thead>\n",
              "  <tbody>\n",
              "    <tr>\n",
              "      <th>RECEITA TRIBUTÁRIA</th>\n",
              "      <td>RECEITAS CORRENTE</td>\n",
              "      <td>3.165459e+10</td>\n",
              "      <td>3.566721e+10</td>\n",
              "      <td>3.888067e+10</td>\n",
              "      <td>3.888822e+10</td>\n",
              "      <td>4.377135e+10</td>\n",
              "    </tr>\n",
              "    <tr>\n",
              "      <th>RECEITA DE CONTRIBUIÇÕES</th>\n",
              "      <td>RECEITAS CORRENTE</td>\n",
              "      <td>4.651160e+09</td>\n",
              "      <td>4.736998e+09</td>\n",
              "      <td>5.728853e+09</td>\n",
              "      <td>5.686587e+09</td>\n",
              "      <td>5.149676e+09</td>\n",
              "    </tr>\n",
              "    <tr>\n",
              "      <th>RECEITA PATRIMONIAL</th>\n",
              "      <td>RECEITAS CORRENTE</td>\n",
              "      <td>1.226195e+09</td>\n",
              "      <td>9.271229e+08</td>\n",
              "      <td>1.396119e+09</td>\n",
              "      <td>2.735958e+09</td>\n",
              "      <td>1.716641e+09</td>\n",
              "    </tr>\n",
              "    <tr>\n",
              "      <th>RECEITA AGROPECUÁRIA</th>\n",
              "      <td>RECEITAS CORRENTE</td>\n",
              "      <td>0.000000e+00</td>\n",
              "      <td>0.000000e+00</td>\n",
              "      <td>0.000000e+00</td>\n",
              "      <td>0.000000e+00</td>\n",
              "      <td>0.000000e+00</td>\n",
              "    </tr>\n",
              "    <tr>\n",
              "      <th>RECEITA INDUSTRIAL</th>\n",
              "      <td>RECEITAS CORRENTE</td>\n",
              "      <td>0.000000e+00</td>\n",
              "      <td>0.000000e+00</td>\n",
              "      <td>0.000000e+00</td>\n",
              "      <td>0.000000e+00</td>\n",
              "      <td>0.000000e+00</td>\n",
              "    </tr>\n",
              "    <tr>\n",
              "      <th>RECEITA DE SERVIÇOS</th>\n",
              "      <td>RECEITAS CORRENTE</td>\n",
              "      <td>6.781334e+08</td>\n",
              "      <td>3.090118e+08</td>\n",
              "      <td>2.893740e+08</td>\n",
              "      <td>4.996831e+08</td>\n",
              "      <td>2.897719e+08</td>\n",
              "    </tr>\n",
              "    <tr>\n",
              "      <th>TRANSFERÊNCIAS CORRENTES</th>\n",
              "      <td>RECEITAS CORRENTE</td>\n",
              "      <td>1.750966e+10</td>\n",
              "      <td>1.821181e+10</td>\n",
              "      <td>1.880227e+10</td>\n",
              "      <td>2.078308e+10</td>\n",
              "      <td>2.034601e+10</td>\n",
              "    </tr>\n",
              "    <tr>\n",
              "      <th>OUTRAS RECEITAS CORRENTES</th>\n",
              "      <td>RECEITAS CORRENTE</td>\n",
              "      <td>7.126218e+09</td>\n",
              "      <td>3.033289e+09</td>\n",
              "      <td>2.407117e+09</td>\n",
              "      <td>1.709026e+09</td>\n",
              "      <td>1.816134e+09</td>\n",
              "    </tr>\n",
              "    <tr>\n",
              "      <th>OPERAÇÕES DE CRÉDITO</th>\n",
              "      <td>RECEITAS DE CAPITAL</td>\n",
              "      <td>5.508162e+07</td>\n",
              "      <td>1.786037e+08</td>\n",
              "      <td>3.347870e+08</td>\n",
              "      <td>5.612165e+08</td>\n",
              "      <td>1.221780e+08</td>\n",
              "    </tr>\n",
              "    <tr>\n",
              "      <th>ALIENAÇÃO DE BENS</th>\n",
              "      <td>RECEITAS DE CAPITAL</td>\n",
              "      <td>2.851099e+07</td>\n",
              "      <td>2.691381e+07</td>\n",
              "      <td>3.482471e+07</td>\n",
              "      <td>5.532504e+07</td>\n",
              "      <td>9.821570e+07</td>\n",
              "    </tr>\n",
              "    <tr>\n",
              "      <th>AMORTIZAÇÕES DE EMPRÉSTIMOS</th>\n",
              "      <td>RECEITAS DE CAPITAL</td>\n",
              "      <td>2.767711e+07</td>\n",
              "      <td>2.809988e+07</td>\n",
              "      <td>2.644835e+07</td>\n",
              "      <td>2.255168e+07</td>\n",
              "      <td>2.144332e+07</td>\n",
              "    </tr>\n",
              "    <tr>\n",
              "      <th>TRANSFERÊNCIAS DE CAPITAL</th>\n",
              "      <td>RECEITAS DE CAPITAL</td>\n",
              "      <td>7.961880e+08</td>\n",
              "      <td>8.565466e+08</td>\n",
              "      <td>6.887996e+08</td>\n",
              "      <td>8.269763e+08</td>\n",
              "      <td>6.571330e+08</td>\n",
              "    </tr>\n",
              "    <tr>\n",
              "      <th>OUTRAS RECEITAS DE CAPITAL</th>\n",
              "      <td>RECEITAS DE CAPITAL</td>\n",
              "      <td>4.390146e+08</td>\n",
              "      <td>1.230003e+09</td>\n",
              "      <td>3.535266e+09</td>\n",
              "      <td>1.558709e+09</td>\n",
              "      <td>2.662143e+09</td>\n",
              "    </tr>\n",
              "    <tr>\n",
              "      <th>OPERAÇÕES DE CRÉDITO INTERNAS</th>\n",
              "      <td>OPERAÇÕES DE CRÉDITO</td>\n",
              "      <td>0.000000e+00</td>\n",
              "      <td>0.000000e+00</td>\n",
              "      <td>0.000000e+00</td>\n",
              "      <td>0.000000e+00</td>\n",
              "      <td>0.000000e+00</td>\n",
              "    </tr>\n",
              "    <tr>\n",
              "      <th>MOBILIÁRIA</th>\n",
              "      <td>OPERAÇÕES DE CRÉDITO</td>\n",
              "      <td>0.000000e+00</td>\n",
              "      <td>0.000000e+00</td>\n",
              "      <td>0.000000e+00</td>\n",
              "      <td>0.000000e+00</td>\n",
              "      <td>0.000000e+00</td>\n",
              "    </tr>\n",
              "    <tr>\n",
              "      <th>CONTRATUAL</th>\n",
              "      <td>OPERAÇÕES DE CRÉDITO</td>\n",
              "      <td>0.000000e+00</td>\n",
              "      <td>0.000000e+00</td>\n",
              "      <td>0.000000e+00</td>\n",
              "      <td>0.000000e+00</td>\n",
              "      <td>0.000000e+00</td>\n",
              "    </tr>\n",
              "    <tr>\n",
              "      <th>OPERAÇÕES DE CRÉDITO EXTERNAS</th>\n",
              "      <td>OPERAÇÕES DE CRÉDITO</td>\n",
              "      <td>0.000000e+00</td>\n",
              "      <td>0.000000e+00</td>\n",
              "      <td>0.000000e+00</td>\n",
              "      <td>0.000000e+00</td>\n",
              "      <td>0.000000e+00</td>\n",
              "    </tr>\n",
              "    <tr>\n",
              "      <th>RECURSOS ARRECADADOS EM EXERCÍCIOS ANTERIORES</th>\n",
              "      <td>SALDOS ANTERIORES</td>\n",
              "      <td>0.000000e+00</td>\n",
              "      <td>0.000000e+00</td>\n",
              "      <td>0.000000e+00</td>\n",
              "      <td>0.000000e+00</td>\n",
              "      <td>0.000000e+00</td>\n",
              "    </tr>\n",
              "    <tr>\n",
              "      <th>SUPERAVIT FINANCEIRO</th>\n",
              "      <td>SALDOS ANTERIORES</td>\n",
              "      <td>2.023454e+08</td>\n",
              "      <td>1.546738e+08</td>\n",
              "      <td>2.140512e+09</td>\n",
              "      <td>2.279084e+09</td>\n",
              "      <td>6.553710e+09</td>\n",
              "    </tr>\n",
              "    <tr>\n",
              "      <th>REABERTURA DE CRÉDITOS ADICIONAIS</th>\n",
              "      <td>SALDOS ANTERIORES</td>\n",
              "      <td>0.000000e+00</td>\n",
              "      <td>0.000000e+00</td>\n",
              "      <td>0.000000e+00</td>\n",
              "      <td>0.000000e+00</td>\n",
              "      <td>0.000000e+00</td>\n",
              "    </tr>\n",
              "  </tbody>\n",
              "</table>\n",
              "</div>\n",
              "      <button class=\"colab-df-convert\" onclick=\"convertToInteractive('df-feedc0d3-1d28-45ea-bfe1-ea8472660bd8')\"\n",
              "              title=\"Convert this dataframe to an interactive table.\"\n",
              "              style=\"display:none;\">\n",
              "        \n",
              "  <svg xmlns=\"http://www.w3.org/2000/svg\" height=\"24px\"viewBox=\"0 0 24 24\"\n",
              "       width=\"24px\">\n",
              "    <path d=\"M0 0h24v24H0V0z\" fill=\"none\"/>\n",
              "    <path d=\"M18.56 5.44l.94 2.06.94-2.06 2.06-.94-2.06-.94-.94-2.06-.94 2.06-2.06.94zm-11 1L8.5 8.5l.94-2.06 2.06-.94-2.06-.94L8.5 2.5l-.94 2.06-2.06.94zm10 10l.94 2.06.94-2.06 2.06-.94-2.06-.94-.94-2.06-.94 2.06-2.06.94z\"/><path d=\"M17.41 7.96l-1.37-1.37c-.4-.4-.92-.59-1.43-.59-.52 0-1.04.2-1.43.59L10.3 9.45l-7.72 7.72c-.78.78-.78 2.05 0 2.83L4 21.41c.39.39.9.59 1.41.59.51 0 1.02-.2 1.41-.59l7.78-7.78 2.81-2.81c.8-.78.8-2.07 0-2.86zM5.41 20L4 18.59l7.72-7.72 1.47 1.35L5.41 20z\"/>\n",
              "  </svg>\n",
              "      </button>\n",
              "      \n",
              "  <style>\n",
              "    .colab-df-container {\n",
              "      display:flex;\n",
              "      flex-wrap:wrap;\n",
              "      gap: 12px;\n",
              "    }\n",
              "\n",
              "    .colab-df-convert {\n",
              "      background-color: #E8F0FE;\n",
              "      border: none;\n",
              "      border-radius: 50%;\n",
              "      cursor: pointer;\n",
              "      display: none;\n",
              "      fill: #1967D2;\n",
              "      height: 32px;\n",
              "      padding: 0 0 0 0;\n",
              "      width: 32px;\n",
              "    }\n",
              "\n",
              "    .colab-df-convert:hover {\n",
              "      background-color: #E2EBFA;\n",
              "      box-shadow: 0px 1px 2px rgba(60, 64, 67, 0.3), 0px 1px 3px 1px rgba(60, 64, 67, 0.15);\n",
              "      fill: #174EA6;\n",
              "    }\n",
              "\n",
              "    [theme=dark] .colab-df-convert {\n",
              "      background-color: #3B4455;\n",
              "      fill: #D2E3FC;\n",
              "    }\n",
              "\n",
              "    [theme=dark] .colab-df-convert:hover {\n",
              "      background-color: #434B5C;\n",
              "      box-shadow: 0px 1px 3px 1px rgba(0, 0, 0, 0.15);\n",
              "      filter: drop-shadow(0px 1px 2px rgba(0, 0, 0, 0.3));\n",
              "      fill: #FFFFFF;\n",
              "    }\n",
              "  </style>\n",
              "\n",
              "      <script>\n",
              "        const buttonEl =\n",
              "          document.querySelector('#df-feedc0d3-1d28-45ea-bfe1-ea8472660bd8 button.colab-df-convert');\n",
              "        buttonEl.style.display =\n",
              "          google.colab.kernel.accessAllowed ? 'block' : 'none';\n",
              "\n",
              "        async function convertToInteractive(key) {\n",
              "          const element = document.querySelector('#df-feedc0d3-1d28-45ea-bfe1-ea8472660bd8');\n",
              "          const dataTable =\n",
              "            await google.colab.kernel.invokeFunction('convertToInteractive',\n",
              "                                                     [key], {});\n",
              "          if (!dataTable) return;\n",
              "\n",
              "          const docLinkHtml = 'Like what you see? Visit the ' +\n",
              "            '<a target=\"_blank\" href=https://colab.research.google.com/notebooks/data_table.ipynb>data table notebook</a>'\n",
              "            + ' to learn more about interactive tables.';\n",
              "          element.innerHTML = '';\n",
              "          dataTable['output_type'] = 'display_data';\n",
              "          await google.colab.output.renderOutput(dataTable, element);\n",
              "          const docLink = document.createElement('div');\n",
              "          docLink.innerHTML = docLinkHtml;\n",
              "          element.appendChild(docLink);\n",
              "        }\n",
              "      </script>\n",
              "    </div>\n",
              "  </div>\n",
              "  "
            ]
          },
          "metadata": {},
          "execution_count": 136
        }
      ]
    },
    {
      "cell_type": "code",
      "source": [
        "'''\n",
        "Querys com os valores linha a linha, separados por categoria\n",
        "'''\n",
        "querysaldos = df_total.query('Categoria == [\"SALDOS ANTERIORES\"]')\n",
        "querysaldos = querysaldos.drop(columns=['Categoria'])\n",
        "querycredito = df_total.query('Categoria == [\"OPERAÇÕES DE CRÉDITO\"]')\n",
        "querycredito = querycredito.drop(columns=['Categoria'])\n",
        "querycorrente = df_total.query('Categoria == [\"RECEITAS CORRENTE\"]')\n",
        "querycorrente = querycorrente.drop(columns=['Categoria'])\n",
        "querycapital = df_total.query('Categoria == [\"RECEITAS DE CAPITAL\"]')\n",
        "querycapital = querycapital.drop(columns=['Categoria'])\n"
      ],
      "metadata": {
        "id": "TQUhA3jq1A1i"
      },
      "execution_count": 137,
      "outputs": []
    },
    {
      "cell_type": "code",
      "source": [
        "querysaldos =   querysaldos.T   \n",
        "querycredito =   querycredito.T\n",
        "querycorrente =   querycorrente.T\n",
        "querycapital =   querycapital.T "
      ],
      "metadata": {
        "id": "VfQdwVll3QPA"
      },
      "execution_count": 138,
      "outputs": []
    },
    {
      "cell_type": "code",
      "source": [
        "querysaldos"
      ],
      "metadata": {
        "colab": {
          "base_uri": "https://localhost:8080/",
          "height": 206
        },
        "id": "mhRB4v0v3TYH",
        "outputId": "ff231f7a-6083-4454-8479-4d76f64663b1"
      },
      "execution_count": 139,
      "outputs": [
        {
          "output_type": "execute_result",
          "data": {
            "text/plain": [
              "RECEITAS ORÇAMENTÁRIAS  RECURSOS ARRECADADOS EM EXERCÍCIOS ANTERIORES  \\\n",
              "2017                                                              0.0   \n",
              "2018                                                              0.0   \n",
              "2019                                                              0.0   \n",
              "2020                                                              0.0   \n",
              "2021                                                              0.0   \n",
              "\n",
              "RECEITAS ORÇAMENTÁRIAS  SUPERAVIT FINANCEIRO  \\\n",
              "2017                            2.023454e+08   \n",
              "2018                            1.546738e+08   \n",
              "2019                            2.140512e+09   \n",
              "2020                            2.279084e+09   \n",
              "2021                            6.553710e+09   \n",
              "\n",
              "RECEITAS ORÇAMENTÁRIAS  REABERTURA DE CRÉDITOS ADICIONAIS  \n",
              "2017                                                  0.0  \n",
              "2018                                                  0.0  \n",
              "2019                                                  0.0  \n",
              "2020                                                  0.0  \n",
              "2021                                                  0.0  "
            ],
            "text/html": [
              "\n",
              "  <div id=\"df-b0328598-1a7d-4073-a167-7fc67adaf34f\">\n",
              "    <div class=\"colab-df-container\">\n",
              "      <div>\n",
              "<style scoped>\n",
              "    .dataframe tbody tr th:only-of-type {\n",
              "        vertical-align: middle;\n",
              "    }\n",
              "\n",
              "    .dataframe tbody tr th {\n",
              "        vertical-align: top;\n",
              "    }\n",
              "\n",
              "    .dataframe thead th {\n",
              "        text-align: right;\n",
              "    }\n",
              "</style>\n",
              "<table border=\"1\" class=\"dataframe\">\n",
              "  <thead>\n",
              "    <tr style=\"text-align: right;\">\n",
              "      <th>RECEITAS ORÇAMENTÁRIAS</th>\n",
              "      <th>RECURSOS ARRECADADOS EM EXERCÍCIOS ANTERIORES</th>\n",
              "      <th>SUPERAVIT FINANCEIRO</th>\n",
              "      <th>REABERTURA DE CRÉDITOS ADICIONAIS</th>\n",
              "    </tr>\n",
              "  </thead>\n",
              "  <tbody>\n",
              "    <tr>\n",
              "      <th>2017</th>\n",
              "      <td>0.0</td>\n",
              "      <td>2.023454e+08</td>\n",
              "      <td>0.0</td>\n",
              "    </tr>\n",
              "    <tr>\n",
              "      <th>2018</th>\n",
              "      <td>0.0</td>\n",
              "      <td>1.546738e+08</td>\n",
              "      <td>0.0</td>\n",
              "    </tr>\n",
              "    <tr>\n",
              "      <th>2019</th>\n",
              "      <td>0.0</td>\n",
              "      <td>2.140512e+09</td>\n",
              "      <td>0.0</td>\n",
              "    </tr>\n",
              "    <tr>\n",
              "      <th>2020</th>\n",
              "      <td>0.0</td>\n",
              "      <td>2.279084e+09</td>\n",
              "      <td>0.0</td>\n",
              "    </tr>\n",
              "    <tr>\n",
              "      <th>2021</th>\n",
              "      <td>0.0</td>\n",
              "      <td>6.553710e+09</td>\n",
              "      <td>0.0</td>\n",
              "    </tr>\n",
              "  </tbody>\n",
              "</table>\n",
              "</div>\n",
              "      <button class=\"colab-df-convert\" onclick=\"convertToInteractive('df-b0328598-1a7d-4073-a167-7fc67adaf34f')\"\n",
              "              title=\"Convert this dataframe to an interactive table.\"\n",
              "              style=\"display:none;\">\n",
              "        \n",
              "  <svg xmlns=\"http://www.w3.org/2000/svg\" height=\"24px\"viewBox=\"0 0 24 24\"\n",
              "       width=\"24px\">\n",
              "    <path d=\"M0 0h24v24H0V0z\" fill=\"none\"/>\n",
              "    <path d=\"M18.56 5.44l.94 2.06.94-2.06 2.06-.94-2.06-.94-.94-2.06-.94 2.06-2.06.94zm-11 1L8.5 8.5l.94-2.06 2.06-.94-2.06-.94L8.5 2.5l-.94 2.06-2.06.94zm10 10l.94 2.06.94-2.06 2.06-.94-2.06-.94-.94-2.06-.94 2.06-2.06.94z\"/><path d=\"M17.41 7.96l-1.37-1.37c-.4-.4-.92-.59-1.43-.59-.52 0-1.04.2-1.43.59L10.3 9.45l-7.72 7.72c-.78.78-.78 2.05 0 2.83L4 21.41c.39.39.9.59 1.41.59.51 0 1.02-.2 1.41-.59l7.78-7.78 2.81-2.81c.8-.78.8-2.07 0-2.86zM5.41 20L4 18.59l7.72-7.72 1.47 1.35L5.41 20z\"/>\n",
              "  </svg>\n",
              "      </button>\n",
              "      \n",
              "  <style>\n",
              "    .colab-df-container {\n",
              "      display:flex;\n",
              "      flex-wrap:wrap;\n",
              "      gap: 12px;\n",
              "    }\n",
              "\n",
              "    .colab-df-convert {\n",
              "      background-color: #E8F0FE;\n",
              "      border: none;\n",
              "      border-radius: 50%;\n",
              "      cursor: pointer;\n",
              "      display: none;\n",
              "      fill: #1967D2;\n",
              "      height: 32px;\n",
              "      padding: 0 0 0 0;\n",
              "      width: 32px;\n",
              "    }\n",
              "\n",
              "    .colab-df-convert:hover {\n",
              "      background-color: #E2EBFA;\n",
              "      box-shadow: 0px 1px 2px rgba(60, 64, 67, 0.3), 0px 1px 3px 1px rgba(60, 64, 67, 0.15);\n",
              "      fill: #174EA6;\n",
              "    }\n",
              "\n",
              "    [theme=dark] .colab-df-convert {\n",
              "      background-color: #3B4455;\n",
              "      fill: #D2E3FC;\n",
              "    }\n",
              "\n",
              "    [theme=dark] .colab-df-convert:hover {\n",
              "      background-color: #434B5C;\n",
              "      box-shadow: 0px 1px 3px 1px rgba(0, 0, 0, 0.15);\n",
              "      filter: drop-shadow(0px 1px 2px rgba(0, 0, 0, 0.3));\n",
              "      fill: #FFFFFF;\n",
              "    }\n",
              "  </style>\n",
              "\n",
              "      <script>\n",
              "        const buttonEl =\n",
              "          document.querySelector('#df-b0328598-1a7d-4073-a167-7fc67adaf34f button.colab-df-convert');\n",
              "        buttonEl.style.display =\n",
              "          google.colab.kernel.accessAllowed ? 'block' : 'none';\n",
              "\n",
              "        async function convertToInteractive(key) {\n",
              "          const element = document.querySelector('#df-b0328598-1a7d-4073-a167-7fc67adaf34f');\n",
              "          const dataTable =\n",
              "            await google.colab.kernel.invokeFunction('convertToInteractive',\n",
              "                                                     [key], {});\n",
              "          if (!dataTable) return;\n",
              "\n",
              "          const docLinkHtml = 'Like what you see? Visit the ' +\n",
              "            '<a target=\"_blank\" href=https://colab.research.google.com/notebooks/data_table.ipynb>data table notebook</a>'\n",
              "            + ' to learn more about interactive tables.';\n",
              "          element.innerHTML = '';\n",
              "          dataTable['output_type'] = 'display_data';\n",
              "          await google.colab.output.renderOutput(dataTable, element);\n",
              "          const docLink = document.createElement('div');\n",
              "          docLink.innerHTML = docLinkHtml;\n",
              "          element.appendChild(docLink);\n",
              "        }\n",
              "      </script>\n",
              "    </div>\n",
              "  </div>\n",
              "  "
            ]
          },
          "metadata": {},
          "execution_count": 139
        }
      ]
    },
    {
      "cell_type": "code",
      "source": [
        "parameters = {'xtick.labelsize': 15,\n",
        "          'ytick.labelsize': 15,\n",
        "          'axes.labelsize': 15,\n",
        "          'axes.titlesize': 15}\n",
        "plt.rcParams.update(parameters)\n",
        "\n",
        "colors = ['#aaa49a' ,'#bcb7ad' ,'#cfc9bf', '#09738a', '#092b5a' ]\n",
        "querycapital.plot(kind=\"bar\",stacked=True,figsize=(10,8), color= colors)\n",
        "plt.ylabel('R$ Bilhões', color='#979288')\n",
        "#plt.xlabel('Ano')\n",
        "plt.title('Receitas de Capital', fontsize=18)\n",
        "plt.xticks(rotation=360)\n",
        "\n",
        "plt.savefig('grafico3.png', transparent = True)"
      ],
      "metadata": {
        "colab": {
          "base_uri": "https://localhost:8080/",
          "height": 508
        },
        "id": "6w0PNP-62Rnh",
        "outputId": "4492253b-9faf-4c5b-a917-6cd2c011f484"
      },
      "execution_count": 193,
      "outputs": [
        {
          "output_type": "display_data",
          "data": {
            "text/plain": [
              "<Figure size 720x576 with 1 Axes>"
            ],
            "image/png": "[encoded data removed]"
          },
          "metadata": {
            "needs_background": "light"
          }
        }
      ]
    },
    {
      "cell_type": "markdown",
      "source": [
        "Gráfico das receitas arrecadadas pela venda de CEPACs"
      ],
      "metadata": {
        "id": "NKl6IqSgIwbc"
      }
    },
    {
      "cell_type": "code",
      "source": [
        "\n",
        "cepac =\t{2017:  (63879808.81 * IPCA['2017']),\t\n",
        "2018:  (4341655.16 * IPCA['2018']) ,\n",
        "2019:  (1588211802.18 * IPCA['2019']),\n",
        "2020:  (48681197.82 * IPCA['2020']),\n",
        "2021:  (186292394.09 * IPCA['2021'])}\n",
        "cepac = pd.DataFrame.from_dict(cepac, orient='index')\n",
        "cepac.plot(kind=\"bar\",figsize=(10,8), color= '#092b5a')\n",
        "plt.ylabel('R$ Bilhões',  color='#979288')\n",
        "#plt.xlabel('Ano')\n",
        "plt.title('Receitas arrecadadas pela venda de CEPACs', fontsize=18)\n",
        "plt.xticks(rotation=360)\n",
        "plt.ylim(1e4, 2e9)\n",
        "plt.legend().remove()\n",
        "\n",
        "plt.savefig('grafico4.png', transparent = True)\n",
        "\n"
      ],
      "metadata": {
        "colab": {
          "base_uri": "https://localhost:8080/",
          "height": 508
        },
        "id": "_Undj_e9Iv2c",
        "outputId": "a068eda3-e192-41fa-b4cb-2fe237ee9d92"
      },
      "execution_count": 194,
      "outputs": [
        {
          "output_type": "display_data",
          "data": {
            "text/plain": [
              "<Figure size 720x576 with 1 Axes>"
            ],
            "image/png": "[encoded data removed]"
          },
          "metadata": {
            "needs_background": "light"
          }
        }
      ]
    },
    {
      "cell_type": "code",
      "source": [
        "querycorrente = querycorrente.T\n",
        "querycorrente = querycorrente.drop('RECEITA AGROPECUÁRIA')\n",
        "querycorrente = querycorrente.drop('RECEITA INDUSTRIAL')\n",
        "querycorrente = querycorrente.sort_values(by=['2017'], ascending=True)\n",
        "querycorrente = querycorrente.T"
      ],
      "metadata": {
        "id": "NRx2QoU8YbY9"
      },
      "execution_count": 142,
      "outputs": []
    },
    {
      "cell_type": "code",
      "source": [
        "querycorrente['RECEITA TRIBUTÁRIA']"
      ],
      "metadata": {
        "colab": {
          "base_uri": "https://localhost:8080/"
        },
        "id": "zN2-63PazeB-",
        "outputId": "5d9bc527-71c3-462f-86fe-525cdfa6e9bb"
      },
      "execution_count": 143,
      "outputs": [
        {
          "output_type": "execute_result",
          "data": {
            "text/plain": [
              "2017    3.165459e+10\n",
              "2018    3.566721e+10\n",
              "2019    3.888067e+10\n",
              "2020    3.888822e+10\n",
              "2021    4.377135e+10\n",
              "Name: RECEITA TRIBUTÁRIA, dtype: float64"
            ]
          },
          "metadata": {},
          "execution_count": 143
        }
      ]
    },
    {
      "cell_type": "code",
      "source": [
        "#colors = [ '#092b5a', '#09738a', '#78a890',  '#9ed1b7']\n",
        "colors = ['#979288','#aaa49a' ,'#bcb7ad' ,'#cfc9bf', '#09738a', '#092b5a' ]\n",
        "#colors = colors.reverse()\n",
        "#plt.style.use('tableau-colorblind10')\n",
        "querycorrente.plot(kind=\"bar\",stacked=True,figsize=(10,8), color= colors )\n",
        "plt.legend(bbox_to_anchor=(1.04,1), loc=\"upper left\")\n",
        "plt.xticks(rotation=360)\n",
        "plt.ticklabel_format(style='sci',axis='y',scilimits=(9,9))\n",
        "plt.ylabel('R$ Bilhões',  color='#979288')\n",
        "#plt.xlabel('Ano')\n",
        "plt.title('Receitas Correntes', fontsize=18)\n",
        "#plt.style.use('seaborn-talk')\n",
        "plt.savefig('corrente.png', transparent = True, bbox_inches='tight')\n",
        "\n"
      ],
      "metadata": {
        "colab": {
          "base_uri": "https://localhost:8080/",
          "height": 508
        },
        "id": "tRjsOh9zcki2",
        "outputId": "3a2603e4-d8d4-43dc-a797-973039331170"
      },
      "execution_count": 196,
      "outputs": [
        {
          "output_type": "display_data",
          "data": {
            "text/plain": [
              "<Figure size 720x576 with 1 Axes>"
            ],
            "image/png": "[encoded data removed]"
          },
          "metadata": {
            "needs_background": "light"
          }
        }
      ]
    },
    {
      "cell_type": "code",
      "source": [
        "\n",
        "\n",
        "plt.figure(figsize=(10,6))\n",
        "'''\n",
        "Plotando o gráfico escolhendo o estilo de linha com linestyle e a expessura da mesma com linewidth\n",
        "'''\n",
        "plt.plot(querycorrente['RECEITA TRIBUTÁRIA'], linestyle= '-', linewidth = 2, color = '#092b5a')\n",
        "'''\n",
        "Escolhendo o valor inicial e final do eixo y\n",
        "'''\n",
        "plt.ylim(0e9, 45e9)\n",
        "\n",
        "#plt.grid()\n",
        "\n",
        "'''\n",
        "Colocando pontos e legendas nos valores\n",
        "'''\n",
        "plt.scatter(querycorrente['RECEITA TRIBUTÁRIA'].index, querycorrente['RECEITA TRIBUTÁRIA'], label = \"Receitas Tributárias\", color = '#092b5a', marker = \".\", s =\n",
        "150, linewidths=2)\n",
        "plt.legend(loc='lower right', frameon=False, fontsize=15)\n",
        "\n",
        "'''\n",
        "Rotulando os eixos y e x\n",
        "'''\n",
        "plt.ylabel('R$ Bilhões',  color='#979288')\n",
        "#plt.xlabel('Ano')\n",
        "\n",
        "'''\n",
        "Colocando os valores na notação cientifica de 10^9\n",
        "'''\n",
        "plt.ticklabel_format(style='sci',axis='y',scilimits=(9,9))\n",
        "\n",
        "plt.savefig('grafico5.png', transparent = True)"
      ],
      "metadata": {
        "colab": {
          "base_uri": "https://localhost:8080/",
          "height": 399
        },
        "id": "s-dACHrTFx2o",
        "outputId": "7aa05b03-f622-44e0-9f92-a019a4d24626"
      },
      "execution_count": 178,
      "outputs": [
        {
          "output_type": "display_data",
          "data": {
            "text/plain": [
              "<Figure size 720x432 with 1 Axes>"
            ],
            "image/png": "[encoded data removed]"
          },
          "metadata": {
            "needs_background": "light"
          }
        }
      ]
    },
    {
      "cell_type": "markdown",
      "source": [
        "Porcentagem de crescimento:"
      ],
      "metadata": {
        "id": "OfWWUddzUdt8"
      }
    },
    {
      "cell_type": "code",
      "source": [
        "querycorrente['RECEITA TRIBUTÁRIA']\n",
        "cresc_2018 = (querycorrente['RECEITA TRIBUTÁRIA'][1]- querycorrente['RECEITA TRIBUTÁRIA'][0])/querycorrente['RECEITA TRIBUTÁRIA'][0]*100\n",
        "cresc_2019 = (querycorrente['RECEITA TRIBUTÁRIA'][2]- querycorrente['RECEITA TRIBUTÁRIA'][1])/querycorrente['RECEITA TRIBUTÁRIA'][1]*100\n",
        "cresc_2020 = (querycorrente['RECEITA TRIBUTÁRIA'][3]- querycorrente['RECEITA TRIBUTÁRIA'][2])/querycorrente['RECEITA TRIBUTÁRIA'][2]*100\n",
        "cresc_2021 = (querycorrente['RECEITA TRIBUTÁRIA'][4]- querycorrente['RECEITA TRIBUTÁRIA'][3])/querycorrente['RECEITA TRIBUTÁRIA'][3]*100\n",
        "\n"
      ],
      "metadata": {
        "id": "kN6YqVIjT2Kg"
      },
      "execution_count": 146,
      "outputs": []
    },
    {
      "cell_type": "code",
      "source": [
        "print(f'O crescimento das receitas tributárias foi de {round(cresc_2018, 2)}% em 2018, de {round(cresc_2019, 2)}% em 2019, de {round(cresc_2020, 2)}% em 2020 e de {round(cresc_2021, 2)}% em 2021.')\n"
      ],
      "metadata": {
        "colab": {
          "base_uri": "https://localhost:8080/"
        },
        "id": "AZEbzWWNVO4U",
        "outputId": "c27138c7-ad77-47d6-df22-3b90fd7e935b"
      },
      "execution_count": 147,
      "outputs": [
        {
          "output_type": "stream",
          "name": "stdout",
          "text": [
            "O crescimento das receitas tributárias foi de 12.68% em 2018, de 9.01% em 2019, de 0.02% em 2020 e de 12.56% em 2021.\n"
          ]
        }
      ]
    },
    {
      "cell_type": "code",
      "source": [
        "\n",
        "\n",
        "plt.figure(figsize=(10,6))\n",
        "#plt.title('Tranferências Correntes')\n",
        "'''\n",
        "Plotando o gráfico escolhendo o estilo de linha com linestyle e a expessura da mesma com linewidth\n",
        "'''\n",
        "plt.plot(querycorrente['TRANSFERÊNCIAS CORRENTES'], linestyle= '-', linewidth = 2, color = '#092b5a')\n",
        "'''\n",
        "Escolhendo o valor inicial e final do eixo y\n",
        "'''\n",
        "plt.ylim(0e9, 30e9)\n",
        "\n",
        "#plt.grid()\n",
        "\n",
        "'''\n",
        "Colocando pontos e legendas nos valores\n",
        "'''\n",
        "plt.scatter(querycorrente['TRANSFERÊNCIAS CORRENTES'].index, querycorrente['TRANSFERÊNCIAS CORRENTES'], label = \"Transferências Correntes\", color = '#092b5a', marker = \".\", s =\n",
        "150, linewidths=2)\n",
        "plt.legend(loc='lower right', frameon=False, fontsize=15)\n",
        "\n",
        "\n",
        "'''\n",
        "Rotulando os eixos y e x\n",
        "'''\n",
        "plt.ylabel('R$ Bilhões',  color='#979288')\n",
        "#plt.xlabel('Ano')\n",
        "\n",
        "'''\n",
        "Colocando os valores na notação cientifica de 10^9\n",
        "'''\n",
        "plt.ticklabel_format(style='sci',axis='y',scilimits=(9,9))\n",
        "\n",
        "plt.savefig('tranfcorrente.png', transparent = True)"
      ],
      "metadata": {
        "colab": {
          "base_uri": "https://localhost:8080/",
          "height": 399
        },
        "id": "bdspwAnFLTmz",
        "outputId": "4a330523-22cd-486c-c017-31941958b350"
      },
      "execution_count": 183,
      "outputs": [
        {
          "output_type": "display_data",
          "data": {
            "text/plain": [
              "<Figure size 720x432 with 1 Axes>"
            ],
            "image/png": "[encoded data removed]"
          },
          "metadata": {
            "needs_background": "light"
          }
        }
      ]
    },
    {
      "cell_type": "code",
      "source": [
        "querycorrente['TRANSFERÊNCIAS CORRENTES']\n",
        "tc_cresc_2018 = (querycorrente['TRANSFERÊNCIAS CORRENTES'][1]- querycorrente['TRANSFERÊNCIAS CORRENTES'][0])/querycorrente['TRANSFERÊNCIAS CORRENTES'][0]*100\n",
        "tc_cresc_2019 = (querycorrente['TRANSFERÊNCIAS CORRENTES'][2]- querycorrente['TRANSFERÊNCIAS CORRENTES'][1])/querycorrente['TRANSFERÊNCIAS CORRENTES'][1]*100\n",
        "tc_cresc_2020 = (querycorrente['TRANSFERÊNCIAS CORRENTES'][3]- querycorrente['TRANSFERÊNCIAS CORRENTES'][2])/querycorrente['TRANSFERÊNCIAS CORRENTES'][2]*100\n",
        "tc_cresc_2021 = (querycorrente['TRANSFERÊNCIAS CORRENTES'][4]- querycorrente['TRANSFERÊNCIAS CORRENTES'][3])/querycorrente['TRANSFERÊNCIAS CORRENTES'][3]*100\n",
        "print(f'O crescimento das receitas tributárias foi de {round(tc_cresc_2018, 2)}% em 2018, de {round(tc_cresc_2019, 2)}% em 2019, de {round(tc_cresc_2020, 2)}% em 2020 e de {round(tc_cresc_2021, 2)}% em 2021.')\n"
      ],
      "metadata": {
        "colab": {
          "base_uri": "https://localhost:8080/"
        },
        "id": "8YReU6j2ZS7j",
        "outputId": "ccc8753b-d6d0-464c-f6da-5bae45d5e5bb"
      },
      "execution_count": 149,
      "outputs": [
        {
          "output_type": "stream",
          "name": "stdout",
          "text": [
            "O crescimento das receitas tributárias foi de 4.01% em 2018, de 3.24% em 2019, de 10.53% em 2020 e de -2.1% em 2021.\n"
          ]
        }
      ]
    },
    {
      "cell_type": "code",
      "source": [
        "#plt.style.use('tableau-colorblind10')\n",
        "colors = ['#aaa49a','#092b5a' ,'#979288']\n",
        "querysaldos.plot(kind=\"bar\",stacked=True,figsize=(10,8), color=colors)\n",
        "plt.ylabel('R$ Bilhões', color='#979288')\n",
        "#plt.xlabel('Ano')\n",
        "plt.title('Saldos de exercícios anteriores', fontsize=18)\n",
        "plt.xticks(rotation=360)\n",
        "plt.savefig('grafico7.png', transparent= True, bbox_inches='tight')"
      ],
      "metadata": {
        "id": "FqM-MHDecoKs",
        "colab": {
          "base_uri": "https://localhost:8080/",
          "height": 508
        },
        "outputId": "de4d597e-2f72-425f-fb11-2ce9e6709623"
      },
      "execution_count": 197,
      "outputs": [
        {
          "output_type": "display_data",
          "data": {
            "text/plain": [
              "<Figure size 720x576 with 1 Axes>"
            ],
            "image/png": "[encoded data removed]"
          },
          "metadata": {
            "needs_background": "light"
          }
        }
      ]
    },
    {
      "cell_type": "code",
      "source": [
        "type(querysaldos)"
      ],
      "metadata": {
        "id": "CzjIqqC21HUh",
        "colab": {
          "base_uri": "https://localhost:8080/"
        },
        "outputId": "bc405344-d143-4752-91ad-73eae90113ba"
      },
      "execution_count": 154,
      "outputs": [
        {
          "output_type": "execute_result",
          "data": {
            "text/plain": [
              "pandas.core.frame.DataFrame"
            ]
          },
          "metadata": {},
          "execution_count": 154
        }
      ]
    },
    {
      "cell_type": "markdown",
      "source": [
        "7.3 Análise Vertical"
      ],
      "metadata": {
        "id": "_V9xBFv3dGfc"
      }
    },
    {
      "cell_type": "code",
      "source": [
        "'''\n",
        "Criando um Dataframe com os valores da análise vertical obtidos na etapa 6\n",
        "'''\n",
        "df_av = pd.concat([df['2017']['Categoria'], df['2017']['AV']], axis=1, ignore_index=True)\n",
        "df_av = pd.concat([df_av, df['2018']['AV']], axis=1, ignore_index=True)\n",
        "df_av = pd.concat([df_av, df['2019']['AV']], axis=1, ignore_index=True)\n",
        "df_av = pd.concat([df_av, df['2020']['AV']], axis=1, ignore_index=True)\n",
        "df_av = pd.concat([df_av, df['2021']['AV']], axis=1, ignore_index=True)"
      ],
      "metadata": {
        "id": "YlfIfAUH7NmQ"
      },
      "execution_count": 155,
      "outputs": []
    },
    {
      "cell_type": "code",
      "source": [
        "df_av"
      ],
      "metadata": {
        "id": "wiR_y9vn72-o",
        "colab": {
          "base_uri": "https://localhost:8080/",
          "height": 707
        },
        "outputId": "2d067f9f-a2ee-4a20-b15f-fccffd6237c3"
      },
      "execution_count": 156,
      "outputs": [
        {
          "output_type": "execute_result",
          "data": {
            "text/plain": [
              "                                                                  0      1  \\\n",
              "RECEITAS ORÇAMENTÁRIAS                                                       \n",
              "RECEITA TRIBUTÁRIA                                RECEITAS CORRENTE  49.31   \n",
              "RECEITA DE CONTRIBUIÇÕES                          RECEITAS CORRENTE   7.25   \n",
              "RECEITA PATRIMONIAL                               RECEITAS CORRENTE   1.91   \n",
              "RECEITA AGROPECUÁRIA                              RECEITAS CORRENTE   0.00   \n",
              "RECEITA INDUSTRIAL                                RECEITAS CORRENTE   0.00   \n",
              "RECEITA DE SERVIÇOS                               RECEITAS CORRENTE   1.06   \n",
              "TRANSFERÊNCIAS CORRENTES                          RECEITAS CORRENTE  27.28   \n",
              "OUTRAS RECEITAS CORRENTES                         RECEITAS CORRENTE  11.10   \n",
              "OPERAÇÕES DE CRÉDITO                            RECEITAS DE CAPITAL   0.09   \n",
              "ALIENAÇÃO DE BENS                               RECEITAS DE CAPITAL   0.04   \n",
              "AMORTIZAÇÕES DE EMPRÉSTIMOS                     RECEITAS DE CAPITAL   0.04   \n",
              "TRANSFERÊNCIAS DE CAPITAL                       RECEITAS DE CAPITAL   1.24   \n",
              "OUTRAS RECEITAS DE CAPITAL                      RECEITAS DE CAPITAL   0.68   \n",
              "OPERAÇÕES DE CRÉDITO INTERNAS                  OPERAÇÕES DE CRÉDITO   0.00   \n",
              "MOBILIÁRIA                                     OPERAÇÕES DE CRÉDITO   0.00   \n",
              "CONTRATUAL                                     OPERAÇÕES DE CRÉDITO   0.00   \n",
              "OPERAÇÕES DE CRÉDITO EXTERNAS                  OPERAÇÕES DE CRÉDITO   0.00   \n",
              "RECURSOS ARRECADADOS EM EXERCÍCIOS ANTERIORES     SALDOS ANTERIORES   0.00   \n",
              "SUPERAVIT FINANCEIRO                              SALDOS ANTERIORES   0.32   \n",
              "REABERTURA DE CRÉDITOS ADICIONAIS                 SALDOS ANTERIORES   0.00   \n",
              "\n",
              "                                                   2      3      4      5  \n",
              "RECEITAS ORÇAMENTÁRIAS                                                     \n",
              "RECEITA TRIBUTÁRIA                             54.70  53.91  53.03  57.10  \n",
              "RECEITA DE CONTRIBUIÇÕES                        7.26   7.94   7.76   6.72  \n",
              "RECEITA PATRIMONIAL                             1.42   1.94   3.73   2.24  \n",
              "RECEITA AGROPECUÁRIA                            0.00   0.00   0.00   0.00  \n",
              "RECEITA INDUSTRIAL                              0.00   0.00   0.00   0.00  \n",
              "RECEITA DE SERVIÇOS                             0.47   0.40   0.68   0.38  \n",
              "TRANSFERÊNCIAS CORRENTES                       27.93  26.07  28.34  26.54  \n",
              "OUTRAS RECEITAS CORRENTES                       4.65   3.34   2.33   2.37  \n",
              "OPERAÇÕES DE CRÉDITO                            0.27   0.46   0.77   0.16  \n",
              "ALIENAÇÃO DE BENS                               0.04   0.05   0.08   0.13  \n",
              "AMORTIZAÇÕES DE EMPRÉSTIMOS                     0.04   0.04   0.03   0.03  \n",
              "TRANSFERÊNCIAS DE CAPITAL                       1.31   0.96   1.13   0.86  \n",
              "OUTRAS RECEITAS DE CAPITAL                      1.89   4.90   2.13   3.47  \n",
              "OPERAÇÕES DE CRÉDITO INTERNAS                   0.00   0.00   0.00   0.00  \n",
              "MOBILIÁRIA                                      0.00   0.00   0.00   0.00  \n",
              "CONTRATUAL                                      0.00   0.00   0.00   0.00  \n",
              "OPERAÇÕES DE CRÉDITO EXTERNAS                   0.00   0.00   0.00   0.00  \n",
              "RECURSOS ARRECADADOS EM EXERCÍCIOS ANTERIORES   0.00   0.00   0.00   0.00  \n",
              "SUPERAVIT FINANCEIRO                            0.24   2.97   3.11   8.55  \n",
              "REABERTURA DE CRÉDITOS ADICIONAIS               0.00   0.00   0.00   0.00  "
            ],
            "text/html": [
              "\n",
              "  <div id=\"df-63900a2a-232e-4d19-a8d5-66693bb3e48d\">\n",
              "    <div class=\"colab-df-container\">\n",
              "      <div>\n",
              "<style scoped>\n",
              "    .dataframe tbody tr th:only-of-type {\n",
              "        vertical-align: middle;\n",
              "    }\n",
              "\n",
              "    .dataframe tbody tr th {\n",
              "        vertical-align: top;\n",
              "    }\n",
              "\n",
              "    .dataframe thead th {\n",
              "        text-align: right;\n",
              "    }\n",
              "</style>\n",
              "<table border=\"1\" class=\"dataframe\">\n",
              "  <thead>\n",
              "    <tr style=\"text-align: right;\">\n",
              "      <th></th>\n",
              "      <th>0</th>\n",
              "      <th>1</th>\n",
              "      <th>2</th>\n",
              "      <th>3</th>\n",
              "      <th>4</th>\n",
              "      <th>5</th>\n",
              "    </tr>\n",
              "    <tr>\n",
              "      <th>RECEITAS ORÇAMENTÁRIAS</th>\n",
              "      <th></th>\n",
              "      <th></th>\n",
              "      <th></th>\n",
              "      <th></th>\n",
              "      <th></th>\n",
              "      <th></th>\n",
              "    </tr>\n",
              "  </thead>\n",
              "  <tbody>\n",
              "    <tr>\n",
              "      <th>RECEITA TRIBUTÁRIA</th>\n",
              "      <td>RECEITAS CORRENTE</td>\n",
              "      <td>49.31</td>\n",
              "      <td>54.70</td>\n",
              "      <td>53.91</td>\n",
              "      <td>53.03</td>\n",
              "      <td>57.10</td>\n",
              "    </tr>\n",
              "    <tr>\n",
              "      <th>RECEITA DE CONTRIBUIÇÕES</th>\n",
              "      <td>RECEITAS CORRENTE</td>\n",
              "      <td>7.25</td>\n",
              "      <td>7.26</td>\n",
              "      <td>7.94</td>\n",
              "      <td>7.76</td>\n",
              "      <td>6.72</td>\n",
              "    </tr>\n",
              "    <tr>\n",
              "      <th>RECEITA PATRIMONIAL</th>\n",
              "      <td>RECEITAS CORRENTE</td>\n",
              "      <td>1.91</td>\n",
              "      <td>1.42</td>\n",
              "      <td>1.94</td>\n",
              "      <td>3.73</td>\n",
              "      <td>2.24</td>\n",
              "    </tr>\n",
              "    <tr>\n",
              "      <th>RECEITA AGROPECUÁRIA</th>\n",
              "      <td>RECEITAS CORRENTE</td>\n",
              "      <td>0.00</td>\n",
              "      <td>0.00</td>\n",
              "      <td>0.00</td>\n",
              "      <td>0.00</td>\n",
              "      <td>0.00</td>\n",
              "    </tr>\n",
              "    <tr>\n",
              "      <th>RECEITA INDUSTRIAL</th>\n",
              "      <td>RECEITAS CORRENTE</td>\n",
              "      <td>0.00</td>\n",
              "      <td>0.00</td>\n",
              "      <td>0.00</td>\n",
              "      <td>0.00</td>\n",
              "      <td>0.00</td>\n",
              "    </tr>\n",
              "    <tr>\n",
              "      <th>RECEITA DE SERVIÇOS</th>\n",
              "      <td>RECEITAS CORRENTE</td>\n",
              "      <td>1.06</td>\n",
              "      <td>0.47</td>\n",
              "      <td>0.40</td>\n",
              "      <td>0.68</td>\n",
              "      <td>0.38</td>\n",
              "    </tr>\n",
              "    <tr>\n",
              "      <th>TRANSFERÊNCIAS CORRENTES</th>\n",
              "      <td>RECEITAS CORRENTE</td>\n",
              "      <td>27.28</td>\n",
              "      <td>27.93</td>\n",
              "      <td>26.07</td>\n",
              "      <td>28.34</td>\n",
              "      <td>26.54</td>\n",
              "    </tr>\n",
              "    <tr>\n",
              "      <th>OUTRAS RECEITAS CORRENTES</th>\n",
              "      <td>RECEITAS CORRENTE</td>\n",
              "      <td>11.10</td>\n",
              "      <td>4.65</td>\n",
              "      <td>3.34</td>\n",
              "      <td>2.33</td>\n",
              "      <td>2.37</td>\n",
              "    </tr>\n",
              "    <tr>\n",
              "      <th>OPERAÇÕES DE CRÉDITO</th>\n",
              "      <td>RECEITAS DE CAPITAL</td>\n",
              "      <td>0.09</td>\n",
              "      <td>0.27</td>\n",
              "      <td>0.46</td>\n",
              "      <td>0.77</td>\n",
              "      <td>0.16</td>\n",
              "    </tr>\n",
              "    <tr>\n",
              "      <th>ALIENAÇÃO DE BENS</th>\n",
              "      <td>RECEITAS DE CAPITAL</td>\n",
              "      <td>0.04</td>\n",
              "      <td>0.04</td>\n",
              "      <td>0.05</td>\n",
              "      <td>0.08</td>\n",
              "      <td>0.13</td>\n",
              "    </tr>\n",
              "    <tr>\n",
              "      <th>AMORTIZAÇÕES DE EMPRÉSTIMOS</th>\n",
              "      <td>RECEITAS DE CAPITAL</td>\n",
              "      <td>0.04</td>\n",
              "      <td>0.04</td>\n",
              "      <td>0.04</td>\n",
              "      <td>0.03</td>\n",
              "      <td>0.03</td>\n",
              "    </tr>\n",
              "    <tr>\n",
              "      <th>TRANSFERÊNCIAS DE CAPITAL</th>\n",
              "      <td>RECEITAS DE CAPITAL</td>\n",
              "      <td>1.24</td>\n",
              "      <td>1.31</td>\n",
              "      <td>0.96</td>\n",
              "      <td>1.13</td>\n",
              "      <td>0.86</td>\n",
              "    </tr>\n",
              "    <tr>\n",
              "      <th>OUTRAS RECEITAS DE CAPITAL</th>\n",
              "      <td>RECEITAS DE CAPITAL</td>\n",
              "      <td>0.68</td>\n",
              "      <td>1.89</td>\n",
              "      <td>4.90</td>\n",
              "      <td>2.13</td>\n",
              "      <td>3.47</td>\n",
              "    </tr>\n",
              "    <tr>\n",
              "      <th>OPERAÇÕES DE CRÉDITO INTERNAS</th>\n",
              "      <td>OPERAÇÕES DE CRÉDITO</td>\n",
              "      <td>0.00</td>\n",
              "      <td>0.00</td>\n",
              "      <td>0.00</td>\n",
              "      <td>0.00</td>\n",
              "      <td>0.00</td>\n",
              "    </tr>\n",
              "    <tr>\n",
              "      <th>MOBILIÁRIA</th>\n",
              "      <td>OPERAÇÕES DE CRÉDITO</td>\n",
              "      <td>0.00</td>\n",
              "      <td>0.00</td>\n",
              "      <td>0.00</td>\n",
              "      <td>0.00</td>\n",
              "      <td>0.00</td>\n",
              "    </tr>\n",
              "    <tr>\n",
              "      <th>CONTRATUAL</th>\n",
              "      <td>OPERAÇÕES DE CRÉDITO</td>\n",
              "      <td>0.00</td>\n",
              "      <td>0.00</td>\n",
              "      <td>0.00</td>\n",
              "      <td>0.00</td>\n",
              "      <td>0.00</td>\n",
              "    </tr>\n",
              "    <tr>\n",
              "      <th>OPERAÇÕES DE CRÉDITO EXTERNAS</th>\n",
              "      <td>OPERAÇÕES DE CRÉDITO</td>\n",
              "      <td>0.00</td>\n",
              "      <td>0.00</td>\n",
              "      <td>0.00</td>\n",
              "      <td>0.00</td>\n",
              "      <td>0.00</td>\n",
              "    </tr>\n",
              "    <tr>\n",
              "      <th>RECURSOS ARRECADADOS EM EXERCÍCIOS ANTERIORES</th>\n",
              "      <td>SALDOS ANTERIORES</td>\n",
              "      <td>0.00</td>\n",
              "      <td>0.00</td>\n",
              "      <td>0.00</td>\n",
              "      <td>0.00</td>\n",
              "      <td>0.00</td>\n",
              "    </tr>\n",
              "    <tr>\n",
              "      <th>SUPERAVIT FINANCEIRO</th>\n",
              "      <td>SALDOS ANTERIORES</td>\n",
              "      <td>0.32</td>\n",
              "      <td>0.24</td>\n",
              "      <td>2.97</td>\n",
              "      <td>3.11</td>\n",
              "      <td>8.55</td>\n",
              "    </tr>\n",
              "    <tr>\n",
              "      <th>REABERTURA DE CRÉDITOS ADICIONAIS</th>\n",
              "      <td>SALDOS ANTERIORES</td>\n",
              "      <td>0.00</td>\n",
              "      <td>0.00</td>\n",
              "      <td>0.00</td>\n",
              "      <td>0.00</td>\n",
              "      <td>0.00</td>\n",
              "    </tr>\n",
              "  </tbody>\n",
              "</table>\n",
              "</div>\n",
              "      <button class=\"colab-df-convert\" onclick=\"convertToInteractive('df-63900a2a-232e-4d19-a8d5-66693bb3e48d')\"\n",
              "              title=\"Convert this dataframe to an interactive table.\"\n",
              "              style=\"display:none;\">\n",
              "        \n",
              "  <svg xmlns=\"http://www.w3.org/2000/svg\" height=\"24px\"viewBox=\"0 0 24 24\"\n",
              "       width=\"24px\">\n",
              "    <path d=\"M0 0h24v24H0V0z\" fill=\"none\"/>\n",
              "    <path d=\"M18.56 5.44l.94 2.06.94-2.06 2.06-.94-2.06-.94-.94-2.06-.94 2.06-2.06.94zm-11 1L8.5 8.5l.94-2.06 2.06-.94-2.06-.94L8.5 2.5l-.94 2.06-2.06.94zm10 10l.94 2.06.94-2.06 2.06-.94-2.06-.94-.94-2.06-.94 2.06-2.06.94z\"/><path d=\"M17.41 7.96l-1.37-1.37c-.4-.4-.92-.59-1.43-.59-.52 0-1.04.2-1.43.59L10.3 9.45l-7.72 7.72c-.78.78-.78 2.05 0 2.83L4 21.41c.39.39.9.59 1.41.59.51 0 1.02-.2 1.41-.59l7.78-7.78 2.81-2.81c.8-.78.8-2.07 0-2.86zM5.41 20L4 18.59l7.72-7.72 1.47 1.35L5.41 20z\"/>\n",
              "  </svg>\n",
              "      </button>\n",
              "      \n",
              "  <style>\n",
              "    .colab-df-container {\n",
              "      display:flex;\n",
              "      flex-wrap:wrap;\n",
              "      gap: 12px;\n",
              "    }\n",
              "\n",
              "    .colab-df-convert {\n",
              "      background-color: #E8F0FE;\n",
              "      border: none;\n",
              "      border-radius: 50%;\n",
              "      cursor: pointer;\n",
              "      display: none;\n",
              "      fill: #1967D2;\n",
              "      height: 32px;\n",
              "      padding: 0 0 0 0;\n",
              "      width: 32px;\n",
              "    }\n",
              "\n",
              "    .colab-df-convert:hover {\n",
              "      background-color: #E2EBFA;\n",
              "      box-shadow: 0px 1px 2px rgba(60, 64, 67, 0.3), 0px 1px 3px 1px rgba(60, 64, 67, 0.15);\n",
              "      fill: #174EA6;\n",
              "    }\n",
              "\n",
              "    [theme=dark] .colab-df-convert {\n",
              "      background-color: #3B4455;\n",
              "      fill: #D2E3FC;\n",
              "    }\n",
              "\n",
              "    [theme=dark] .colab-df-convert:hover {\n",
              "      background-color: #434B5C;\n",
              "      box-shadow: 0px 1px 3px 1px rgba(0, 0, 0, 0.15);\n",
              "      filter: drop-shadow(0px 1px 2px rgba(0, 0, 0, 0.3));\n",
              "      fill: #FFFFFF;\n",
              "    }\n",
              "  </style>\n",
              "\n",
              "      <script>\n",
              "        const buttonEl =\n",
              "          document.querySelector('#df-63900a2a-232e-4d19-a8d5-66693bb3e48d button.colab-df-convert');\n",
              "        buttonEl.style.display =\n",
              "          google.colab.kernel.accessAllowed ? 'block' : 'none';\n",
              "\n",
              "        async function convertToInteractive(key) {\n",
              "          const element = document.querySelector('#df-63900a2a-232e-4d19-a8d5-66693bb3e48d');\n",
              "          const dataTable =\n",
              "            await google.colab.kernel.invokeFunction('convertToInteractive',\n",
              "                                                     [key], {});\n",
              "          if (!dataTable) return;\n",
              "\n",
              "          const docLinkHtml = 'Like what you see? Visit the ' +\n",
              "            '<a target=\"_blank\" href=https://colab.research.google.com/notebooks/data_table.ipynb>data table notebook</a>'\n",
              "            + ' to learn more about interactive tables.';\n",
              "          element.innerHTML = '';\n",
              "          dataTable['output_type'] = 'display_data';\n",
              "          await google.colab.output.renderOutput(dataTable, element);\n",
              "          const docLink = document.createElement('div');\n",
              "          docLink.innerHTML = docLinkHtml;\n",
              "          element.appendChild(docLink);\n",
              "        }\n",
              "      </script>\n",
              "    </div>\n",
              "  </div>\n",
              "  "
            ]
          },
          "metadata": {},
          "execution_count": 156
        }
      ]
    },
    {
      "cell_type": "code",
      "source": [
        "df_av.columns = ['Categoria', '2017', '2018', '2019', '2020', '2021']"
      ],
      "metadata": {
        "id": "gJft-Sod9HAn"
      },
      "execution_count": 157,
      "outputs": []
    },
    {
      "cell_type": "code",
      "source": [
        "df_av_saldos = df_av.query('Categoria == [\"SALDOS ANTERIORES\"]')\n",
        "df_av_saldos = df_av_saldos.drop(columns=['Categoria'])\n",
        "df_av_credito = df_av.query('Categoria == [\"OPERAÇÕES DE CRÉDITO\"]')\n",
        "df_av_credito = df_av_credito.drop(columns=['Categoria'])\n",
        "df_av_corrente = df_av.query('Categoria == [\"RECEITAS CORRENTE\"]')\n",
        "df_av_corrente = df_av_corrente.drop(columns=['Categoria'])\n",
        "df_av_capital = df_av.query('Categoria == [\"RECEITAS DE CAPITAL\"]')\n",
        "df_av_capital = df_av_capital.drop(columns=['Categoria'])\n",
        "\n",
        "df_av_saldos =   df_av_saldos.T   \n",
        "df_av_credito =   df_av_credito.T\n",
        "df_av_corrente =   df_av_corrente.T\n",
        "df_av_capital =   df_av_capital.T "
      ],
      "metadata": {
        "id": "zQM3athV8OoX"
      },
      "execution_count": 158,
      "outputs": []
    },
    {
      "cell_type": "code",
      "source": [
        "df_av = df_av.drop(columns=['Categoria'])\n",
        "df_av = df_av.T"
      ],
      "metadata": {
        "id": "ANFQJu-uobEQ"
      },
      "execution_count": 159,
      "outputs": []
    },
    {
      "cell_type": "code",
      "source": [
        "df_av.head(n=30)"
      ],
      "metadata": {
        "id": "oEpeiMILo2QH",
        "colab": {
          "base_uri": "https://localhost:8080/",
          "height": 339
        },
        "outputId": "5757b89b-0e29-4bce-87a0-eb7ce32e0cff"
      },
      "execution_count": 160,
      "outputs": [
        {
          "output_type": "execute_result",
          "data": {
            "text/plain": [
              "RECEITAS ORÇAMENTÁRIAS  RECEITA TRIBUTÁRIA  RECEITA DE CONTRIBUIÇÕES  \\\n",
              "2017                                 49.31                      7.25   \n",
              "2018                                 54.70                      7.26   \n",
              "2019                                 53.91                      7.94   \n",
              "2020                                 53.03                      7.76   \n",
              "2021                                 57.10                      6.72   \n",
              "\n",
              "RECEITAS ORÇAMENTÁRIAS  RECEITA PATRIMONIAL  RECEITA AGROPECUÁRIA  \\\n",
              "2017                                   1.91                   0.0   \n",
              "2018                                   1.42                   0.0   \n",
              "2019                                   1.94                   0.0   \n",
              "2020                                   3.73                   0.0   \n",
              "2021                                   2.24                   0.0   \n",
              "\n",
              "RECEITAS ORÇAMENTÁRIAS  RECEITA INDUSTRIAL  RECEITA DE SERVIÇOS  \\\n",
              "2017                                   0.0                 1.06   \n",
              "2018                                   0.0                 0.47   \n",
              "2019                                   0.0                 0.40   \n",
              "2020                                   0.0                 0.68   \n",
              "2021                                   0.0                 0.38   \n",
              "\n",
              "RECEITAS ORÇAMENTÁRIAS  TRANSFERÊNCIAS CORRENTES  OUTRAS RECEITAS CORRENTES  \\\n",
              "2017                                       27.28                      11.10   \n",
              "2018                                       27.93                       4.65   \n",
              "2019                                       26.07                       3.34   \n",
              "2020                                       28.34                       2.33   \n",
              "2021                                       26.54                       2.37   \n",
              "\n",
              "RECEITAS ORÇAMENTÁRIAS  OPERAÇÕES DE CRÉDITO  ALIENAÇÃO DE BENS  \\\n",
              "2017                                    0.09               0.04   \n",
              "2018                                    0.27               0.04   \n",
              "2019                                    0.46               0.05   \n",
              "2020                                    0.77               0.08   \n",
              "2021                                    0.16               0.13   \n",
              "\n",
              "RECEITAS ORÇAMENTÁRIAS  AMORTIZAÇÕES DE EMPRÉSTIMOS  \\\n",
              "2017                                           0.04   \n",
              "2018                                           0.04   \n",
              "2019                                           0.04   \n",
              "2020                                           0.03   \n",
              "2021                                           0.03   \n",
              "\n",
              "RECEITAS ORÇAMENTÁRIAS  TRANSFERÊNCIAS DE CAPITAL  OUTRAS RECEITAS DE CAPITAL  \\\n",
              "2017                                         1.24                        0.68   \n",
              "2018                                         1.31                        1.89   \n",
              "2019                                         0.96                        4.90   \n",
              "2020                                         1.13                        2.13   \n",
              "2021                                         0.86                        3.47   \n",
              "\n",
              "RECEITAS ORÇAMENTÁRIAS  OPERAÇÕES DE CRÉDITO INTERNAS  MOBILIÁRIA  CONTRATUAL  \\\n",
              "2017                                              0.0         0.0         0.0   \n",
              "2018                                              0.0         0.0         0.0   \n",
              "2019                                              0.0         0.0         0.0   \n",
              "2020                                              0.0         0.0         0.0   \n",
              "2021                                              0.0         0.0         0.0   \n",
              "\n",
              "RECEITAS ORÇAMENTÁRIAS  OPERAÇÕES DE CRÉDITO EXTERNAS  \\\n",
              "2017                                              0.0   \n",
              "2018                                              0.0   \n",
              "2019                                              0.0   \n",
              "2020                                              0.0   \n",
              "2021                                              0.0   \n",
              "\n",
              "RECEITAS ORÇAMENTÁRIAS  RECURSOS ARRECADADOS EM EXERCÍCIOS ANTERIORES  \\\n",
              "2017                                                              0.0   \n",
              "2018                                                              0.0   \n",
              "2019                                                              0.0   \n",
              "2020                                                              0.0   \n",
              "2021                                                              0.0   \n",
              "\n",
              "RECEITAS ORÇAMENTÁRIAS  SUPERAVIT FINANCEIRO  \\\n",
              "2017                                    0.32   \n",
              "2018                                    0.24   \n",
              "2019                                    2.97   \n",
              "2020                                    3.11   \n",
              "2021                                    8.55   \n",
              "\n",
              "RECEITAS ORÇAMENTÁRIAS  REABERTURA DE CRÉDITOS ADICIONAIS  \n",
              "2017                                                  0.0  \n",
              "2018                                                  0.0  \n",
              "2019                                                  0.0  \n",
              "2020                                                  0.0  \n",
              "2021                                                  0.0  "
            ],
            "text/html": [
              "\n",
              "  <div id=\"df-b5a8ea39-0cdf-443d-9617-2fd01a3dcaa9\">\n",
              "    <div class=\"colab-df-container\">\n",
              "      <div>\n",
              "<style scoped>\n",
              "    .dataframe tbody tr th:only-of-type {\n",
              "        vertical-align: middle;\n",
              "    }\n",
              "\n",
              "    .dataframe tbody tr th {\n",
              "        vertical-align: top;\n",
              "    }\n",
              "\n",
              "    .dataframe thead th {\n",
              "        text-align: right;\n",
              "    }\n",
              "</style>\n",
              "<table border=\"1\" class=\"dataframe\">\n",
              "  <thead>\n",
              "    <tr style=\"text-align: right;\">\n",
              "      <th>RECEITAS ORÇAMENTÁRIAS</th>\n",
              "      <th>RECEITA TRIBUTÁRIA</th>\n",
              "      <th>RECEITA DE CONTRIBUIÇÕES</th>\n",
              "      <th>RECEITA PATRIMONIAL</th>\n",
              "      <th>RECEITA AGROPECUÁRIA</th>\n",
              "      <th>RECEITA INDUSTRIAL</th>\n",
              "      <th>RECEITA DE SERVIÇOS</th>\n",
              "      <th>TRANSFERÊNCIAS CORRENTES</th>\n",
              "      <th>OUTRAS RECEITAS CORRENTES</th>\n",
              "      <th>OPERAÇÕES DE CRÉDITO</th>\n",
              "      <th>ALIENAÇÃO DE BENS</th>\n",
              "      <th>AMORTIZAÇÕES DE EMPRÉSTIMOS</th>\n",
              "      <th>TRANSFERÊNCIAS DE CAPITAL</th>\n",
              "      <th>OUTRAS RECEITAS DE CAPITAL</th>\n",
              "      <th>OPERAÇÕES DE CRÉDITO INTERNAS</th>\n",
              "      <th>MOBILIÁRIA</th>\n",
              "      <th>CONTRATUAL</th>\n",
              "      <th>OPERAÇÕES DE CRÉDITO EXTERNAS</th>\n",
              "      <th>RECURSOS ARRECADADOS EM EXERCÍCIOS ANTERIORES</th>\n",
              "      <th>SUPERAVIT FINANCEIRO</th>\n",
              "      <th>REABERTURA DE CRÉDITOS ADICIONAIS</th>\n",
              "    </tr>\n",
              "  </thead>\n",
              "  <tbody>\n",
              "    <tr>\n",
              "      <th>2017</th>\n",
              "      <td>49.31</td>\n",
              "      <td>7.25</td>\n",
              "      <td>1.91</td>\n",
              "      <td>0.0</td>\n",
              "      <td>0.0</td>\n",
              "      <td>1.06</td>\n",
              "      <td>27.28</td>\n",
              "      <td>11.10</td>\n",
              "      <td>0.09</td>\n",
              "      <td>0.04</td>\n",
              "      <td>0.04</td>\n",
              "      <td>1.24</td>\n",
              "      <td>0.68</td>\n",
              "      <td>0.0</td>\n",
              "      <td>0.0</td>\n",
              "      <td>0.0</td>\n",
              "      <td>0.0</td>\n",
              "      <td>0.0</td>\n",
              "      <td>0.32</td>\n",
              "      <td>0.0</td>\n",
              "    </tr>\n",
              "    <tr>\n",
              "      <th>2018</th>\n",
              "      <td>54.70</td>\n",
              "      <td>7.26</td>\n",
              "      <td>1.42</td>\n",
              "      <td>0.0</td>\n",
              "      <td>0.0</td>\n",
              "      <td>0.47</td>\n",
              "      <td>27.93</td>\n",
              "      <td>4.65</td>\n",
              "      <td>0.27</td>\n",
              "      <td>0.04</td>\n",
              "      <td>0.04</td>\n",
              "      <td>1.31</td>\n",
              "      <td>1.89</td>\n",
              "      <td>0.0</td>\n",
              "      <td>0.0</td>\n",
              "      <td>0.0</td>\n",
              "      <td>0.0</td>\n",
              "      <td>0.0</td>\n",
              "      <td>0.24</td>\n",
              "      <td>0.0</td>\n",
              "    </tr>\n",
              "    <tr>\n",
              "      <th>2019</th>\n",
              "      <td>53.91</td>\n",
              "      <td>7.94</td>\n",
              "      <td>1.94</td>\n",
              "      <td>0.0</td>\n",
              "      <td>0.0</td>\n",
              "      <td>0.40</td>\n",
              "      <td>26.07</td>\n",
              "      <td>3.34</td>\n",
              "      <td>0.46</td>\n",
              "      <td>0.05</td>\n",
              "      <td>0.04</td>\n",
              "      <td>0.96</td>\n",
              "      <td>4.90</td>\n",
              "      <td>0.0</td>\n",
              "      <td>0.0</td>\n",
              "      <td>0.0</td>\n",
              "      <td>0.0</td>\n",
              "      <td>0.0</td>\n",
              "      <td>2.97</td>\n",
              "      <td>0.0</td>\n",
              "    </tr>\n",
              "    <tr>\n",
              "      <th>2020</th>\n",
              "      <td>53.03</td>\n",
              "      <td>7.76</td>\n",
              "      <td>3.73</td>\n",
              "      <td>0.0</td>\n",
              "      <td>0.0</td>\n",
              "      <td>0.68</td>\n",
              "      <td>28.34</td>\n",
              "      <td>2.33</td>\n",
              "      <td>0.77</td>\n",
              "      <td>0.08</td>\n",
              "      <td>0.03</td>\n",
              "      <td>1.13</td>\n",
              "      <td>2.13</td>\n",
              "      <td>0.0</td>\n",
              "      <td>0.0</td>\n",
              "      <td>0.0</td>\n",
              "      <td>0.0</td>\n",
              "      <td>0.0</td>\n",
              "      <td>3.11</td>\n",
              "      <td>0.0</td>\n",
              "    </tr>\n",
              "    <tr>\n",
              "      <th>2021</th>\n",
              "      <td>57.10</td>\n",
              "      <td>6.72</td>\n",
              "      <td>2.24</td>\n",
              "      <td>0.0</td>\n",
              "      <td>0.0</td>\n",
              "      <td>0.38</td>\n",
              "      <td>26.54</td>\n",
              "      <td>2.37</td>\n",
              "      <td>0.16</td>\n",
              "      <td>0.13</td>\n",
              "      <td>0.03</td>\n",
              "      <td>0.86</td>\n",
              "      <td>3.47</td>\n",
              "      <td>0.0</td>\n",
              "      <td>0.0</td>\n",
              "      <td>0.0</td>\n",
              "      <td>0.0</td>\n",
              "      <td>0.0</td>\n",
              "      <td>8.55</td>\n",
              "      <td>0.0</td>\n",
              "    </tr>\n",
              "  </tbody>\n",
              "</table>\n",
              "</div>\n",
              "      <button class=\"colab-df-convert\" onclick=\"convertToInteractive('df-b5a8ea39-0cdf-443d-9617-2fd01a3dcaa9')\"\n",
              "              title=\"Convert this dataframe to an interactive table.\"\n",
              "              style=\"display:none;\">\n",
              "        \n",
              "  <svg xmlns=\"http://www.w3.org/2000/svg\" height=\"24px\"viewBox=\"0 0 24 24\"\n",
              "       width=\"24px\">\n",
              "    <path d=\"M0 0h24v24H0V0z\" fill=\"none\"/>\n",
              "    <path d=\"M18.56 5.44l.94 2.06.94-2.06 2.06-.94-2.06-.94-.94-2.06-.94 2.06-2.06.94zm-11 1L8.5 8.5l.94-2.06 2.06-.94-2.06-.94L8.5 2.5l-.94 2.06-2.06.94zm10 10l.94 2.06.94-2.06 2.06-.94-2.06-.94-.94-2.06-.94 2.06-2.06.94z\"/><path d=\"M17.41 7.96l-1.37-1.37c-.4-.4-.92-.59-1.43-.59-.52 0-1.04.2-1.43.59L10.3 9.45l-7.72 7.72c-.78.78-.78 2.05 0 2.83L4 21.41c.39.39.9.59 1.41.59.51 0 1.02-.2 1.41-.59l7.78-7.78 2.81-2.81c.8-.78.8-2.07 0-2.86zM5.41 20L4 18.59l7.72-7.72 1.47 1.35L5.41 20z\"/>\n",
              "  </svg>\n",
              "      </button>\n",
              "      \n",
              "  <style>\n",
              "    .colab-df-container {\n",
              "      display:flex;\n",
              "      flex-wrap:wrap;\n",
              "      gap: 12px;\n",
              "    }\n",
              "\n",
              "    .colab-df-convert {\n",
              "      background-color: #E8F0FE;\n",
              "      border: none;\n",
              "      border-radius: 50%;\n",
              "      cursor: pointer;\n",
              "      display: none;\n",
              "      fill: #1967D2;\n",
              "      height: 32px;\n",
              "      padding: 0 0 0 0;\n",
              "      width: 32px;\n",
              "    }\n",
              "\n",
              "    .colab-df-convert:hover {\n",
              "      background-color: #E2EBFA;\n",
              "      box-shadow: 0px 1px 2px rgba(60, 64, 67, 0.3), 0px 1px 3px 1px rgba(60, 64, 67, 0.15);\n",
              "      fill: #174EA6;\n",
              "    }\n",
              "\n",
              "    [theme=dark] .colab-df-convert {\n",
              "      background-color: #3B4455;\n",
              "      fill: #D2E3FC;\n",
              "    }\n",
              "\n",
              "    [theme=dark] .colab-df-convert:hover {\n",
              "      background-color: #434B5C;\n",
              "      box-shadow: 0px 1px 3px 1px rgba(0, 0, 0, 0.15);\n",
              "      filter: drop-shadow(0px 1px 2px rgba(0, 0, 0, 0.3));\n",
              "      fill: #FFFFFF;\n",
              "    }\n",
              "  </style>\n",
              "\n",
              "      <script>\n",
              "        const buttonEl =\n",
              "          document.querySelector('#df-b5a8ea39-0cdf-443d-9617-2fd01a3dcaa9 button.colab-df-convert');\n",
              "        buttonEl.style.display =\n",
              "          google.colab.kernel.accessAllowed ? 'block' : 'none';\n",
              "\n",
              "        async function convertToInteractive(key) {\n",
              "          const element = document.querySelector('#df-b5a8ea39-0cdf-443d-9617-2fd01a3dcaa9');\n",
              "          const dataTable =\n",
              "            await google.colab.kernel.invokeFunction('convertToInteractive',\n",
              "                                                     [key], {});\n",
              "          if (!dataTable) return;\n",
              "\n",
              "          const docLinkHtml = 'Like what you see? Visit the ' +\n",
              "            '<a target=\"_blank\" href=https://colab.research.google.com/notebooks/data_table.ipynb>data table notebook</a>'\n",
              "            + ' to learn more about interactive tables.';\n",
              "          element.innerHTML = '';\n",
              "          dataTable['output_type'] = 'display_data';\n",
              "          await google.colab.output.renderOutput(dataTable, element);\n",
              "          const docLink = document.createElement('div');\n",
              "          docLink.innerHTML = docLinkHtml;\n",
              "          element.appendChild(docLink);\n",
              "        }\n",
              "      </script>\n",
              "    </div>\n",
              "  </div>\n",
              "  "
            ]
          },
          "metadata": {},
          "execution_count": 160
        }
      ]
    },
    {
      "cell_type": "code",
      "source": [
        "\n",
        "\n",
        "df_av = df_av.drop(columns=['RECEITA AGROPECUÁRIA','OPERAÇÕES DE CRÉDITO INTERNAS' ,'MOBILIÁRIA' ,'CONTRATUAL' ,'OPERAÇÕES DE CRÉDITO EXTERNAS','RECURSOS ARRECADADOS EM EXERCÍCIOS ANTERIORES','REABERTURA DE CRÉDITOS ADICIONAIS', 'RECEITA AGROPECUÁRIA' ,'RECEITA INDUSTRIAL', 'AMORTIZAÇÕES DE EMPRÉSTIMOS',\t 'ALIENAÇÃO DE BENS'])\n"
      ],
      "metadata": {
        "id": "_qiKyzRWhakx"
      },
      "execution_count": 161,
      "outputs": []
    },
    {
      "cell_type": "code",
      "source": [
        "\n",
        "df_av =df_av.T\n",
        "#colors = [ 'orangered','sandybrown', 'saddlebrown',  'tan', 'orange',  'orangered','sandybrown', 'lightgray',  'darkgrey', 'grey']\n",
        "#colors = colors.reverse()\n",
        "\n",
        "colors = ['#092b5a', '#09738a', '#979288','#aaa49a' ,'#bcb7ad' ,'#cfc9bf', '#e1dbd1' ,'#d5d8c7' ,'#d4d6ce' ,'#d3d5d5' ,'#d1d3dc' ,'#d0d2e3']       \n",
        "\n",
        "df_av = df_av.sort_values(by=['2021'], ascending=False)\n",
        "df_av =df_av.T\n",
        "df_av.plot(kind=\"barh\",stacked=True, width=0.9, figsize=(12,10), color=colors)\n",
        "#plt.style.use('seaborn-bright')\n",
        "plt.title('Análise Vertical', fontsize=18)\n",
        "\n",
        "plt.xlim(0, 100)\n",
        "plt.xticks(fontsize=15)\n",
        "\n",
        "#coloca o sinal %\n",
        "current_values = plt.gca().get_xticks()\n",
        "plt.gca().set_xticklabels([f'{x.astype(int)}%' for x in current_values])\n",
        "\n",
        "#coloca a legenda fora dp gráfico\n",
        "plt.legend(bbox_to_anchor=(1.04,1), loc=\"upper left\")\n",
        "plt.savefig('grafico8.png', transparent= True, bbox_inches='tight')\n",
        "df_av.to_csv(\"df_av.csv\", index='False')"
      ],
      "metadata": {
        "id": "7Fg0pkyzc4a7",
        "colab": {
          "base_uri": "https://localhost:8080/",
          "height": 616
        },
        "outputId": "2edcac47-eef6-42b9-bbdd-dbd68bb1b78d"
      },
      "execution_count": 198,
      "outputs": [
        {
          "output_type": "display_data",
          "data": {
            "text/plain": [
              "<Figure size 864x720 with 1 Axes>"
            ],
            "image/png": "[encoded data removed]"
          },
          "metadata": {
            "needs_background": "light"
          }
        }
      ]
    },
    {
      "cell_type": "code",
      "source": [
        "df_av"
      ],
      "metadata": {
        "colab": {
          "base_uri": "https://localhost:8080/",
          "height": 285
        },
        "id": "QR3sTc2stUkx",
        "outputId": "6c86aac8-373a-48b2-82ea-4f0ff8ebdece"
      },
      "execution_count": 163,
      "outputs": [
        {
          "output_type": "execute_result",
          "data": {
            "text/plain": [
              "RECEITAS ORÇAMENTÁRIAS  RECEITA TRIBUTÁRIA  TRANSFERÊNCIAS CORRENTES  \\\n",
              "2017                                 49.31                     27.28   \n",
              "2018                                 54.70                     27.93   \n",
              "2019                                 53.91                     26.07   \n",
              "2020                                 53.03                     28.34   \n",
              "2021                                 57.10                     26.54   \n",
              "\n",
              "RECEITAS ORÇAMENTÁRIAS  SUPERAVIT FINANCEIRO  RECEITA DE CONTRIBUIÇÕES  \\\n",
              "2017                                    0.32                      7.25   \n",
              "2018                                    0.24                      7.26   \n",
              "2019                                    2.97                      7.94   \n",
              "2020                                    3.11                      7.76   \n",
              "2021                                    8.55                      6.72   \n",
              "\n",
              "RECEITAS ORÇAMENTÁRIAS  OUTRAS RECEITAS DE CAPITAL  OUTRAS RECEITAS CORRENTES  \\\n",
              "2017                                          0.68                      11.10   \n",
              "2018                                          1.89                       4.65   \n",
              "2019                                          4.90                       3.34   \n",
              "2020                                          2.13                       2.33   \n",
              "2021                                          3.47                       2.37   \n",
              "\n",
              "RECEITAS ORÇAMENTÁRIAS  RECEITA PATRIMONIAL  TRANSFERÊNCIAS DE CAPITAL  \\\n",
              "2017                                   1.91                       1.24   \n",
              "2018                                   1.42                       1.31   \n",
              "2019                                   1.94                       0.96   \n",
              "2020                                   3.73                       1.13   \n",
              "2021                                   2.24                       0.86   \n",
              "\n",
              "RECEITAS ORÇAMENTÁRIAS  RECEITA DE SERVIÇOS  OPERAÇÕES DE CRÉDITO  \n",
              "2017                                   1.06                  0.09  \n",
              "2018                                   0.47                  0.27  \n",
              "2019                                   0.40                  0.46  \n",
              "2020                                   0.68                  0.77  \n",
              "2021                                   0.38                  0.16  "
            ],
            "text/html": [
              "\n",
              "  <div id=\"df-9a022bd9-e5cc-4fac-8204-09cd9f0c54d3\">\n",
              "    <div class=\"colab-df-container\">\n",
              "      <div>\n",
              "<style scoped>\n",
              "    .dataframe tbody tr th:only-of-type {\n",
              "        vertical-align: middle;\n",
              "    }\n",
              "\n",
              "    .dataframe tbody tr th {\n",
              "        vertical-align: top;\n",
              "    }\n",
              "\n",
              "    .dataframe thead th {\n",
              "        text-align: right;\n",
              "    }\n",
              "</style>\n",
              "<table border=\"1\" class=\"dataframe\">\n",
              "  <thead>\n",
              "    <tr style=\"text-align: right;\">\n",
              "      <th>RECEITAS ORÇAMENTÁRIAS</th>\n",
              "      <th>RECEITA TRIBUTÁRIA</th>\n",
              "      <th>TRANSFERÊNCIAS CORRENTES</th>\n",
              "      <th>SUPERAVIT FINANCEIRO</th>\n",
              "      <th>RECEITA DE CONTRIBUIÇÕES</th>\n",
              "      <th>OUTRAS RECEITAS DE CAPITAL</th>\n",
              "      <th>OUTRAS RECEITAS CORRENTES</th>\n",
              "      <th>RECEITA PATRIMONIAL</th>\n",
              "      <th>TRANSFERÊNCIAS DE CAPITAL</th>\n",
              "      <th>RECEITA DE SERVIÇOS</th>\n",
              "      <th>OPERAÇÕES DE CRÉDITO</th>\n",
              "    </tr>\n",
              "  </thead>\n",
              "  <tbody>\n",
              "    <tr>\n",
              "      <th>2017</th>\n",
              "      <td>49.31</td>\n",
              "      <td>27.28</td>\n",
              "      <td>0.32</td>\n",
              "      <td>7.25</td>\n",
              "      <td>0.68</td>\n",
              "      <td>11.10</td>\n",
              "      <td>1.91</td>\n",
              "      <td>1.24</td>\n",
              "      <td>1.06</td>\n",
              "      <td>0.09</td>\n",
              "    </tr>\n",
              "    <tr>\n",
              "      <th>2018</th>\n",
              "      <td>54.70</td>\n",
              "      <td>27.93</td>\n",
              "      <td>0.24</td>\n",
              "      <td>7.26</td>\n",
              "      <td>1.89</td>\n",
              "      <td>4.65</td>\n",
              "      <td>1.42</td>\n",
              "      <td>1.31</td>\n",
              "      <td>0.47</td>\n",
              "      <td>0.27</td>\n",
              "    </tr>\n",
              "    <tr>\n",
              "      <th>2019</th>\n",
              "      <td>53.91</td>\n",
              "      <td>26.07</td>\n",
              "      <td>2.97</td>\n",
              "      <td>7.94</td>\n",
              "      <td>4.90</td>\n",
              "      <td>3.34</td>\n",
              "      <td>1.94</td>\n",
              "      <td>0.96</td>\n",
              "      <td>0.40</td>\n",
              "      <td>0.46</td>\n",
              "    </tr>\n",
              "    <tr>\n",
              "      <th>2020</th>\n",
              "      <td>53.03</td>\n",
              "      <td>28.34</td>\n",
              "      <td>3.11</td>\n",
              "      <td>7.76</td>\n",
              "      <td>2.13</td>\n",
              "      <td>2.33</td>\n",
              "      <td>3.73</td>\n",
              "      <td>1.13</td>\n",
              "      <td>0.68</td>\n",
              "      <td>0.77</td>\n",
              "    </tr>\n",
              "    <tr>\n",
              "      <th>2021</th>\n",
              "      <td>57.10</td>\n",
              "      <td>26.54</td>\n",
              "      <td>8.55</td>\n",
              "      <td>6.72</td>\n",
              "      <td>3.47</td>\n",
              "      <td>2.37</td>\n",
              "      <td>2.24</td>\n",
              "      <td>0.86</td>\n",
              "      <td>0.38</td>\n",
              "      <td>0.16</td>\n",
              "    </tr>\n",
              "  </tbody>\n",
              "</table>\n",
              "</div>\n",
              "      <button class=\"colab-df-convert\" onclick=\"convertToInteractive('df-9a022bd9-e5cc-4fac-8204-09cd9f0c54d3')\"\n",
              "              title=\"Convert this dataframe to an interactive table.\"\n",
              "              style=\"display:none;\">\n",
              "        \n",
              "  <svg xmlns=\"http://www.w3.org/2000/svg\" height=\"24px\"viewBox=\"0 0 24 24\"\n",
              "       width=\"24px\">\n",
              "    <path d=\"M0 0h24v24H0V0z\" fill=\"none\"/>\n",
              "    <path d=\"M18.56 5.44l.94 2.06.94-2.06 2.06-.94-2.06-.94-.94-2.06-.94 2.06-2.06.94zm-11 1L8.5 8.5l.94-2.06 2.06-.94-2.06-.94L8.5 2.5l-.94 2.06-2.06.94zm10 10l.94 2.06.94-2.06 2.06-.94-2.06-.94-.94-2.06-.94 2.06-2.06.94z\"/><path d=\"M17.41 7.96l-1.37-1.37c-.4-.4-.92-.59-1.43-.59-.52 0-1.04.2-1.43.59L10.3 9.45l-7.72 7.72c-.78.78-.78 2.05 0 2.83L4 21.41c.39.39.9.59 1.41.59.51 0 1.02-.2 1.41-.59l7.78-7.78 2.81-2.81c.8-.78.8-2.07 0-2.86zM5.41 20L4 18.59l7.72-7.72 1.47 1.35L5.41 20z\"/>\n",
              "  </svg>\n",
              "      </button>\n",
              "      \n",
              "  <style>\n",
              "    .colab-df-container {\n",
              "      display:flex;\n",
              "      flex-wrap:wrap;\n",
              "      gap: 12px;\n",
              "    }\n",
              "\n",
              "    .colab-df-convert {\n",
              "      background-color: #E8F0FE;\n",
              "      border: none;\n",
              "      border-radius: 50%;\n",
              "      cursor: pointer;\n",
              "      display: none;\n",
              "      fill: #1967D2;\n",
              "      height: 32px;\n",
              "      padding: 0 0 0 0;\n",
              "      width: 32px;\n",
              "    }\n",
              "\n",
              "    .colab-df-convert:hover {\n",
              "      background-color: #E2EBFA;\n",
              "      box-shadow: 0px 1px 2px rgba(60, 64, 67, 0.3), 0px 1px 3px 1px rgba(60, 64, 67, 0.15);\n",
              "      fill: #174EA6;\n",
              "    }\n",
              "\n",
              "    [theme=dark] .colab-df-convert {\n",
              "      background-color: #3B4455;\n",
              "      fill: #D2E3FC;\n",
              "    }\n",
              "\n",
              "    [theme=dark] .colab-df-convert:hover {\n",
              "      background-color: #434B5C;\n",
              "      box-shadow: 0px 1px 3px 1px rgba(0, 0, 0, 0.15);\n",
              "      filter: drop-shadow(0px 1px 2px rgba(0, 0, 0, 0.3));\n",
              "      fill: #FFFFFF;\n",
              "    }\n",
              "  </style>\n",
              "\n",
              "      <script>\n",
              "        const buttonEl =\n",
              "          document.querySelector('#df-9a022bd9-e5cc-4fac-8204-09cd9f0c54d3 button.colab-df-convert');\n",
              "        buttonEl.style.display =\n",
              "          google.colab.kernel.accessAllowed ? 'block' : 'none';\n",
              "\n",
              "        async function convertToInteractive(key) {\n",
              "          const element = document.querySelector('#df-9a022bd9-e5cc-4fac-8204-09cd9f0c54d3');\n",
              "          const dataTable =\n",
              "            await google.colab.kernel.invokeFunction('convertToInteractive',\n",
              "                                                     [key], {});\n",
              "          if (!dataTable) return;\n",
              "\n",
              "          const docLinkHtml = 'Like what you see? Visit the ' +\n",
              "            '<a target=\"_blank\" href=https://colab.research.google.com/notebooks/data_table.ipynb>data table notebook</a>'\n",
              "            + ' to learn more about interactive tables.';\n",
              "          element.innerHTML = '';\n",
              "          dataTable['output_type'] = 'display_data';\n",
              "          await google.colab.output.renderOutput(dataTable, element);\n",
              "          const docLink = document.createElement('div');\n",
              "          docLink.innerHTML = docLinkHtml;\n",
              "          element.appendChild(docLink);\n",
              "        }\n",
              "      </script>\n",
              "    </div>\n",
              "  </div>\n",
              "  "
            ]
          },
          "metadata": {},
          "execution_count": 163
        }
      ]
    },
    {
      "cell_type": "markdown",
      "source": [
        "** Capacidade de Arrecadação Própria** \n",
        "\n",
        "CAP = RT/RC*100"
      ],
      "metadata": {
        "id": "k-BGD5fevCbw"
      }
    },
    {
      "cell_type": "code",
      "source": [
        "df_av['RECEITA TRIBUTÁRIA'].mean()"
      ],
      "metadata": {
        "colab": {
          "base_uri": "https://localhost:8080/"
        },
        "id": "BQlT2-gChwck",
        "outputId": "492e565f-24a7-443a-96b6-94e3b3c5b608"
      },
      "execution_count": 164,
      "outputs": [
        {
          "output_type": "execute_result",
          "data": {
            "text/plain": [
              "53.61"
            ]
          },
          "metadata": {},
          "execution_count": 164
        }
      ]
    },
    {
      "cell_type": "markdown",
      "source": [
        "** Grau de Dependência** \n",
        "\n",
        "GD = TI/RC*100"
      ],
      "metadata": {
        "id": "3O747FL2vPSG"
      }
    },
    {
      "cell_type": "code",
      "source": [
        "df_av['TRANSFERÊNCIAS CORRENTES'].mean()"
      ],
      "metadata": {
        "colab": {
          "base_uri": "https://localhost:8080/"
        },
        "id": "I6slUdHZtjcI",
        "outputId": "983a2677-e523-45cc-b383-0dee5330cda8"
      },
      "execution_count": 165,
      "outputs": [
        {
          "output_type": "execute_result",
          "data": {
            "text/plain": [
              "27.232"
            ]
          },
          "metadata": {},
          "execution_count": 165
        }
      ]
    },
    {
      "cell_type": "markdown",
      "source": [
        "7.4 Análise Horizontal"
      ],
      "metadata": {
        "id": "ovBgElvudx78"
      }
    },
    {
      "cell_type": "code",
      "source": [
        "'''\n",
        "Criando um Dataframe com os valores da análise horizontal obtidos na etapa 6\n",
        "'''\n",
        "df_ah = pd.concat([df['2017']['Categoria'], df['2017']['AH']], axis=1, ignore_index=True)\n",
        "df_ah = pd.concat([df_ah, df['2018']['AH']], axis=1, ignore_index=True)\n",
        "df_ah = pd.concat([df_ah, df['2019']['AH']], axis=1, ignore_index=True)\n",
        "df_ah = pd.concat([df_ah, df['2020']['AH']], axis=1, ignore_index=True)\n",
        "df_ah = pd.concat([df_ah, df['2021']['AH']], axis=1, ignore_index=True)\n",
        "df_ah.columns = ['Categoria', '2017', '2018', '2019', '2020', '2021']\n",
        "\n",
        "df_ah_saldos = df_ah.query('Categoria == [\"SALDOS ANTERIORES\"]')\n",
        "df_ah_saldos = df_ah_saldos.drop(columns=['Categoria'])\n",
        "df_ah_credito = df_ah.query('Categoria == [\"OPERAÇÕES DE CRÉDITO\"]')\n",
        "df_ah_credito = df_ah_credito.drop(columns=['Categoria'])\n",
        "df_ah_corrente = df_ah.query('Categoria == [\"RECEITAS CORRENTE\"]')\n",
        "df_ah_corrente = df_ah_corrente.drop(columns=['Categoria'])\n",
        "df_ah_capital = df_ah.query('Categoria == [\"RECEITAS DE CAPITAL\"]')\n",
        "df_ah_capital = df_ah_capital.drop(columns=['Categoria'])\n",
        "\n",
        "df_ah_saldos =   df_ah_saldos.T   \n",
        "df_ah_credito =   df_ah_credito.T\n",
        "df_ah_corrente =   df_ah_corrente.T\n",
        "df_ah_capital =   df_ah_capital.T "
      ],
      "metadata": {
        "id": "2UA2QIE29m_Q"
      },
      "execution_count": 166,
      "outputs": []
    },
    {
      "cell_type": "code",
      "source": [
        "df_ah_corrente"
      ],
      "metadata": {
        "id": "iWH-A9p-ef9O",
        "colab": {
          "base_uri": "https://localhost:8080/",
          "height": 267
        },
        "outputId": "471b3fc6-812e-4076-a683-fc2b30d4354c"
      },
      "execution_count": 167,
      "outputs": [
        {
          "output_type": "execute_result",
          "data": {
            "text/plain": [
              "RECEITAS ORÇAMENTÁRIAS  RECEITA TRIBUTÁRIA  RECEITA DE CONTRIBUIÇÕES  \\\n",
              "2017                                102.15                     99.02   \n",
              "2018                                101.92                     99.31   \n",
              "2019                                106.65                    120.33   \n",
              "2020                                103.96                     93.67   \n",
              "2021                                121.51                     90.36   \n",
              "\n",
              "RECEITAS ORÇAMENTÁRIAS  RECEITA PATRIMONIAL  RECEITA AGROPECUÁRIA  \\\n",
              "2017                                  97.42                   NaN   \n",
              "2018                                  71.09                   NaN   \n",
              "2019                                 112.94                   NaN   \n",
              "2020                                  72.30                   NaN   \n",
              "2021                                  98.27                   NaN   \n",
              "\n",
              "RECEITAS ORÇAMENTÁRIAS  RECEITA INDUSTRIAL  RECEITA DE SERVIÇOS  \\\n",
              "2017                                   NaN                87.72   \n",
              "2018                                   NaN                43.03   \n",
              "2019                                   NaN               113.54   \n",
              "2020                                   NaN                96.57   \n",
              "2021                                   NaN                66.70   \n",
              "\n",
              "RECEITAS ORÇAMENTÁRIAS  TRANSFERÊNCIAS CORRENTES  OUTRAS RECEITAS CORRENTES  \n",
              "2017                                       96.89                     121.02  \n",
              "2018                                      101.96                     103.17  \n",
              "2019                                      101.91                      73.70  \n",
              "2020                                      109.24                      62.65  \n",
              "2021                                      118.01                      85.69  "
            ],
            "text/html": [
              "\n",
              "  <div id=\"df-656095d5-a12b-4ab7-a5e0-a86ffd6bbae2\">\n",
              "    <div class=\"colab-df-container\">\n",
              "      <div>\n",
              "<style scoped>\n",
              "    .dataframe tbody tr th:only-of-type {\n",
              "        vertical-align: middle;\n",
              "    }\n",
              "\n",
              "    .dataframe tbody tr th {\n",
              "        vertical-align: top;\n",
              "    }\n",
              "\n",
              "    .dataframe thead th {\n",
              "        text-align: right;\n",
              "    }\n",
              "</style>\n",
              "<table border=\"1\" class=\"dataframe\">\n",
              "  <thead>\n",
              "    <tr style=\"text-align: right;\">\n",
              "      <th>RECEITAS ORÇAMENTÁRIAS</th>\n",
              "      <th>RECEITA TRIBUTÁRIA</th>\n",
              "      <th>RECEITA DE CONTRIBUIÇÕES</th>\n",
              "      <th>RECEITA PATRIMONIAL</th>\n",
              "      <th>RECEITA AGROPECUÁRIA</th>\n",
              "      <th>RECEITA INDUSTRIAL</th>\n",
              "      <th>RECEITA DE SERVIÇOS</th>\n",
              "      <th>TRANSFERÊNCIAS CORRENTES</th>\n",
              "      <th>OUTRAS RECEITAS CORRENTES</th>\n",
              "    </tr>\n",
              "  </thead>\n",
              "  <tbody>\n",
              "    <tr>\n",
              "      <th>2017</th>\n",
              "      <td>102.15</td>\n",
              "      <td>99.02</td>\n",
              "      <td>97.42</td>\n",
              "      <td>NaN</td>\n",
              "      <td>NaN</td>\n",
              "      <td>87.72</td>\n",
              "      <td>96.89</td>\n",
              "      <td>121.02</td>\n",
              "    </tr>\n",
              "    <tr>\n",
              "      <th>2018</th>\n",
              "      <td>101.92</td>\n",
              "      <td>99.31</td>\n",
              "      <td>71.09</td>\n",
              "      <td>NaN</td>\n",
              "      <td>NaN</td>\n",
              "      <td>43.03</td>\n",
              "      <td>101.96</td>\n",
              "      <td>103.17</td>\n",
              "    </tr>\n",
              "    <tr>\n",
              "      <th>2019</th>\n",
              "      <td>106.65</td>\n",
              "      <td>120.33</td>\n",
              "      <td>112.94</td>\n",
              "      <td>NaN</td>\n",
              "      <td>NaN</td>\n",
              "      <td>113.54</td>\n",
              "      <td>101.91</td>\n",
              "      <td>73.70</td>\n",
              "    </tr>\n",
              "    <tr>\n",
              "      <th>2020</th>\n",
              "      <td>103.96</td>\n",
              "      <td>93.67</td>\n",
              "      <td>72.30</td>\n",
              "      <td>NaN</td>\n",
              "      <td>NaN</td>\n",
              "      <td>96.57</td>\n",
              "      <td>109.24</td>\n",
              "      <td>62.65</td>\n",
              "    </tr>\n",
              "    <tr>\n",
              "      <th>2021</th>\n",
              "      <td>121.51</td>\n",
              "      <td>90.36</td>\n",
              "      <td>98.27</td>\n",
              "      <td>NaN</td>\n",
              "      <td>NaN</td>\n",
              "      <td>66.70</td>\n",
              "      <td>118.01</td>\n",
              "      <td>85.69</td>\n",
              "    </tr>\n",
              "  </tbody>\n",
              "</table>\n",
              "</div>\n",
              "      <button class=\"colab-df-convert\" onclick=\"convertToInteractive('df-656095d5-a12b-4ab7-a5e0-a86ffd6bbae2')\"\n",
              "              title=\"Convert this dataframe to an interactive table.\"\n",
              "              style=\"display:none;\">\n",
              "        \n",
              "  <svg xmlns=\"http://www.w3.org/2000/svg\" height=\"24px\"viewBox=\"0 0 24 24\"\n",
              "       width=\"24px\">\n",
              "    <path d=\"M0 0h24v24H0V0z\" fill=\"none\"/>\n",
              "    <path d=\"M18.56 5.44l.94 2.06.94-2.06 2.06-.94-2.06-.94-.94-2.06-.94 2.06-2.06.94zm-11 1L8.5 8.5l.94-2.06 2.06-.94-2.06-.94L8.5 2.5l-.94 2.06-2.06.94zm10 10l.94 2.06.94-2.06 2.06-.94-2.06-.94-.94-2.06-.94 2.06-2.06.94z\"/><path d=\"M17.41 7.96l-1.37-1.37c-.4-.4-.92-.59-1.43-.59-.52 0-1.04.2-1.43.59L10.3 9.45l-7.72 7.72c-.78.78-.78 2.05 0 2.83L4 21.41c.39.39.9.59 1.41.59.51 0 1.02-.2 1.41-.59l7.78-7.78 2.81-2.81c.8-.78.8-2.07 0-2.86zM5.41 20L4 18.59l7.72-7.72 1.47 1.35L5.41 20z\"/>\n",
              "  </svg>\n",
              "      </button>\n",
              "      \n",
              "  <style>\n",
              "    .colab-df-container {\n",
              "      display:flex;\n",
              "      flex-wrap:wrap;\n",
              "      gap: 12px;\n",
              "    }\n",
              "\n",
              "    .colab-df-convert {\n",
              "      background-color: #E8F0FE;\n",
              "      border: none;\n",
              "      border-radius: 50%;\n",
              "      cursor: pointer;\n",
              "      display: none;\n",
              "      fill: #1967D2;\n",
              "      height: 32px;\n",
              "      padding: 0 0 0 0;\n",
              "      width: 32px;\n",
              "    }\n",
              "\n",
              "    .colab-df-convert:hover {\n",
              "      background-color: #E2EBFA;\n",
              "      box-shadow: 0px 1px 2px rgba(60, 64, 67, 0.3), 0px 1px 3px 1px rgba(60, 64, 67, 0.15);\n",
              "      fill: #174EA6;\n",
              "    }\n",
              "\n",
              "    [theme=dark] .colab-df-convert {\n",
              "      background-color: #3B4455;\n",
              "      fill: #D2E3FC;\n",
              "    }\n",
              "\n",
              "    [theme=dark] .colab-df-convert:hover {\n",
              "      background-color: #434B5C;\n",
              "      box-shadow: 0px 1px 3px 1px rgba(0, 0, 0, 0.15);\n",
              "      filter: drop-shadow(0px 1px 2px rgba(0, 0, 0, 0.3));\n",
              "      fill: #FFFFFF;\n",
              "    }\n",
              "  </style>\n",
              "\n",
              "      <script>\n",
              "        const buttonEl =\n",
              "          document.querySelector('#df-656095d5-a12b-4ab7-a5e0-a86ffd6bbae2 button.colab-df-convert');\n",
              "        buttonEl.style.display =\n",
              "          google.colab.kernel.accessAllowed ? 'block' : 'none';\n",
              "\n",
              "        async function convertToInteractive(key) {\n",
              "          const element = document.querySelector('#df-656095d5-a12b-4ab7-a5e0-a86ffd6bbae2');\n",
              "          const dataTable =\n",
              "            await google.colab.kernel.invokeFunction('convertToInteractive',\n",
              "                                                     [key], {});\n",
              "          if (!dataTable) return;\n",
              "\n",
              "          const docLinkHtml = 'Like what you see? Visit the ' +\n",
              "            '<a target=\"_blank\" href=https://colab.research.google.com/notebooks/data_table.ipynb>data table notebook</a>'\n",
              "            + ' to learn more about interactive tables.';\n",
              "          element.innerHTML = '';\n",
              "          dataTable['output_type'] = 'display_data';\n",
              "          await google.colab.output.renderOutput(dataTable, element);\n",
              "          const docLink = document.createElement('div');\n",
              "          docLink.innerHTML = docLinkHtml;\n",
              "          element.appendChild(docLink);\n",
              "        }\n",
              "      </script>\n",
              "    </div>\n",
              "  </div>\n",
              "  "
            ]
          },
          "metadata": {},
          "execution_count": 167
        }
      ]
    },
    {
      "cell_type": "code",
      "source": [
        "df_ah.dropna()\n"
      ],
      "metadata": {
        "colab": {
          "base_uri": "https://localhost:8080/",
          "height": 488
        },
        "id": "oJ7AGLYV_J2a",
        "outputId": "0ef2106b-9f76-4aa4-e74c-c901c0f7803b"
      },
      "execution_count": 168,
      "outputs": [
        {
          "output_type": "execute_result",
          "data": {
            "text/plain": [
              "                                                         Categoria    2017  \\\n",
              "RECEITAS ORÇAMENTÁRIAS                                                       \n",
              "RECEITA TRIBUTÁRIA                               RECEITAS CORRENTE  102.15   \n",
              "RECEITA DE CONTRIBUIÇÕES                         RECEITAS CORRENTE   99.02   \n",
              "RECEITA PATRIMONIAL                              RECEITAS CORRENTE   97.42   \n",
              "RECEITA DE SERVIÇOS                              RECEITAS CORRENTE   87.72   \n",
              "TRANSFERÊNCIAS CORRENTES                         RECEITAS CORRENTE   96.89   \n",
              "OUTRAS RECEITAS CORRENTES                        RECEITAS CORRENTE  121.02   \n",
              "OPERAÇÕES DE CRÉDITO                           RECEITAS DE CAPITAL   41.05   \n",
              "ALIENAÇÃO DE BENS                              RECEITAS DE CAPITAL    2.54   \n",
              "AMORTIZAÇÕES DE EMPRÉSTIMOS                    RECEITAS DE CAPITAL   95.43   \n",
              "TRANSFERÊNCIAS DE CAPITAL                      RECEITAS DE CAPITAL   23.89   \n",
              "OUTRAS RECEITAS DE CAPITAL                     RECEITAS DE CAPITAL   31.34   \n",
              "RECURSOS ARRECADADOS EM EXERCÍCIOS ANTERIORES    SALDOS ANTERIORES    0.00   \n",
              "SUPERAVIT FINANCEIRO                             SALDOS ANTERIORES     inf   \n",
              "\n",
              "                                                 2018    2019    2020    2021  \n",
              "RECEITAS ORÇAMENTÁRIAS                                                         \n",
              "RECEITA TRIBUTÁRIA                             101.92  106.65  103.96  121.51  \n",
              "RECEITA DE CONTRIBUIÇÕES                        99.31  120.33   93.67   90.36  \n",
              "RECEITA PATRIMONIAL                             71.09  112.94   72.30   98.27  \n",
              "RECEITA DE SERVIÇOS                             43.03  113.54   96.57   66.70  \n",
              "TRANSFERÊNCIAS CORRENTES                       101.96  101.91  109.24  118.01  \n",
              "OUTRAS RECEITAS CORRENTES                      103.17   73.70   62.65   85.69  \n",
              "OPERAÇÕES DE CRÉDITO                            30.90   51.32   75.58   11.85  \n",
              "ALIENAÇÃO DE BENS                                1.93    2.20    2.75   16.58  \n",
              "AMORTIZAÇÕES DE EMPRÉSTIMOS                    105.91   86.46   62.95   99.90  \n",
              "TRANSFERÊNCIAS DE CAPITAL                       55.99   41.90   69.71   77.64  \n",
              "OUTRAS RECEITAS DE CAPITAL                      83.01  283.48   67.62  123.36  \n",
              "RECURSOS ARRECADADOS EM EXERCÍCIOS ANTERIORES    0.00    0.00    0.00    0.00  \n",
              "SUPERAVIT FINANCEIRO                              inf     inf     inf     inf  "
            ],
            "text/html": [
              "\n",
              "  <div id=\"df-f5bd5025-1b59-4bc1-83e5-f00d5d649ec2\">\n",
              "    <div class=\"colab-df-container\">\n",
              "      <div>\n",
              "<style scoped>\n",
              "    .dataframe tbody tr th:only-of-type {\n",
              "        vertical-align: middle;\n",
              "    }\n",
              "\n",
              "    .dataframe tbody tr th {\n",
              "        vertical-align: top;\n",
              "    }\n",
              "\n",
              "    .dataframe thead th {\n",
              "        text-align: right;\n",
              "    }\n",
              "</style>\n",
              "<table border=\"1\" class=\"dataframe\">\n",
              "  <thead>\n",
              "    <tr style=\"text-align: right;\">\n",
              "      <th></th>\n",
              "      <th>Categoria</th>\n",
              "      <th>2017</th>\n",
              "      <th>2018</th>\n",
              "      <th>2019</th>\n",
              "      <th>2020</th>\n",
              "      <th>2021</th>\n",
              "    </tr>\n",
              "    <tr>\n",
              "      <th>RECEITAS ORÇAMENTÁRIAS</th>\n",
              "      <th></th>\n",
              "      <th></th>\n",
              "      <th></th>\n",
              "      <th></th>\n",
              "      <th></th>\n",
              "      <th></th>\n",
              "    </tr>\n",
              "  </thead>\n",
              "  <tbody>\n",
              "    <tr>\n",
              "      <th>RECEITA TRIBUTÁRIA</th>\n",
              "      <td>RECEITAS CORRENTE</td>\n",
              "      <td>102.15</td>\n",
              "      <td>101.92</td>\n",
              "      <td>106.65</td>\n",
              "      <td>103.96</td>\n",
              "      <td>121.51</td>\n",
              "    </tr>\n",
              "    <tr>\n",
              "      <th>RECEITA DE CONTRIBUIÇÕES</th>\n",
              "      <td>RECEITAS CORRENTE</td>\n",
              "      <td>99.02</td>\n",
              "      <td>99.31</td>\n",
              "      <td>120.33</td>\n",
              "      <td>93.67</td>\n",
              "      <td>90.36</td>\n",
              "    </tr>\n",
              "    <tr>\n",
              "      <th>RECEITA PATRIMONIAL</th>\n",
              "      <td>RECEITAS CORRENTE</td>\n",
              "      <td>97.42</td>\n",
              "      <td>71.09</td>\n",
              "      <td>112.94</td>\n",
              "      <td>72.30</td>\n",
              "      <td>98.27</td>\n",
              "    </tr>\n",
              "    <tr>\n",
              "      <th>RECEITA DE SERVIÇOS</th>\n",
              "      <td>RECEITAS CORRENTE</td>\n",
              "      <td>87.72</td>\n",
              "      <td>43.03</td>\n",
              "      <td>113.54</td>\n",
              "      <td>96.57</td>\n",
              "      <td>66.70</td>\n",
              "    </tr>\n",
              "    <tr>\n",
              "      <th>TRANSFERÊNCIAS CORRENTES</th>\n",
              "      <td>RECEITAS CORRENTE</td>\n",
              "      <td>96.89</td>\n",
              "      <td>101.96</td>\n",
              "      <td>101.91</td>\n",
              "      <td>109.24</td>\n",
              "      <td>118.01</td>\n",
              "    </tr>\n",
              "    <tr>\n",
              "      <th>OUTRAS RECEITAS CORRENTES</th>\n",
              "      <td>RECEITAS CORRENTE</td>\n",
              "      <td>121.02</td>\n",
              "      <td>103.17</td>\n",
              "      <td>73.70</td>\n",
              "      <td>62.65</td>\n",
              "      <td>85.69</td>\n",
              "    </tr>\n",
              "    <tr>\n",
              "      <th>OPERAÇÕES DE CRÉDITO</th>\n",
              "      <td>RECEITAS DE CAPITAL</td>\n",
              "      <td>41.05</td>\n",
              "      <td>30.90</td>\n",
              "      <td>51.32</td>\n",
              "      <td>75.58</td>\n",
              "      <td>11.85</td>\n",
              "    </tr>\n",
              "    <tr>\n",
              "      <th>ALIENAÇÃO DE BENS</th>\n",
              "      <td>RECEITAS DE CAPITAL</td>\n",
              "      <td>2.54</td>\n",
              "      <td>1.93</td>\n",
              "      <td>2.20</td>\n",
              "      <td>2.75</td>\n",
              "      <td>16.58</td>\n",
              "    </tr>\n",
              "    <tr>\n",
              "      <th>AMORTIZAÇÕES DE EMPRÉSTIMOS</th>\n",
              "      <td>RECEITAS DE CAPITAL</td>\n",
              "      <td>95.43</td>\n",
              "      <td>105.91</td>\n",
              "      <td>86.46</td>\n",
              "      <td>62.95</td>\n",
              "      <td>99.90</td>\n",
              "    </tr>\n",
              "    <tr>\n",
              "      <th>TRANSFERÊNCIAS DE CAPITAL</th>\n",
              "      <td>RECEITAS DE CAPITAL</td>\n",
              "      <td>23.89</td>\n",
              "      <td>55.99</td>\n",
              "      <td>41.90</td>\n",
              "      <td>69.71</td>\n",
              "      <td>77.64</td>\n",
              "    </tr>\n",
              "    <tr>\n",
              "      <th>OUTRAS RECEITAS DE CAPITAL</th>\n",
              "      <td>RECEITAS DE CAPITAL</td>\n",
              "      <td>31.34</td>\n",
              "      <td>83.01</td>\n",
              "      <td>283.48</td>\n",
              "      <td>67.62</td>\n",
              "      <td>123.36</td>\n",
              "    </tr>\n",
              "    <tr>\n",
              "      <th>RECURSOS ARRECADADOS EM EXERCÍCIOS ANTERIORES</th>\n",
              "      <td>SALDOS ANTERIORES</td>\n",
              "      <td>0.00</td>\n",
              "      <td>0.00</td>\n",
              "      <td>0.00</td>\n",
              "      <td>0.00</td>\n",
              "      <td>0.00</td>\n",
              "    </tr>\n",
              "    <tr>\n",
              "      <th>SUPERAVIT FINANCEIRO</th>\n",
              "      <td>SALDOS ANTERIORES</td>\n",
              "      <td>inf</td>\n",
              "      <td>inf</td>\n",
              "      <td>inf</td>\n",
              "      <td>inf</td>\n",
              "      <td>inf</td>\n",
              "    </tr>\n",
              "  </tbody>\n",
              "</table>\n",
              "</div>\n",
              "      <button class=\"colab-df-convert\" onclick=\"convertToInteractive('df-f5bd5025-1b59-4bc1-83e5-f00d5d649ec2')\"\n",
              "              title=\"Convert this dataframe to an interactive table.\"\n",
              "              style=\"display:none;\">\n",
              "        \n",
              "  <svg xmlns=\"http://www.w3.org/2000/svg\" height=\"24px\"viewBox=\"0 0 24 24\"\n",
              "       width=\"24px\">\n",
              "    <path d=\"M0 0h24v24H0V0z\" fill=\"none\"/>\n",
              "    <path d=\"M18.56 5.44l.94 2.06.94-2.06 2.06-.94-2.06-.94-.94-2.06-.94 2.06-2.06.94zm-11 1L8.5 8.5l.94-2.06 2.06-.94-2.06-.94L8.5 2.5l-.94 2.06-2.06.94zm10 10l.94 2.06.94-2.06 2.06-.94-2.06-.94-.94-2.06-.94 2.06-2.06.94z\"/><path d=\"M17.41 7.96l-1.37-1.37c-.4-.4-.92-.59-1.43-.59-.52 0-1.04.2-1.43.59L10.3 9.45l-7.72 7.72c-.78.78-.78 2.05 0 2.83L4 21.41c.39.39.9.59 1.41.59.51 0 1.02-.2 1.41-.59l7.78-7.78 2.81-2.81c.8-.78.8-2.07 0-2.86zM5.41 20L4 18.59l7.72-7.72 1.47 1.35L5.41 20z\"/>\n",
              "  </svg>\n",
              "      </button>\n",
              "      \n",
              "  <style>\n",
              "    .colab-df-container {\n",
              "      display:flex;\n",
              "      flex-wrap:wrap;\n",
              "      gap: 12px;\n",
              "    }\n",
              "\n",
              "    .colab-df-convert {\n",
              "      background-color: #E8F0FE;\n",
              "      border: none;\n",
              "      border-radius: 50%;\n",
              "      cursor: pointer;\n",
              "      display: none;\n",
              "      fill: #1967D2;\n",
              "      height: 32px;\n",
              "      padding: 0 0 0 0;\n",
              "      width: 32px;\n",
              "    }\n",
              "\n",
              "    .colab-df-convert:hover {\n",
              "      background-color: #E2EBFA;\n",
              "      box-shadow: 0px 1px 2px rgba(60, 64, 67, 0.3), 0px 1px 3px 1px rgba(60, 64, 67, 0.15);\n",
              "      fill: #174EA6;\n",
              "    }\n",
              "\n",
              "    [theme=dark] .colab-df-convert {\n",
              "      background-color: #3B4455;\n",
              "      fill: #D2E3FC;\n",
              "    }\n",
              "\n",
              "    [theme=dark] .colab-df-convert:hover {\n",
              "      background-color: #434B5C;\n",
              "      box-shadow: 0px 1px 3px 1px rgba(0, 0, 0, 0.15);\n",
              "      filter: drop-shadow(0px 1px 2px rgba(0, 0, 0, 0.3));\n",
              "      fill: #FFFFFF;\n",
              "    }\n",
              "  </style>\n",
              "\n",
              "      <script>\n",
              "        const buttonEl =\n",
              "          document.querySelector('#df-f5bd5025-1b59-4bc1-83e5-f00d5d649ec2 button.colab-df-convert');\n",
              "        buttonEl.style.display =\n",
              "          google.colab.kernel.accessAllowed ? 'block' : 'none';\n",
              "\n",
              "        async function convertToInteractive(key) {\n",
              "          const element = document.querySelector('#df-f5bd5025-1b59-4bc1-83e5-f00d5d649ec2');\n",
              "          const dataTable =\n",
              "            await google.colab.kernel.invokeFunction('convertToInteractive',\n",
              "                                                     [key], {});\n",
              "          if (!dataTable) return;\n",
              "\n",
              "          const docLinkHtml = 'Like what you see? Visit the ' +\n",
              "            '<a target=\"_blank\" href=https://colab.research.google.com/notebooks/data_table.ipynb>data table notebook</a>'\n",
              "            + ' to learn more about interactive tables.';\n",
              "          element.innerHTML = '';\n",
              "          dataTable['output_type'] = 'display_data';\n",
              "          await google.colab.output.renderOutput(dataTable, element);\n",
              "          const docLink = document.createElement('div');\n",
              "          docLink.innerHTML = docLinkHtml;\n",
              "          element.appendChild(docLink);\n",
              "        }\n",
              "      </script>\n",
              "    </div>\n",
              "  </div>\n",
              "  "
            ]
          },
          "metadata": {},
          "execution_count": 168
        }
      ]
    },
    {
      "cell_type": "code",
      "source": [
        "colors = ['r', 'r', 'b', 'r', 'b']\n",
        "plt.figure(figsize=(10,6))\n",
        "plt.axhline(1, color='k')\n",
        "plt.scatter(q_execucao.index, q_execucao['execução'],c=colors)\n",
        "#plt.xlabel('Ano')\n",
        "plt.title('Quociente de execução da receita')\n",
        "plt.savefig('grafico9.png', transparent= True, bbox_inches='tight', figsize=(12,10))"
      ],
      "metadata": {
        "id": "L6Xr-48dzFKQ",
        "colab": {
          "base_uri": "https://localhost:8080/",
          "height": 397
        },
        "outputId": "b91acac6-be54-4522-c666-eb9700362547"
      },
      "execution_count": 169,
      "outputs": [
        {
          "output_type": "display_data",
          "data": {
            "text/plain": [
              "<Figure size 720x432 with 1 Axes>"
            ],
            "image/png": "[encoded data removed]"
          },
          "metadata": {
            "needs_background": "light"
          }
        }
      ]
    }
  ]
}